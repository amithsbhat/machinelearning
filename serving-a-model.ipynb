{
 "cells": [
  {
   "cell_type": "code",
   "execution_count": 1,
   "id": "665d71af",
   "metadata": {
    "_cell_guid": "b1076dfc-b9ad-4769-8c92-a6c4dae69d19",
    "_uuid": "8f2839f25d086af736a60e9eeb907d3b93b6e0e5",
    "execution": {
     "iopub.execute_input": "2022-06-09T04:43:53.159809Z",
     "iopub.status.busy": "2022-06-09T04:43:53.158799Z",
     "iopub.status.idle": "2022-06-09T04:43:53.480934Z",
     "shell.execute_reply": "2022-06-09T04:43:53.479590Z"
    },
    "papermill": {
     "duration": 0.329355,
     "end_time": "2022-06-09T04:43:53.483510",
     "exception": false,
     "start_time": "2022-06-09T04:43:53.154155",
     "status": "completed"
    },
    "tags": []
   },
   "outputs": [
    {
     "name": "stdout",
     "output_type": "stream",
     "text": [
      "Downloading :  https://elephantscale-public.s3.amazonaws.com/data/house-prices/house-sales-full.csv\n",
      "data_location: house-sales-full.csv\n"
     ]
    }
   ],
   "source": [
    "import os\n",
    "import urllib.request\n",
    "\n",
    "data_location = \"../data/house-prices/house-sales-full.csv\"\n",
    "data_url = 'https://elephantscale-public.s3.amazonaws.com/data/house-prices/house-sales-full.csv'\n",
    "\n",
    "if not os.path.exists (data_location):\n",
    "    data_location = os.path.basename(data_location)\n",
    "    if not os.path.exists(data_location):\n",
    "        print(\"Downloading : \", data_url)\n",
    "        urllib.request.urlretrieve(data_url, data_location)\n",
    "print('data_location:', data_location)"
   ]
  },
  {
   "cell_type": "code",
   "execution_count": 2,
   "id": "72111d88",
   "metadata": {
    "execution": {
     "iopub.execute_input": "2022-06-09T04:43:53.490549Z",
     "iopub.status.busy": "2022-06-09T04:43:53.490181Z",
     "iopub.status.idle": "2022-06-09T04:43:54.960122Z",
     "shell.execute_reply": "2022-06-09T04:43:54.958845Z"
    },
    "papermill": {
     "duration": 1.476679,
     "end_time": "2022-06-09T04:43:54.963141",
     "exception": false,
     "start_time": "2022-06-09T04:43:53.486462",
     "status": "completed"
    },
    "tags": []
   },
   "outputs": [
    {
     "name": "stdout",
     "output_type": "stream",
     "text": [
      "       DocumentID     Date  SalePrice  PropertyID   PropertyType      ym  \\\n",
      "6777         6778  3/27/06     729900  2215800080  Single Family  3/1/06   \n",
      "6169         6170   4/9/07     749990  2021200058  Single Family  4/1/07   \n",
      "3222         3223  4/26/06     435000  1232001690  Single Family  4/1/06   \n",
      "18044       18045  3/24/08     570000  6610000984      Townhouse  3/1/08   \n",
      "12444       12445  2/16/11     326000  3649100651  Single Family  2/1/11   \n",
      "\n",
      "       zhvi_px  zhvi_idx  AdjSalePrice  NbrLivingUnits  ...  Bathrooms  \\\n",
      "6777    392100  0.900965      810131.0               1  ...       2.50   \n",
      "6169    430900  0.990119      757474.0               1  ...       2.75   \n",
      "3222    396500  0.911075      477458.0               1  ...       1.75   \n",
      "18044   415100  0.953814      597601.0               1  ...       1.50   \n",
      "12444   325000  0.746783      436539.0               1  ...       2.50   \n",
      "\n",
      "       Bedrooms  BldgGrade  YrBuilt  YrRenovated  TrafficNoise  LandVal  \\\n",
      "6777          4          9     1994            0             0   230000   \n",
      "6169          3          7     1940            0             0   348000   \n",
      "3222          5          7     1924            0             0   219000   \n",
      "18044         3          8     2007            0             0   139000   \n",
      "12444         4          8     1964            0             0   213000   \n",
      "\n",
      "       ImpsVal  ZipCode  NewConstruction  \n",
      "6777    448000    98053            False  \n",
      "6169    389000    98199            False  \n",
      "3222    307000    98117            False  \n",
      "18044   424000       -1             True  \n",
      "12444   201000    98028            False  \n",
      "\n",
      "[5 rows x 23 columns]\n",
      "X_train : (21650, 5)\n",
      "X_test : (5413, 5)\n",
      "y_train : (21650,)\n",
      "y_test : (5413,)\n"
     ]
    }
   ],
   "source": [
    "import pandas as pd\n",
    "\n",
    "data = pd.read_csv(data_location)\n",
    "print(data.sample(5))\n",
    "\n",
    "\n",
    "from sklearn.model_selection import train_test_split\n",
    "\n",
    "X = data[['Bedrooms', 'Bathrooms', 'SqFtTotLiving', 'SqFtLot',  'LandVal']]\n",
    "y = data['SalePrice']\n",
    "\n",
    "X_train,X_test,y_train, y_test = train_test_split(X,y,  test_size=0.2)\n",
    "\n",
    "print (\"X_train :\" , X_train.shape )\n",
    "print (\"X_test :\", X_test.shape)\n",
    "print (\"y_train :\", y_train.shape)\n",
    "print (\"y_test :\", y_test.shape)"
   ]
  },
  {
   "cell_type": "code",
   "execution_count": 3,
   "id": "ff807145",
   "metadata": {
    "execution": {
     "iopub.execute_input": "2022-06-09T04:43:54.972352Z",
     "iopub.status.busy": "2022-06-09T04:43:54.971067Z",
     "iopub.status.idle": "2022-06-09T04:43:57.227676Z",
     "shell.execute_reply": "2022-06-09T04:43:57.226495Z"
    },
    "papermill": {
     "duration": 2.26379,
     "end_time": "2022-06-09T04:43:57.230248",
     "exception": false,
     "start_time": "2022-06-09T04:43:54.966458",
     "status": "completed"
    },
    "tags": []
   },
   "outputs": [
    {
     "name": "stdout",
     "output_type": "stream",
     "text": [
      "Training score:  0.830279012332223\n",
      "Test score:  0.8110038784301585\n",
      "model saved to :  model.pkl\n"
     ]
    }
   ],
   "source": [
    "#Step-2: Build a Model\n",
    "from sklearn.ensemble import GradientBoostingRegressor\n",
    "\n",
    "gb = GradientBoostingRegressor()\n",
    "model = gb.fit(X_train, y_train)\n",
    "print (\"Training score: \", model.score(X_train, y_train))\n",
    "print (\"Test score: \", model.score(X_test, y_test))\n",
    "\n",
    "#Step-3: Save Model with Pickle\n",
    "#Pickle models may need exact Python versions to load back.\n",
    "\n",
    "#JobLib is a better choice as it saves models efficiently.\n",
    "\n",
    "model_file = 'model.pkl'\n",
    "# ## Use Pickle\n",
    "# import pickle\n",
    "\n",
    "# with open(model_file,'wb') as f:\n",
    "#     pickle.dump(model,f)\n",
    "# print (\"model saved to : \", model_file)\n",
    "## Use JobLib\n",
    "\n",
    "import joblib\n",
    "\n",
    "joblib.dump(model, model_file) \n",
    "print (\"model saved to : \", model_file)"
   ]
  },
  {
   "cell_type": "code",
   "execution_count": null,
   "id": "e12c6983",
   "metadata": {
    "papermill": {
     "duration": 0.002417,
     "end_time": "2022-06-09T04:43:57.235528",
     "exception": false,
     "start_time": "2022-06-09T04:43:57.233111",
     "status": "completed"
    },
    "tags": []
   },
   "outputs": [],
   "source": []
  }
 ],
 "metadata": {
  "kernelspec": {
   "display_name": "Python 3",
   "language": "python",
   "name": "python3"
  },
  "language_info": {
   "codemirror_mode": {
    "name": "ipython",
    "version": 3
   },
   "file_extension": ".py",
   "mimetype": "text/x-python",
   "name": "python",
   "nbconvert_exporter": "python",
   "pygments_lexer": "ipython3",
   "version": "3.7.12"
  },
  "papermill": {
   "default_parameters": {},
   "duration": 15.989346,
   "end_time": "2022-06-09T04:43:58.066964",
   "environment_variables": {},
   "exception": null,
   "input_path": "__notebook__.ipynb",
   "output_path": "__notebook__.ipynb",
   "parameters": {},
   "start_time": "2022-06-09T04:43:42.077618",
   "version": "2.3.4"
  }
 },
 "nbformat": 4,
 "nbformat_minor": 5
}
