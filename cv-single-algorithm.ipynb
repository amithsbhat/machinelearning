{
 "cells": [
  {
   "cell_type": "code",
   "execution_count": 1,
   "id": "217464f4",
   "metadata": {
    "_cell_guid": "b1076dfc-b9ad-4769-8c92-a6c4dae69d19",
    "_uuid": "8f2839f25d086af736a60e9eeb907d3b93b6e0e5",
    "execution": {
     "iopub.execute_input": "2022-05-17T06:26:28.873147Z",
     "iopub.status.busy": "2022-05-17T06:26:28.872400Z",
     "iopub.status.idle": "2022-05-17T06:26:29.840244Z",
     "shell.execute_reply": "2022-05-17T06:26:29.839321Z"
    },
    "papermill": {
     "duration": 0.993506,
     "end_time": "2022-05-17T06:26:29.843349",
     "exception": false,
     "start_time": "2022-05-17T06:26:28.849843",
     "status": "completed"
    },
    "tags": []
   },
   "outputs": [],
   "source": [
    "import numpy as np\n",
    "import pandas as pd\n",
    "import matplotlib.pyplot as plt\n",
    "import seaborn as sns\n",
    "\n",
    "pd.options.display.float_format = '{:,.2f}'.format"
   ]
  },
  {
   "cell_type": "code",
   "execution_count": 2,
   "id": "3aa08a60",
   "metadata": {
    "execution": {
     "iopub.execute_input": "2022-05-17T06:26:29.885002Z",
     "iopub.status.busy": "2022-05-17T06:26:29.884422Z",
     "iopub.status.idle": "2022-05-17T06:26:30.544229Z",
     "shell.execute_reply": "2022-05-17T06:26:30.543389Z"
    },
    "papermill": {
     "duration": 0.683256,
     "end_time": "2022-05-17T06:26:30.546490",
     "exception": false,
     "start_time": "2022-05-17T06:26:29.863234",
     "status": "completed"
    },
    "tags": []
   },
   "outputs": [
    {
     "name": "stdout",
     "output_type": "stream",
     "text": [
      "Downloading :  https://raw.githubusercontent.com/elephantscale/datasets/master/credit-card-default/default2.csv\n",
      "data_location: default2.csv\n"
     ]
    }
   ],
   "source": [
    "import os\n",
    "import urllib.request\n",
    "\n",
    "data_url = 'https://raw.githubusercontent.com/elephantscale/datasets/master/credit-card-default/default2.csv'\n",
    "data_location = os.path.basename(data_url)\n",
    "\n",
    "if not os.path.exists (data_location):\n",
    "    print(\"Downloading : \", data_url)\n",
    "    urllib.request.urlretrieve(data_url, data_location)\n",
    "print('data_location:', data_location)"
   ]
  },
  {
   "cell_type": "code",
   "execution_count": 3,
   "id": "519043ea",
   "metadata": {
    "execution": {
     "iopub.execute_input": "2022-05-17T06:26:30.590934Z",
     "iopub.status.busy": "2022-05-17T06:26:30.590622Z",
     "iopub.status.idle": "2022-05-17T06:26:30.704039Z",
     "shell.execute_reply": "2022-05-17T06:26:30.703110Z"
    },
    "papermill": {
     "duration": 0.138445,
     "end_time": "2022-05-17T06:26:30.706635",
     "exception": false,
     "start_time": "2022-05-17T06:26:30.568190",
     "status": "completed"
    },
    "tags": []
   },
   "outputs": [
    {
     "data": {
      "text/html": [
       "<div>\n",
       "<style scoped>\n",
       "    .dataframe tbody tr th:only-of-type {\n",
       "        vertical-align: middle;\n",
       "    }\n",
       "\n",
       "    .dataframe tbody tr th {\n",
       "        vertical-align: top;\n",
       "    }\n",
       "\n",
       "    .dataframe thead th {\n",
       "        text-align: right;\n",
       "    }\n",
       "</style>\n",
       "<table border=\"1\" class=\"dataframe\">\n",
       "  <thead>\n",
       "    <tr style=\"text-align: right;\">\n",
       "      <th></th>\n",
       "      <th>ID</th>\n",
       "      <th>LIMIT_BAL</th>\n",
       "      <th>SEX</th>\n",
       "      <th>EDUCATION</th>\n",
       "      <th>MARRIAGE</th>\n",
       "      <th>AGE</th>\n",
       "      <th>PAY_0</th>\n",
       "      <th>PAY_2</th>\n",
       "      <th>PAY_3</th>\n",
       "      <th>PAY_4</th>\n",
       "      <th>...</th>\n",
       "      <th>BILL_AMT4</th>\n",
       "      <th>BILL_AMT5</th>\n",
       "      <th>BILL_AMT6</th>\n",
       "      <th>PAY_AMT1</th>\n",
       "      <th>PAY_AMT2</th>\n",
       "      <th>PAY_AMT3</th>\n",
       "      <th>PAY_AMT4</th>\n",
       "      <th>PAY_AMT5</th>\n",
       "      <th>PAY_AMT6</th>\n",
       "      <th>default</th>\n",
       "    </tr>\n",
       "  </thead>\n",
       "  <tbody>\n",
       "    <tr>\n",
       "      <th>16355</th>\n",
       "      <td>16356</td>\n",
       "      <td>200000</td>\n",
       "      <td>2</td>\n",
       "      <td>2</td>\n",
       "      <td>1</td>\n",
       "      <td>48</td>\n",
       "      <td>0</td>\n",
       "      <td>0</td>\n",
       "      <td>-2</td>\n",
       "      <td>-1</td>\n",
       "      <td>...</td>\n",
       "      <td>902</td>\n",
       "      <td>0</td>\n",
       "      <td>0</td>\n",
       "      <td>0</td>\n",
       "      <td>490</td>\n",
       "      <td>902</td>\n",
       "      <td>0</td>\n",
       "      <td>0</td>\n",
       "      <td>0</td>\n",
       "      <td>0</td>\n",
       "    </tr>\n",
       "    <tr>\n",
       "      <th>13778</th>\n",
       "      <td>13779</td>\n",
       "      <td>30000</td>\n",
       "      <td>2</td>\n",
       "      <td>2</td>\n",
       "      <td>2</td>\n",
       "      <td>25</td>\n",
       "      <td>2</td>\n",
       "      <td>2</td>\n",
       "      <td>2</td>\n",
       "      <td>2</td>\n",
       "      <td>...</td>\n",
       "      <td>25714</td>\n",
       "      <td>26353</td>\n",
       "      <td>26868</td>\n",
       "      <td>1700</td>\n",
       "      <td>1100</td>\n",
       "      <td>1000</td>\n",
       "      <td>1200</td>\n",
       "      <td>1100</td>\n",
       "      <td>1200</td>\n",
       "      <td>1</td>\n",
       "    </tr>\n",
       "    <tr>\n",
       "      <th>10135</th>\n",
       "      <td>10136</td>\n",
       "      <td>40000</td>\n",
       "      <td>2</td>\n",
       "      <td>1</td>\n",
       "      <td>2</td>\n",
       "      <td>24</td>\n",
       "      <td>-1</td>\n",
       "      <td>2</td>\n",
       "      <td>-1</td>\n",
       "      <td>-1</td>\n",
       "      <td>...</td>\n",
       "      <td>780</td>\n",
       "      <td>390</td>\n",
       "      <td>150</td>\n",
       "      <td>0</td>\n",
       "      <td>390</td>\n",
       "      <td>780</td>\n",
       "      <td>0</td>\n",
       "      <td>150</td>\n",
       "      <td>780</td>\n",
       "      <td>1</td>\n",
       "    </tr>\n",
       "    <tr>\n",
       "      <th>16274</th>\n",
       "      <td>16275</td>\n",
       "      <td>200000</td>\n",
       "      <td>2</td>\n",
       "      <td>1</td>\n",
       "      <td>2</td>\n",
       "      <td>31</td>\n",
       "      <td>-1</td>\n",
       "      <td>2</td>\n",
       "      <td>-1</td>\n",
       "      <td>2</td>\n",
       "      <td>...</td>\n",
       "      <td>390</td>\n",
       "      <td>390</td>\n",
       "      <td>390</td>\n",
       "      <td>0</td>\n",
       "      <td>2253</td>\n",
       "      <td>0</td>\n",
       "      <td>390</td>\n",
       "      <td>390</td>\n",
       "      <td>390</td>\n",
       "      <td>0</td>\n",
       "    </tr>\n",
       "    <tr>\n",
       "      <th>8023</th>\n",
       "      <td>8024</td>\n",
       "      <td>360000</td>\n",
       "      <td>1</td>\n",
       "      <td>5</td>\n",
       "      <td>1</td>\n",
       "      <td>31</td>\n",
       "      <td>0</td>\n",
       "      <td>0</td>\n",
       "      <td>0</td>\n",
       "      <td>0</td>\n",
       "      <td>...</td>\n",
       "      <td>83359</td>\n",
       "      <td>85171</td>\n",
       "      <td>87046</td>\n",
       "      <td>7500</td>\n",
       "      <td>3500</td>\n",
       "      <td>2500</td>\n",
       "      <td>2500</td>\n",
       "      <td>2600</td>\n",
       "      <td>3000</td>\n",
       "      <td>0</td>\n",
       "    </tr>\n",
       "    <tr>\n",
       "      <th>1465</th>\n",
       "      <td>1466</td>\n",
       "      <td>90000</td>\n",
       "      <td>1</td>\n",
       "      <td>2</td>\n",
       "      <td>1</td>\n",
       "      <td>27</td>\n",
       "      <td>0</td>\n",
       "      <td>0</td>\n",
       "      <td>0</td>\n",
       "      <td>0</td>\n",
       "      <td>...</td>\n",
       "      <td>59949</td>\n",
       "      <td>54029</td>\n",
       "      <td>48170</td>\n",
       "      <td>2580</td>\n",
       "      <td>2337</td>\n",
       "      <td>1634</td>\n",
       "      <td>1606</td>\n",
       "      <td>1371</td>\n",
       "      <td>620</td>\n",
       "      <td>0</td>\n",
       "    </tr>\n",
       "    <tr>\n",
       "      <th>17387</th>\n",
       "      <td>17388</td>\n",
       "      <td>140000</td>\n",
       "      <td>2</td>\n",
       "      <td>2</td>\n",
       "      <td>1</td>\n",
       "      <td>40</td>\n",
       "      <td>0</td>\n",
       "      <td>0</td>\n",
       "      <td>0</td>\n",
       "      <td>0</td>\n",
       "      <td>...</td>\n",
       "      <td>99004</td>\n",
       "      <td>88485</td>\n",
       "      <td>85218</td>\n",
       "      <td>5000</td>\n",
       "      <td>5000</td>\n",
       "      <td>5000</td>\n",
       "      <td>3000</td>\n",
       "      <td>3000</td>\n",
       "      <td>4000</td>\n",
       "      <td>0</td>\n",
       "    </tr>\n",
       "    <tr>\n",
       "      <th>28008</th>\n",
       "      <td>28009</td>\n",
       "      <td>240000</td>\n",
       "      <td>2</td>\n",
       "      <td>1</td>\n",
       "      <td>3</td>\n",
       "      <td>29</td>\n",
       "      <td>1</td>\n",
       "      <td>-2</td>\n",
       "      <td>-2</td>\n",
       "      <td>-2</td>\n",
       "      <td>...</td>\n",
       "      <td>0</td>\n",
       "      <td>0</td>\n",
       "      <td>0</td>\n",
       "      <td>0</td>\n",
       "      <td>0</td>\n",
       "      <td>0</td>\n",
       "      <td>0</td>\n",
       "      <td>0</td>\n",
       "      <td>0</td>\n",
       "      <td>0</td>\n",
       "    </tr>\n",
       "    <tr>\n",
       "      <th>6166</th>\n",
       "      <td>6167</td>\n",
       "      <td>30000</td>\n",
       "      <td>2</td>\n",
       "      <td>2</td>\n",
       "      <td>1</td>\n",
       "      <td>27</td>\n",
       "      <td>0</td>\n",
       "      <td>0</td>\n",
       "      <td>2</td>\n",
       "      <td>2</td>\n",
       "      <td>...</td>\n",
       "      <td>12718</td>\n",
       "      <td>12829</td>\n",
       "      <td>13083</td>\n",
       "      <td>3000</td>\n",
       "      <td>901</td>\n",
       "      <td>0</td>\n",
       "      <td>465</td>\n",
       "      <td>467</td>\n",
       "      <td>485</td>\n",
       "      <td>1</td>\n",
       "    </tr>\n",
       "    <tr>\n",
       "      <th>1560</th>\n",
       "      <td>1561</td>\n",
       "      <td>50000</td>\n",
       "      <td>2</td>\n",
       "      <td>2</td>\n",
       "      <td>1</td>\n",
       "      <td>48</td>\n",
       "      <td>0</td>\n",
       "      <td>0</td>\n",
       "      <td>0</td>\n",
       "      <td>0</td>\n",
       "      <td>...</td>\n",
       "      <td>14555</td>\n",
       "      <td>14860</td>\n",
       "      <td>15155</td>\n",
       "      <td>2526</td>\n",
       "      <td>1237</td>\n",
       "      <td>519</td>\n",
       "      <td>538</td>\n",
       "      <td>541</td>\n",
       "      <td>560</td>\n",
       "      <td>0</td>\n",
       "    </tr>\n",
       "  </tbody>\n",
       "</table>\n",
       "<p>10 rows × 25 columns</p>\n",
       "</div>"
      ],
      "text/plain": [
       "          ID  LIMIT_BAL  SEX  EDUCATION  MARRIAGE  AGE  PAY_0  PAY_2  PAY_3  \\\n",
       "16355  16356     200000    2          2         1   48      0      0     -2   \n",
       "13778  13779      30000    2          2         2   25      2      2      2   \n",
       "10135  10136      40000    2          1         2   24     -1      2     -1   \n",
       "16274  16275     200000    2          1         2   31     -1      2     -1   \n",
       "8023    8024     360000    1          5         1   31      0      0      0   \n",
       "1465    1466      90000    1          2         1   27      0      0      0   \n",
       "17387  17388     140000    2          2         1   40      0      0      0   \n",
       "28008  28009     240000    2          1         3   29      1     -2     -2   \n",
       "6166    6167      30000    2          2         1   27      0      0      2   \n",
       "1560    1561      50000    2          2         1   48      0      0      0   \n",
       "\n",
       "       PAY_4  ...  BILL_AMT4  BILL_AMT5  BILL_AMT6  PAY_AMT1  PAY_AMT2  \\\n",
       "16355     -1  ...        902          0          0         0       490   \n",
       "13778      2  ...      25714      26353      26868      1700      1100   \n",
       "10135     -1  ...        780        390        150         0       390   \n",
       "16274      2  ...        390        390        390         0      2253   \n",
       "8023       0  ...      83359      85171      87046      7500      3500   \n",
       "1465       0  ...      59949      54029      48170      2580      2337   \n",
       "17387      0  ...      99004      88485      85218      5000      5000   \n",
       "28008     -2  ...          0          0          0         0         0   \n",
       "6166       2  ...      12718      12829      13083      3000       901   \n",
       "1560       0  ...      14555      14860      15155      2526      1237   \n",
       "\n",
       "       PAY_AMT3  PAY_AMT4  PAY_AMT5  PAY_AMT6  default  \n",
       "16355       902         0         0         0        0  \n",
       "13778      1000      1200      1100      1200        1  \n",
       "10135       780         0       150       780        1  \n",
       "16274         0       390       390       390        0  \n",
       "8023       2500      2500      2600      3000        0  \n",
       "1465       1634      1606      1371       620        0  \n",
       "17387      5000      3000      3000      4000        0  \n",
       "28008         0         0         0         0        0  \n",
       "6166          0       465       467       485        1  \n",
       "1560        519       538       541       560        0  \n",
       "\n",
       "[10 rows x 25 columns]"
      ]
     },
     "execution_count": 3,
     "metadata": {},
     "output_type": "execute_result"
    }
   ],
   "source": [
    "data = pd.read_csv(data_location)\n",
    "data.sample(10)"
   ]
  },
  {
   "cell_type": "code",
   "execution_count": 4,
   "id": "6b16fcb6",
   "metadata": {
    "execution": {
     "iopub.execute_input": "2022-05-17T06:26:30.750165Z",
     "iopub.status.busy": "2022-05-17T06:26:30.749588Z",
     "iopub.status.idle": "2022-05-17T06:26:30.763058Z",
     "shell.execute_reply": "2022-05-17T06:26:30.762258Z"
    },
    "papermill": {
     "duration": 0.036827,
     "end_time": "2022-05-17T06:26:30.764759",
     "exception": false,
     "start_time": "2022-05-17T06:26:30.727932",
     "status": "completed"
    },
    "tags": []
   },
   "outputs": [
    {
     "data": {
      "text/plain": [
       "0   0.78\n",
       "1   0.22\n",
       "Name: default, dtype: float64"
      ]
     },
     "execution_count": 4,
     "metadata": {},
     "output_type": "execute_result"
    }
   ],
   "source": [
    "## Check data skew\n",
    "data['default'].value_counts()\n",
    "data['default'].value_counts(normalize=True)"
   ]
  },
  {
   "cell_type": "code",
   "execution_count": 5,
   "id": "3ab58570",
   "metadata": {
    "execution": {
     "iopub.execute_input": "2022-05-17T06:26:30.811589Z",
     "iopub.status.busy": "2022-05-17T06:26:30.810947Z",
     "iopub.status.idle": "2022-05-17T06:26:30.823834Z",
     "shell.execute_reply": "2022-05-17T06:26:30.823295Z"
    },
    "papermill": {
     "duration": 0.039139,
     "end_time": "2022-05-17T06:26:30.825607",
     "exception": false,
     "start_time": "2022-05-17T06:26:30.786468",
     "status": "completed"
    },
    "tags": []
   },
   "outputs": [
    {
     "name": "stdout",
     "output_type": "stream",
     "text": [
      "(30000, 23)\n",
      "(30000, 1)\n"
     ]
    }
   ],
   "source": [
    "label_col = 'default'\n",
    "\n",
    "feature_columns = data.columns\n",
    "## TODO : drop 'ID' and 'default' columns\n",
    "feature_columns = feature_columns.drop (['ID', 'default'])\n",
    "#print (feature_columns)\n",
    "X = data[feature_columns].values\n",
    "y = data[[label_col]].values\n",
    "\n",
    "print (X.shape)\n",
    "print (y.shape)"
   ]
  },
  {
   "cell_type": "code",
   "execution_count": 6,
   "id": "48ba907e",
   "metadata": {
    "execution": {
     "iopub.execute_input": "2022-05-17T06:26:30.869077Z",
     "iopub.status.busy": "2022-05-17T06:26:30.868787Z",
     "iopub.status.idle": "2022-05-17T06:26:33.651999Z",
     "shell.execute_reply": "2022-05-17T06:26:33.651252Z"
    },
    "papermill": {
     "duration": 2.807474,
     "end_time": "2022-05-17T06:26:33.654183",
     "exception": false,
     "start_time": "2022-05-17T06:26:30.846709",
     "status": "completed"
    },
    "tags": []
   },
   "outputs": [
    {
     "name": "stdout",
     "output_type": "stream",
     "text": [
      "CPU times: user 111 ms, sys: 85.1 ms, total: 196 ms\n",
      "Wall time: 2.78 s\n"
     ]
    }
   ],
   "source": [
    "%%time \n",
    "\n",
    "from sklearn.model_selection import cross_validate\n",
    "from sklearn.linear_model import LogisticRegression\n",
    "\n",
    "cv_results = cross_validate(estimator=LogisticRegression(max_iter=500), \n",
    "                            X=X, \n",
    "                            y=y.ravel(), \n",
    "                            cv=5, \n",
    "                            scoring=['accuracy'],\n",
    "                            return_train_score=True,\n",
    "                            return_estimator=True,\n",
    "                            n_jobs= -1)"
   ]
  },
  {
   "cell_type": "code",
   "execution_count": 7,
   "id": "0836fb25",
   "metadata": {
    "execution": {
     "iopub.execute_input": "2022-05-17T06:26:33.700642Z",
     "iopub.status.busy": "2022-05-17T06:26:33.699643Z",
     "iopub.status.idle": "2022-05-17T06:26:33.711714Z",
     "shell.execute_reply": "2022-05-17T06:26:33.710895Z"
    },
    "papermill": {
     "duration": 0.037944,
     "end_time": "2022-05-17T06:26:33.713752",
     "exception": false,
     "start_time": "2022-05-17T06:26:33.675808",
     "status": "completed"
    },
    "tags": []
   },
   "outputs": [
    {
     "data": {
      "text/plain": [
       "{'fit_time': array([0.8729794 , 0.89039063, 0.79051065, 0.71387124, 0.55618525]),\n",
       " 'score_time': array([0.00234723, 0.00237131, 0.00283766, 0.00249815, 0.00141811]),\n",
       " 'estimator': [LogisticRegression(max_iter=500),\n",
       "  LogisticRegression(max_iter=500),\n",
       "  LogisticRegression(max_iter=500),\n",
       "  LogisticRegression(max_iter=500),\n",
       "  LogisticRegression(max_iter=500)],\n",
       " 'test_accuracy': array([0.7785    , 0.77883333, 0.77883333, 0.77883333, 0.77883333]),\n",
       " 'train_accuracy': array([0.77883333, 0.77870833, 0.77879167, 0.77870833, 0.778625  ])}"
      ]
     },
     "execution_count": 7,
     "metadata": {},
     "output_type": "execute_result"
    }
   ],
   "source": [
    "cv_results"
   ]
  },
  {
   "cell_type": "code",
   "execution_count": 8,
   "id": "714431fe",
   "metadata": {
    "execution": {
     "iopub.execute_input": "2022-05-17T06:26:33.760761Z",
     "iopub.status.busy": "2022-05-17T06:26:33.760268Z",
     "iopub.status.idle": "2022-05-17T06:26:33.765578Z",
     "shell.execute_reply": "2022-05-17T06:26:33.764780Z"
    },
    "papermill": {
     "duration": 0.030916,
     "end_time": "2022-05-17T06:26:33.767396",
     "exception": false,
     "start_time": "2022-05-17T06:26:33.736480",
     "status": "completed"
    },
    "tags": []
   },
   "outputs": [
    {
     "name": "stdout",
     "output_type": "stream",
     "text": [
      "average accuracy :  0.7787666666666667\n"
     ]
    }
   ],
   "source": [
    "from numpy import mean\n",
    "\n",
    "print (\"average accuracy : \", mean(cv_results['test_accuracy']))"
   ]
  },
  {
   "cell_type": "code",
   "execution_count": 9,
   "id": "d87a12ed",
   "metadata": {
    "execution": {
     "iopub.execute_input": "2022-05-17T06:26:33.816942Z",
     "iopub.status.busy": "2022-05-17T06:26:33.816648Z",
     "iopub.status.idle": "2022-05-17T06:26:35.468457Z",
     "shell.execute_reply": "2022-05-17T06:26:35.467542Z"
    },
    "papermill": {
     "duration": 1.678664,
     "end_time": "2022-05-17T06:26:35.470805",
     "exception": false,
     "start_time": "2022-05-17T06:26:33.792141",
     "status": "completed"
    },
    "tags": []
   },
   "outputs": [],
   "source": [
    "from sklearn.tree import DecisionTreeClassifier\n",
    "cv_resultsDT = cross_validate(estimator=DecisionTreeClassifier(), \n",
    "                            X=X, \n",
    "                            y=y.ravel(), \n",
    "                            cv=5, \n",
    "                            scoring=['accuracy'],\n",
    "                            return_train_score=True,\n",
    "                            return_estimator=True,\n",
    "                            n_jobs= -1)"
   ]
  },
  {
   "cell_type": "code",
   "execution_count": 10,
   "id": "6b9396b3",
   "metadata": {
    "execution": {
     "iopub.execute_input": "2022-05-17T06:26:35.521165Z",
     "iopub.status.busy": "2022-05-17T06:26:35.520665Z",
     "iopub.status.idle": "2022-05-17T06:26:35.528412Z",
     "shell.execute_reply": "2022-05-17T06:26:35.527647Z"
    },
    "papermill": {
     "duration": 0.035463,
     "end_time": "2022-05-17T06:26:35.530231",
     "exception": false,
     "start_time": "2022-05-17T06:26:35.494768",
     "status": "completed"
    },
    "tags": []
   },
   "outputs": [
    {
     "data": {
      "text/plain": [
       "{'fit_time': array([0.85481644, 0.85362506, 0.83097363, 0.83690834, 0.57010913]),\n",
       " 'score_time': array([0.00337887, 0.0037477 , 0.00360537, 0.0039432 , 0.00272083]),\n",
       " 'estimator': [DecisionTreeClassifier(),\n",
       "  DecisionTreeClassifier(),\n",
       "  DecisionTreeClassifier(),\n",
       "  DecisionTreeClassifier(),\n",
       "  DecisionTreeClassifier()],\n",
       " 'test_accuracy': array([0.71583333, 0.716     , 0.72233333, 0.7385    , 0.73433333]),\n",
       " 'train_accuracy': array([0.999375  , 0.99958333, 0.99925   , 0.999375  , 0.999375  ])}"
      ]
     },
     "execution_count": 10,
     "metadata": {},
     "output_type": "execute_result"
    }
   ],
   "source": [
    "cv_resultsDT"
   ]
  },
  {
   "cell_type": "code",
   "execution_count": 11,
   "id": "aed9eb26",
   "metadata": {
    "execution": {
     "iopub.execute_input": "2022-05-17T06:26:35.576806Z",
     "iopub.status.busy": "2022-05-17T06:26:35.576565Z",
     "iopub.status.idle": "2022-05-17T06:26:35.581256Z",
     "shell.execute_reply": "2022-05-17T06:26:35.580390Z"
    },
    "papermill": {
     "duration": 0.03097,
     "end_time": "2022-05-17T06:26:35.583418",
     "exception": false,
     "start_time": "2022-05-17T06:26:35.552448",
     "status": "completed"
    },
    "tags": []
   },
   "outputs": [
    {
     "name": "stdout",
     "output_type": "stream",
     "text": [
      "average accuracy :  0.7254\n"
     ]
    }
   ],
   "source": [
    "from numpy import mean\n",
    "\n",
    "print (\"average accuracy : \", mean(cv_resultsDT['test_accuracy']))"
   ]
  },
  {
   "cell_type": "code",
   "execution_count": 12,
   "id": "618e8dae",
   "metadata": {
    "execution": {
     "iopub.execute_input": "2022-05-17T06:26:35.633476Z",
     "iopub.status.busy": "2022-05-17T06:26:35.632889Z",
     "iopub.status.idle": "2022-05-17T06:26:55.665712Z",
     "shell.execute_reply": "2022-05-17T06:26:55.665155Z"
    },
    "papermill": {
     "duration": 20.060045,
     "end_time": "2022-05-17T06:26:55.667637",
     "exception": false,
     "start_time": "2022-05-17T06:26:35.607592",
     "status": "completed"
    },
    "tags": []
   },
   "outputs": [
    {
     "data": {
      "text/plain": [
       "{'fit_time': array([10.4940536 , 10.44581676, 10.59675598, 10.68567467,  6.99031281]),\n",
       " 'score_time': array([0.32402968, 0.24787521, 0.25932837, 0.20170116, 0.15892506]),\n",
       " 'estimator': [RandomForestClassifier(),\n",
       "  RandomForestClassifier(),\n",
       "  RandomForestClassifier(),\n",
       "  RandomForestClassifier(),\n",
       "  RandomForestClassifier()],\n",
       " 'test_accuracy': array([0.80433333, 0.80666667, 0.81933333, 0.828     , 0.82133333]),\n",
       " 'train_accuracy': array([0.999375  , 0.99958333, 0.99925   , 0.99925   , 0.999375  ])}"
      ]
     },
     "execution_count": 12,
     "metadata": {},
     "output_type": "execute_result"
    }
   ],
   "source": [
    "from sklearn.ensemble import RandomForestClassifier\n",
    "cv_resultsRF = cross_validate(estimator=RandomForestClassifier(), \n",
    "                            X=X, \n",
    "                            y=y.ravel(), \n",
    "                            cv=5, \n",
    "                            scoring=['accuracy'],\n",
    "                            return_train_score=True,\n",
    "                            return_estimator=True,\n",
    "                            n_jobs= -1)\n",
    "cv_resultsRF"
   ]
  },
  {
   "cell_type": "code",
   "execution_count": 13,
   "id": "bea11e23",
   "metadata": {
    "execution": {
     "iopub.execute_input": "2022-05-17T06:26:55.719348Z",
     "iopub.status.busy": "2022-05-17T06:26:55.718494Z",
     "iopub.status.idle": "2022-05-17T06:26:55.724077Z",
     "shell.execute_reply": "2022-05-17T06:26:55.723121Z"
    },
    "papermill": {
     "duration": 0.034069,
     "end_time": "2022-05-17T06:26:55.726055",
     "exception": false,
     "start_time": "2022-05-17T06:26:55.691986",
     "status": "completed"
    },
    "tags": []
   },
   "outputs": [
    {
     "name": "stdout",
     "output_type": "stream",
     "text": [
      "average accuracy :  0.8159333333333333\n"
     ]
    }
   ],
   "source": [
    "from numpy import mean\n",
    "\n",
    "print (\"average accuracy : \", mean(cv_resultsRF['test_accuracy']))"
   ]
  },
  {
   "cell_type": "code",
   "execution_count": 14,
   "id": "0b306561",
   "metadata": {
    "execution": {
     "iopub.execute_input": "2022-05-17T06:26:55.773825Z",
     "iopub.status.busy": "2022-05-17T06:26:55.773569Z",
     "iopub.status.idle": "2022-05-17T06:27:14.120392Z",
     "shell.execute_reply": "2022-05-17T06:27:14.119328Z"
    },
    "papermill": {
     "duration": 18.374671,
     "end_time": "2022-05-17T06:27:14.123872",
     "exception": false,
     "start_time": "2022-05-17T06:26:55.749201",
     "status": "completed"
    },
    "tags": []
   },
   "outputs": [
    {
     "name": "stdout",
     "output_type": "stream",
     "text": [
      "CPU times: user 416 ms, sys: 27.5 ms, total: 443 ms\n",
      "Wall time: 18.3 s\n"
     ]
    },
    {
     "data": {
      "text/plain": [
       "{'fit_time': array([10.66167808, 10.59903932, 10.6652782 , 10.50067067,  6.1174593 ]),\n",
       " 'score_time': array([0.05017638, 0.02904654, 0.04325628, 0.02923751, 0.01873016]),\n",
       " 'estimator': [XGBClassifier(base_score=0.5, booster='gbtree', callbacks=None,\n",
       "                colsample_bylevel=1, colsample_bynode=1, colsample_bytree=1,\n",
       "                early_stopping_rounds=None, enable_categorical=False,\n",
       "                eval_metric=None, gamma=0, gpu_id=-1, grow_policy='depthwise',\n",
       "                importance_type=None, interaction_constraints='',\n",
       "                learning_rate=0.300000012, max_bin=256, max_cat_to_onehot=4,\n",
       "                max_delta_step=0, max_depth=6, max_leaves=0, min_child_weight=1,\n",
       "                missing=nan, monotone_constraints='()', n_estimators=100,\n",
       "                n_jobs=0, num_parallel_tree=1, predictor='auto', random_state=0,\n",
       "                reg_alpha=0, reg_lambda=1, ...),\n",
       "  XGBClassifier(base_score=0.5, booster='gbtree', callbacks=None,\n",
       "                colsample_bylevel=1, colsample_bynode=1, colsample_bytree=1,\n",
       "                early_stopping_rounds=None, enable_categorical=False,\n",
       "                eval_metric=None, gamma=0, gpu_id=-1, grow_policy='depthwise',\n",
       "                importance_type=None, interaction_constraints='',\n",
       "                learning_rate=0.300000012, max_bin=256, max_cat_to_onehot=4,\n",
       "                max_delta_step=0, max_depth=6, max_leaves=0, min_child_weight=1,\n",
       "                missing=nan, monotone_constraints='()', n_estimators=100,\n",
       "                n_jobs=0, num_parallel_tree=1, predictor='auto', random_state=0,\n",
       "                reg_alpha=0, reg_lambda=1, ...),\n",
       "  XGBClassifier(base_score=0.5, booster='gbtree', callbacks=None,\n",
       "                colsample_bylevel=1, colsample_bynode=1, colsample_bytree=1,\n",
       "                early_stopping_rounds=None, enable_categorical=False,\n",
       "                eval_metric=None, gamma=0, gpu_id=-1, grow_policy='depthwise',\n",
       "                importance_type=None, interaction_constraints='',\n",
       "                learning_rate=0.300000012, max_bin=256, max_cat_to_onehot=4,\n",
       "                max_delta_step=0, max_depth=6, max_leaves=0, min_child_weight=1,\n",
       "                missing=nan, monotone_constraints='()', n_estimators=100,\n",
       "                n_jobs=0, num_parallel_tree=1, predictor='auto', random_state=0,\n",
       "                reg_alpha=0, reg_lambda=1, ...),\n",
       "  XGBClassifier(base_score=0.5, booster='gbtree', callbacks=None,\n",
       "                colsample_bylevel=1, colsample_bynode=1, colsample_bytree=1,\n",
       "                early_stopping_rounds=None, enable_categorical=False,\n",
       "                eval_metric=None, gamma=0, gpu_id=-1, grow_policy='depthwise',\n",
       "                importance_type=None, interaction_constraints='',\n",
       "                learning_rate=0.300000012, max_bin=256, max_cat_to_onehot=4,\n",
       "                max_delta_step=0, max_depth=6, max_leaves=0, min_child_weight=1,\n",
       "                missing=nan, monotone_constraints='()', n_estimators=100,\n",
       "                n_jobs=0, num_parallel_tree=1, predictor='auto', random_state=0,\n",
       "                reg_alpha=0, reg_lambda=1, ...),\n",
       "  XGBClassifier(base_score=0.5, booster='gbtree', callbacks=None,\n",
       "                colsample_bylevel=1, colsample_bynode=1, colsample_bytree=1,\n",
       "                early_stopping_rounds=None, enable_categorical=False,\n",
       "                eval_metric=None, gamma=0, gpu_id=-1, grow_policy='depthwise',\n",
       "                importance_type=None, interaction_constraints='',\n",
       "                learning_rate=0.300000012, max_bin=256, max_cat_to_onehot=4,\n",
       "                max_delta_step=0, max_depth=6, max_leaves=0, min_child_weight=1,\n",
       "                missing=nan, monotone_constraints='()', n_estimators=100,\n",
       "                n_jobs=0, num_parallel_tree=1, predictor='auto', random_state=0,\n",
       "                reg_alpha=0, reg_lambda=1, ...)],\n",
       " 'test_accuracy': array([0.80266667, 0.80816667, 0.81333333, 0.82683333, 0.81983333]),\n",
       " 'train_accuracy': array([0.88316667, 0.884125  , 0.883375  , 0.88141667, 0.88241667])}"
      ]
     },
     "execution_count": 14,
     "metadata": {},
     "output_type": "execute_result"
    }
   ],
   "source": [
    "%%time\n",
    "\n",
    "import xgboost as xgb\n",
    "\n",
    "cv_resultsXG = cross_validate(estimator=xgb.XGBClassifier(), \n",
    "                            X=X, \n",
    "                            y=y.ravel(), \n",
    "                            cv=5, \n",
    "                            scoring=['accuracy'],\n",
    "                            return_train_score=True,\n",
    "                            return_estimator=True,\n",
    "                            n_jobs= -1)\n",
    "cv_resultsXG"
   ]
  },
  {
   "cell_type": "code",
   "execution_count": 15,
   "id": "97d8ee2e",
   "metadata": {
    "execution": {
     "iopub.execute_input": "2022-05-17T06:27:14.177121Z",
     "iopub.status.busy": "2022-05-17T06:27:14.176829Z",
     "iopub.status.idle": "2022-05-17T06:27:14.181587Z",
     "shell.execute_reply": "2022-05-17T06:27:14.180563Z"
    },
    "papermill": {
     "duration": 0.035808,
     "end_time": "2022-05-17T06:27:14.185996",
     "exception": false,
     "start_time": "2022-05-17T06:27:14.150188",
     "status": "completed"
    },
    "tags": []
   },
   "outputs": [
    {
     "name": "stdout",
     "output_type": "stream",
     "text": [
      "average accuracy :  0.8141666666666667\n"
     ]
    }
   ],
   "source": [
    "from numpy import mean\n",
    "\n",
    "print (\"average accuracy : \", mean(cv_resultsXG['test_accuracy']))"
   ]
  },
  {
   "cell_type": "code",
   "execution_count": 16,
   "id": "b76943ce",
   "metadata": {
    "execution": {
     "iopub.execute_input": "2022-05-17T06:27:14.241519Z",
     "iopub.status.busy": "2022-05-17T06:27:14.240932Z",
     "iopub.status.idle": "2022-05-17T06:27:14.493700Z",
     "shell.execute_reply": "2022-05-17T06:27:14.492880Z"
    },
    "papermill": {
     "duration": 0.282561,
     "end_time": "2022-05-17T06:27:14.496161",
     "exception": false,
     "start_time": "2022-05-17T06:27:14.213600",
     "status": "completed"
    },
    "tags": []
   },
   "outputs": [],
   "source": [
    "from catboost import CatBoostClassifier\n",
    "\n",
    "clf = CatBoostClassifier(\n",
    "    iterations=5, \n",
    "    learning_rate=0.1, \n",
    "    #loss_function='CrossEntropy'\n",
    ")"
   ]
  },
  {
   "cell_type": "code",
   "execution_count": 17,
   "id": "e9ac7938",
   "metadata": {
    "execution": {
     "iopub.execute_input": "2022-05-17T06:27:14.549878Z",
     "iopub.status.busy": "2022-05-17T06:27:14.549531Z",
     "iopub.status.idle": "2022-05-17T06:27:17.134616Z",
     "shell.execute_reply": "2022-05-17T06:27:17.133702Z"
    },
    "papermill": {
     "duration": 2.61461,
     "end_time": "2022-05-17T06:27:17.136719",
     "exception": false,
     "start_time": "2022-05-17T06:27:14.522109",
     "status": "completed"
    },
    "tags": []
   },
   "outputs": [
    {
     "name": "stdout",
     "output_type": "stream",
     "text": [
      "CPU times: user 24.7 ms, sys: 5.42 ms, total: 30.1 ms\n",
      "Wall time: 2.58 s\n"
     ]
    },
    {
     "data": {
      "text/plain": [
       "{'fit_time': array([0.84116745, 0.75206041, 0.69936132, 0.83662939, 0.35738826]),\n",
       " 'score_time': array([0.14091372, 0.12333608, 0.12163544, 0.11134362, 0.05572724]),\n",
       " 'estimator': [<catboost.core.CatBoostClassifier at 0x7f0643566f50>,\n",
       "  <catboost.core.CatBoostClassifier at 0x7f0643566410>,\n",
       "  <catboost.core.CatBoostClassifier at 0x7f0643566590>,\n",
       "  <catboost.core.CatBoostClassifier at 0x7f0643566610>,\n",
       "  <catboost.core.CatBoostClassifier at 0x7f0643566e90>],\n",
       " 'test_accuracy': array([0.80683333, 0.80966667, 0.82433333, 0.82966667, 0.825     ]),\n",
       " 'train_accuracy': array([0.823125  , 0.82266667, 0.82045833, 0.818875  , 0.81891667])}"
      ]
     },
     "execution_count": 17,
     "metadata": {},
     "output_type": "execute_result"
    }
   ],
   "source": [
    "%%time\n",
    "\n",
    "cv_resultsCB = cross_validate(estimator=clf, \n",
    "                            X=X, \n",
    "                            y=y.ravel(), \n",
    "                            cv=5, \n",
    "                            scoring=['accuracy'],\n",
    "                            return_train_score=True,\n",
    "                            return_estimator=True,\n",
    "                            n_jobs= -1)\n",
    "cv_resultsCB"
   ]
  },
  {
   "cell_type": "code",
   "execution_count": 18,
   "id": "a0dff3ce",
   "metadata": {
    "execution": {
     "iopub.execute_input": "2022-05-17T06:27:17.191526Z",
     "iopub.status.busy": "2022-05-17T06:27:17.190918Z",
     "iopub.status.idle": "2022-05-17T06:27:17.196704Z",
     "shell.execute_reply": "2022-05-17T06:27:17.195660Z"
    },
    "papermill": {
     "duration": 0.037286,
     "end_time": "2022-05-17T06:27:17.200278",
     "exception": false,
     "start_time": "2022-05-17T06:27:17.162992",
     "status": "completed"
    },
    "tags": []
   },
   "outputs": [
    {
     "name": "stdout",
     "output_type": "stream",
     "text": [
      "average accuracy :  0.8190999999999999\n"
     ]
    }
   ],
   "source": [
    "from numpy import mean\n",
    "\n",
    "print (\"average accuracy : \", mean(cv_resultsCB['test_accuracy']))"
   ]
  },
  {
   "cell_type": "code",
   "execution_count": null,
   "id": "4540ff14",
   "metadata": {
    "papermill": {
     "duration": 0.026823,
     "end_time": "2022-05-17T06:27:17.255159",
     "exception": false,
     "start_time": "2022-05-17T06:27:17.228336",
     "status": "completed"
    },
    "tags": []
   },
   "outputs": [],
   "source": []
  }
 ],
 "metadata": {
  "kernelspec": {
   "display_name": "Python 3",
   "language": "python",
   "name": "python3"
  },
  "language_info": {
   "codemirror_mode": {
    "name": "ipython",
    "version": 3
   },
   "file_extension": ".py",
   "mimetype": "text/x-python",
   "name": "python",
   "nbconvert_exporter": "python",
   "pygments_lexer": "ipython3",
   "version": "3.7.12"
  },
  "papermill": {
   "default_parameters": {},
   "duration": 60.275676,
   "end_time": "2022-05-17T06:27:19.902506",
   "environment_variables": {},
   "exception": null,
   "input_path": "__notebook__.ipynb",
   "output_path": "__notebook__.ipynb",
   "parameters": {},
   "start_time": "2022-05-17T06:26:19.626830",
   "version": "2.3.4"
  }
 },
 "nbformat": 4,
 "nbformat_minor": 5
}
