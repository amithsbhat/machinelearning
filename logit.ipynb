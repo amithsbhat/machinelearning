{
 "cells": [
  {
   "cell_type": "markdown",
   "id": "ef66d17c",
   "metadata": {
    "papermill": {
     "duration": 0.022966,
     "end_time": "2022-05-10T07:46:22.530804",
     "exception": false,
     "start_time": "2022-05-10T07:46:22.507838",
     "status": "completed"
    },
    "tags": []
   },
   "source": [
    "# Logistic Regression With IRIS data"
   ]
  },
  {
   "cell_type": "code",
   "execution_count": 1,
   "id": "29bcc44f",
   "metadata": {
    "execution": {
     "iopub.execute_input": "2022-05-10T07:46:22.577223Z",
     "iopub.status.busy": "2022-05-10T07:46:22.576419Z",
     "iopub.status.idle": "2022-05-10T07:46:22.589451Z",
     "shell.execute_reply": "2022-05-10T07:46:22.588589Z"
    },
    "papermill": {
     "duration": 0.039357,
     "end_time": "2022-05-10T07:46:22.592002",
     "exception": false,
     "start_time": "2022-05-10T07:46:22.552645",
     "status": "completed"
    },
    "tags": []
   },
   "outputs": [],
   "source": [
    "import numpy as np\n",
    "import pandas as pd\n",
    "import matplotlib.pyplot as plt"
   ]
  },
  {
   "cell_type": "markdown",
   "id": "228d8bad",
   "metadata": {
    "papermill": {
     "duration": 0.021529,
     "end_time": "2022-05-10T07:46:22.635620",
     "exception": false,
     "start_time": "2022-05-10T07:46:22.614091",
     "status": "completed"
    },
    "tags": []
   },
   "source": [
    "## Load Data"
   ]
  },
  {
   "cell_type": "code",
   "execution_count": 2,
   "id": "8ba34298",
   "metadata": {
    "execution": {
     "iopub.execute_input": "2022-05-10T07:46:22.682180Z",
     "iopub.status.busy": "2022-05-10T07:46:22.681367Z",
     "iopub.status.idle": "2022-05-10T07:46:23.749065Z",
     "shell.execute_reply": "2022-05-10T07:46:23.748008Z"
    },
    "papermill": {
     "duration": 1.095042,
     "end_time": "2022-05-10T07:46:23.752450",
     "exception": false,
     "start_time": "2022-05-10T07:46:22.657408",
     "status": "completed"
    },
    "tags": []
   },
   "outputs": [
    {
     "name": "stdout",
     "output_type": "stream",
     "text": [
      "Downloading :  https://elephantscale-public.s3.amazonaws.com/data/iris/iris_combined.csv\n",
      "data_location: iris.csv\n"
     ]
    }
   ],
   "source": [
    "import os\n",
    "import urllib.request\n",
    "\n",
    "data_location = \"iris.csv\"\n",
    "data_url = 'https://elephantscale-public.s3.amazonaws.com/data/iris/iris_combined.csv'\n",
    "\n",
    "if not os.path.exists (data_location):\n",
    "    data_location = os.path.basename(data_location)\n",
    "    if not os.path.exists(data_location):\n",
    "        print(\"Downloading : \", data_url)\n",
    "        urllib.request.urlretrieve(data_url, data_location)\n",
    "print('data_location:', data_location)"
   ]
  },
  {
   "cell_type": "code",
   "execution_count": 3,
   "id": "870b5da3",
   "metadata": {
    "execution": {
     "iopub.execute_input": "2022-05-10T07:46:23.800356Z",
     "iopub.status.busy": "2022-05-10T07:46:23.800067Z",
     "iopub.status.idle": "2022-05-10T07:46:23.830889Z",
     "shell.execute_reply": "2022-05-10T07:46:23.830020Z"
    },
    "papermill": {
     "duration": 0.057427,
     "end_time": "2022-05-10T07:46:23.833342",
     "exception": false,
     "start_time": "2022-05-10T07:46:23.775915",
     "status": "completed"
    },
    "tags": []
   },
   "outputs": [
    {
     "data": {
      "text/html": [
       "<div>\n",
       "<style scoped>\n",
       "    .dataframe tbody tr th:only-of-type {\n",
       "        vertical-align: middle;\n",
       "    }\n",
       "\n",
       "    .dataframe tbody tr th {\n",
       "        vertical-align: top;\n",
       "    }\n",
       "\n",
       "    .dataframe thead th {\n",
       "        text-align: right;\n",
       "    }\n",
       "</style>\n",
       "<table border=\"1\" class=\"dataframe\">\n",
       "  <thead>\n",
       "    <tr style=\"text-align: right;\">\n",
       "      <th></th>\n",
       "      <th>c1</th>\n",
       "      <th>c2</th>\n",
       "      <th>c3</th>\n",
       "      <th>c4</th>\n",
       "      <th>label</th>\n",
       "    </tr>\n",
       "  </thead>\n",
       "  <tbody>\n",
       "    <tr>\n",
       "      <th>81</th>\n",
       "      <td>6.10</td>\n",
       "      <td>2.90</td>\n",
       "      <td>4.70</td>\n",
       "      <td>1.40</td>\n",
       "      <td>2</td>\n",
       "    </tr>\n",
       "    <tr>\n",
       "      <th>115</th>\n",
       "      <td>5.50</td>\n",
       "      <td>2.60</td>\n",
       "      <td>4.40</td>\n",
       "      <td>1.20</td>\n",
       "      <td>2</td>\n",
       "    </tr>\n",
       "    <tr>\n",
       "      <th>65</th>\n",
       "      <td>7.30</td>\n",
       "      <td>2.90</td>\n",
       "      <td>6.30</td>\n",
       "      <td>1.80</td>\n",
       "      <td>3</td>\n",
       "    </tr>\n",
       "    <tr>\n",
       "      <th>73</th>\n",
       "      <td>7.70</td>\n",
       "      <td>3.00</td>\n",
       "      <td>6.10</td>\n",
       "      <td>2.30</td>\n",
       "      <td>3</td>\n",
       "    </tr>\n",
       "    <tr>\n",
       "      <th>91</th>\n",
       "      <td>6.10</td>\n",
       "      <td>2.80</td>\n",
       "      <td>4.70</td>\n",
       "      <td>1.20</td>\n",
       "      <td>2</td>\n",
       "    </tr>\n",
       "    <tr>\n",
       "      <th>128</th>\n",
       "      <td>5.60</td>\n",
       "      <td>3.00</td>\n",
       "      <td>4.10</td>\n",
       "      <td>1.30</td>\n",
       "      <td>2</td>\n",
       "    </tr>\n",
       "    <tr>\n",
       "      <th>7</th>\n",
       "      <td>6.90</td>\n",
       "      <td>3.10</td>\n",
       "      <td>5.10</td>\n",
       "      <td>2.30</td>\n",
       "      <td>3</td>\n",
       "    </tr>\n",
       "    <tr>\n",
       "      <th>127</th>\n",
       "      <td>6.30</td>\n",
       "      <td>2.80</td>\n",
       "      <td>5.10</td>\n",
       "      <td>1.50</td>\n",
       "      <td>3</td>\n",
       "    </tr>\n",
       "    <tr>\n",
       "      <th>6</th>\n",
       "      <td>5.40</td>\n",
       "      <td>3.40</td>\n",
       "      <td>1.50</td>\n",
       "      <td>0.40</td>\n",
       "      <td>1</td>\n",
       "    </tr>\n",
       "    <tr>\n",
       "      <th>87</th>\n",
       "      <td>5.70</td>\n",
       "      <td>2.80</td>\n",
       "      <td>4.50</td>\n",
       "      <td>1.30</td>\n",
       "      <td>2</td>\n",
       "    </tr>\n",
       "  </tbody>\n",
       "</table>\n",
       "</div>"
      ],
      "text/plain": [
       "      c1   c2   c3   c4  label\n",
       "81  6.10 2.90 4.70 1.40      2\n",
       "115 5.50 2.60 4.40 1.20      2\n",
       "65  7.30 2.90 6.30 1.80      3\n",
       "73  7.70 3.00 6.10 2.30      3\n",
       "91  6.10 2.80 4.70 1.20      2\n",
       "128 5.60 3.00 4.10 1.30      2\n",
       "7   6.90 3.10 5.10 2.30      3\n",
       "127 6.30 2.80 5.10 1.50      3\n",
       "6   5.40 3.40 1.50 0.40      1\n",
       "87  5.70 2.80 4.50 1.30      2"
      ]
     },
     "execution_count": 3,
     "metadata": {},
     "output_type": "execute_result"
    }
   ],
   "source": [
    "import pandas as pd\n",
    "pd.options.display.float_format = '{:,.2f}'.format\n",
    "\n",
    "iris = pd.read_csv(data_location)\n",
    "iris.sample(10)"
   ]
  },
  {
   "cell_type": "markdown",
   "id": "19de3fc3",
   "metadata": {
    "papermill": {
     "duration": 0.023606,
     "end_time": "2022-05-10T07:46:23.880809",
     "exception": false,
     "start_time": "2022-05-10T07:46:23.857203",
     "status": "completed"
    },
    "tags": []
   },
   "source": [
    "## Exploratory Data Analysis (EDA)"
   ]
  },
  {
   "cell_type": "code",
   "execution_count": 4,
   "id": "16ad2bc1",
   "metadata": {
    "execution": {
     "iopub.execute_input": "2022-05-10T07:46:23.932662Z",
     "iopub.status.busy": "2022-05-10T07:46:23.932365Z",
     "iopub.status.idle": "2022-05-10T07:46:23.966419Z",
     "shell.execute_reply": "2022-05-10T07:46:23.965782Z"
    },
    "papermill": {
     "duration": 0.062284,
     "end_time": "2022-05-10T07:46:23.968368",
     "exception": false,
     "start_time": "2022-05-10T07:46:23.906084",
     "status": "completed"
    },
    "tags": []
   },
   "outputs": [
    {
     "data": {
      "text/html": [
       "<div>\n",
       "<style scoped>\n",
       "    .dataframe tbody tr th:only-of-type {\n",
       "        vertical-align: middle;\n",
       "    }\n",
       "\n",
       "    .dataframe tbody tr th {\n",
       "        vertical-align: top;\n",
       "    }\n",
       "\n",
       "    .dataframe thead th {\n",
       "        text-align: right;\n",
       "    }\n",
       "</style>\n",
       "<table border=\"1\" class=\"dataframe\">\n",
       "  <thead>\n",
       "    <tr style=\"text-align: right;\">\n",
       "      <th></th>\n",
       "      <th>c1</th>\n",
       "      <th>c2</th>\n",
       "      <th>c3</th>\n",
       "      <th>c4</th>\n",
       "      <th>label</th>\n",
       "    </tr>\n",
       "  </thead>\n",
       "  <tbody>\n",
       "    <tr>\n",
       "      <th>count</th>\n",
       "      <td>150.00</td>\n",
       "      <td>150.00</td>\n",
       "      <td>150.00</td>\n",
       "      <td>150.00</td>\n",
       "      <td>150.00</td>\n",
       "    </tr>\n",
       "    <tr>\n",
       "      <th>mean</th>\n",
       "      <td>5.84</td>\n",
       "      <td>3.05</td>\n",
       "      <td>3.76</td>\n",
       "      <td>1.20</td>\n",
       "      <td>2.00</td>\n",
       "    </tr>\n",
       "    <tr>\n",
       "      <th>std</th>\n",
       "      <td>0.83</td>\n",
       "      <td>0.43</td>\n",
       "      <td>1.76</td>\n",
       "      <td>0.76</td>\n",
       "      <td>0.82</td>\n",
       "    </tr>\n",
       "    <tr>\n",
       "      <th>min</th>\n",
       "      <td>4.30</td>\n",
       "      <td>2.00</td>\n",
       "      <td>1.00</td>\n",
       "      <td>0.10</td>\n",
       "      <td>1.00</td>\n",
       "    </tr>\n",
       "    <tr>\n",
       "      <th>25%</th>\n",
       "      <td>5.10</td>\n",
       "      <td>2.80</td>\n",
       "      <td>1.60</td>\n",
       "      <td>0.30</td>\n",
       "      <td>1.00</td>\n",
       "    </tr>\n",
       "    <tr>\n",
       "      <th>50%</th>\n",
       "      <td>5.80</td>\n",
       "      <td>3.00</td>\n",
       "      <td>4.35</td>\n",
       "      <td>1.30</td>\n",
       "      <td>2.00</td>\n",
       "    </tr>\n",
       "    <tr>\n",
       "      <th>75%</th>\n",
       "      <td>6.40</td>\n",
       "      <td>3.30</td>\n",
       "      <td>5.10</td>\n",
       "      <td>1.80</td>\n",
       "      <td>3.00</td>\n",
       "    </tr>\n",
       "    <tr>\n",
       "      <th>max</th>\n",
       "      <td>7.90</td>\n",
       "      <td>4.40</td>\n",
       "      <td>6.90</td>\n",
       "      <td>2.50</td>\n",
       "      <td>3.00</td>\n",
       "    </tr>\n",
       "  </tbody>\n",
       "</table>\n",
       "</div>"
      ],
      "text/plain": [
       "          c1     c2     c3     c4  label\n",
       "count 150.00 150.00 150.00 150.00 150.00\n",
       "mean    5.84   3.05   3.76   1.20   2.00\n",
       "std     0.83   0.43   1.76   0.76   0.82\n",
       "min     4.30   2.00   1.00   0.10   1.00\n",
       "25%     5.10   2.80   1.60   0.30   1.00\n",
       "50%     5.80   3.00   4.35   1.30   2.00\n",
       "75%     6.40   3.30   5.10   1.80   3.00\n",
       "max     7.90   4.40   6.90   2.50   3.00"
      ]
     },
     "execution_count": 4,
     "metadata": {},
     "output_type": "execute_result"
    }
   ],
   "source": [
    "## TODO : 'describe' the dataset\n",
    "iris.describe()"
   ]
  },
  {
   "cell_type": "code",
   "execution_count": 5,
   "id": "3392d380",
   "metadata": {
    "execution": {
     "iopub.execute_input": "2022-05-10T07:46:24.017566Z",
     "iopub.status.busy": "2022-05-10T07:46:24.017029Z",
     "iopub.status.idle": "2022-05-10T07:46:24.023736Z",
     "shell.execute_reply": "2022-05-10T07:46:24.022879Z"
    },
    "papermill": {
     "duration": 0.033675,
     "end_time": "2022-05-10T07:46:24.025734",
     "exception": false,
     "start_time": "2022-05-10T07:46:23.992059",
     "status": "completed"
    },
    "tags": []
   },
   "outputs": [
    {
     "data": {
      "text/plain": [
       "3    50\n",
       "2    50\n",
       "1    50\n",
       "Name: label, dtype: int64"
      ]
     },
     "execution_count": 5,
     "metadata": {},
     "output_type": "execute_result"
    }
   ],
   "source": [
    "# TODO : how are our labels distributed\n",
    "## Hint : 'value_counts'\n",
    "\n",
    "iris['label'].value_counts()"
   ]
  },
  {
   "cell_type": "code",
   "execution_count": 6,
   "id": "b184466d",
   "metadata": {
    "execution": {
     "iopub.execute_input": "2022-05-10T07:46:24.078281Z",
     "iopub.status.busy": "2022-05-10T07:46:24.077984Z",
     "iopub.status.idle": "2022-05-10T07:46:24.085620Z",
     "shell.execute_reply": "2022-05-10T07:46:24.084878Z"
    },
    "papermill": {
     "duration": 0.035132,
     "end_time": "2022-05-10T07:46:24.087656",
     "exception": false,
     "start_time": "2022-05-10T07:46:24.052524",
     "status": "completed"
    },
    "tags": []
   },
   "outputs": [
    {
     "data": {
      "text/plain": [
       "3   0.33\n",
       "2   0.33\n",
       "1   0.33\n",
       "Name: label, dtype: float64"
      ]
     },
     "execution_count": 6,
     "metadata": {},
     "output_type": "execute_result"
    }
   ],
   "source": [
    "iris['label'].value_counts(normalize=True)"
   ]
  },
  {
   "cell_type": "markdown",
   "id": "c53f1564",
   "metadata": {
    "papermill": {
     "duration": 0.025115,
     "end_time": "2022-05-10T07:46:24.139244",
     "exception": false,
     "start_time": "2022-05-10T07:46:24.114129",
     "status": "completed"
    },
    "tags": []
   },
   "source": [
    "## Shape Data"
   ]
  },
  {
   "cell_type": "code",
   "execution_count": 7,
   "id": "44c52aa7",
   "metadata": {
    "execution": {
     "iopub.execute_input": "2022-05-10T07:46:24.192366Z",
     "iopub.status.busy": "2022-05-10T07:46:24.191896Z",
     "iopub.status.idle": "2022-05-10T07:46:24.204689Z",
     "shell.execute_reply": "2022-05-10T07:46:24.202971Z"
    },
    "papermill": {
     "duration": 0.041494,
     "end_time": "2022-05-10T07:46:24.206929",
     "exception": false,
     "start_time": "2022-05-10T07:46:24.165435",
     "status": "completed"
    },
    "tags": []
   },
   "outputs": [
    {
     "name": "stdout",
     "output_type": "stream",
     "text": [
      "      c1   c2   c3   c4\n",
      "0   6.40 2.80 5.60 2.20\n",
      "1   5.00 2.30 3.30 1.00\n",
      "2   4.90 2.50 4.50 1.70\n",
      "3   4.90 3.10 1.50 0.10\n",
      "4   5.70 3.80 1.70 0.30\n",
      "..   ...  ...  ...  ...\n",
      "145 6.10 3.00 4.60 1.40\n",
      "146 5.20 4.10 1.50 0.10\n",
      "147 6.70 3.10 4.70 1.50\n",
      "148 6.70 3.30 5.70 2.50\n",
      "149 6.40 2.90 4.30 1.30\n",
      "\n",
      "[150 rows x 4 columns]\n",
      "0      3\n",
      "1      2\n",
      "2      3\n",
      "3      1\n",
      "4      1\n",
      "      ..\n",
      "145    2\n",
      "146    1\n",
      "147    2\n",
      "148    3\n",
      "149    2\n",
      "Name: label, Length: 150, dtype: int64\n"
     ]
    }
   ],
   "source": [
    "## extract x and y\n",
    "## Hint : input columns : c1, c2, c3, c4\n",
    "#  hint: y colunm is : 'label'\n",
    "\n",
    "x = iris[['c1', 'c2', 'c3', 'c4']]\n",
    "y = iris['label']\n",
    "\n",
    "print (x)\n",
    "print (y)"
   ]
  },
  {
   "cell_type": "code",
   "execution_count": 8,
   "id": "f85c98d2",
   "metadata": {
    "execution": {
     "iopub.execute_input": "2022-05-10T07:46:24.258654Z",
     "iopub.status.busy": "2022-05-10T07:46:24.258367Z",
     "iopub.status.idle": "2022-05-10T07:46:24.264056Z",
     "shell.execute_reply": "2022-05-10T07:46:24.263020Z"
    },
    "papermill": {
     "duration": 0.034276,
     "end_time": "2022-05-10T07:46:24.266412",
     "exception": false,
     "start_time": "2022-05-10T07:46:24.232136",
     "status": "completed"
    },
    "tags": []
   },
   "outputs": [
    {
     "name": "stdout",
     "output_type": "stream",
     "text": [
      "x :  (150, 4)\n",
      "y :  (150,)\n"
     ]
    }
   ],
   "source": [
    "## Todo : print the 'shape' of X and y\n",
    "## hint : shape\n",
    "print ('x : ', x.shape)\n",
    "print ('y : ', y.shape)"
   ]
  },
  {
   "cell_type": "markdown",
   "id": "bb0ec711",
   "metadata": {
    "papermill": {
     "duration": 0.02542,
     "end_time": "2022-05-10T07:46:24.318122",
     "exception": false,
     "start_time": "2022-05-10T07:46:24.292702",
     "status": "completed"
    },
    "tags": []
   },
   "source": [
    "## Split train/test"
   ]
  },
  {
   "cell_type": "code",
   "execution_count": 9,
   "id": "7400b0fb",
   "metadata": {
    "execution": {
     "iopub.execute_input": "2022-05-10T07:46:24.370307Z",
     "iopub.status.busy": "2022-05-10T07:46:24.370043Z",
     "iopub.status.idle": "2022-05-10T07:46:25.613227Z",
     "shell.execute_reply": "2022-05-10T07:46:25.612353Z"
    },
    "papermill": {
     "duration": 1.272028,
     "end_time": "2022-05-10T07:46:25.615617",
     "exception": false,
     "start_time": "2022-05-10T07:46:24.343589",
     "status": "completed"
    },
    "tags": []
   },
   "outputs": [
    {
     "name": "stdout",
     "output_type": "stream",
     "text": [
      "x_train : (120, 4)\n",
      "x_test : (30, 4)\n",
      "y_train : (120,)\n",
      "y_test : (30,)\n"
     ]
    }
   ],
   "source": [
    "from sklearn.model_selection import train_test_split\n",
    "\n",
    "## TODO : split data into train / test, with 20% for test\n",
    "## hint : 20% is 0.2\n",
    "\n",
    "x_train,x_test,y_train, y_test = train_test_split(x,y,  test_size=0.2)\n",
    "\n",
    "\n",
    "print (\"x_train :\" , x_train.shape )\n",
    "print (\"x_test :\", x_test.shape)\n",
    "print (\"y_train :\", y_train.shape)\n",
    "print (\"y_test :\", y_test.shape)"
   ]
  },
  {
   "cell_type": "markdown",
   "id": "4bdd0f74",
   "metadata": {
    "papermill": {
     "duration": 0.025301,
     "end_time": "2022-05-10T07:46:25.666586",
     "exception": false,
     "start_time": "2022-05-10T07:46:25.641285",
     "status": "completed"
    },
    "tags": []
   },
   "source": [
    "## Logistic Regression"
   ]
  },
  {
   "cell_type": "code",
   "execution_count": 10,
   "id": "3f8c1f4c",
   "metadata": {
    "execution": {
     "iopub.execute_input": "2022-05-10T07:46:25.721697Z",
     "iopub.status.busy": "2022-05-10T07:46:25.720793Z",
     "iopub.status.idle": "2022-05-10T07:46:25.839786Z",
     "shell.execute_reply": "2022-05-10T07:46:25.838905Z"
    },
    "papermill": {
     "duration": 0.149225,
     "end_time": "2022-05-10T07:46:25.842199",
     "exception": false,
     "start_time": "2022-05-10T07:46:25.692974",
     "status": "completed"
    },
    "tags": []
   },
   "outputs": [],
   "source": [
    "from sklearn.linear_model import LogisticRegression\n",
    "\n",
    "lr = LogisticRegression(C=1e5)\n",
    "\n",
    "# TODO : Fit the model\n",
    "## Hint : first param : x_train,  \n",
    "##        second_param : y_train\n",
    "\n",
    "model = lr.fit(x_train, y_train)\n"
   ]
  },
  {
   "cell_type": "code",
   "execution_count": 11,
   "id": "27a569fa",
   "metadata": {
    "execution": {
     "iopub.execute_input": "2022-05-10T07:46:25.895889Z",
     "iopub.status.busy": "2022-05-10T07:46:25.894972Z",
     "iopub.status.idle": "2022-05-10T07:46:25.901380Z",
     "shell.execute_reply": "2022-05-10T07:46:25.900499Z"
    },
    "papermill": {
     "duration": 0.03576,
     "end_time": "2022-05-10T07:46:25.903768",
     "exception": false,
     "start_time": "2022-05-10T07:46:25.868008",
     "status": "completed"
    },
    "tags": []
   },
   "outputs": [
    {
     "name": "stdout",
     "output_type": "stream",
     "text": [
      "coef :  [[  4.12544506  10.17002668 -15.54187817  -7.14367633]\n",
      " [ -0.32348578  -3.38824444   3.43983136  -3.79503804]\n",
      " [ -3.80195928  -6.78178225  12.10204681  10.93871437]]\n",
      "intercept [  2.22159647  16.72149695 -18.94309342]\n"
     ]
    }
   ],
   "source": [
    "print('coef : ', model.coef_)\n",
    "print('intercept' , model.intercept_)"
   ]
  },
  {
   "cell_type": "markdown",
   "id": "a4c478fb",
   "metadata": {
    "papermill": {
     "duration": 0.026459,
     "end_time": "2022-05-10T07:46:25.957067",
     "exception": false,
     "start_time": "2022-05-10T07:46:25.930608",
     "status": "completed"
    },
    "tags": []
   },
   "source": [
    "## Model Evaluation"
   ]
  },
  {
   "cell_type": "code",
   "execution_count": 12,
   "id": "a88b2ea4",
   "metadata": {
    "execution": {
     "iopub.execute_input": "2022-05-10T07:46:26.012708Z",
     "iopub.status.busy": "2022-05-10T07:46:26.011958Z",
     "iopub.status.idle": "2022-05-10T07:46:26.020993Z",
     "shell.execute_reply": "2022-05-10T07:46:26.020036Z"
    },
    "papermill": {
     "duration": 0.039409,
     "end_time": "2022-05-10T07:46:26.023028",
     "exception": false,
     "start_time": "2022-05-10T07:46:25.983619",
     "status": "completed"
    },
    "tags": []
   },
   "outputs": [
    {
     "data": {
      "text/plain": [
       "array([2, 3, 2, 3, 2, 3, 3, 2, 2, 1, 3, 3, 1, 1, 1, 3, 3, 1, 2, 2, 1, 3,\n",
       "       2, 1, 1, 2, 3, 3, 3, 1])"
      ]
     },
     "execution_count": 12,
     "metadata": {},
     "output_type": "execute_result"
    }
   ],
   "source": [
    "## TODO : predict on x_test\n",
    "## hint : 'x_test'\n",
    "\n",
    "y_pred = model.predict (x_test)\n",
    "y_pred"
   ]
  },
  {
   "cell_type": "code",
   "execution_count": 13,
   "id": "a98cd518",
   "metadata": {
    "execution": {
     "iopub.execute_input": "2022-05-10T07:46:26.077793Z",
     "iopub.status.busy": "2022-05-10T07:46:26.077139Z",
     "iopub.status.idle": "2022-05-10T07:46:26.084543Z",
     "shell.execute_reply": "2022-05-10T07:46:26.083680Z"
    },
    "papermill": {
     "duration": 0.036943,
     "end_time": "2022-05-10T07:46:26.086547",
     "exception": false,
     "start_time": "2022-05-10T07:46:26.049604",
     "status": "completed"
    },
    "tags": []
   },
   "outputs": [
    {
     "name": "stdout",
     "output_type": "stream",
     "text": [
      "Train accuracy:  0.9833333333333333\n"
     ]
    }
   ],
   "source": [
    "train_accuracy = model.score(x_train,y_train)\n",
    "print (\"Train accuracy: \", train_accuracy)"
   ]
  },
  {
   "cell_type": "code",
   "execution_count": 14,
   "id": "43e3bd61",
   "metadata": {
    "execution": {
     "iopub.execute_input": "2022-05-10T07:46:26.142929Z",
     "iopub.status.busy": "2022-05-10T07:46:26.142619Z",
     "iopub.status.idle": "2022-05-10T07:46:26.150270Z",
     "shell.execute_reply": "2022-05-10T07:46:26.149320Z"
    },
    "papermill": {
     "duration": 0.03922,
     "end_time": "2022-05-10T07:46:26.153669",
     "exception": false,
     "start_time": "2022-05-10T07:46:26.114449",
     "status": "completed"
    },
    "tags": []
   },
   "outputs": [
    {
     "name": "stdout",
     "output_type": "stream",
     "text": [
      "Test accuracy:  0.9666666666666667\n"
     ]
    }
   ],
   "source": [
    "## TODO : calculate test_accuracy\n",
    "## Hint : x_test,  y_test\n",
    "\n",
    "test_accuracy = model.score(x_test, y_test)\n",
    "\n",
    "print (\"Test accuracy: \", test_accuracy)"
   ]
  },
  {
   "cell_type": "code",
   "execution_count": 15,
   "id": "9ddc20c0",
   "metadata": {
    "execution": {
     "iopub.execute_input": "2022-05-10T07:46:26.211136Z",
     "iopub.status.busy": "2022-05-10T07:46:26.210286Z",
     "iopub.status.idle": "2022-05-10T07:46:26.219804Z",
     "shell.execute_reply": "2022-05-10T07:46:26.218584Z"
    },
    "papermill": {
     "duration": 0.039942,
     "end_time": "2022-05-10T07:46:26.221939",
     "exception": false,
     "start_time": "2022-05-10T07:46:26.181997",
     "status": "completed"
    },
    "tags": []
   },
   "outputs": [
    {
     "data": {
      "text/plain": [
       "array([[ 9,  0,  0],\n",
       "       [ 0,  9,  1],\n",
       "       [ 0,  0, 11]])"
      ]
     },
     "execution_count": 15,
     "metadata": {},
     "output_type": "execute_result"
    }
   ],
   "source": [
    "from sklearn.metrics import confusion_matrix\n",
    "\n",
    "cm = confusion_matrix(y_test, y_pred)\n",
    "cm"
   ]
  },
  {
   "cell_type": "code",
   "execution_count": 16,
   "id": "50769cef",
   "metadata": {
    "execution": {
     "iopub.execute_input": "2022-05-10T07:46:26.279488Z",
     "iopub.status.busy": "2022-05-10T07:46:26.278953Z",
     "iopub.status.idle": "2022-05-10T07:46:26.772031Z",
     "shell.execute_reply": "2022-05-10T07:46:26.771109Z"
    },
    "papermill": {
     "duration": 0.524068,
     "end_time": "2022-05-10T07:46:26.774299",
     "exception": false,
     "start_time": "2022-05-10T07:46:26.250231",
     "status": "completed"
    },
    "tags": []
   },
   "outputs": [
    {
     "data": {
      "text/plain": [
       "[]"
      ]
     },
     "execution_count": 16,
     "metadata": {},
     "output_type": "execute_result"
    },
    {
     "data": {
      "image/png": "[encoded data removed]",
      "text/plain": [
       "<Figure size 576x360 with 2 Axes>"
      ]
     },
     "metadata": {
      "needs_background": "light"
     },
     "output_type": "display_data"
    }
   ],
   "source": [
    "import matplotlib.pyplot as plt\n",
    "import seaborn as sns\n",
    "\n",
    "plt.figure(figsize = (8,5))\n",
    "\n",
    "# colormaps : cmap=\"YlGnBu\" , cmap=\"Greens\", cmap=\"Blues\",  cmap=\"Reds\"\n",
    "sns.heatmap(cm, annot=True, cmap=\"Reds\", fmt='d').plot()"
   ]
  },
  {
   "cell_type": "code",
   "execution_count": null,
   "id": "4c8c9420",
   "metadata": {
    "papermill": {
     "duration": 0.028921,
     "end_time": "2022-05-10T07:46:26.833927",
     "exception": false,
     "start_time": "2022-05-10T07:46:26.805006",
     "status": "completed"
    },
    "tags": []
   },
   "outputs": [],
   "source": []
  }
 ],
 "metadata": {
  "kernelspec": {
   "display_name": "Python 3",
   "language": "python",
   "name": "python3"
  },
  "language_info": {
   "codemirror_mode": {
    "name": "ipython",
    "version": 3
   },
   "file_extension": ".py",
   "mimetype": "text/x-python",
   "name": "python",
   "nbconvert_exporter": "python",
   "pygments_lexer": "ipython3",
   "version": "3.7.12"
  },
  "papermill": {
   "default_parameters": {},
   "duration": 15.576413,
   "end_time": "2022-05-10T07:46:27.584199",
   "environment_variables": {},
   "exception": null,
   "input_path": "__notebook__.ipynb",
   "output_path": "__notebook__.ipynb",
   "parameters": {},
   "start_time": "2022-05-10T07:46:12.007786",
   "version": "2.3.4"
  }
 },
 "nbformat": 4,
 "nbformat_minor": 5
}
