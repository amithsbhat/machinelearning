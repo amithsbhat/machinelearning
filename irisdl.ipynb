{
 "cells": [
  {
   "cell_type": "markdown",
   "id": "ca93840a",
   "metadata": {
    "id": "jlxDmuL_FOwe",
    "papermill": {
     "duration": 0.009811,
     "end_time": "2022-06-14T07:30:26.570803",
     "exception": false,
     "start_time": "2022-06-14T07:30:26.560992",
     "status": "completed"
    },
    "tags": []
   },
   "source": [
    "## Deep Neural Network (DNN) Classifier - Iris\n",
    "We will build a relataively simple neuran net to classify IRIS dataset "
   ]
  },
  {
   "cell_type": "markdown",
   "id": "39b14fbc",
   "metadata": {
    "id": "0azN5kvxFOww",
    "papermill": {
     "duration": 0.007856,
     "end_time": "2022-06-14T07:30:26.587596",
     "exception": false,
     "start_time": "2022-06-14T07:30:26.579740",
     "status": "completed"
    },
    "tags": []
   },
   "source": [
    "## Step 1 - About IRIS Dataset\n",
    "\n",
    "Imagine you are a botanist seeking an automated way to categorize each Iris flower you find. Machine learning provides many algorithms to statistically classify flowers. For instance, a sophisticated machine learning program could classify flowers based on photographs. Our ambitions are more modest—we're going to classify Iris flowers based on the length and width measurements of their [sepals](https://en.wikipedia.org/wiki/Sepal) and [petals](https://en.wikipedia.org/wiki/Petal).\n",
    "\n",
    "The Iris genus entails about 300 species, but our program will only classify the following three:\n",
    "\n",
    "* Iris setosa\n",
    "* Iris virginica\n",
    "* Iris versicolor\n",
    "\n",
    "<table>\n",
    "  <tr><td>\n",
    "    <img src=\"https://www.tensorflow.org/images/iris_three_species.jpg\"\n",
    "         alt=\"Petal geometry compared for three iris species: Iris setosa, Iris virginica, and Iris versicolor\">\n",
    "  </td></tr>\n",
    "  <tr><td align=\"center\">\n",
    "    <b>Figure 1.</b> <a href=\"https://commons.wikimedia.org/w/index.php?curid=170298\">Iris setosa</a> (by <a href=\"https://commons.wikimedia.org/wiki/User:Radomil\">Radomil</a>, CC BY-SA 3.0), <a href=\"https://commons.wikimedia.org/w/index.php?curid=248095\">Iris versicolor</a>, (by <a href=\"https://commons.wikimedia.org/wiki/User:Dlanglois\">Dlanglois</a>, CC BY-SA 3.0), and <a href=\"https://www.flickr.com/photos/33397993@N05/3352169862\">Iris virginica</a> (by <a href=\"https://www.flickr.com/photos/33397993@N05\">Frank Mayfield</a>, CC BY-SA 2.0).<br/>&nbsp;\n",
    "  </td></tr>\n",
    "</table>\n",
    "\n",
    "Fortunately, someone has already created a [data set of 120 Iris flowers](https://en.wikipedia.org/wiki/Iris_flower_data_set) with the sepal and p"
   ]
  },
  {
   "cell_type": "code",
   "execution_count": 1,
   "id": "a5e2a365",
   "metadata": {
    "execution": {
     "iopub.execute_input": "2022-06-14T07:30:26.606230Z",
     "iopub.status.busy": "2022-06-14T07:30:26.605764Z",
     "iopub.status.idle": "2022-06-14T07:30:26.618048Z",
     "shell.execute_reply": "2022-06-14T07:30:26.617156Z"
    },
    "id": "GKREOLDQFOwx",
    "papermill": {
     "duration": 0.025018,
     "end_time": "2022-06-14T07:30:26.621133",
     "exception": false,
     "start_time": "2022-06-14T07:30:26.596115",
     "status": "completed"
    },
    "tags": []
   },
   "outputs": [
    {
     "name": "stdout",
     "output_type": "stream",
     "text": [
      "Running in Google COLAB :  False\n"
     ]
    }
   ],
   "source": [
    "## Determine if we are running on google colab\n",
    "\n",
    "try:\n",
    "    import google.colab\n",
    "    RUNNING_IN_COLAB = True\n",
    "except:\n",
    "    RUNNING_IN_COLAB = False\n",
    "\n",
    "print (\"Running in Google COLAB : \", RUNNING_IN_COLAB)\n"
   ]
  },
  {
   "cell_type": "code",
   "execution_count": 2,
   "id": "5d537673",
   "metadata": {
    "execution": {
     "iopub.execute_input": "2022-06-14T07:30:26.640636Z",
     "iopub.status.busy": "2022-06-14T07:30:26.639935Z",
     "iopub.status.idle": "2022-06-14T07:30:31.666290Z",
     "shell.execute_reply": "2022-06-14T07:30:31.665246Z"
    },
    "id": "zMYWd4SlFOwy",
    "papermill": {
     "duration": 5.038291,
     "end_time": "2022-06-14T07:30:31.668629",
     "exception": false,
     "start_time": "2022-06-14T07:30:26.630338",
     "status": "completed"
    },
    "tags": []
   },
   "outputs": [],
   "source": [
    "%matplotlib inline\n",
    "import numpy as np\n",
    "import pandas as pd\n",
    "import matplotlib.pyplot as plt\n",
    "\n",
    "try:\n",
    "  # %tensorflow_version only exists in Colab.\n",
    "  %tensorflow_version 2.x\n",
    "except Exception:\n",
    "  pass\n",
    "\n",
    "\n",
    "import tensorflow as tf\n",
    "from tensorflow import keras"
   ]
  },
  {
   "cell_type": "markdown",
   "id": "061572ae",
   "metadata": {
    "id": "FSizEzDKFOwz",
    "papermill": {
     "duration": 0.008743,
     "end_time": "2022-06-14T07:30:31.686229",
     "exception": false,
     "start_time": "2022-06-14T07:30:31.677486",
     "status": "completed"
    },
    "tags": []
   },
   "source": [
    "## Step 2 : Read Data"
   ]
  },
  {
   "cell_type": "code",
   "execution_count": 3,
   "id": "03e5d9ba",
   "metadata": {
    "execution": {
     "iopub.execute_input": "2022-06-14T07:30:31.704782Z",
     "iopub.status.busy": "2022-06-14T07:30:31.704094Z",
     "iopub.status.idle": "2022-06-14T07:30:33.269191Z",
     "shell.execute_reply": "2022-06-14T07:30:33.268382Z"
    },
    "id": "_jb73QyVFOwz",
    "papermill": {
     "duration": 1.576725,
     "end_time": "2022-06-14T07:30:33.271356",
     "exception": false,
     "start_time": "2022-06-14T07:30:31.694631",
     "status": "completed"
    },
    "tags": []
   },
   "outputs": [
    {
     "name": "stdout",
     "output_type": "stream",
     "text": [
      "Downloading data from https://s3.amazonaws.com/elephantscale-public/data/iris/keras/iris.csv\n",
      "16384/4612 [==========================================================================================================] - 0s 0us/step\n"
     ]
    },
    {
     "data": {
      "text/html": [
       "<div>\n",
       "<style scoped>\n",
       "    .dataframe tbody tr th:only-of-type {\n",
       "        vertical-align: middle;\n",
       "    }\n",
       "\n",
       "    .dataframe tbody tr th {\n",
       "        vertical-align: top;\n",
       "    }\n",
       "\n",
       "    .dataframe thead th {\n",
       "        text-align: right;\n",
       "    }\n",
       "</style>\n",
       "<table border=\"1\" class=\"dataframe\">\n",
       "  <thead>\n",
       "    <tr style=\"text-align: right;\">\n",
       "      <th></th>\n",
       "      <th>SepalLengthCm</th>\n",
       "      <th>SepalWidthCm</th>\n",
       "      <th>PetalLengthCm</th>\n",
       "      <th>PetalWidthCm</th>\n",
       "      <th>Species</th>\n",
       "    </tr>\n",
       "  </thead>\n",
       "  <tbody>\n",
       "    <tr>\n",
       "      <th>0</th>\n",
       "      <td>5.1</td>\n",
       "      <td>3.5</td>\n",
       "      <td>1.4</td>\n",
       "      <td>0.2</td>\n",
       "      <td>Iris-setosa</td>\n",
       "    </tr>\n",
       "    <tr>\n",
       "      <th>1</th>\n",
       "      <td>4.9</td>\n",
       "      <td>3.0</td>\n",
       "      <td>1.4</td>\n",
       "      <td>0.2</td>\n",
       "      <td>Iris-setosa</td>\n",
       "    </tr>\n",
       "    <tr>\n",
       "      <th>2</th>\n",
       "      <td>4.7</td>\n",
       "      <td>3.2</td>\n",
       "      <td>1.3</td>\n",
       "      <td>0.2</td>\n",
       "      <td>Iris-setosa</td>\n",
       "    </tr>\n",
       "    <tr>\n",
       "      <th>3</th>\n",
       "      <td>4.6</td>\n",
       "      <td>3.1</td>\n",
       "      <td>1.5</td>\n",
       "      <td>0.2</td>\n",
       "      <td>Iris-setosa</td>\n",
       "    </tr>\n",
       "    <tr>\n",
       "      <th>4</th>\n",
       "      <td>5.0</td>\n",
       "      <td>3.6</td>\n",
       "      <td>1.4</td>\n",
       "      <td>0.2</td>\n",
       "      <td>Iris-setosa</td>\n",
       "    </tr>\n",
       "    <tr>\n",
       "      <th>...</th>\n",
       "      <td>...</td>\n",
       "      <td>...</td>\n",
       "      <td>...</td>\n",
       "      <td>...</td>\n",
       "      <td>...</td>\n",
       "    </tr>\n",
       "    <tr>\n",
       "      <th>145</th>\n",
       "      <td>6.7</td>\n",
       "      <td>3.0</td>\n",
       "      <td>5.2</td>\n",
       "      <td>2.3</td>\n",
       "      <td>Iris-virginica</td>\n",
       "    </tr>\n",
       "    <tr>\n",
       "      <th>146</th>\n",
       "      <td>6.3</td>\n",
       "      <td>2.5</td>\n",
       "      <td>5.0</td>\n",
       "      <td>1.9</td>\n",
       "      <td>Iris-virginica</td>\n",
       "    </tr>\n",
       "    <tr>\n",
       "      <th>147</th>\n",
       "      <td>6.5</td>\n",
       "      <td>3.0</td>\n",
       "      <td>5.2</td>\n",
       "      <td>2.0</td>\n",
       "      <td>Iris-virginica</td>\n",
       "    </tr>\n",
       "    <tr>\n",
       "      <th>148</th>\n",
       "      <td>6.2</td>\n",
       "      <td>3.4</td>\n",
       "      <td>5.4</td>\n",
       "      <td>2.3</td>\n",
       "      <td>Iris-virginica</td>\n",
       "    </tr>\n",
       "    <tr>\n",
       "      <th>149</th>\n",
       "      <td>5.9</td>\n",
       "      <td>3.0</td>\n",
       "      <td>5.1</td>\n",
       "      <td>1.8</td>\n",
       "      <td>Iris-virginica</td>\n",
       "    </tr>\n",
       "  </tbody>\n",
       "</table>\n",
       "<p>150 rows × 5 columns</p>\n",
       "</div>"
      ],
      "text/plain": [
       "     SepalLengthCm  SepalWidthCm  PetalLengthCm  PetalWidthCm         Species\n",
       "0              5.1           3.5            1.4           0.2     Iris-setosa\n",
       "1              4.9           3.0            1.4           0.2     Iris-setosa\n",
       "2              4.7           3.2            1.3           0.2     Iris-setosa\n",
       "3              4.6           3.1            1.5           0.2     Iris-setosa\n",
       "4              5.0           3.6            1.4           0.2     Iris-setosa\n",
       "..             ...           ...            ...           ...             ...\n",
       "145            6.7           3.0            5.2           2.3  Iris-virginica\n",
       "146            6.3           2.5            5.0           1.9  Iris-virginica\n",
       "147            6.5           3.0            5.2           2.0  Iris-virginica\n",
       "148            6.2           3.4            5.4           2.3  Iris-virginica\n",
       "149            5.9           3.0            5.1           1.8  Iris-virginica\n",
       "\n",
       "[150 rows x 5 columns]"
      ]
     },
     "execution_count": 3,
     "metadata": {},
     "output_type": "execute_result"
    }
   ],
   "source": [
    "import os\n",
    "\n",
    "# data_location_local = '../data/iris/keras/iris.csv'\n",
    "\n",
    "data_location = \"https://s3.amazonaws.com/elephantscale-public/data/iris/keras/iris.csv\"\n",
    "data_location_local = keras.utils.get_file(fname=os.path.basename(data_location),\n",
    "                                           origin=data_location)\n",
    "\n",
    "iris = pd.read_csv(data_location_local)\n",
    "\n",
    "iris.columns = ['SepalLengthCm', 'SepalWidthCm', 'PetalLengthCm', 'PetalWidthCm','Species']\n",
    "\n",
    "iris"
   ]
  },
  {
   "cell_type": "markdown",
   "id": "1f510706",
   "metadata": {
    "id": "C9H0yMdMFOw0",
    "papermill": {
     "duration": 0.008688,
     "end_time": "2022-06-14T07:30:33.288852",
     "exception": false,
     "start_time": "2022-06-14T07:30:33.280164",
     "status": "completed"
    },
    "tags": []
   },
   "source": [
    "## Step 3 : Shape Data\n",
    "\n",
    "### 3.1 - Select columns"
   ]
  },
  {
   "cell_type": "code",
   "execution_count": 4,
   "id": "dffbe6eb",
   "metadata": {
    "execution": {
     "iopub.execute_input": "2022-06-14T07:30:33.312991Z",
     "iopub.status.busy": "2022-06-14T07:30:33.311973Z",
     "iopub.status.idle": "2022-06-14T07:30:33.330314Z",
     "shell.execute_reply": "2022-06-14T07:30:33.329137Z"
    },
    "id": "hIxTwPwzFOw3",
    "papermill": {
     "duration": 0.034314,
     "end_time": "2022-06-14T07:30:33.333023",
     "exception": false,
     "start_time": "2022-06-14T07:30:33.298709",
     "status": "completed"
    },
    "tags": []
   },
   "outputs": [
    {
     "name": "stdout",
     "output_type": "stream",
     "text": [
      "   SepalLengthCm  SepalWidthCm  PetalLengthCm  PetalWidthCm\n",
      "0            5.1           3.5            1.4           0.2\n",
      "1            4.9           3.0            1.4           0.2\n",
      "2            4.7           3.2            1.3           0.2\n",
      "3            4.6           3.1            1.5           0.2\n",
      "4            5.0           3.6            1.4           0.2\n",
      "-----\n",
      "       Species\n",
      "0  Iris-setosa\n",
      "1  Iris-setosa\n",
      "2  Iris-setosa\n",
      "3  Iris-setosa\n",
      "4  Iris-setosa\n"
     ]
    }
   ],
   "source": [
    "input_columns = ['SepalLengthCm', 'SepalWidthCm', 'PetalLengthCm', 'PetalWidthCm']\n",
    "x = iris [input_columns]\n",
    "y = iris[['Species']]\n",
    "\n",
    "print (x.head())\n",
    "print('-----')\n",
    "print (y.head())"
   ]
  },
  {
   "cell_type": "markdown",
   "id": "878c9911",
   "metadata": {
    "id": "jtAWEFjYFOw6",
    "papermill": {
     "duration": 0.008351,
     "end_time": "2022-06-14T07:30:33.351336",
     "exception": false,
     "start_time": "2022-06-14T07:30:33.342985",
     "status": "completed"
    },
    "tags": []
   },
   "source": [
    "### 3.2 - Encode Labels\n",
    "Our output labels are strings like 'Iris-setosa' and 'Iris-virginica' ..etc.  \n",
    "These are called **categorical variables**  \n",
    "We need to change these to numbers  \n",
    "This is called **encoding**"
   ]
  },
  {
   "cell_type": "code",
   "execution_count": 5,
   "id": "a17be4d8",
   "metadata": {
    "execution": {
     "iopub.execute_input": "2022-06-14T07:30:33.370697Z",
     "iopub.status.busy": "2022-06-14T07:30:33.370316Z",
     "iopub.status.idle": "2022-06-14T07:30:34.194223Z",
     "shell.execute_reply": "2022-06-14T07:30:34.192711Z"
    },
    "id": "Z0ojZJwKFOw7",
    "papermill": {
     "duration": 0.837028,
     "end_time": "2022-06-14T07:30:34.197324",
     "exception": false,
     "start_time": "2022-06-14T07:30:33.360296",
     "status": "completed"
    },
    "tags": []
   },
   "outputs": [
    {
     "name": "stdout",
     "output_type": "stream",
     "text": [
      "[0 0 0 0 0 0 0 0 0 0 0 0 0 0 0 0 0 0 0 0 0 0 0 0 0 0 0 0 0 0 0 0 0 0 0 0 0\n",
      " 0 0 0 0 0 0 0 0 0 0 0 0 0 1 1 1 1 1 1 1 1 1 1 1 1 1 1 1 1 1 1 1 1 1 1 1 1\n",
      " 1 1 1 1 1 1 1 1 1 1 1 1 1 1 1 1 1 1 1 1 1 1 1 1 1 1 2 2 2 2 2 2 2 2 2 2 2\n",
      " 2 2 2 2 2 2 2 2 2 2 2 2 2 2 2 2 2 2 2 2 2 2 2 2 2 2 2 2 2 2 2 2 2 2 2 2 2\n",
      " 2 2]\n"
     ]
    },
    {
     "name": "stderr",
     "output_type": "stream",
     "text": [
      "/opt/conda/lib/python3.7/site-packages/sklearn/preprocessing/_label.py:115: DataConversionWarning: A column-vector y was passed when a 1d array was expected. Please change the shape of y to (n_samples, ), for example using ravel().\n",
      "  y = column_or_1d(y, warn=True)\n"
     ]
    }
   ],
   "source": [
    "from sklearn.preprocessing import LabelEncoder\n",
    "encoder =  LabelEncoder()\n",
    "y1 = encoder.fit_transform(y.values) ## need y.values which is an array\n",
    "print(y1)"
   ]
  },
  {
   "cell_type": "markdown",
   "id": "b607a3d2",
   "metadata": {
    "id": "M9VvmuaTFOw9",
    "papermill": {
     "duration": 0.008931,
     "end_time": "2022-06-14T07:30:34.215814",
     "exception": false,
     "start_time": "2022-06-14T07:30:34.206883",
     "status": "completed"
    },
    "tags": []
   },
   "source": [
    "### 3.3 - Create train/test split"
   ]
  },
  {
   "cell_type": "code",
   "execution_count": 6,
   "id": "c1231196",
   "metadata": {
    "execution": {
     "iopub.execute_input": "2022-06-14T07:30:34.235116Z",
     "iopub.status.busy": "2022-06-14T07:30:34.234396Z",
     "iopub.status.idle": "2022-06-14T07:30:34.295159Z",
     "shell.execute_reply": "2022-06-14T07:30:34.294318Z"
    },
    "id": "hqnh5zXTFOw9",
    "papermill": {
     "duration": 0.073476,
     "end_time": "2022-06-14T07:30:34.297993",
     "exception": false,
     "start_time": "2022-06-14T07:30:34.224517",
     "status": "completed"
    },
    "tags": []
   },
   "outputs": [
    {
     "name": "stdout",
     "output_type": "stream",
     "text": [
      "x_train.shape :  (120, 4)\n",
      "y_train.shape :  (120,)\n",
      "x_test.shape :  (30, 4)\n",
      "y_test.shape :  (30,)\n"
     ]
    }
   ],
   "source": [
    "from sklearn.model_selection import train_test_split\n",
    "\n",
    "# supply 'y1' (encoded labels)\n",
    "x_train,x_test, y_train,y_test = train_test_split(x,y1,test_size=0.2,random_state=0) \n",
    "\n",
    "print (\"x_train.shape : \", x_train.shape)\n",
    "print (\"y_train.shape : \", y_train.shape)\n",
    "print (\"x_test.shape : \", x_test.shape)\n",
    "print (\"y_test.shape : \", y_test.shape)"
   ]
  },
  {
   "cell_type": "markdown",
   "id": "5b57da4c",
   "metadata": {
    "id": "Sq7qjXJtFOw-",
    "papermill": {
     "duration": 0.008806,
     "end_time": "2022-06-14T07:30:34.316875",
     "exception": false,
     "start_time": "2022-06-14T07:30:34.308069",
     "status": "completed"
    },
    "tags": []
   },
   "source": [
    "## Step 4 : Build the Model\n",
    "Since this is a classifier, here is how we are going to build the neural network\n",
    "- Neurons in Input layer  = input dimensions (4 here)\n",
    "- Neurons in hidden layer = ???\n",
    "- Neurons in Output layer = output classes (3 here)\n",
    "- Output activation is 'softmax'\n",
    "\n",
    "### TODO : Sketch the neural net\n",
    "- What is the input dimensions\n",
    "- how many neurons in layers\n",
    "- how many output neurons\n",
    "\n",
    "<img src=\"../assets/images/neural-net-unknown.png\" style=\"width:40%\"/>"
   ]
  },
  {
   "cell_type": "code",
   "execution_count": 7,
   "id": "9dd24786",
   "metadata": {
    "execution": {
     "iopub.execute_input": "2022-06-14T07:30:34.336866Z",
     "iopub.status.busy": "2022-06-14T07:30:34.336483Z",
     "iopub.status.idle": "2022-06-14T07:30:35.490978Z",
     "shell.execute_reply": "2022-06-14T07:30:35.489968Z"
    },
    "id": "6NUr6D56FOw_",
    "papermill": {
     "duration": 1.167464,
     "end_time": "2022-06-14T07:30:35.493271",
     "exception": false,
     "start_time": "2022-06-14T07:30:34.325807",
     "status": "completed"
    },
    "tags": []
   },
   "outputs": [
    {
     "name": "stdout",
     "output_type": "stream",
     "text": [
      "input_dim :  4 , output classes :  3\n",
      "Model: \"sequential\"\n",
      "_________________________________________________________________\n",
      "Layer (type)                 Output Shape              Param #   \n",
      "=================================================================\n",
      "dense (Dense)                (None, 8)                 40        \n",
      "_________________________________________________________________\n",
      "dense_1 (Dense)              (None, 16)                144       \n",
      "_________________________________________________________________\n",
      "dense_2 (Dense)              (None, 3)                 51        \n",
      "=================================================================\n",
      "Total params: 235\n",
      "Trainable params: 235\n",
      "Non-trainable params: 0\n",
      "_________________________________________________________________\n",
      "None\n"
     ]
    },
    {
     "name": "stderr",
     "output_type": "stream",
     "text": [
      "2022-06-14 07:30:34.381320: I tensorflow/core/common_runtime/process_util.cc:146] Creating new thread pool with default inter op setting: 2. Tune using inter_op_parallelism_threads for best performance.\n"
     ]
    },
    {
     "data": {
      "image/png": "[encoded data removed]",
      "text/plain": [
       "<IPython.core.display.Image object>"
      ]
     },
     "execution_count": 7,
     "metadata": {},
     "output_type": "execute_result"
    }
   ],
   "source": [
    "input_dim = len(input_columns)\n",
    "output_clases = 3 \n",
    "print (\"input_dim : \", input_dim, \", output classes : \", output_clases)\n",
    "\n",
    "## TODO : construct the network\n",
    "##     - number of neurons for 'intput_layer' = input_dim\n",
    "##     - number of neurons for 'hidden_1' layer = 8  (start with 8 for now)\n",
    "##     - number of neurons for 'output_layer' = output_classes\n",
    "\n",
    "## TODO : set activation functions as follows \n",
    "##     - activation function for both 'ainput_layer' and 'hidden_1' = tf.nn.relu\n",
    "##     - activation function for final 'output_layer' = tf.nn.softmax\n",
    "model = tf.keras.Sequential([\n",
    "            tf.keras.layers.Dense(units=8, activation='relu', input_dim=input_dim),\n",
    "            tf.keras.layers.Dense(units=16, activation='relu'), #tf.keras.layers.Dense(units=4, activation='relu'),\n",
    "            tf.keras.layers.Dense(units=output_clases,  activation='softmax') # softmax for 3 classes, can use sigmoid for binary\n",
    "            ])\n",
    "\n",
    "# loss = 'sparse_categorical_crossentropy'  or 'categorical_crossentropy'\n",
    "model.compile(loss='sparse_categorical_crossentropy', \n",
    "                 optimizer=tf.keras.optimizers.Adam(), # or 'adam', \n",
    "                 metrics=['accuracy'])\n",
    "\n",
    "print (model.summary())\n",
    "tf.keras.utils.plot_model(model, to_file='model.png', show_shapes=True)"
   ]
  },
  {
   "cell_type": "markdown",
   "id": "1c8c4839",
   "metadata": {
    "id": "l8VrjPreFOxA",
    "papermill": {
     "duration": 0.009724,
     "end_time": "2022-06-14T07:30:35.513319",
     "exception": false,
     "start_time": "2022-06-14T07:30:35.503595",
     "status": "completed"
    },
    "tags": []
   },
   "source": [
    "## Step 5 : Tensorboard"
   ]
  },
  {
   "cell_type": "code",
   "execution_count": 8,
   "id": "077d4de5",
   "metadata": {
    "execution": {
     "iopub.execute_input": "2022-06-14T07:30:35.535486Z",
     "iopub.status.busy": "2022-06-14T07:30:35.535052Z",
     "iopub.status.idle": "2022-06-14T07:30:40.089612Z",
     "shell.execute_reply": "2022-06-14T07:30:40.088787Z"
    },
    "id": "ivx2ObmcFOxA",
    "papermill": {
     "duration": 4.567969,
     "end_time": "2022-06-14T07:30:40.091386",
     "exception": false,
     "start_time": "2022-06-14T07:30:35.523417",
     "status": "completed"
    },
    "tags": []
   },
   "outputs": [
    {
     "name": "stdout",
     "output_type": "stream",
     "text": [
      "Saving TB logs to :  /tmp/tensorboard-logs/classification-iris/07-30-35\n"
     ]
    },
    {
     "name": "stderr",
     "output_type": "stream",
     "text": [
      "2022-06-14 07:30:35.547734: I tensorflow/core/profiler/lib/profiler_session.cc:131] Profiler session initializing.\n",
      "2022-06-14 07:30:35.548105: I tensorflow/core/profiler/lib/profiler_session.cc:146] Profiler session started.\n",
      "2022-06-14 07:30:35.549291: I tensorflow/core/profiler/lib/profiler_session.cc:164] Profiler session tear down.\n"
     ]
    },
    {
     "data": {
      "text/html": [
       "\n",
       "      <iframe id=\"tensorboard-frame-259b24037fe52e9a\" width=\"100%\" height=\"800\" frameborder=\"0\">\n",
       "      </iframe>\n",
       "      <script>\n",
       "        (function() {\n",
       "          const frame = document.getElementById(\"tensorboard-frame-259b24037fe52e9a\");\n",
       "          const url = new URL(\"/\", window.location);\n",
       "          const port = 6006;\n",
       "          if (port) {\n",
       "            url.port = port;\n",
       "          }\n",
       "          frame.src = url;\n",
       "        })();\n",
       "      </script>\n",
       "    "
      ],
      "text/plain": [
       "<IPython.core.display.HTML object>"
      ]
     },
     "metadata": {},
     "output_type": "display_data"
    }
   ],
   "source": [
    "## This is fairly boiler plate code\n",
    "\n",
    "import datetime\n",
    "import os\n",
    "import shutil\n",
    "\n",
    "app_name = 'classification-iris'\n",
    "\n",
    "# timestamp  = datetime.datetime.now().strftime(\"%Y-%m-%d--%H-%M-%S\")\n",
    "\n",
    "tb_top_level_dir= '/tmp/tensorboard-logs'\n",
    "\n",
    "tb_app_dir = os.path.join (tb_top_level_dir, app_name)\n",
    "\n",
    "tb_logs_dir = os.path.join (tb_app_dir, datetime.datetime.now().strftime(\"%H-%M-%S\"))\n",
    "\n",
    "\n",
    "print (\"Saving TB logs to : \" , tb_logs_dir)\n",
    "\n",
    "#clear out old logs\n",
    "shutil.rmtree ( tb_app_dir, ignore_errors=True )\n",
    "\n",
    "tensorboard_callback = tf.keras.callbacks.TensorBoard(log_dir=tb_logs_dir, write_graph=True, \n",
    "                                                      write_images=True, histogram_freq=1)\n",
    "\n",
    "## This will embed Tensorboard right here in jupyter!\n",
    "%load_ext tensorboard\n",
    "%tensorboard --logdir $tb_logs_dir"
   ]
  },
  {
   "cell_type": "markdown",
   "id": "72ea793c",
   "metadata": {
    "id": "kndJr0nwFOxB",
    "papermill": {
     "duration": 0.009911,
     "end_time": "2022-06-14T07:30:40.111718",
     "exception": false,
     "start_time": "2022-06-14T07:30:40.101807",
     "status": "completed"
    },
    "tags": []
   },
   "source": [
    "## Step 6 : Train"
   ]
  },
  {
   "cell_type": "code",
   "execution_count": 9,
   "id": "1cd23527",
   "metadata": {
    "execution": {
     "iopub.execute_input": "2022-06-14T07:30:40.133553Z",
     "iopub.status.busy": "2022-06-14T07:30:40.132959Z",
     "iopub.status.idle": "2022-06-14T07:30:49.252497Z",
     "shell.execute_reply": "2022-06-14T07:30:49.251206Z"
    },
    "id": "7h0zidTeFOxB",
    "papermill": {
     "duration": 9.133377,
     "end_time": "2022-06-14T07:30:49.255068",
     "exception": false,
     "start_time": "2022-06-14T07:30:40.121691",
     "status": "completed"
    },
    "tags": []
   },
   "outputs": [
    {
     "name": "stdout",
     "output_type": "stream",
     "text": [
      "training starting ...\n",
      "Epoch 1/100\n"
     ]
    },
    {
     "name": "stderr",
     "output_type": "stream",
     "text": [
      "2022-06-14 07:30:40.232055: I tensorflow/compiler/mlir/mlir_graph_optimization_pass.cc:185] None of the MLIR Optimization Passes are enabled (registered 2)\n"
     ]
    },
    {
     "name": "stdout",
     "output_type": "stream",
     "text": [
      "1/3 [=========>....................] - ETA: 1s - loss: 1.9049 - accuracy: 0.2188"
     ]
    },
    {
     "name": "stderr",
     "output_type": "stream",
     "text": [
      "2022-06-14 07:30:40.843941: I tensorflow/core/profiler/lib/profiler_session.cc:131] Profiler session initializing.\n",
      "2022-06-14 07:30:40.844179: I tensorflow/core/profiler/lib/profiler_session.cc:146] Profiler session started.\n",
      "2022-06-14 07:30:40.848684: I tensorflow/core/profiler/lib/profiler_session.cc:66] Profiler session collecting data.\n",
      "2022-06-14 07:30:40.853079: I tensorflow/core/profiler/lib/profiler_session.cc:164] Profiler session tear down.\n",
      "2022-06-14 07:30:40.864111: I tensorflow/core/profiler/rpc/client/save_profile.cc:136] Creating directory: /tmp/tensorboard-logs/classification-iris/07-30-35/train/plugins/profile/2022_06_14_07_30_40\n",
      "\n",
      "2022-06-14 07:30:40.865088: I tensorflow/core/profiler/rpc/client/save_profile.cc:142] Dumped gzipped tool data for trace.json.gz to /tmp/tensorboard-logs/classification-iris/07-30-35/train/plugins/profile/2022_06_14_07_30_40/f7bf321f3035.trace.json.gz\n",
      "2022-06-14 07:30:40.875879: I tensorflow/core/profiler/rpc/client/save_profile.cc:136] Creating directory: /tmp/tensorboard-logs/classification-iris/07-30-35/train/plugins/profile/2022_06_14_07_30_40\n",
      "\n",
      "2022-06-14 07:30:40.876243: I tensorflow/core/profiler/rpc/client/save_profile.cc:142] Dumped gzipped tool data for memory_profile.json.gz to /tmp/tensorboard-logs/classification-iris/07-30-35/train/plugins/profile/2022_06_14_07_30_40/f7bf321f3035.memory_profile.json.gz\n",
      "2022-06-14 07:30:40.876688: I tensorflow/core/profiler/rpc/client/capture_profile.cc:251] Creating directory: /tmp/tensorboard-logs/classification-iris/07-30-35/train/plugins/profile/2022_06_14_07_30_40\n",
      "Dumped tool data for xplane.pb to /tmp/tensorboard-logs/classification-iris/07-30-35/train/plugins/profile/2022_06_14_07_30_40/f7bf321f3035.xplane.pb\n",
      "Dumped tool data for overview_page.pb to /tmp/tensorboard-logs/classification-iris/07-30-35/train/plugins/profile/2022_06_14_07_30_40/f7bf321f3035.overview_page.pb\n",
      "Dumped tool data for input_pipeline.pb to /tmp/tensorboard-logs/classification-iris/07-30-35/train/plugins/profile/2022_06_14_07_30_40/f7bf321f3035.input_pipeline.pb\n",
      "Dumped tool data for tensorflow_stats.pb to /tmp/tensorboard-logs/classification-iris/07-30-35/train/plugins/profile/2022_06_14_07_30_40/f7bf321f3035.tensorflow_stats.pb\n",
      "Dumped tool data for kernel_stats.pb to /tmp/tensorboard-logs/classification-iris/07-30-35/train/plugins/profile/2022_06_14_07_30_40/f7bf321f3035.kernel_stats.pb\n",
      "\n"
     ]
    },
    {
     "name": "stdout",
     "output_type": "stream",
     "text": [
      "3/3 [==============================] - 1s 143ms/step - loss: 1.6977 - accuracy: 0.2708 - val_loss: 1.2580 - val_accuracy: 0.4583\n",
      "Epoch 2/100\n",
      "3/3 [==============================] - 0s 17ms/step - loss: 1.5950 - accuracy: 0.2708 - val_loss: 1.2004 - val_accuracy: 0.4583\n",
      "Epoch 3/100\n",
      "3/3 [==============================] - 0s 18ms/step - loss: 1.5036 - accuracy: 0.2708 - val_loss: 1.1530 - val_accuracy: 0.4583\n",
      "Epoch 4/100\n",
      "3/3 [==============================] - 0s 18ms/step - loss: 1.4165 - accuracy: 0.2708 - val_loss: 1.1155 - val_accuracy: 0.4583\n",
      "Epoch 5/100\n",
      "3/3 [==============================] - 0s 19ms/step - loss: 1.3467 - accuracy: 0.2708 - val_loss: 1.0864 - val_accuracy: 0.4583\n",
      "Epoch 6/100\n",
      "3/3 [==============================] - 0s 18ms/step - loss: 1.2879 - accuracy: 0.2708 - val_loss: 1.0649 - val_accuracy: 0.6250\n",
      "Epoch 7/100\n",
      "3/3 [==============================] - 0s 18ms/step - loss: 1.2365 - accuracy: 0.4583 - val_loss: 1.0495 - val_accuracy: 0.7083\n",
      "Epoch 8/100\n",
      "3/3 [==============================] - 0s 19ms/step - loss: 1.1938 - accuracy: 0.5312 - val_loss: 1.0391 - val_accuracy: 0.5417\n",
      "Epoch 9/100\n",
      "3/3 [==============================] - 0s 18ms/step - loss: 1.1584 - accuracy: 0.4062 - val_loss: 1.0313 - val_accuracy: 0.3333\n",
      "Epoch 10/100\n",
      "3/3 [==============================] - 0s 17ms/step - loss: 1.1263 - accuracy: 0.3854 - val_loss: 1.0245 - val_accuracy: 0.2917\n",
      "Epoch 11/100\n",
      "3/3 [==============================] - 0s 18ms/step - loss: 1.0939 - accuracy: 0.3854 - val_loss: 1.0182 - val_accuracy: 0.2917\n",
      "Epoch 12/100\n",
      "3/3 [==============================] - 0s 18ms/step - loss: 1.0708 - accuracy: 0.3854 - val_loss: 1.0117 - val_accuracy: 0.2917\n",
      "Epoch 13/100\n",
      "3/3 [==============================] - 0s 18ms/step - loss: 1.0483 - accuracy: 0.3854 - val_loss: 1.0051 - val_accuracy: 0.2917\n",
      "Epoch 14/100\n",
      "3/3 [==============================] - 0s 17ms/step - loss: 1.0269 - accuracy: 0.3854 - val_loss: 0.9975 - val_accuracy: 0.2917\n",
      "Epoch 15/100\n",
      "3/3 [==============================] - 0s 31ms/step - loss: 1.0085 - accuracy: 0.3854 - val_loss: 0.9900 - val_accuracy: 0.2917\n",
      "Epoch 16/100\n",
      "3/3 [==============================] - 0s 27ms/step - loss: 0.9894 - accuracy: 0.3854 - val_loss: 0.9819 - val_accuracy: 0.2917\n",
      "Epoch 17/100\n",
      "3/3 [==============================] - 0s 29ms/step - loss: 0.9729 - accuracy: 0.3854 - val_loss: 0.9733 - val_accuracy: 0.2917\n",
      "Epoch 18/100\n",
      "3/3 [==============================] - 0s 32ms/step - loss: 0.9588 - accuracy: 0.3854 - val_loss: 0.9655 - val_accuracy: 0.2917\n",
      "Epoch 19/100\n",
      "3/3 [==============================] - 0s 26ms/step - loss: 0.9456 - accuracy: 0.3854 - val_loss: 0.9578 - val_accuracy: 0.2917\n",
      "Epoch 20/100\n",
      "3/3 [==============================] - 0s 21ms/step - loss: 0.9333 - accuracy: 0.3854 - val_loss: 0.9503 - val_accuracy: 0.2917\n",
      "Epoch 21/100\n",
      "3/3 [==============================] - 0s 21ms/step - loss: 0.9200 - accuracy: 0.3854 - val_loss: 0.9443 - val_accuracy: 0.2917\n",
      "Epoch 22/100\n",
      "3/3 [==============================] - 0s 27ms/step - loss: 0.9098 - accuracy: 0.3854 - val_loss: 0.9374 - val_accuracy: 0.2917\n",
      "Epoch 23/100\n",
      "3/3 [==============================] - 0s 18ms/step - loss: 0.8979 - accuracy: 0.3854 - val_loss: 0.9306 - val_accuracy: 0.2917\n",
      "Epoch 24/100\n",
      "3/3 [==============================] - 0s 17ms/step - loss: 0.8870 - accuracy: 0.3854 - val_loss: 0.9238 - val_accuracy: 0.2917\n",
      "Epoch 25/100\n",
      "3/3 [==============================] - 0s 17ms/step - loss: 0.8750 - accuracy: 0.3854 - val_loss: 0.9155 - val_accuracy: 0.2917\n",
      "Epoch 26/100\n",
      "3/3 [==============================] - 0s 17ms/step - loss: 0.8636 - accuracy: 0.3854 - val_loss: 0.9077 - val_accuracy: 0.2917\n",
      "Epoch 27/100\n",
      "3/3 [==============================] - 0s 17ms/step - loss: 0.8511 - accuracy: 0.3854 - val_loss: 0.8979 - val_accuracy: 0.2917\n",
      "Epoch 28/100\n",
      "3/3 [==============================] - 0s 17ms/step - loss: 0.8370 - accuracy: 0.3958 - val_loss: 0.8862 - val_accuracy: 0.2917\n",
      "Epoch 29/100\n",
      "3/3 [==============================] - 0s 16ms/step - loss: 0.8217 - accuracy: 0.4583 - val_loss: 0.8741 - val_accuracy: 0.4583\n",
      "Epoch 30/100\n",
      "3/3 [==============================] - 0s 17ms/step - loss: 0.8055 - accuracy: 0.6667 - val_loss: 0.8606 - val_accuracy: 0.5417\n",
      "Epoch 31/100\n",
      "3/3 [==============================] - 0s 17ms/step - loss: 0.7898 - accuracy: 0.6979 - val_loss: 0.8478 - val_accuracy: 0.5417\n",
      "Epoch 32/100\n",
      "3/3 [==============================] - 0s 17ms/step - loss: 0.7742 - accuracy: 0.7083 - val_loss: 0.8372 - val_accuracy: 0.5417\n",
      "Epoch 33/100\n",
      "3/3 [==============================] - 0s 17ms/step - loss: 0.7634 - accuracy: 0.7083 - val_loss: 0.8274 - val_accuracy: 0.5417\n",
      "Epoch 34/100\n",
      "3/3 [==============================] - 0s 18ms/step - loss: 0.7542 - accuracy: 0.7188 - val_loss: 0.8174 - val_accuracy: 0.5417\n",
      "Epoch 35/100\n",
      "3/3 [==============================] - 0s 17ms/step - loss: 0.7446 - accuracy: 0.7188 - val_loss: 0.8075 - val_accuracy: 0.5417\n",
      "Epoch 36/100\n",
      "3/3 [==============================] - 0s 18ms/step - loss: 0.7341 - accuracy: 0.7292 - val_loss: 0.7991 - val_accuracy: 0.5417\n",
      "Epoch 37/100\n",
      "3/3 [==============================] - 0s 17ms/step - loss: 0.7245 - accuracy: 0.7292 - val_loss: 0.7906 - val_accuracy: 0.5417\n",
      "Epoch 38/100\n",
      "3/3 [==============================] - 0s 18ms/step - loss: 0.7160 - accuracy: 0.7292 - val_loss: 0.7830 - val_accuracy: 0.5417\n",
      "Epoch 39/100\n",
      "3/3 [==============================] - 0s 17ms/step - loss: 0.7070 - accuracy: 0.7292 - val_loss: 0.7744 - val_accuracy: 0.5417\n",
      "Epoch 40/100\n",
      "3/3 [==============================] - 0s 17ms/step - loss: 0.6975 - accuracy: 0.7292 - val_loss: 0.7676 - val_accuracy: 0.5417\n",
      "Epoch 41/100\n",
      "3/3 [==============================] - 0s 16ms/step - loss: 0.6881 - accuracy: 0.7292 - val_loss: 0.7599 - val_accuracy: 0.5417\n",
      "Epoch 42/100\n",
      "3/3 [==============================] - 0s 17ms/step - loss: 0.6792 - accuracy: 0.7292 - val_loss: 0.7526 - val_accuracy: 0.5417\n",
      "Epoch 43/100\n",
      "3/3 [==============================] - 0s 17ms/step - loss: 0.6689 - accuracy: 0.7292 - val_loss: 0.7435 - val_accuracy: 0.5417\n",
      "Epoch 44/100\n",
      "3/3 [==============================] - 0s 16ms/step - loss: 0.6565 - accuracy: 0.7292 - val_loss: 0.7332 - val_accuracy: 0.5417\n",
      "Epoch 45/100\n",
      "3/3 [==============================] - 0s 16ms/step - loss: 0.6435 - accuracy: 0.7292 - val_loss: 0.7220 - val_accuracy: 0.5417\n",
      "Epoch 46/100\n",
      "3/3 [==============================] - 0s 17ms/step - loss: 0.6290 - accuracy: 0.7292 - val_loss: 0.7089 - val_accuracy: 0.5417\n",
      "Epoch 47/100\n",
      "3/3 [==============================] - 0s 18ms/step - loss: 0.6156 - accuracy: 0.7292 - val_loss: 0.6969 - val_accuracy: 0.5417\n",
      "Epoch 48/100\n",
      "3/3 [==============================] - 0s 17ms/step - loss: 0.6017 - accuracy: 0.7292 - val_loss: 0.6870 - val_accuracy: 0.5417\n",
      "Epoch 49/100\n",
      "3/3 [==============================] - 0s 18ms/step - loss: 0.5888 - accuracy: 0.7292 - val_loss: 0.6740 - val_accuracy: 0.5417\n",
      "Epoch 50/100\n",
      "3/3 [==============================] - 0s 17ms/step - loss: 0.5755 - accuracy: 0.7292 - val_loss: 0.6622 - val_accuracy: 0.5417\n",
      "Epoch 51/100\n",
      "3/3 [==============================] - 0s 23ms/step - loss: 0.5628 - accuracy: 0.7292 - val_loss: 0.6530 - val_accuracy: 0.5417\n",
      "Epoch 52/100\n",
      "3/3 [==============================] - 0s 18ms/step - loss: 0.5521 - accuracy: 0.7292 - val_loss: 0.6484 - val_accuracy: 0.5417\n",
      "Epoch 53/100\n",
      "3/3 [==============================] - 0s 17ms/step - loss: 0.5436 - accuracy: 0.7292 - val_loss: 0.6447 - val_accuracy: 0.5417\n",
      "Epoch 54/100\n",
      "3/3 [==============================] - 0s 17ms/step - loss: 0.5357 - accuracy: 0.7292 - val_loss: 0.6403 - val_accuracy: 0.5417\n",
      "Epoch 55/100\n",
      "3/3 [==============================] - 0s 17ms/step - loss: 0.5275 - accuracy: 0.7292 - val_loss: 0.6345 - val_accuracy: 0.5417\n",
      "Epoch 56/100\n",
      "3/3 [==============================] - 0s 24ms/step - loss: 0.5201 - accuracy: 0.7292 - val_loss: 0.6250 - val_accuracy: 0.5417\n",
      "Epoch 57/100\n",
      "3/3 [==============================] - 0s 18ms/step - loss: 0.5124 - accuracy: 0.7292 - val_loss: 0.6161 - val_accuracy: 0.5417\n",
      "Epoch 58/100\n",
      "3/3 [==============================] - 0s 18ms/step - loss: 0.5047 - accuracy: 0.7292 - val_loss: 0.6115 - val_accuracy: 0.5417\n",
      "Epoch 59/100\n",
      "3/3 [==============================] - 0s 19ms/step - loss: 0.4971 - accuracy: 0.7292 - val_loss: 0.6034 - val_accuracy: 0.5417\n",
      "Epoch 60/100\n",
      "3/3 [==============================] - 0s 19ms/step - loss: 0.4901 - accuracy: 0.7292 - val_loss: 0.5969 - val_accuracy: 0.5417\n",
      "Epoch 61/100\n",
      "3/3 [==============================] - 0s 18ms/step - loss: 0.4836 - accuracy: 0.7292 - val_loss: 0.5903 - val_accuracy: 0.5417\n",
      "Epoch 62/100\n",
      "3/3 [==============================] - 0s 18ms/step - loss: 0.4775 - accuracy: 0.7292 - val_loss: 0.5835 - val_accuracy: 0.5417\n",
      "Epoch 63/100\n",
      "3/3 [==============================] - 0s 18ms/step - loss: 0.4713 - accuracy: 0.7292 - val_loss: 0.5763 - val_accuracy: 0.5417\n",
      "Epoch 64/100\n",
      "3/3 [==============================] - 0s 18ms/step - loss: 0.4656 - accuracy: 0.7292 - val_loss: 0.5693 - val_accuracy: 0.5833\n",
      "Epoch 65/100\n",
      "3/3 [==============================] - 0s 19ms/step - loss: 0.4597 - accuracy: 0.7292 - val_loss: 0.5636 - val_accuracy: 0.5833\n",
      "Epoch 66/100\n",
      "3/3 [==============================] - 0s 18ms/step - loss: 0.4545 - accuracy: 0.7292 - val_loss: 0.5583 - val_accuracy: 0.5833\n",
      "Epoch 67/100\n",
      "3/3 [==============================] - 0s 19ms/step - loss: 0.4492 - accuracy: 0.7292 - val_loss: 0.5533 - val_accuracy: 0.5833\n",
      "Epoch 68/100\n",
      "3/3 [==============================] - 0s 19ms/step - loss: 0.4442 - accuracy: 0.7292 - val_loss: 0.5474 - val_accuracy: 0.5833\n",
      "Epoch 69/100\n",
      "3/3 [==============================] - 0s 18ms/step - loss: 0.4396 - accuracy: 0.7292 - val_loss: 0.5411 - val_accuracy: 0.6250\n",
      "Epoch 70/100\n",
      "3/3 [==============================] - 0s 18ms/step - loss: 0.4354 - accuracy: 0.7292 - val_loss: 0.5403 - val_accuracy: 0.5833\n",
      "Epoch 71/100\n",
      "3/3 [==============================] - 0s 19ms/step - loss: 0.4300 - accuracy: 0.7292 - val_loss: 0.5358 - val_accuracy: 0.6250\n",
      "Epoch 72/100\n",
      "3/3 [==============================] - 0s 18ms/step - loss: 0.4255 - accuracy: 0.7292 - val_loss: 0.5307 - val_accuracy: 0.6250\n",
      "Epoch 73/100\n",
      "3/3 [==============================] - 0s 19ms/step - loss: 0.4214 - accuracy: 0.7292 - val_loss: 0.5239 - val_accuracy: 0.6250\n",
      "Epoch 74/100\n",
      "3/3 [==============================] - 0s 18ms/step - loss: 0.4175 - accuracy: 0.7396 - val_loss: 0.5176 - val_accuracy: 0.6667\n",
      "Epoch 75/100\n",
      "3/3 [==============================] - 0s 19ms/step - loss: 0.4133 - accuracy: 0.7396 - val_loss: 0.5155 - val_accuracy: 0.6667\n",
      "Epoch 76/100\n",
      "3/3 [==============================] - 0s 17ms/step - loss: 0.4092 - accuracy: 0.7396 - val_loss: 0.5118 - val_accuracy: 0.6667\n",
      "Epoch 77/100\n",
      "3/3 [==============================] - 0s 18ms/step - loss: 0.4054 - accuracy: 0.7500 - val_loss: 0.5073 - val_accuracy: 0.6667\n",
      "Epoch 78/100\n",
      "3/3 [==============================] - 0s 19ms/step - loss: 0.4018 - accuracy: 0.7500 - val_loss: 0.5034 - val_accuracy: 0.6667\n",
      "Epoch 79/100\n",
      "3/3 [==============================] - 0s 17ms/step - loss: 0.3982 - accuracy: 0.7604 - val_loss: 0.4993 - val_accuracy: 0.7083\n",
      "Epoch 80/100\n",
      "3/3 [==============================] - 0s 18ms/step - loss: 0.3946 - accuracy: 0.7812 - val_loss: 0.4949 - val_accuracy: 0.7083\n",
      "Epoch 81/100\n",
      "3/3 [==============================] - 0s 19ms/step - loss: 0.3911 - accuracy: 0.8125 - val_loss: 0.4894 - val_accuracy: 0.7083\n",
      "Epoch 82/100\n",
      "3/3 [==============================] - 0s 18ms/step - loss: 0.3879 - accuracy: 0.8333 - val_loss: 0.4856 - val_accuracy: 0.7083\n",
      "Epoch 83/100\n",
      "3/3 [==============================] - 0s 19ms/step - loss: 0.3847 - accuracy: 0.8438 - val_loss: 0.4798 - val_accuracy: 0.7500\n",
      "Epoch 84/100\n",
      "3/3 [==============================] - 0s 18ms/step - loss: 0.3814 - accuracy: 0.8438 - val_loss: 0.4764 - val_accuracy: 0.7500\n",
      "Epoch 85/100\n",
      "3/3 [==============================] - 0s 17ms/step - loss: 0.3784 - accuracy: 0.8438 - val_loss: 0.4742 - val_accuracy: 0.7500\n",
      "Epoch 86/100\n",
      "3/3 [==============================] - 0s 18ms/step - loss: 0.3756 - accuracy: 0.8438 - val_loss: 0.4684 - val_accuracy: 0.7500\n",
      "Epoch 87/100\n",
      "3/3 [==============================] - 0s 18ms/step - loss: 0.3724 - accuracy: 0.8438 - val_loss: 0.4669 - val_accuracy: 0.7500\n",
      "Epoch 88/100\n",
      "3/3 [==============================] - 0s 17ms/step - loss: 0.3690 - accuracy: 0.8438 - val_loss: 0.4639 - val_accuracy: 0.7500\n",
      "Epoch 89/100\n",
      "3/3 [==============================] - 0s 17ms/step - loss: 0.3669 - accuracy: 0.8438 - val_loss: 0.4632 - val_accuracy: 0.7500\n",
      "Epoch 90/100\n",
      "3/3 [==============================] - 0s 17ms/step - loss: 0.3634 - accuracy: 0.8438 - val_loss: 0.4575 - val_accuracy: 0.7917\n",
      "Epoch 91/100\n",
      "3/3 [==============================] - 0s 17ms/step - loss: 0.3604 - accuracy: 0.8438 - val_loss: 0.4529 - val_accuracy: 0.7917\n",
      "Epoch 92/100\n",
      "3/3 [==============================] - 0s 18ms/step - loss: 0.3577 - accuracy: 0.8438 - val_loss: 0.4476 - val_accuracy: 0.7917\n",
      "Epoch 93/100\n",
      "3/3 [==============================] - 0s 18ms/step - loss: 0.3554 - accuracy: 0.8438 - val_loss: 0.4452 - val_accuracy: 0.7917\n",
      "Epoch 94/100\n",
      "3/3 [==============================] - 0s 18ms/step - loss: 0.3534 - accuracy: 0.8542 - val_loss: 0.4381 - val_accuracy: 0.7917\n",
      "Epoch 95/100\n",
      "3/3 [==============================] - 0s 18ms/step - loss: 0.3497 - accuracy: 0.8542 - val_loss: 0.4364 - val_accuracy: 0.7917\n",
      "Epoch 96/100\n",
      "3/3 [==============================] - 0s 17ms/step - loss: 0.3469 - accuracy: 0.8542 - val_loss: 0.4346 - val_accuracy: 0.7917\n",
      "Epoch 97/100\n",
      "3/3 [==============================] - 0s 18ms/step - loss: 0.3456 - accuracy: 0.8542 - val_loss: 0.4357 - val_accuracy: 0.7917\n",
      "Epoch 98/100\n",
      "3/3 [==============================] - 0s 17ms/step - loss: 0.3419 - accuracy: 0.8438 - val_loss: 0.4312 - val_accuracy: 0.7917\n",
      "Epoch 99/100\n",
      "3/3 [==============================] - 0s 18ms/step - loss: 0.3394 - accuracy: 0.8542 - val_loss: 0.4267 - val_accuracy: 0.8333\n",
      "Epoch 100/100\n",
      "3/3 [==============================] - 0s 17ms/step - loss: 0.3371 - accuracy: 0.8542 - val_loss: 0.4245 - val_accuracy: 0.8333\n",
      "training done.\n",
      "CPU times: user 8.57 s, sys: 342 ms, total: 8.91 s\n",
      "Wall time: 9.11 s\n"
     ]
    }
   ],
   "source": [
    "%%time\n",
    "\n",
    "## TODO start with 100 epochs\n",
    "epochs = 100\n",
    "\n",
    "print (\"training starting ...\")\n",
    "history = model.fit(\n",
    "              x_train, y_train,\n",
    "              epochs=epochs, validation_split = 0.2, verbose=1,\n",
    "              callbacks=[tensorboard_callback])\n",
    "\n",
    "print (\"training done.\")"
   ]
  },
  {
   "cell_type": "markdown",
   "id": "3feee424",
   "metadata": {
    "id": "_WY_7YouFOxB",
    "papermill": {
     "duration": 0.028153,
     "end_time": "2022-06-14T07:30:49.317805",
     "exception": false,
     "start_time": "2022-06-14T07:30:49.289652",
     "status": "completed"
    },
    "tags": []
   },
   "source": [
    "## Step 7 : Plot History"
   ]
  },
  {
   "cell_type": "code",
   "execution_count": 10,
   "id": "f98fb2e0",
   "metadata": {
    "execution": {
     "iopub.execute_input": "2022-06-14T07:30:49.368554Z",
     "iopub.status.busy": "2022-06-14T07:30:49.368198Z",
     "iopub.status.idle": "2022-06-14T07:30:49.594800Z",
     "shell.execute_reply": "2022-06-14T07:30:49.593894Z"
    },
    "id": "llxD-zUkFOxC",
    "papermill": {
     "duration": 0.25424,
     "end_time": "2022-06-14T07:30:49.597051",
     "exception": false,
     "start_time": "2022-06-14T07:30:49.342811",
     "status": "completed"
    },
    "tags": []
   },
   "outputs": [
    {
     "data": {
      "image/png": "[encoded data removed]",
      "text/plain": [
       "<Figure size 432x288 with 1 Axes>"
      ]
     },
     "metadata": {
      "needs_background": "light"
     },
     "output_type": "display_data"
    }
   ],
   "source": [
    "%matplotlib inline\n",
    "import matplotlib.pyplot as plt\n",
    "\n",
    "plt.plot(history.history['accuracy'], label='train_accuracy')\n",
    "plt.plot(history.history['val_accuracy'], label='val_accuracy')\n",
    "plt.legend()\n",
    "plt.show()"
   ]
  },
  {
   "cell_type": "markdown",
   "id": "d49d821d",
   "metadata": {
    "id": "16fJ64tnFOxC",
    "papermill": {
     "duration": 0.024725,
     "end_time": "2022-06-14T07:30:49.646845",
     "exception": false,
     "start_time": "2022-06-14T07:30:49.622120",
     "status": "completed"
    },
    "tags": []
   },
   "source": [
    "## Step 8 : Predict"
   ]
  },
  {
   "cell_type": "code",
   "execution_count": 11,
   "id": "801e35af",
   "metadata": {
    "execution": {
     "iopub.execute_input": "2022-06-14T07:30:49.698424Z",
     "iopub.status.busy": "2022-06-14T07:30:49.697524Z",
     "iopub.status.idle": "2022-06-14T07:30:49.834365Z",
     "shell.execute_reply": "2022-06-14T07:30:49.833462Z"
    },
    "id": "9_arQNC4FOxC",
    "papermill": {
     "duration": 0.165418,
     "end_time": "2022-06-14T07:30:49.836738",
     "exception": false,
     "start_time": "2022-06-14T07:30:49.671320",
     "status": "completed"
    },
    "tags": []
   },
   "outputs": [
    {
     "data": {
      "text/plain": [
       "array([[ 0.000,  0.166,  0.834],\n",
       "       [ 0.056,  0.578,  0.366],\n",
       "       [ 0.969,  0.025,  0.006],\n",
       "       [ 0.001,  0.250,  0.749],\n",
       "       [ 0.948,  0.040,  0.011],\n",
       "       [ 0.000,  0.117,  0.883],\n",
       "       [ 0.956,  0.034,  0.010],\n",
       "       [ 0.015,  0.495,  0.490],\n",
       "       [ 0.016,  0.504,  0.480],\n",
       "       [ 0.040,  0.546,  0.414],\n",
       "       [ 0.003,  0.275,  0.722],\n",
       "       [ 0.017,  0.490,  0.494],\n",
       "       [ 0.018,  0.464,  0.518],\n",
       "       [ 0.014,  0.477,  0.509],\n",
       "       [ 0.012,  0.427,  0.561],\n",
       "       [ 0.941,  0.046,  0.013],\n",
       "       [ 0.012,  0.428,  0.561],\n",
       "       [ 0.018,  0.428,  0.555],\n",
       "       [ 0.937,  0.049,  0.014],\n",
       "       [ 0.968,  0.026,  0.007],\n",
       "       [ 0.001,  0.224,  0.774],\n",
       "       [ 0.009,  0.376,  0.615],\n",
       "       [ 0.920,  0.062,  0.018],\n",
       "       [ 0.925,  0.057,  0.018],\n",
       "       [ 0.004,  0.343,  0.653],\n",
       "       [ 0.954,  0.035,  0.011],\n",
       "       [ 0.924,  0.059,  0.017],\n",
       "       [ 0.027,  0.526,  0.446],\n",
       "       [ 0.088,  0.531,  0.382],\n",
       "       [ 0.938,  0.048,  0.013]], dtype=float32)"
      ]
     },
     "execution_count": 11,
     "metadata": {},
     "output_type": "execute_result"
    }
   ],
   "source": [
    "np.set_printoptions(formatter={'float': '{: 0.3f}'.format})\n",
    "\n",
    "predictions = model.predict(x_test)\n",
    "predictions"
   ]
  },
  {
   "cell_type": "markdown",
   "id": "f54531e8",
   "metadata": {
    "id": "pV86VYbcFOxD",
    "papermill": {
     "duration": 0.025686,
     "end_time": "2022-06-14T07:30:49.888457",
     "exception": false,
     "start_time": "2022-06-14T07:30:49.862771",
     "status": "completed"
    },
    "tags": []
   },
   "source": [
    "### Understanding Predictions\n",
    "In the above output, for each test input, the softmax layer, produces 3 numbers.  \n",
    "These numbers are probabilities.  If you add them up, you will get 1.0  \n",
    "We want to choose the output that has the highest probability.  \n",
    "\n",
    "For example `(0.03086184, 0.33362046, 0.6355177)` means  \n",
    "- class 1 has prob of 0.03  or 3%\n",
    "- class 2 has prob of 0.33  or 33%\n",
    "- class 3 has prob of 0.63  or 63%\n",
    "\n",
    "So we choose the class with highest probability as prediction : class 3\n",
    "\n",
    "\n",
    "We can get class predictions directly as follows"
   ]
  },
  {
   "cell_type": "code",
   "execution_count": 12,
   "id": "1421bdfe",
   "metadata": {
    "execution": {
     "iopub.execute_input": "2022-06-14T07:30:49.940898Z",
     "iopub.status.busy": "2022-06-14T07:30:49.940560Z",
     "iopub.status.idle": "2022-06-14T07:30:49.945354Z",
     "shell.execute_reply": "2022-06-14T07:30:49.944472Z"
    },
    "id": "wvWNpzOuFOxE",
    "papermill": {
     "duration": 0.034251,
     "end_time": "2022-06-14T07:30:49.948029",
     "exception": false,
     "start_time": "2022-06-14T07:30:49.913778",
     "status": "completed"
    },
    "tags": []
   },
   "outputs": [
    {
     "name": "stdout",
     "output_type": "stream",
     "text": [
      "prediction classes:  [2 1 0 2 0 2 0 1 1 1 2 2 2 2 2 0 2 2 0 0 2 2 0 0 2 0 0 1 1 0]\n"
     ]
    }
   ],
   "source": [
    "## Use 'predict_classes' instead of 'predict'\n",
    "y_pred = np.argmax(predictions, axis=-1)\n",
    "print ('prediction classes: ', y_pred)"
   ]
  },
  {
   "cell_type": "markdown",
   "id": "ed17036a",
   "metadata": {
    "id": "n5B3jcFVFOxE",
    "papermill": {
     "duration": 0.025415,
     "end_time": "2022-06-14T07:30:49.999228",
     "exception": false,
     "start_time": "2022-06-14T07:30:49.973813",
     "status": "completed"
    },
    "tags": []
   },
   "source": [
    "## Step 9 : Evaluate the model\n",
    "\n",
    "### 9.1 - Print out metrics"
   ]
  },
  {
   "cell_type": "code",
   "execution_count": 13,
   "id": "c59cc043",
   "metadata": {
    "execution": {
     "iopub.execute_input": "2022-06-14T07:30:50.051753Z",
     "iopub.status.busy": "2022-06-14T07:30:50.051395Z",
     "iopub.status.idle": "2022-06-14T07:30:50.124848Z",
     "shell.execute_reply": "2022-06-14T07:30:50.123620Z"
    },
    "id": "IVw2R8teFOxE",
    "papermill": {
     "duration": 0.103122,
     "end_time": "2022-06-14T07:30:50.127865",
     "exception": false,
     "start_time": "2022-06-14T07:30:50.024743",
     "status": "completed"
    },
    "tags": []
   },
   "outputs": [
    {
     "name": "stdout",
     "output_type": "stream",
     "text": [
      "model metrics :  ['loss', 'accuracy']\n",
      "Metric : loss = 0.39\n",
      "Metric : accuracy = 0.77\n"
     ]
    }
   ],
   "source": [
    "metric_names = model.metrics_names\n",
    "print (\"model metrics : \" , metric_names)\n",
    "\n",
    "metrics = model.evaluate(x_test, y_test, verbose=0)\n",
    "\n",
    "for idx, metric in enumerate(metric_names):\n",
    "    print (\"Metric : {} = {:,.2f}\".format (metric_names[idx], metrics[idx]))"
   ]
  },
  {
   "cell_type": "markdown",
   "id": "9e61ea90",
   "metadata": {
    "id": "VYTAVnWKFOxE",
    "papermill": {
     "duration": 0.025436,
     "end_time": "2022-06-14T07:30:50.180903",
     "exception": false,
     "start_time": "2022-06-14T07:30:50.155467",
     "status": "completed"
    },
    "tags": []
   },
   "source": [
    "### 9.2 - Confusion Matrix\n",
    "Since this is a classification problem, confusion matrix is very effective way to evaluate our model"
   ]
  },
  {
   "cell_type": "code",
   "execution_count": 14,
   "id": "de98e8b0",
   "metadata": {
    "execution": {
     "iopub.execute_input": "2022-06-14T07:30:50.233229Z",
     "iopub.status.busy": "2022-06-14T07:30:50.232294Z",
     "iopub.status.idle": "2022-06-14T07:30:50.406484Z",
     "shell.execute_reply": "2022-06-14T07:30:50.405475Z"
    },
    "id": "NY6YfGhKFOxF",
    "papermill": {
     "duration": 0.202633,
     "end_time": "2022-06-14T07:30:50.408593",
     "exception": false,
     "start_time": "2022-06-14T07:30:50.205960",
     "status": "completed"
    },
    "tags": []
   },
   "outputs": [
    {
     "data": {
      "text/plain": [
       "array([[11,  0,  0],\n",
       "       [ 0,  6,  7],\n",
       "       [ 0,  0,  6]])"
      ]
     },
     "execution_count": 14,
     "metadata": {},
     "output_type": "execute_result"
    }
   ],
   "source": [
    "## plain confusion matrix \n",
    "\n",
    "from sklearn.metrics import confusion_matrix\n",
    "import seaborn as sns\n",
    "\n",
    "cm = confusion_matrix(y_test, y_pred, labels = [0,1,2])\n",
    "cm\n"
   ]
  },
  {
   "cell_type": "code",
   "execution_count": 15,
   "id": "96abfa62",
   "metadata": {
    "execution": {
     "iopub.execute_input": "2022-06-14T07:30:50.461575Z",
     "iopub.status.busy": "2022-06-14T07:30:50.460663Z",
     "iopub.status.idle": "2022-06-14T07:30:50.683066Z",
     "shell.execute_reply": "2022-06-14T07:30:50.682436Z"
    },
    "id": "PyKEAZpOFOxF",
    "papermill": {
     "duration": 0.251026,
     "end_time": "2022-06-14T07:30:50.684804",
     "exception": false,
     "start_time": "2022-06-14T07:30:50.433778",
     "status": "completed"
    },
    "tags": []
   },
   "outputs": [
    {
     "data": {
      "text/plain": [
       "[]"
      ]
     },
     "execution_count": 15,
     "metadata": {},
     "output_type": "execute_result"
    },
    {
     "data": {
      "image/png": "[encoded data removed]",
      "text/plain": [
       "<Figure size 576x360 with 2 Axes>"
      ]
     },
     "metadata": {
      "needs_background": "light"
     },
     "output_type": "display_data"
    }
   ],
   "source": [
    "import matplotlib.pyplot as plt\n",
    "import seaborn as sns\n",
    "\n",
    "plt.figure(figsize = (8,5))\n",
    "\n",
    "# colormaps : cmap=\"YlGnBu\" , cmap=\"Greens\", cmap=\"Blues\",  cmap=\"Reds\"\n",
    "sns.heatmap(cm, annot=True, cmap=\"Reds\", fmt='d').plot()"
   ]
  },
  {
   "cell_type": "markdown",
   "id": "e00f3445",
   "metadata": {
    "id": "5VSidpzAFOxF",
    "papermill": {
     "duration": 0.025678,
     "end_time": "2022-06-14T07:30:50.736145",
     "exception": false,
     "start_time": "2022-06-14T07:30:50.710467",
     "status": "completed"
    },
    "tags": []
   },
   "source": [
    "### 9.3 - Metrics calculated from Confusion Matrix"
   ]
  },
  {
   "cell_type": "code",
   "execution_count": 16,
   "id": "eb156a4b",
   "metadata": {
    "execution": {
     "iopub.execute_input": "2022-06-14T07:30:50.788561Z",
     "iopub.status.busy": "2022-06-14T07:30:50.787674Z",
     "iopub.status.idle": "2022-06-14T07:30:50.799223Z",
     "shell.execute_reply": "2022-06-14T07:30:50.798000Z"
    },
    "id": "uPa0I69YFOxF",
    "papermill": {
     "duration": 0.040253,
     "end_time": "2022-06-14T07:30:50.801810",
     "exception": false,
     "start_time": "2022-06-14T07:30:50.761557",
     "status": "completed"
    },
    "tags": []
   },
   "outputs": [
    {
     "name": "stdout",
     "output_type": "stream",
     "text": [
      "{'0': {'f1-score': 1.0, 'precision': 1.0, 'recall': 1.0, 'support': 11},\n",
      " '1': {'f1-score': 0.631578947368421,\n",
      "       'precision': 1.0,\n",
      "       'recall': 0.46153846153846156,\n",
      "       'support': 13},\n",
      " '2': {'f1-score': 0.631578947368421,\n",
      "       'precision': 0.46153846153846156,\n",
      "       'recall': 1.0,\n",
      "       'support': 6},\n",
      " 'accuracy': 0.7666666666666667,\n",
      " 'macro avg': {'f1-score': 0.7543859649122807,\n",
      "               'precision': 0.8205128205128206,\n",
      "               'recall': 0.8205128205128206,\n",
      "               'support': 30},\n",
      " 'weighted avg': {'f1-score': 0.7666666666666667,\n",
      "                  'precision': 0.8923076923076924,\n",
      "                  'recall': 0.7666666666666667,\n",
      "                  'support': 30}}\n"
     ]
    }
   ],
   "source": [
    "from sklearn.metrics import classification_report\n",
    "from pprint import pprint\n",
    "\n",
    "pprint(classification_report(y_test, y_pred, output_dict=True))"
   ]
  },
  {
   "cell_type": "markdown",
   "id": "b57f560b",
   "metadata": {
    "id": "BkYWRTwkFOxF",
    "papermill": {
     "duration": 0.025096,
     "end_time": "2022-06-14T07:30:50.853032",
     "exception": false,
     "start_time": "2022-06-14T07:30:50.827936",
     "status": "completed"
    },
    "tags": []
   },
   "source": [
    "### TODO : Intepret confusion matrix\n",
    "Instructor will walk you through the matrix.  \n",
    "Answer these questions\n",
    "- which class is classified correctly mostly\n",
    "- which class is classified incorrectly?"
   ]
  },
  {
   "cell_type": "markdown",
   "id": "c5c0f875",
   "metadata": {
    "id": "POFK7d1VFOxG",
    "papermill": {
     "duration": 0.026141,
     "end_time": "2022-06-14T07:30:50.904738",
     "exception": false,
     "start_time": "2022-06-14T07:30:50.878597",
     "status": "completed"
    },
    "tags": []
   },
   "source": [
    "## Step 10 : Improve the Model\n",
    "\n",
    "Inspect the following\n",
    "- What is the metric 'accuracy' in step 9.1\n",
    "- And verify this with tensorboard (port 6066)\n",
    "\n",
    "Most likely, we didn't get a great accuracy.  \n",
    "How can we improve it?\n",
    "\n",
    "**Try the following ideas** \n",
    "\n",
    "- **Idea-1 : Increase neurons in hidden layer**  \n",
    "  - In Step-4, increase hidden layer neurons from 8 --> 64  \n",
    "  - Click 'Kernel --> Restart and Run all Cells'  \n",
    "  - Hopefully you should see improvement in the accuracy.  \n",
    "  - Check  accuracy metrics / confusion matrix / tensorboard"
   ]
  },
  {
   "cell_type": "markdown",
   "id": "941cdd72",
   "metadata": {
    "id": "rOBFn69dFOxG",
    "papermill": {
     "duration": 0.024854,
     "end_time": "2022-06-14T07:30:50.954913",
     "exception": false,
     "start_time": "2022-06-14T07:30:50.930059",
     "status": "completed"
    },
    "tags": []
   },
   "source": [
    "## Exercise 1 : Mismatched Output Classes\n",
    "\n",
    "In **Step-4**  when defining the network, change the number of neurons in the **final softmax layer to 2**.\n",
    "\n",
    "Re-run this notebook.\n",
    "\n",
    "What kind of error do you get?  This is a good error to remember :-) "
   ]
  },
  {
   "cell_type": "markdown",
   "id": "98b32491",
   "metadata": {
    "id": "MR3QKP92FOxG",
    "papermill": {
     "duration": 0.026189,
     "end_time": "2022-06-14T07:30:51.006654",
     "exception": false,
     "start_time": "2022-06-14T07:30:50.980465",
     "status": "completed"
    },
    "tags": []
   },
   "source": [
    "## Step 11: Compact Code\n",
    "Here is the compact code : [classification-1b-iris-compact.ipynb](classification-1b-iris-compact.ipynb)"
   ]
  },
  {
   "cell_type": "code",
   "execution_count": null,
   "id": "b9bf1116",
   "metadata": {
    "id": "cl9P8RsEFOxH",
    "papermill": {
     "duration": 0.024559,
     "end_time": "2022-06-14T07:30:51.056407",
     "exception": false,
     "start_time": "2022-06-14T07:30:51.031848",
     "status": "completed"
    },
    "tags": []
   },
   "outputs": [],
   "source": []
  }
 ],
 "metadata": {
  "kernelspec": {
   "display_name": "Python 3",
   "language": "python",
   "name": "python3"
  },
  "language_info": {
   "codemirror_mode": {
    "name": "ipython",
    "version": 3
   },
   "file_extension": ".py",
   "mimetype": "text/x-python",
   "name": "python",
   "nbconvert_exporter": "python",
   "pygments_lexer": "ipython3",
   "version": "3.7.12"
  },
  "papermill": {
   "default_parameters": {},
   "duration": 36.388863,
   "end_time": "2022-06-14T07:30:53.702112",
   "environment_variables": {},
   "exception": null,
   "input_path": "__notebook__.ipynb",
   "output_path": "__notebook__.ipynb",
   "parameters": {},
   "start_time": "2022-06-14T07:30:17.313249",
   "version": "2.3.4"
  }
 },
 "nbformat": 4,
 "nbformat_minor": 5
}
