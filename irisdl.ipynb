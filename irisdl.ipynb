{
 "cells": [
  {
   "cell_type": "markdown",
   "id": "f7b60f4a",
   "metadata": {
    "id": "jlxDmuL_FOwe",
    "papermill": {
     "duration": 0.010752,
     "end_time": "2022-06-14T07:27:59.750895",
     "exception": false,
     "start_time": "2022-06-14T07:27:59.740143",
     "status": "completed"
    },
    "tags": []
   },
   "source": [
    "## Deep Neural Network (DNN) Classifier - Iris\n",
    "We will build a relataively simple neuran net to classify IRIS dataset "
   ]
  },
  {
   "cell_type": "markdown",
   "id": "1c60c37d",
   "metadata": {
    "id": "0azN5kvxFOww",
    "papermill": {
     "duration": 0.008493,
     "end_time": "2022-06-14T07:27:59.768590",
     "exception": false,
     "start_time": "2022-06-14T07:27:59.760097",
     "status": "completed"
    },
    "tags": []
   },
   "source": [
    "## Step 1 - About IRIS Dataset\n",
    "\n",
    "Imagine you are a botanist seeking an automated way to categorize each Iris flower you find. Machine learning provides many algorithms to statistically classify flowers. For instance, a sophisticated machine learning program could classify flowers based on photographs. Our ambitions are more modest—we're going to classify Iris flowers based on the length and width measurements of their [sepals](https://en.wikipedia.org/wiki/Sepal) and [petals](https://en.wikipedia.org/wiki/Petal).\n",
    "\n",
    "The Iris genus entails about 300 species, but our program will only classify the following three:\n",
    "\n",
    "* Iris setosa\n",
    "* Iris virginica\n",
    "* Iris versicolor\n",
    "\n",
    "<table>\n",
    "  <tr><td>\n",
    "    <img src=\"https://www.tensorflow.org/images/iris_three_species.jpg\"\n",
    "         alt=\"Petal geometry compared for three iris species: Iris setosa, Iris virginica, and Iris versicolor\">\n",
    "  </td></tr>\n",
    "  <tr><td align=\"center\">\n",
    "    <b>Figure 1.</b> <a href=\"https://commons.wikimedia.org/w/index.php?curid=170298\">Iris setosa</a> (by <a href=\"https://commons.wikimedia.org/wiki/User:Radomil\">Radomil</a>, CC BY-SA 3.0), <a href=\"https://commons.wikimedia.org/w/index.php?curid=248095\">Iris versicolor</a>, (by <a href=\"https://commons.wikimedia.org/wiki/User:Dlanglois\">Dlanglois</a>, CC BY-SA 3.0), and <a href=\"https://www.flickr.com/photos/33397993@N05/3352169862\">Iris virginica</a> (by <a href=\"https://www.flickr.com/photos/33397993@N05\">Frank Mayfield</a>, CC BY-SA 2.0).<br/>&nbsp;\n",
    "  </td></tr>\n",
    "</table>\n",
    "\n",
    "Fortunately, someone has already created a [data set of 120 Iris flowers](https://en.wikipedia.org/wiki/Iris_flower_data_set) with the sepal and p"
   ]
  },
  {
   "cell_type": "code",
   "execution_count": 1,
   "id": "2cec9f9c",
   "metadata": {
    "execution": {
     "iopub.execute_input": "2022-06-14T07:27:59.788202Z",
     "iopub.status.busy": "2022-06-14T07:27:59.787608Z",
     "iopub.status.idle": "2022-06-14T07:27:59.799089Z",
     "shell.execute_reply": "2022-06-14T07:27:59.798369Z"
    },
    "id": "GKREOLDQFOwx",
    "papermill": {
     "duration": 0.024489,
     "end_time": "2022-06-14T07:27:59.801875",
     "exception": false,
     "start_time": "2022-06-14T07:27:59.777386",
     "status": "completed"
    },
    "tags": []
   },
   "outputs": [
    {
     "name": "stdout",
     "output_type": "stream",
     "text": [
      "Running in Google COLAB :  False\n"
     ]
    }
   ],
   "source": [
    "## Determine if we are running on google colab\n",
    "\n",
    "try:\n",
    "    import google.colab\n",
    "    RUNNING_IN_COLAB = True\n",
    "except:\n",
    "    RUNNING_IN_COLAB = False\n",
    "\n",
    "print (\"Running in Google COLAB : \", RUNNING_IN_COLAB)\n"
   ]
  },
  {
   "cell_type": "code",
   "execution_count": 2,
   "id": "da3886c2",
   "metadata": {
    "execution": {
     "iopub.execute_input": "2022-06-14T07:27:59.822076Z",
     "iopub.status.busy": "2022-06-14T07:27:59.821490Z",
     "iopub.status.idle": "2022-06-14T07:28:05.588443Z",
     "shell.execute_reply": "2022-06-14T07:28:05.587374Z"
    },
    "id": "zMYWd4SlFOwy",
    "papermill": {
     "duration": 5.780124,
     "end_time": "2022-06-14T07:28:05.591406",
     "exception": false,
     "start_time": "2022-06-14T07:27:59.811282",
     "status": "completed"
    },
    "tags": []
   },
   "outputs": [],
   "source": [
    "%matplotlib inline\n",
    "import numpy as np\n",
    "import pandas as pd\n",
    "import matplotlib.pyplot as plt\n",
    "\n",
    "try:\n",
    "  # %tensorflow_version only exists in Colab.\n",
    "  %tensorflow_version 2.x\n",
    "except Exception:\n",
    "  pass\n",
    "\n",
    "\n",
    "import tensorflow as tf\n",
    "from tensorflow import keras"
   ]
  },
  {
   "cell_type": "markdown",
   "id": "1f5e6f21",
   "metadata": {
    "id": "FSizEzDKFOwz",
    "papermill": {
     "duration": 0.008887,
     "end_time": "2022-06-14T07:28:05.610641",
     "exception": false,
     "start_time": "2022-06-14T07:28:05.601754",
     "status": "completed"
    },
    "tags": []
   },
   "source": [
    "## Step 2 : Read Data"
   ]
  },
  {
   "cell_type": "code",
   "execution_count": 3,
   "id": "603b996c",
   "metadata": {
    "execution": {
     "iopub.execute_input": "2022-06-14T07:28:05.631604Z",
     "iopub.status.busy": "2022-06-14T07:28:05.630670Z",
     "iopub.status.idle": "2022-06-14T07:28:07.902437Z",
     "shell.execute_reply": "2022-06-14T07:28:07.901416Z"
    },
    "id": "_jb73QyVFOwz",
    "papermill": {
     "duration": 2.284321,
     "end_time": "2022-06-14T07:28:07.904741",
     "exception": false,
     "start_time": "2022-06-14T07:28:05.620420",
     "status": "completed"
    },
    "tags": []
   },
   "outputs": [
    {
     "name": "stdout",
     "output_type": "stream",
     "text": [
      "Downloading data from https://s3.amazonaws.com/elephantscale-public/data/iris/keras/iris.csv\n",
      "16384/4612 [==========================================================================================================] - 0s 0us/step\n"
     ]
    },
    {
     "data": {
      "text/html": [
       "<div>\n",
       "<style scoped>\n",
       "    .dataframe tbody tr th:only-of-type {\n",
       "        vertical-align: middle;\n",
       "    }\n",
       "\n",
       "    .dataframe tbody tr th {\n",
       "        vertical-align: top;\n",
       "    }\n",
       "\n",
       "    .dataframe thead th {\n",
       "        text-align: right;\n",
       "    }\n",
       "</style>\n",
       "<table border=\"1\" class=\"dataframe\">\n",
       "  <thead>\n",
       "    <tr style=\"text-align: right;\">\n",
       "      <th></th>\n",
       "      <th>SepalLengthCm</th>\n",
       "      <th>SepalWidthCm</th>\n",
       "      <th>PetalLengthCm</th>\n",
       "      <th>PetalWidthCm</th>\n",
       "      <th>Species</th>\n",
       "    </tr>\n",
       "  </thead>\n",
       "  <tbody>\n",
       "    <tr>\n",
       "      <th>0</th>\n",
       "      <td>5.1</td>\n",
       "      <td>3.5</td>\n",
       "      <td>1.4</td>\n",
       "      <td>0.2</td>\n",
       "      <td>Iris-setosa</td>\n",
       "    </tr>\n",
       "    <tr>\n",
       "      <th>1</th>\n",
       "      <td>4.9</td>\n",
       "      <td>3.0</td>\n",
       "      <td>1.4</td>\n",
       "      <td>0.2</td>\n",
       "      <td>Iris-setosa</td>\n",
       "    </tr>\n",
       "    <tr>\n",
       "      <th>2</th>\n",
       "      <td>4.7</td>\n",
       "      <td>3.2</td>\n",
       "      <td>1.3</td>\n",
       "      <td>0.2</td>\n",
       "      <td>Iris-setosa</td>\n",
       "    </tr>\n",
       "    <tr>\n",
       "      <th>3</th>\n",
       "      <td>4.6</td>\n",
       "      <td>3.1</td>\n",
       "      <td>1.5</td>\n",
       "      <td>0.2</td>\n",
       "      <td>Iris-setosa</td>\n",
       "    </tr>\n",
       "    <tr>\n",
       "      <th>4</th>\n",
       "      <td>5.0</td>\n",
       "      <td>3.6</td>\n",
       "      <td>1.4</td>\n",
       "      <td>0.2</td>\n",
       "      <td>Iris-setosa</td>\n",
       "    </tr>\n",
       "    <tr>\n",
       "      <th>...</th>\n",
       "      <td>...</td>\n",
       "      <td>...</td>\n",
       "      <td>...</td>\n",
       "      <td>...</td>\n",
       "      <td>...</td>\n",
       "    </tr>\n",
       "    <tr>\n",
       "      <th>145</th>\n",
       "      <td>6.7</td>\n",
       "      <td>3.0</td>\n",
       "      <td>5.2</td>\n",
       "      <td>2.3</td>\n",
       "      <td>Iris-virginica</td>\n",
       "    </tr>\n",
       "    <tr>\n",
       "      <th>146</th>\n",
       "      <td>6.3</td>\n",
       "      <td>2.5</td>\n",
       "      <td>5.0</td>\n",
       "      <td>1.9</td>\n",
       "      <td>Iris-virginica</td>\n",
       "    </tr>\n",
       "    <tr>\n",
       "      <th>147</th>\n",
       "      <td>6.5</td>\n",
       "      <td>3.0</td>\n",
       "      <td>5.2</td>\n",
       "      <td>2.0</td>\n",
       "      <td>Iris-virginica</td>\n",
       "    </tr>\n",
       "    <tr>\n",
       "      <th>148</th>\n",
       "      <td>6.2</td>\n",
       "      <td>3.4</td>\n",
       "      <td>5.4</td>\n",
       "      <td>2.3</td>\n",
       "      <td>Iris-virginica</td>\n",
       "    </tr>\n",
       "    <tr>\n",
       "      <th>149</th>\n",
       "      <td>5.9</td>\n",
       "      <td>3.0</td>\n",
       "      <td>5.1</td>\n",
       "      <td>1.8</td>\n",
       "      <td>Iris-virginica</td>\n",
       "    </tr>\n",
       "  </tbody>\n",
       "</table>\n",
       "<p>150 rows × 5 columns</p>\n",
       "</div>"
      ],
      "text/plain": [
       "     SepalLengthCm  SepalWidthCm  PetalLengthCm  PetalWidthCm         Species\n",
       "0              5.1           3.5            1.4           0.2     Iris-setosa\n",
       "1              4.9           3.0            1.4           0.2     Iris-setosa\n",
       "2              4.7           3.2            1.3           0.2     Iris-setosa\n",
       "3              4.6           3.1            1.5           0.2     Iris-setosa\n",
       "4              5.0           3.6            1.4           0.2     Iris-setosa\n",
       "..             ...           ...            ...           ...             ...\n",
       "145            6.7           3.0            5.2           2.3  Iris-virginica\n",
       "146            6.3           2.5            5.0           1.9  Iris-virginica\n",
       "147            6.5           3.0            5.2           2.0  Iris-virginica\n",
       "148            6.2           3.4            5.4           2.3  Iris-virginica\n",
       "149            5.9           3.0            5.1           1.8  Iris-virginica\n",
       "\n",
       "[150 rows x 5 columns]"
      ]
     },
     "execution_count": 3,
     "metadata": {},
     "output_type": "execute_result"
    }
   ],
   "source": [
    "import os\n",
    "\n",
    "# data_location_local = '../data/iris/keras/iris.csv'\n",
    "\n",
    "data_location = \"https://s3.amazonaws.com/elephantscale-public/data/iris/keras/iris.csv\"\n",
    "data_location_local = keras.utils.get_file(fname=os.path.basename(data_location),\n",
    "                                           origin=data_location)\n",
    "\n",
    "iris = pd.read_csv(data_location_local)\n",
    "\n",
    "iris.columns = ['SepalLengthCm', 'SepalWidthCm', 'PetalLengthCm', 'PetalWidthCm','Species']\n",
    "\n",
    "iris"
   ]
  },
  {
   "cell_type": "markdown",
   "id": "706714ea",
   "metadata": {
    "id": "C9H0yMdMFOw0",
    "papermill": {
     "duration": 0.008889,
     "end_time": "2022-06-14T07:28:07.923050",
     "exception": false,
     "start_time": "2022-06-14T07:28:07.914161",
     "status": "completed"
    },
    "tags": []
   },
   "source": [
    "## Step 3 : Shape Data\n",
    "\n",
    "### 3.1 - Select columns"
   ]
  },
  {
   "cell_type": "code",
   "execution_count": 4,
   "id": "5dd582a0",
   "metadata": {
    "execution": {
     "iopub.execute_input": "2022-06-14T07:28:07.944211Z",
     "iopub.status.busy": "2022-06-14T07:28:07.943764Z",
     "iopub.status.idle": "2022-06-14T07:28:07.963061Z",
     "shell.execute_reply": "2022-06-14T07:28:07.961969Z"
    },
    "id": "hIxTwPwzFOw3",
    "papermill": {
     "duration": 0.032587,
     "end_time": "2022-06-14T07:28:07.965350",
     "exception": false,
     "start_time": "2022-06-14T07:28:07.932763",
     "status": "completed"
    },
    "tags": []
   },
   "outputs": [
    {
     "name": "stdout",
     "output_type": "stream",
     "text": [
      "   SepalLengthCm  SepalWidthCm  PetalLengthCm  PetalWidthCm\n",
      "0            5.1           3.5            1.4           0.2\n",
      "1            4.9           3.0            1.4           0.2\n",
      "2            4.7           3.2            1.3           0.2\n",
      "3            4.6           3.1            1.5           0.2\n",
      "4            5.0           3.6            1.4           0.2\n",
      "-----\n",
      "       Species\n",
      "0  Iris-setosa\n",
      "1  Iris-setosa\n",
      "2  Iris-setosa\n",
      "3  Iris-setosa\n",
      "4  Iris-setosa\n"
     ]
    }
   ],
   "source": [
    "input_columns = ['SepalLengthCm', 'SepalWidthCm', 'PetalLengthCm', 'PetalWidthCm']\n",
    "x = iris [input_columns]\n",
    "y = iris[['Species']]\n",
    "\n",
    "print (x.head())\n",
    "print('-----')\n",
    "print (y.head())"
   ]
  },
  {
   "cell_type": "markdown",
   "id": "b89b9f02",
   "metadata": {
    "id": "jtAWEFjYFOw6",
    "papermill": {
     "duration": 0.00966,
     "end_time": "2022-06-14T07:28:07.985640",
     "exception": false,
     "start_time": "2022-06-14T07:28:07.975980",
     "status": "completed"
    },
    "tags": []
   },
   "source": [
    "### 3.2 - Encode Labels\n",
    "Our output labels are strings like 'Iris-setosa' and 'Iris-virginica' ..etc.  \n",
    "These are called **categorical variables**  \n",
    "We need to change these to numbers  \n",
    "This is called **encoding**"
   ]
  },
  {
   "cell_type": "code",
   "execution_count": 5,
   "id": "8e5c6bf5",
   "metadata": {
    "execution": {
     "iopub.execute_input": "2022-06-14T07:28:08.006858Z",
     "iopub.status.busy": "2022-06-14T07:28:08.006437Z",
     "iopub.status.idle": "2022-06-14T07:28:08.824906Z",
     "shell.execute_reply": "2022-06-14T07:28:08.823493Z"
    },
    "id": "Z0ojZJwKFOw7",
    "papermill": {
     "duration": 0.832075,
     "end_time": "2022-06-14T07:28:08.827329",
     "exception": false,
     "start_time": "2022-06-14T07:28:07.995254",
     "status": "completed"
    },
    "tags": []
   },
   "outputs": [
    {
     "name": "stdout",
     "output_type": "stream",
     "text": [
      "[0 0 0 0 0 0 0 0 0 0 0 0 0 0 0 0 0 0 0 0 0 0 0 0 0 0 0 0 0 0 0 0 0 0 0 0 0\n",
      " 0 0 0 0 0 0 0 0 0 0 0 0 0 1 1 1 1 1 1 1 1 1 1 1 1 1 1 1 1 1 1 1 1 1 1 1 1\n",
      " 1 1 1 1 1 1 1 1 1 1 1 1 1 1 1 1 1 1 1 1 1 1 1 1 1 1 2 2 2 2 2 2 2 2 2 2 2\n",
      " 2 2 2 2 2 2 2 2 2 2 2 2 2 2 2 2 2 2 2 2 2 2 2 2 2 2 2 2 2 2 2 2 2 2 2 2 2\n",
      " 2 2]\n"
     ]
    },
    {
     "name": "stderr",
     "output_type": "stream",
     "text": [
      "/opt/conda/lib/python3.7/site-packages/sklearn/preprocessing/_label.py:115: DataConversionWarning: A column-vector y was passed when a 1d array was expected. Please change the shape of y to (n_samples, ), for example using ravel().\n",
      "  y = column_or_1d(y, warn=True)\n"
     ]
    }
   ],
   "source": [
    "from sklearn.preprocessing import LabelEncoder\n",
    "encoder =  LabelEncoder()\n",
    "y1 = encoder.fit_transform(y.values) ## need y.values which is an array\n",
    "print(y1)"
   ]
  },
  {
   "cell_type": "markdown",
   "id": "dc48cf3e",
   "metadata": {
    "id": "M9VvmuaTFOw9",
    "papermill": {
     "duration": 0.009389,
     "end_time": "2022-06-14T07:28:08.846293",
     "exception": false,
     "start_time": "2022-06-14T07:28:08.836904",
     "status": "completed"
    },
    "tags": []
   },
   "source": [
    "### 3.3 - Create train/test split"
   ]
  },
  {
   "cell_type": "code",
   "execution_count": 6,
   "id": "6a60bfaa",
   "metadata": {
    "execution": {
     "iopub.execute_input": "2022-06-14T07:28:08.867857Z",
     "iopub.status.busy": "2022-06-14T07:28:08.867444Z",
     "iopub.status.idle": "2022-06-14T07:28:08.932190Z",
     "shell.execute_reply": "2022-06-14T07:28:08.930748Z"
    },
    "id": "hqnh5zXTFOw9",
    "papermill": {
     "duration": 0.078039,
     "end_time": "2022-06-14T07:28:08.934490",
     "exception": false,
     "start_time": "2022-06-14T07:28:08.856451",
     "status": "completed"
    },
    "tags": []
   },
   "outputs": [
    {
     "name": "stdout",
     "output_type": "stream",
     "text": [
      "x_train.shape :  (120, 4)\n",
      "y_train.shape :  (120,)\n",
      "x_test.shape :  (30, 4)\n",
      "y_test.shape :  (30,)\n"
     ]
    }
   ],
   "source": [
    "from sklearn.model_selection import train_test_split\n",
    "\n",
    "# supply 'y1' (encoded labels)\n",
    "x_train,x_test, y_train,y_test = train_test_split(x,y1,test_size=0.2,random_state=0) \n",
    "\n",
    "print (\"x_train.shape : \", x_train.shape)\n",
    "print (\"y_train.shape : \", y_train.shape)\n",
    "print (\"x_test.shape : \", x_test.shape)\n",
    "print (\"y_test.shape : \", y_test.shape)"
   ]
  },
  {
   "cell_type": "markdown",
   "id": "72c5d586",
   "metadata": {
    "id": "Sq7qjXJtFOw-",
    "papermill": {
     "duration": 0.009692,
     "end_time": "2022-06-14T07:28:08.954140",
     "exception": false,
     "start_time": "2022-06-14T07:28:08.944448",
     "status": "completed"
    },
    "tags": []
   },
   "source": [
    "## Step 4 : Build the Model\n",
    "Since this is a classifier, here is how we are going to build the neural network\n",
    "- Neurons in Input layer  = input dimensions (4 here)\n",
    "- Neurons in hidden layer = ???\n",
    "- Neurons in Output layer = output classes (3 here)\n",
    "- Output activation is 'softmax'\n",
    "\n",
    "### TODO : Sketch the neural net\n",
    "- What is the input dimensions\n",
    "- how many neurons in layers\n",
    "- how many output neurons\n",
    "\n",
    "<img src=\"../assets/images/neural-net-unknown.png\" style=\"width:40%\"/>"
   ]
  },
  {
   "cell_type": "code",
   "execution_count": 7,
   "id": "3e1a527d",
   "metadata": {
    "execution": {
     "iopub.execute_input": "2022-06-14T07:28:08.975487Z",
     "iopub.status.busy": "2022-06-14T07:28:08.975117Z",
     "iopub.status.idle": "2022-06-14T07:28:10.225432Z",
     "shell.execute_reply": "2022-06-14T07:28:10.221618Z"
    },
    "id": "6NUr6D56FOw_",
    "papermill": {
     "duration": 1.264019,
     "end_time": "2022-06-14T07:28:10.227958",
     "exception": false,
     "start_time": "2022-06-14T07:28:08.963939",
     "status": "completed"
    },
    "tags": []
   },
   "outputs": [
    {
     "name": "stdout",
     "output_type": "stream",
     "text": [
      "input_dim :  4 , output classes :  3\n",
      "Model: \"sequential\"\n",
      "_________________________________________________________________\n",
      "Layer (type)                 Output Shape              Param #   \n",
      "=================================================================\n",
      "dense (Dense)                (None, 8)                 40        \n",
      "_________________________________________________________________\n",
      "dense_1 (Dense)              (None, 4)                 36        \n",
      "_________________________________________________________________\n",
      "dense_2 (Dense)              (None, 3)                 15        \n",
      "=================================================================\n",
      "Total params: 91\n",
      "Trainable params: 91\n",
      "Non-trainable params: 0\n",
      "_________________________________________________________________\n",
      "None\n"
     ]
    },
    {
     "name": "stderr",
     "output_type": "stream",
     "text": [
      "2022-06-14 07:28:09.024169: I tensorflow/core/common_runtime/process_util.cc:146] Creating new thread pool with default inter op setting: 2. Tune using inter_op_parallelism_threads for best performance.\n"
     ]
    },
    {
     "data": {
      "image/png": "[encoded data removed]",
      "text/plain": [
       "<IPython.core.display.Image object>"
      ]
     },
     "execution_count": 7,
     "metadata": {},
     "output_type": "execute_result"
    }
   ],
   "source": [
    "input_dim = len(input_columns)\n",
    "output_clases = 3 \n",
    "print (\"input_dim : \", input_dim, \", output classes : \", output_clases)\n",
    "\n",
    "## TODO : construct the network\n",
    "##     - number of neurons for 'intput_layer' = input_dim\n",
    "##     - number of neurons for 'hidden_1' layer = 8  (start with 8 for now)\n",
    "##     - number of neurons for 'output_layer' = output_classes\n",
    "\n",
    "## TODO : set activation functions as follows \n",
    "##     - activation function for both 'ainput_layer' and 'hidden_1' = tf.nn.relu\n",
    "##     - activation function for final 'output_layer' = tf.nn.softmax\n",
    "model = tf.keras.Sequential([\n",
    "            tf.keras.layers.Dense(units=8, activation='relu', input_dim=input_dim),\n",
    "            tf.keras.layers.Dense(units=4, activation='relu'),\n",
    "            tf.keras.layers.Dense(units=output_clases,  activation='softmax') # softmax for 3 classes, can use sigmoid for binary\n",
    "            ])\n",
    "\n",
    "# loss = 'sparse_categorical_crossentropy'  or 'categorical_crossentropy'\n",
    "model.compile(loss='sparse_categorical_crossentropy', \n",
    "                 optimizer=tf.keras.optimizers.Adam(), # or 'adam', \n",
    "                 metrics=['accuracy'])\n",
    "\n",
    "print (model.summary())\n",
    "tf.keras.utils.plot_model(model, to_file='model.png', show_shapes=True)"
   ]
  },
  {
   "cell_type": "markdown",
   "id": "e7c29f30",
   "metadata": {
    "id": "l8VrjPreFOxA",
    "papermill": {
     "duration": 0.010468,
     "end_time": "2022-06-14T07:28:10.249643",
     "exception": false,
     "start_time": "2022-06-14T07:28:10.239175",
     "status": "completed"
    },
    "tags": []
   },
   "source": [
    "## Step 5 : Tensorboard"
   ]
  },
  {
   "cell_type": "code",
   "execution_count": 8,
   "id": "2a5d6647",
   "metadata": {
    "execution": {
     "iopub.execute_input": "2022-06-14T07:28:10.274039Z",
     "iopub.status.busy": "2022-06-14T07:28:10.273444Z",
     "iopub.status.idle": "2022-06-14T07:28:15.336116Z",
     "shell.execute_reply": "2022-06-14T07:28:15.334794Z"
    },
    "id": "ivx2ObmcFOxA",
    "papermill": {
     "duration": 5.077745,
     "end_time": "2022-06-14T07:28:15.338651",
     "exception": false,
     "start_time": "2022-06-14T07:28:10.260906",
     "status": "completed"
    },
    "tags": []
   },
   "outputs": [
    {
     "name": "stdout",
     "output_type": "stream",
     "text": [
      "Saving TB logs to :  /tmp/tensorboard-logs/classification-iris/07-28-10\n"
     ]
    },
    {
     "name": "stderr",
     "output_type": "stream",
     "text": [
      "2022-06-14 07:28:10.286637: I tensorflow/core/profiler/lib/profiler_session.cc:131] Profiler session initializing.\n",
      "2022-06-14 07:28:10.286963: I tensorflow/core/profiler/lib/profiler_session.cc:146] Profiler session started.\n",
      "2022-06-14 07:28:10.288249: I tensorflow/core/profiler/lib/profiler_session.cc:164] Profiler session tear down.\n"
     ]
    },
    {
     "data": {
      "text/html": [
       "\n",
       "      <iframe id=\"tensorboard-frame-aaa7133aa03ae6b9\" width=\"100%\" height=\"800\" frameborder=\"0\">\n",
       "      </iframe>\n",
       "      <script>\n",
       "        (function() {\n",
       "          const frame = document.getElementById(\"tensorboard-frame-aaa7133aa03ae6b9\");\n",
       "          const url = new URL(\"/\", window.location);\n",
       "          const port = 6006;\n",
       "          if (port) {\n",
       "            url.port = port;\n",
       "          }\n",
       "          frame.src = url;\n",
       "        })();\n",
       "      </script>\n",
       "    "
      ],
      "text/plain": [
       "<IPython.core.display.HTML object>"
      ]
     },
     "metadata": {},
     "output_type": "display_data"
    }
   ],
   "source": [
    "## This is fairly boiler plate code\n",
    "\n",
    "import datetime\n",
    "import os\n",
    "import shutil\n",
    "\n",
    "app_name = 'classification-iris'\n",
    "\n",
    "# timestamp  = datetime.datetime.now().strftime(\"%Y-%m-%d--%H-%M-%S\")\n",
    "\n",
    "tb_top_level_dir= '/tmp/tensorboard-logs'\n",
    "\n",
    "tb_app_dir = os.path.join (tb_top_level_dir, app_name)\n",
    "\n",
    "tb_logs_dir = os.path.join (tb_app_dir, datetime.datetime.now().strftime(\"%H-%M-%S\"))\n",
    "\n",
    "\n",
    "print (\"Saving TB logs to : \" , tb_logs_dir)\n",
    "\n",
    "#clear out old logs\n",
    "shutil.rmtree ( tb_app_dir, ignore_errors=True )\n",
    "\n",
    "tensorboard_callback = tf.keras.callbacks.TensorBoard(log_dir=tb_logs_dir, write_graph=True, \n",
    "                                                      write_images=True, histogram_freq=1)\n",
    "\n",
    "## This will embed Tensorboard right here in jupyter!\n",
    "%load_ext tensorboard\n",
    "%tensorboard --logdir $tb_logs_dir"
   ]
  },
  {
   "cell_type": "markdown",
   "id": "c0a2bf96",
   "metadata": {
    "id": "kndJr0nwFOxB",
    "papermill": {
     "duration": 0.011098,
     "end_time": "2022-06-14T07:28:15.362150",
     "exception": false,
     "start_time": "2022-06-14T07:28:15.351052",
     "status": "completed"
    },
    "tags": []
   },
   "source": [
    "## Step 6 : Train"
   ]
  },
  {
   "cell_type": "code",
   "execution_count": 9,
   "id": "c0d2a4e1",
   "metadata": {
    "execution": {
     "iopub.execute_input": "2022-06-14T07:28:15.385629Z",
     "iopub.status.busy": "2022-06-14T07:28:15.384939Z",
     "iopub.status.idle": "2022-06-14T07:28:25.724210Z",
     "shell.execute_reply": "2022-06-14T07:28:25.722947Z"
    },
    "id": "7h0zidTeFOxB",
    "papermill": {
     "duration": 10.353775,
     "end_time": "2022-06-14T07:28:25.726578",
     "exception": false,
     "start_time": "2022-06-14T07:28:15.372803",
     "status": "completed"
    },
    "tags": []
   },
   "outputs": [
    {
     "name": "stdout",
     "output_type": "stream",
     "text": [
      "training starting ...\n",
      "Epoch 1/100\n"
     ]
    },
    {
     "name": "stderr",
     "output_type": "stream",
     "text": [
      "2022-06-14 07:28:15.505729: I tensorflow/compiler/mlir/mlir_graph_optimization_pass.cc:185] None of the MLIR Optimization Passes are enabled (registered 2)\n"
     ]
    },
    {
     "name": "stdout",
     "output_type": "stream",
     "text": [
      "3/3 [==============================] - ETA: 0s - loss: 3.1237 - accuracy: 0.3438"
     ]
    },
    {
     "name": "stderr",
     "output_type": "stream",
     "text": [
      "2022-06-14 07:28:16.204006: I tensorflow/core/profiler/lib/profiler_session.cc:131] Profiler session initializing.\n",
      "2022-06-14 07:28:16.204280: I tensorflow/core/profiler/lib/profiler_session.cc:146] Profiler session started.\n",
      "2022-06-14 07:28:16.208994: I tensorflow/core/profiler/lib/profiler_session.cc:66] Profiler session collecting data.\n",
      "2022-06-14 07:28:16.214041: I tensorflow/core/profiler/lib/profiler_session.cc:164] Profiler session tear down.\n",
      "2022-06-14 07:28:16.227905: I tensorflow/core/profiler/rpc/client/save_profile.cc:136] Creating directory: /tmp/tensorboard-logs/classification-iris/07-28-10/train/plugins/profile/2022_06_14_07_28_16\n",
      "\n",
      "2022-06-14 07:28:16.229131: I tensorflow/core/profiler/rpc/client/save_profile.cc:142] Dumped gzipped tool data for trace.json.gz to /tmp/tensorboard-logs/classification-iris/07-28-10/train/plugins/profile/2022_06_14_07_28_16/0b7a7e0c46dd.trace.json.gz\n",
      "2022-06-14 07:28:16.242021: I tensorflow/core/profiler/rpc/client/save_profile.cc:136] Creating directory: /tmp/tensorboard-logs/classification-iris/07-28-10/train/plugins/profile/2022_06_14_07_28_16\n",
      "\n",
      "2022-06-14 07:28:16.242295: I tensorflow/core/profiler/rpc/client/save_profile.cc:142] Dumped gzipped tool data for memory_profile.json.gz to /tmp/tensorboard-logs/classification-iris/07-28-10/train/plugins/profile/2022_06_14_07_28_16/0b7a7e0c46dd.memory_profile.json.gz\n",
      "2022-06-14 07:28:16.242659: I tensorflow/core/profiler/rpc/client/capture_profile.cc:251] Creating directory: /tmp/tensorboard-logs/classification-iris/07-28-10/train/plugins/profile/2022_06_14_07_28_16\n",
      "Dumped tool data for xplane.pb to /tmp/tensorboard-logs/classification-iris/07-28-10/train/plugins/profile/2022_06_14_07_28_16/0b7a7e0c46dd.xplane.pb\n",
      "Dumped tool data for overview_page.pb to /tmp/tensorboard-logs/classification-iris/07-28-10/train/plugins/profile/2022_06_14_07_28_16/0b7a7e0c46dd.overview_page.pb\n",
      "Dumped tool data for input_pipeline.pb to /tmp/tensorboard-logs/classification-iris/07-28-10/train/plugins/profile/2022_06_14_07_28_16/0b7a7e0c46dd.input_pipeline.pb\n",
      "Dumped tool data for tensorflow_stats.pb to /tmp/tensorboard-logs/classification-iris/07-28-10/train/plugins/profile/2022_06_14_07_28_16/0b7a7e0c46dd.tensorflow_stats.pb\n",
      "Dumped tool data for kernel_stats.pb to /tmp/tensorboard-logs/classification-iris/07-28-10/train/plugins/profile/2022_06_14_07_28_16/0b7a7e0c46dd.kernel_stats.pb\n",
      "\n"
     ]
    },
    {
     "name": "stdout",
     "output_type": "stream",
     "text": [
      "3/3 [==============================] - 1s 152ms/step - loss: 3.1237 - accuracy: 0.3438 - val_loss: 3.3882 - val_accuracy: 0.2500\n",
      "Epoch 2/100\n",
      "3/3 [==============================] - 0s 20ms/step - loss: 2.9256 - accuracy: 0.3438 - val_loss: 3.1967 - val_accuracy: 0.2500\n",
      "Epoch 3/100\n",
      "3/3 [==============================] - 0s 21ms/step - loss: 2.7440 - accuracy: 0.3438 - val_loss: 3.0098 - val_accuracy: 0.2500\n",
      "Epoch 4/100\n",
      "3/3 [==============================] - 0s 22ms/step - loss: 2.5617 - accuracy: 0.3438 - val_loss: 2.8296 - val_accuracy: 0.2500\n",
      "Epoch 5/100\n",
      "3/3 [==============================] - 0s 22ms/step - loss: 2.3715 - accuracy: 0.3438 - val_loss: 2.6598 - val_accuracy: 0.2500\n",
      "Epoch 6/100\n",
      "3/3 [==============================] - 0s 29ms/step - loss: 2.2113 - accuracy: 0.3438 - val_loss: 2.4977 - val_accuracy: 0.2500\n",
      "Epoch 7/100\n",
      "3/3 [==============================] - 0s 22ms/step - loss: 2.0539 - accuracy: 0.3438 - val_loss: 2.3474 - val_accuracy: 0.2500\n",
      "Epoch 8/100\n",
      "3/3 [==============================] - 0s 20ms/step - loss: 1.9025 - accuracy: 0.3438 - val_loss: 2.2119 - val_accuracy: 0.2500\n",
      "Epoch 9/100\n",
      "3/3 [==============================] - 0s 20ms/step - loss: 1.7753 - accuracy: 0.3438 - val_loss: 2.0912 - val_accuracy: 0.2500\n",
      "Epoch 10/100\n",
      "3/3 [==============================] - 0s 21ms/step - loss: 1.6590 - accuracy: 0.3438 - val_loss: 1.9877 - val_accuracy: 0.2500\n",
      "Epoch 11/100\n",
      "3/3 [==============================] - 0s 21ms/step - loss: 1.5610 - accuracy: 0.3438 - val_loss: 1.9008 - val_accuracy: 0.2500\n",
      "Epoch 12/100\n",
      "3/3 [==============================] - 0s 20ms/step - loss: 1.4867 - accuracy: 0.3438 - val_loss: 1.8295 - val_accuracy: 0.2500\n",
      "Epoch 13/100\n",
      "3/3 [==============================] - 0s 20ms/step - loss: 1.4309 - accuracy: 0.3333 - val_loss: 1.7720 - val_accuracy: 0.2083\n",
      "Epoch 14/100\n",
      "3/3 [==============================] - 0s 21ms/step - loss: 1.3704 - accuracy: 0.2396 - val_loss: 1.7241 - val_accuracy: 0.1667\n",
      "Epoch 15/100\n",
      "3/3 [==============================] - 0s 20ms/step - loss: 1.3310 - accuracy: 0.3021 - val_loss: 1.6814 - val_accuracy: 0.2917\n",
      "Epoch 16/100\n",
      "3/3 [==============================] - 0s 22ms/step - loss: 1.3009 - accuracy: 0.3854 - val_loss: 1.6393 - val_accuracy: 0.2917\n",
      "Epoch 17/100\n",
      "3/3 [==============================] - 0s 20ms/step - loss: 1.2714 - accuracy: 0.3854 - val_loss: 1.5985 - val_accuracy: 0.2917\n",
      "Epoch 18/100\n",
      "3/3 [==============================] - 0s 26ms/step - loss: 1.2486 - accuracy: 0.3854 - val_loss: 1.5553 - val_accuracy: 0.2917\n",
      "Epoch 19/100\n",
      "3/3 [==============================] - 0s 19ms/step - loss: 1.2217 - accuracy: 0.3854 - val_loss: 1.5124 - val_accuracy: 0.2917\n",
      "Epoch 20/100\n",
      "3/3 [==============================] - 0s 20ms/step - loss: 1.1981 - accuracy: 0.3854 - val_loss: 1.4689 - val_accuracy: 0.2917\n",
      "Epoch 21/100\n",
      "3/3 [==============================] - 0s 22ms/step - loss: 1.1742 - accuracy: 0.3854 - val_loss: 1.4263 - val_accuracy: 0.2917\n",
      "Epoch 22/100\n",
      "3/3 [==============================] - 0s 24ms/step - loss: 1.1500 - accuracy: 0.3854 - val_loss: 1.3881 - val_accuracy: 0.2917\n",
      "Epoch 23/100\n",
      "3/3 [==============================] - 0s 22ms/step - loss: 1.1328 - accuracy: 0.3854 - val_loss: 1.3486 - val_accuracy: 0.2917\n",
      "Epoch 24/100\n",
      "3/3 [==============================] - 0s 19ms/step - loss: 1.1138 - accuracy: 0.3958 - val_loss: 1.3117 - val_accuracy: 0.2917\n",
      "Epoch 25/100\n",
      "3/3 [==============================] - 0s 21ms/step - loss: 1.0942 - accuracy: 0.4062 - val_loss: 1.2793 - val_accuracy: 0.2917\n",
      "Epoch 26/100\n",
      "3/3 [==============================] - 0s 21ms/step - loss: 1.0801 - accuracy: 0.4167 - val_loss: 1.2486 - val_accuracy: 0.2917\n",
      "Epoch 27/100\n",
      "3/3 [==============================] - 0s 21ms/step - loss: 1.0652 - accuracy: 0.4479 - val_loss: 1.2217 - val_accuracy: 0.3333\n",
      "Epoch 28/100\n",
      "3/3 [==============================] - 0s 19ms/step - loss: 1.0543 - accuracy: 0.5000 - val_loss: 1.1962 - val_accuracy: 0.3333\n",
      "Epoch 29/100\n",
      "3/3 [==============================] - 0s 20ms/step - loss: 1.0432 - accuracy: 0.5312 - val_loss: 1.1729 - val_accuracy: 0.3750\n",
      "Epoch 30/100\n",
      "3/3 [==============================] - 0s 20ms/step - loss: 1.0351 - accuracy: 0.5417 - val_loss: 1.1510 - val_accuracy: 0.3333\n",
      "Epoch 31/100\n",
      "3/3 [==============================] - 0s 20ms/step - loss: 1.0230 - accuracy: 0.4688 - val_loss: 1.1336 - val_accuracy: 0.2917\n",
      "Epoch 32/100\n",
      "3/3 [==============================] - 0s 21ms/step - loss: 1.0152 - accuracy: 0.4167 - val_loss: 1.1178 - val_accuracy: 0.2917\n",
      "Epoch 33/100\n",
      "3/3 [==============================] - 0s 21ms/step - loss: 1.0071 - accuracy: 0.4062 - val_loss: 1.1041 - val_accuracy: 0.2917\n",
      "Epoch 34/100\n",
      "3/3 [==============================] - 0s 20ms/step - loss: 0.9996 - accuracy: 0.3958 - val_loss: 1.0923 - val_accuracy: 0.2917\n",
      "Epoch 35/100\n",
      "3/3 [==============================] - 0s 21ms/step - loss: 0.9931 - accuracy: 0.3854 - val_loss: 1.0813 - val_accuracy: 0.2917\n",
      "Epoch 36/100\n",
      "3/3 [==============================] - 0s 20ms/step - loss: 0.9865 - accuracy: 0.3854 - val_loss: 1.0720 - val_accuracy: 0.2917\n",
      "Epoch 37/100\n",
      "3/3 [==============================] - 0s 21ms/step - loss: 0.9802 - accuracy: 0.3854 - val_loss: 1.0633 - val_accuracy: 0.2917\n",
      "Epoch 38/100\n",
      "3/3 [==============================] - 0s 21ms/step - loss: 0.9745 - accuracy: 0.3854 - val_loss: 1.0560 - val_accuracy: 0.2917\n",
      "Epoch 39/100\n",
      "3/3 [==============================] - 0s 21ms/step - loss: 0.9687 - accuracy: 0.3854 - val_loss: 1.0484 - val_accuracy: 0.2917\n",
      "Epoch 40/100\n",
      "3/3 [==============================] - 0s 21ms/step - loss: 0.9630 - accuracy: 0.3854 - val_loss: 1.0422 - val_accuracy: 0.2917\n",
      "Epoch 41/100\n",
      "3/3 [==============================] - 0s 20ms/step - loss: 0.9577 - accuracy: 0.3854 - val_loss: 1.0368 - val_accuracy: 0.2917\n",
      "Epoch 42/100\n",
      "3/3 [==============================] - 0s 20ms/step - loss: 0.9524 - accuracy: 0.3854 - val_loss: 1.0300 - val_accuracy: 0.2917\n",
      "Epoch 43/100\n",
      "3/3 [==============================] - 0s 20ms/step - loss: 0.9471 - accuracy: 0.3854 - val_loss: 1.0239 - val_accuracy: 0.2917\n",
      "Epoch 44/100\n",
      "3/3 [==============================] - 0s 20ms/step - loss: 0.9420 - accuracy: 0.3854 - val_loss: 1.0182 - val_accuracy: 0.2917\n",
      "Epoch 45/100\n",
      "3/3 [==============================] - 0s 21ms/step - loss: 0.9371 - accuracy: 0.3854 - val_loss: 1.0124 - val_accuracy: 0.2917\n",
      "Epoch 46/100\n",
      "3/3 [==============================] - 0s 22ms/step - loss: 0.9321 - accuracy: 0.3854 - val_loss: 1.0079 - val_accuracy: 0.2917\n",
      "Epoch 47/100\n",
      "3/3 [==============================] - 0s 20ms/step - loss: 0.9274 - accuracy: 0.3854 - val_loss: 1.0041 - val_accuracy: 0.2917\n",
      "Epoch 48/100\n",
      "3/3 [==============================] - 0s 21ms/step - loss: 0.9225 - accuracy: 0.4062 - val_loss: 0.9996 - val_accuracy: 0.2917\n",
      "Epoch 49/100\n",
      "3/3 [==============================] - 0s 21ms/step - loss: 0.9180 - accuracy: 0.4062 - val_loss: 0.9950 - val_accuracy: 0.2917\n",
      "Epoch 50/100\n",
      "3/3 [==============================] - 0s 19ms/step - loss: 0.9134 - accuracy: 0.4167 - val_loss: 0.9922 - val_accuracy: 0.2917\n",
      "Epoch 51/100\n",
      "3/3 [==============================] - 0s 20ms/step - loss: 0.9088 - accuracy: 0.4167 - val_loss: 0.9874 - val_accuracy: 0.2917\n",
      "Epoch 52/100\n",
      "3/3 [==============================] - 0s 18ms/step - loss: 0.9042 - accuracy: 0.4167 - val_loss: 0.9838 - val_accuracy: 0.2917\n",
      "Epoch 53/100\n",
      "3/3 [==============================] - 0s 19ms/step - loss: 0.8998 - accuracy: 0.4375 - val_loss: 0.9801 - val_accuracy: 0.2917\n",
      "Epoch 54/100\n",
      "3/3 [==============================] - 0s 20ms/step - loss: 0.8955 - accuracy: 0.4688 - val_loss: 0.9769 - val_accuracy: 0.3750\n",
      "Epoch 55/100\n",
      "3/3 [==============================] - 0s 21ms/step - loss: 0.8911 - accuracy: 0.5312 - val_loss: 0.9741 - val_accuracy: 0.3750\n",
      "Epoch 56/100\n",
      "3/3 [==============================] - 0s 20ms/step - loss: 0.8869 - accuracy: 0.5417 - val_loss: 0.9700 - val_accuracy: 0.3750\n",
      "Epoch 57/100\n",
      "3/3 [==============================] - 0s 21ms/step - loss: 0.8834 - accuracy: 0.6042 - val_loss: 0.9675 - val_accuracy: 0.4583\n",
      "Epoch 58/100\n",
      "3/3 [==============================] - 0s 20ms/step - loss: 0.8789 - accuracy: 0.6250 - val_loss: 0.9647 - val_accuracy: 0.4583\n",
      "Epoch 59/100\n",
      "3/3 [==============================] - 0s 20ms/step - loss: 0.8749 - accuracy: 0.6354 - val_loss: 0.9607 - val_accuracy: 0.4583\n",
      "Epoch 60/100\n",
      "3/3 [==============================] - 0s 21ms/step - loss: 0.8711 - accuracy: 0.6562 - val_loss: 0.9567 - val_accuracy: 0.5000\n",
      "Epoch 61/100\n",
      "3/3 [==============================] - 0s 30ms/step - loss: 0.8673 - accuracy: 0.6979 - val_loss: 0.9550 - val_accuracy: 0.5000\n",
      "Epoch 62/100\n",
      "3/3 [==============================] - 0s 20ms/step - loss: 0.8633 - accuracy: 0.7083 - val_loss: 0.9511 - val_accuracy: 0.5000\n",
      "Epoch 63/100\n",
      "3/3 [==============================] - 0s 19ms/step - loss: 0.8595 - accuracy: 0.7188 - val_loss: 0.9492 - val_accuracy: 0.5000\n",
      "Epoch 64/100\n",
      "3/3 [==============================] - 0s 19ms/step - loss: 0.8556 - accuracy: 0.7188 - val_loss: 0.9464 - val_accuracy: 0.5417\n",
      "Epoch 65/100\n",
      "3/3 [==============================] - 0s 19ms/step - loss: 0.8523 - accuracy: 0.7188 - val_loss: 0.9431 - val_accuracy: 0.5417\n",
      "Epoch 66/100\n",
      "3/3 [==============================] - 0s 20ms/step - loss: 0.8480 - accuracy: 0.7188 - val_loss: 0.9403 - val_accuracy: 0.5417\n",
      "Epoch 67/100\n",
      "3/3 [==============================] - 0s 20ms/step - loss: 0.8444 - accuracy: 0.7188 - val_loss: 0.9386 - val_accuracy: 0.5417\n",
      "Epoch 68/100\n",
      "3/3 [==============================] - 0s 20ms/step - loss: 0.8405 - accuracy: 0.7188 - val_loss: 0.9353 - val_accuracy: 0.5417\n",
      "Epoch 69/100\n",
      "3/3 [==============================] - 0s 21ms/step - loss: 0.8368 - accuracy: 0.7188 - val_loss: 0.9329 - val_accuracy: 0.5417\n",
      "Epoch 70/100\n",
      "3/3 [==============================] - 0s 22ms/step - loss: 0.8333 - accuracy: 0.7188 - val_loss: 0.9301 - val_accuracy: 0.5417\n",
      "Epoch 71/100\n",
      "3/3 [==============================] - 0s 20ms/step - loss: 0.8296 - accuracy: 0.7188 - val_loss: 0.9288 - val_accuracy: 0.5417\n",
      "Epoch 72/100\n",
      "3/3 [==============================] - 0s 20ms/step - loss: 0.8259 - accuracy: 0.7188 - val_loss: 0.9254 - val_accuracy: 0.5417\n",
      "Epoch 73/100\n",
      "3/3 [==============================] - 0s 21ms/step - loss: 0.8223 - accuracy: 0.7292 - val_loss: 0.9225 - val_accuracy: 0.5417\n",
      "Epoch 74/100\n",
      "3/3 [==============================] - 0s 21ms/step - loss: 0.8186 - accuracy: 0.7292 - val_loss: 0.9203 - val_accuracy: 0.5417\n",
      "Epoch 75/100\n",
      "3/3 [==============================] - 0s 20ms/step - loss: 0.8150 - accuracy: 0.7292 - val_loss: 0.9182 - val_accuracy: 0.5417\n",
      "Epoch 76/100\n",
      "3/3 [==============================] - 0s 19ms/step - loss: 0.8114 - accuracy: 0.7292 - val_loss: 0.9145 - val_accuracy: 0.5417\n",
      "Epoch 77/100\n",
      "3/3 [==============================] - 0s 20ms/step - loss: 0.8080 - accuracy: 0.7292 - val_loss: 0.9122 - val_accuracy: 0.5417\n",
      "Epoch 78/100\n",
      "3/3 [==============================] - 0s 19ms/step - loss: 0.8043 - accuracy: 0.7292 - val_loss: 0.9087 - val_accuracy: 0.5417\n",
      "Epoch 79/100\n",
      "3/3 [==============================] - 0s 19ms/step - loss: 0.8006 - accuracy: 0.7292 - val_loss: 0.9064 - val_accuracy: 0.5417\n",
      "Epoch 80/100\n",
      "3/3 [==============================] - 0s 21ms/step - loss: 0.7971 - accuracy: 0.7292 - val_loss: 0.9039 - val_accuracy: 0.5417\n",
      "Epoch 81/100\n",
      "3/3 [==============================] - 0s 20ms/step - loss: 0.7936 - accuracy: 0.7292 - val_loss: 0.8997 - val_accuracy: 0.5417\n",
      "Epoch 82/100\n",
      "3/3 [==============================] - 0s 21ms/step - loss: 0.7896 - accuracy: 0.7292 - val_loss: 0.8964 - val_accuracy: 0.5417\n",
      "Epoch 83/100\n",
      "3/3 [==============================] - 0s 20ms/step - loss: 0.7862 - accuracy: 0.7292 - val_loss: 0.8926 - val_accuracy: 0.5417\n",
      "Epoch 84/100\n",
      "3/3 [==============================] - 0s 22ms/step - loss: 0.7825 - accuracy: 0.7292 - val_loss: 0.8894 - val_accuracy: 0.5417\n",
      "Epoch 85/100\n",
      "3/3 [==============================] - 0s 21ms/step - loss: 0.7790 - accuracy: 0.7292 - val_loss: 0.8872 - val_accuracy: 0.5417\n",
      "Epoch 86/100\n",
      "3/3 [==============================] - 0s 20ms/step - loss: 0.7755 - accuracy: 0.7292 - val_loss: 0.8830 - val_accuracy: 0.5417\n",
      "Epoch 87/100\n",
      "3/3 [==============================] - 0s 20ms/step - loss: 0.7719 - accuracy: 0.7292 - val_loss: 0.8814 - val_accuracy: 0.5417\n",
      "Epoch 88/100\n",
      "3/3 [==============================] - 0s 20ms/step - loss: 0.7681 - accuracy: 0.7292 - val_loss: 0.8783 - val_accuracy: 0.5417\n",
      "Epoch 89/100\n",
      "3/3 [==============================] - 0s 21ms/step - loss: 0.7647 - accuracy: 0.7292 - val_loss: 0.8749 - val_accuracy: 0.5417\n",
      "Epoch 90/100\n",
      "3/3 [==============================] - 0s 21ms/step - loss: 0.7612 - accuracy: 0.7292 - val_loss: 0.8730 - val_accuracy: 0.5417\n",
      "Epoch 91/100\n",
      "3/3 [==============================] - 0s 20ms/step - loss: 0.7574 - accuracy: 0.7292 - val_loss: 0.8685 - val_accuracy: 0.5417\n",
      "Epoch 92/100\n",
      "3/3 [==============================] - 0s 20ms/step - loss: 0.7535 - accuracy: 0.7292 - val_loss: 0.8655 - val_accuracy: 0.5417\n",
      "Epoch 93/100\n",
      "3/3 [==============================] - 0s 21ms/step - loss: 0.7500 - accuracy: 0.7292 - val_loss: 0.8627 - val_accuracy: 0.5417\n",
      "Epoch 94/100\n",
      "3/3 [==============================] - 0s 20ms/step - loss: 0.7465 - accuracy: 0.7292 - val_loss: 0.8590 - val_accuracy: 0.5417\n",
      "Epoch 95/100\n",
      "3/3 [==============================] - 0s 21ms/step - loss: 0.7427 - accuracy: 0.7292 - val_loss: 0.8550 - val_accuracy: 0.5417\n",
      "Epoch 96/100\n",
      "3/3 [==============================] - 0s 20ms/step - loss: 0.7393 - accuracy: 0.7292 - val_loss: 0.8520 - val_accuracy: 0.5417\n",
      "Epoch 97/100\n",
      "3/3 [==============================] - 0s 21ms/step - loss: 0.7356 - accuracy: 0.7292 - val_loss: 0.8498 - val_accuracy: 0.5417\n",
      "Epoch 98/100\n",
      "3/3 [==============================] - 0s 21ms/step - loss: 0.7318 - accuracy: 0.7292 - val_loss: 0.8469 - val_accuracy: 0.5417\n",
      "Epoch 99/100\n",
      "3/3 [==============================] - 0s 20ms/step - loss: 0.7282 - accuracy: 0.7292 - val_loss: 0.8438 - val_accuracy: 0.5417\n",
      "Epoch 100/100\n",
      "3/3 [==============================] - 0s 21ms/step - loss: 0.7249 - accuracy: 0.7292 - val_loss: 0.8400 - val_accuracy: 0.5417\n",
      "training done.\n",
      "CPU times: user 9.85 s, sys: 398 ms, total: 10.2 s\n",
      "Wall time: 10.3 s\n"
     ]
    }
   ],
   "source": [
    "%%time\n",
    "\n",
    "## TODO start with 100 epochs\n",
    "epochs = 100\n",
    "\n",
    "print (\"training starting ...\")\n",
    "history = model.fit(\n",
    "              x_train, y_train,\n",
    "              epochs=epochs, validation_split = 0.2, verbose=1,\n",
    "              callbacks=[tensorboard_callback])\n",
    "\n",
    "print (\"training done.\")"
   ]
  },
  {
   "cell_type": "markdown",
   "id": "c12f1133",
   "metadata": {
    "id": "_WY_7YouFOxB",
    "papermill": {
     "duration": 0.024755,
     "end_time": "2022-06-14T07:28:25.776998",
     "exception": false,
     "start_time": "2022-06-14T07:28:25.752243",
     "status": "completed"
    },
    "tags": []
   },
   "source": [
    "## Step 7 : Plot History"
   ]
  },
  {
   "cell_type": "code",
   "execution_count": 10,
   "id": "b93f03db",
   "metadata": {
    "execution": {
     "iopub.execute_input": "2022-06-14T07:28:25.829261Z",
     "iopub.status.busy": "2022-06-14T07:28:25.828818Z",
     "iopub.status.idle": "2022-06-14T07:28:26.060144Z",
     "shell.execute_reply": "2022-06-14T07:28:26.059486Z"
    },
    "id": "llxD-zUkFOxC",
    "papermill": {
     "duration": 0.260014,
     "end_time": "2022-06-14T07:28:26.062115",
     "exception": false,
     "start_time": "2022-06-14T07:28:25.802101",
     "status": "completed"
    },
    "tags": []
   },
   "outputs": [
    {
     "data": {
      "image/png": "[encoded data removed]",
      "text/plain": [
       "<Figure size 432x288 with 1 Axes>"
      ]
     },
     "metadata": {
      "needs_background": "light"
     },
     "output_type": "display_data"
    }
   ],
   "source": [
    "%matplotlib inline\n",
    "import matplotlib.pyplot as plt\n",
    "\n",
    "plt.plot(history.history['accuracy'], label='train_accuracy')\n",
    "plt.plot(history.history['val_accuracy'], label='val_accuracy')\n",
    "plt.legend()\n",
    "plt.show()"
   ]
  },
  {
   "cell_type": "markdown",
   "id": "fd2c152d",
   "metadata": {
    "id": "16fJ64tnFOxC",
    "papermill": {
     "duration": 0.025132,
     "end_time": "2022-06-14T07:28:26.112994",
     "exception": false,
     "start_time": "2022-06-14T07:28:26.087862",
     "status": "completed"
    },
    "tags": []
   },
   "source": [
    "## Step 8 : Predict"
   ]
  },
  {
   "cell_type": "code",
   "execution_count": 11,
   "id": "825a7b5b",
   "metadata": {
    "execution": {
     "iopub.execute_input": "2022-06-14T07:28:26.165497Z",
     "iopub.status.busy": "2022-06-14T07:28:26.164924Z",
     "iopub.status.idle": "2022-06-14T07:28:26.311669Z",
     "shell.execute_reply": "2022-06-14T07:28:26.310840Z"
    },
    "id": "9_arQNC4FOxC",
    "papermill": {
     "duration": 0.175455,
     "end_time": "2022-06-14T07:28:26.313858",
     "exception": false,
     "start_time": "2022-06-14T07:28:26.138403",
     "status": "completed"
    },
    "tags": []
   },
   "outputs": [
    {
     "data": {
      "text/plain": [
       "array([[ 0.139,  0.204,  0.657],\n",
       "       [ 0.227,  0.302,  0.471],\n",
       "       [ 0.580,  0.290,  0.130],\n",
       "       [ 0.139,  0.195,  0.667],\n",
       "       [ 0.507,  0.323,  0.170],\n",
       "       [ 0.121,  0.200,  0.679],\n",
       "       [ 0.524,  0.313,  0.163],\n",
       "       [ 0.194,  0.317,  0.488],\n",
       "       [ 0.195,  0.287,  0.519],\n",
       "       [ 0.218,  0.338,  0.444],\n",
       "       [ 0.165,  0.239,  0.595],\n",
       "       [ 0.204,  0.325,  0.470],\n",
       "       [ 0.201,  0.318,  0.481],\n",
       "       [ 0.194,  0.291,  0.515],\n",
       "       [ 0.193,  0.312,  0.495],\n",
       "       [ 0.489,  0.334,  0.177],\n",
       "       [ 0.194,  0.314,  0.492],\n",
       "       [ 0.204,  0.318,  0.477],\n",
       "       [ 0.475,  0.333,  0.192],\n",
       "       [ 0.550,  0.300,  0.150],\n",
       "       [ 0.160,  0.247,  0.594],\n",
       "       [ 0.197,  0.316,  0.487],\n",
       "       [ 0.478,  0.333,  0.189],\n",
       "       [ 0.474,  0.335,  0.191],\n",
       "       [ 0.174,  0.260,  0.565],\n",
       "       [ 0.562,  0.297,  0.141],\n",
       "       [ 0.497,  0.320,  0.183],\n",
       "       [ 0.210,  0.335,  0.455],\n",
       "       [ 0.243,  0.350,  0.407],\n",
       "       [ 0.486,  0.325,  0.188]], dtype=float32)"
      ]
     },
     "execution_count": 11,
     "metadata": {},
     "output_type": "execute_result"
    }
   ],
   "source": [
    "np.set_printoptions(formatter={'float': '{: 0.3f}'.format})\n",
    "\n",
    "predictions = model.predict(x_test)\n",
    "predictions"
   ]
  },
  {
   "cell_type": "markdown",
   "id": "de9059e3",
   "metadata": {
    "id": "pV86VYbcFOxD",
    "papermill": {
     "duration": 0.02536,
     "end_time": "2022-06-14T07:28:26.366357",
     "exception": false,
     "start_time": "2022-06-14T07:28:26.340997",
     "status": "completed"
    },
    "tags": []
   },
   "source": [
    "### Understanding Predictions\n",
    "In the above output, for each test input, the softmax layer, produces 3 numbers.  \n",
    "These numbers are probabilities.  If you add them up, you will get 1.0  \n",
    "We want to choose the output that has the highest probability.  \n",
    "\n",
    "For example `(0.03086184, 0.33362046, 0.6355177)` means  \n",
    "- class 1 has prob of 0.03  or 3%\n",
    "- class 2 has prob of 0.33  or 33%\n",
    "- class 3 has prob of 0.63  or 63%\n",
    "\n",
    "So we choose the class with highest probability as prediction : class 3\n",
    "\n",
    "\n",
    "We can get class predictions directly as follows"
   ]
  },
  {
   "cell_type": "code",
   "execution_count": 12,
   "id": "07a9e3f8",
   "metadata": {
    "execution": {
     "iopub.execute_input": "2022-06-14T07:28:26.419319Z",
     "iopub.status.busy": "2022-06-14T07:28:26.418534Z",
     "iopub.status.idle": "2022-06-14T07:28:26.424840Z",
     "shell.execute_reply": "2022-06-14T07:28:26.423530Z"
    },
    "id": "wvWNpzOuFOxE",
    "papermill": {
     "duration": 0.035707,
     "end_time": "2022-06-14T07:28:26.427667",
     "exception": false,
     "start_time": "2022-06-14T07:28:26.391960",
     "status": "completed"
    },
    "tags": []
   },
   "outputs": [
    {
     "name": "stdout",
     "output_type": "stream",
     "text": [
      "prediction classes:  [2 2 0 2 0 2 0 2 2 2 2 2 2 2 2 0 2 2 0 0 2 2 0 0 2 0 0 2 2 0]\n"
     ]
    }
   ],
   "source": [
    "## Use 'predict_classes' instead of 'predict'\n",
    "y_pred = np.argmax(predictions, axis=-1)\n",
    "print ('prediction classes: ', y_pred)"
   ]
  },
  {
   "cell_type": "markdown",
   "id": "85fa186a",
   "metadata": {
    "id": "n5B3jcFVFOxE",
    "papermill": {
     "duration": 0.026117,
     "end_time": "2022-06-14T07:28:26.480816",
     "exception": false,
     "start_time": "2022-06-14T07:28:26.454699",
     "status": "completed"
    },
    "tags": []
   },
   "source": [
    "## Step 9 : Evaluate the model\n",
    "\n",
    "### 9.1 - Print out metrics"
   ]
  },
  {
   "cell_type": "code",
   "execution_count": 13,
   "id": "ecedaad7",
   "metadata": {
    "execution": {
     "iopub.execute_input": "2022-06-14T07:28:26.537483Z",
     "iopub.status.busy": "2022-06-14T07:28:26.536906Z",
     "iopub.status.idle": "2022-06-14T07:28:26.611697Z",
     "shell.execute_reply": "2022-06-14T07:28:26.610413Z"
    },
    "id": "IVw2R8teFOxE",
    "papermill": {
     "duration": 0.106401,
     "end_time": "2022-06-14T07:28:26.614106",
     "exception": false,
     "start_time": "2022-06-14T07:28:26.507705",
     "status": "completed"
    },
    "tags": []
   },
   "outputs": [
    {
     "name": "stdout",
     "output_type": "stream",
     "text": [
      "model metrics :  ['loss', 'accuracy']\n",
      "Metric : loss = 0.84\n",
      "Metric : accuracy = 0.57\n"
     ]
    }
   ],
   "source": [
    "metric_names = model.metrics_names\n",
    "print (\"model metrics : \" , metric_names)\n",
    "\n",
    "metrics = model.evaluate(x_test, y_test, verbose=0)\n",
    "\n",
    "for idx, metric in enumerate(metric_names):\n",
    "    print (\"Metric : {} = {:,.2f}\".format (metric_names[idx], metrics[idx]))"
   ]
  },
  {
   "cell_type": "markdown",
   "id": "2dd2f398",
   "metadata": {
    "id": "VYTAVnWKFOxE",
    "papermill": {
     "duration": 0.026438,
     "end_time": "2022-06-14T07:28:26.666815",
     "exception": false,
     "start_time": "2022-06-14T07:28:26.640377",
     "status": "completed"
    },
    "tags": []
   },
   "source": [
    "### 9.2 - Confusion Matrix\n",
    "Since this is a classification problem, confusion matrix is very effective way to evaluate our model"
   ]
  },
  {
   "cell_type": "code",
   "execution_count": 14,
   "id": "80c3ace2",
   "metadata": {
    "execution": {
     "iopub.execute_input": "2022-06-14T07:28:26.720567Z",
     "iopub.status.busy": "2022-06-14T07:28:26.720201Z",
     "iopub.status.idle": "2022-06-14T07:28:26.921819Z",
     "shell.execute_reply": "2022-06-14T07:28:26.920825Z"
    },
    "id": "NY6YfGhKFOxF",
    "papermill": {
     "duration": 0.231642,
     "end_time": "2022-06-14T07:28:26.924182",
     "exception": false,
     "start_time": "2022-06-14T07:28:26.692540",
     "status": "completed"
    },
    "tags": []
   },
   "outputs": [
    {
     "data": {
      "text/plain": [
       "array([[11,  0,  0],\n",
       "       [ 0,  0, 13],\n",
       "       [ 0,  0,  6]])"
      ]
     },
     "execution_count": 14,
     "metadata": {},
     "output_type": "execute_result"
    }
   ],
   "source": [
    "## plain confusion matrix \n",
    "\n",
    "from sklearn.metrics import confusion_matrix\n",
    "import seaborn as sns\n",
    "\n",
    "cm = confusion_matrix(y_test, y_pred, labels = [0,1,2])\n",
    "cm\n"
   ]
  },
  {
   "cell_type": "code",
   "execution_count": 15,
   "id": "43bc3e21",
   "metadata": {
    "execution": {
     "iopub.execute_input": "2022-06-14T07:28:26.978877Z",
     "iopub.status.busy": "2022-06-14T07:28:26.978486Z",
     "iopub.status.idle": "2022-06-14T07:28:27.225697Z",
     "shell.execute_reply": "2022-06-14T07:28:27.224557Z"
    },
    "id": "PyKEAZpOFOxF",
    "papermill": {
     "duration": 0.276831,
     "end_time": "2022-06-14T07:28:27.227983",
     "exception": false,
     "start_time": "2022-06-14T07:28:26.951152",
     "status": "completed"
    },
    "tags": []
   },
   "outputs": [
    {
     "data": {
      "text/plain": [
       "[]"
      ]
     },
     "execution_count": 15,
     "metadata": {},
     "output_type": "execute_result"
    },
    {
     "data": {
      "image/png": "[encoded data removed]",
      "text/plain": [
       "<Figure size 576x360 with 2 Axes>"
      ]
     },
     "metadata": {
      "needs_background": "light"
     },
     "output_type": "display_data"
    }
   ],
   "source": [
    "import matplotlib.pyplot as plt\n",
    "import seaborn as sns\n",
    "\n",
    "plt.figure(figsize = (8,5))\n",
    "\n",
    "# colormaps : cmap=\"YlGnBu\" , cmap=\"Greens\", cmap=\"Blues\",  cmap=\"Reds\"\n",
    "sns.heatmap(cm, annot=True, cmap=\"Reds\", fmt='d').plot()"
   ]
  },
  {
   "cell_type": "markdown",
   "id": "4f0f2989",
   "metadata": {
    "id": "5VSidpzAFOxF",
    "papermill": {
     "duration": 0.026336,
     "end_time": "2022-06-14T07:28:27.280617",
     "exception": false,
     "start_time": "2022-06-14T07:28:27.254281",
     "status": "completed"
    },
    "tags": []
   },
   "source": [
    "### 9.3 - Metrics calculated from Confusion Matrix"
   ]
  },
  {
   "cell_type": "code",
   "execution_count": 16,
   "id": "916ab5c8",
   "metadata": {
    "execution": {
     "iopub.execute_input": "2022-06-14T07:28:27.335708Z",
     "iopub.status.busy": "2022-06-14T07:28:27.334748Z",
     "iopub.status.idle": "2022-06-14T07:28:27.349326Z",
     "shell.execute_reply": "2022-06-14T07:28:27.348686Z"
    },
    "id": "uPa0I69YFOxF",
    "papermill": {
     "duration": 0.045574,
     "end_time": "2022-06-14T07:28:27.352981",
     "exception": false,
     "start_time": "2022-06-14T07:28:27.307407",
     "status": "completed"
    },
    "tags": []
   },
   "outputs": [
    {
     "name": "stdout",
     "output_type": "stream",
     "text": [
      "{'0': {'f1-score': 1.0, 'precision': 1.0, 'recall': 1.0, 'support': 11},\n",
      " '1': {'f1-score': 0.0, 'precision': 0.0, 'recall': 0.0, 'support': 13},\n",
      " '2': {'f1-score': 0.4799999999999999,\n",
      "       'precision': 0.3157894736842105,\n",
      "       'recall': 1.0,\n",
      "       'support': 6},\n",
      " 'accuracy': 0.5666666666666667,\n",
      " 'macro avg': {'f1-score': 0.49333333333333335,\n",
      "               'precision': 0.4385964912280702,\n",
      "               'recall': 0.6666666666666666,\n",
      "               'support': 30},\n",
      " 'weighted avg': {'f1-score': 0.4626666666666666,\n",
      "                  'precision': 0.4298245614035088,\n",
      "                  'recall': 0.5666666666666667,\n",
      "                  'support': 30}}\n"
     ]
    },
    {
     "name": "stderr",
     "output_type": "stream",
     "text": [
      "/opt/conda/lib/python3.7/site-packages/sklearn/metrics/_classification.py:1318: UndefinedMetricWarning: Precision and F-score are ill-defined and being set to 0.0 in labels with no predicted samples. Use `zero_division` parameter to control this behavior.\n",
      "  _warn_prf(average, modifier, msg_start, len(result))\n",
      "/opt/conda/lib/python3.7/site-packages/sklearn/metrics/_classification.py:1318: UndefinedMetricWarning: Precision and F-score are ill-defined and being set to 0.0 in labels with no predicted samples. Use `zero_division` parameter to control this behavior.\n",
      "  _warn_prf(average, modifier, msg_start, len(result))\n",
      "/opt/conda/lib/python3.7/site-packages/sklearn/metrics/_classification.py:1318: UndefinedMetricWarning: Precision and F-score are ill-defined and being set to 0.0 in labels with no predicted samples. Use `zero_division` parameter to control this behavior.\n",
      "  _warn_prf(average, modifier, msg_start, len(result))\n"
     ]
    }
   ],
   "source": [
    "from sklearn.metrics import classification_report\n",
    "from pprint import pprint\n",
    "\n",
    "pprint(classification_report(y_test, y_pred, output_dict=True))"
   ]
  },
  {
   "cell_type": "markdown",
   "id": "ac858be7",
   "metadata": {
    "id": "BkYWRTwkFOxF",
    "papermill": {
     "duration": 0.025746,
     "end_time": "2022-06-14T07:28:27.404853",
     "exception": false,
     "start_time": "2022-06-14T07:28:27.379107",
     "status": "completed"
    },
    "tags": []
   },
   "source": [
    "### TODO : Intepret confusion matrix\n",
    "Instructor will walk you through the matrix.  \n",
    "Answer these questions\n",
    "- which class is classified correctly mostly\n",
    "- which class is classified incorrectly?"
   ]
  },
  {
   "cell_type": "markdown",
   "id": "3549f1b6",
   "metadata": {
    "id": "POFK7d1VFOxG",
    "papermill": {
     "duration": 0.025695,
     "end_time": "2022-06-14T07:28:27.457668",
     "exception": false,
     "start_time": "2022-06-14T07:28:27.431973",
     "status": "completed"
    },
    "tags": []
   },
   "source": [
    "## Step 10 : Improve the Model\n",
    "\n",
    "Inspect the following\n",
    "- What is the metric 'accuracy' in step 9.1\n",
    "- And verify this with tensorboard (port 6066)\n",
    "\n",
    "Most likely, we didn't get a great accuracy.  \n",
    "How can we improve it?\n",
    "\n",
    "**Try the following ideas** \n",
    "\n",
    "- **Idea-1 : Increase neurons in hidden layer**  \n",
    "  - In Step-4, increase hidden layer neurons from 8 --> 64  \n",
    "  - Click 'Kernel --> Restart and Run all Cells'  \n",
    "  - Hopefully you should see improvement in the accuracy.  \n",
    "  - Check  accuracy metrics / confusion matrix / tensorboard"
   ]
  },
  {
   "cell_type": "markdown",
   "id": "f45f2ef6",
   "metadata": {
    "id": "rOBFn69dFOxG",
    "papermill": {
     "duration": 0.027048,
     "end_time": "2022-06-14T07:28:27.510965",
     "exception": false,
     "start_time": "2022-06-14T07:28:27.483917",
     "status": "completed"
    },
    "tags": []
   },
   "source": [
    "## Exercise 1 : Mismatched Output Classes\n",
    "\n",
    "In **Step-4**  when defining the network, change the number of neurons in the **final softmax layer to 2**.\n",
    "\n",
    "Re-run this notebook.\n",
    "\n",
    "What kind of error do you get?  This is a good error to remember :-) "
   ]
  },
  {
   "cell_type": "markdown",
   "id": "f51f67ae",
   "metadata": {
    "id": "MR3QKP92FOxG",
    "papermill": {
     "duration": 0.02605,
     "end_time": "2022-06-14T07:28:27.563233",
     "exception": false,
     "start_time": "2022-06-14T07:28:27.537183",
     "status": "completed"
    },
    "tags": []
   },
   "source": [
    "## Step 11: Compact Code\n",
    "Here is the compact code : [classification-1b-iris-compact.ipynb](classification-1b-iris-compact.ipynb)"
   ]
  },
  {
   "cell_type": "code",
   "execution_count": null,
   "id": "5f016795",
   "metadata": {
    "id": "cl9P8RsEFOxH",
    "papermill": {
     "duration": 0.025982,
     "end_time": "2022-06-14T07:28:27.616571",
     "exception": false,
     "start_time": "2022-06-14T07:28:27.590589",
     "status": "completed"
    },
    "tags": []
   },
   "outputs": [],
   "source": []
  }
 ],
 "metadata": {
  "kernelspec": {
   "display_name": "Python 3",
   "language": "python",
   "name": "python3"
  },
  "language_info": {
   "codemirror_mode": {
    "name": "ipython",
    "version": 3
   },
   "file_extension": ".py",
   "mimetype": "text/x-python",
   "name": "python",
   "nbconvert_exporter": "python",
   "pygments_lexer": "ipython3",
   "version": "3.7.12"
  },
  "papermill": {
   "default_parameters": {},
   "duration": 40.463394,
   "end_time": "2022-06-14T07:28:30.264033",
   "environment_variables": {},
   "exception": null,
   "input_path": "__notebook__.ipynb",
   "output_path": "__notebook__.ipynb",
   "parameters": {},
   "start_time": "2022-06-14T07:27:49.800639",
   "version": "2.3.4"
  }
 },
 "nbformat": 4,
 "nbformat_minor": 5
}
