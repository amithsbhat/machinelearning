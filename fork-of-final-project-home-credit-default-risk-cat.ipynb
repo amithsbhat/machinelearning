{
 "cells": [
  {
   "cell_type": "code",
   "execution_count": 1,
   "id": "1673f473",
   "metadata": {
    "_cell_guid": "b1076dfc-b9ad-4769-8c92-a6c4dae69d19",
    "_uuid": "8f2839f25d086af736a60e9eeb907d3b93b6e0e5",
    "execution": {
     "iopub.execute_input": "2022-06-05T07:38:06.181201Z",
     "iopub.status.busy": "2022-06-05T07:38:06.180764Z",
     "iopub.status.idle": "2022-06-05T07:38:06.202149Z",
     "shell.execute_reply": "2022-06-05T07:38:06.201191Z"
    },
    "papermill": {
     "duration": 0.031527,
     "end_time": "2022-06-05T07:38:06.206761",
     "exception": false,
     "start_time": "2022-06-05T07:38:06.175234",
     "status": "completed"
    },
    "tags": []
   },
   "outputs": [
    {
     "name": "stdout",
     "output_type": "stream",
     "text": [
      "/kaggle/input/gradient-descent/AI-InvestorFinalProjectPart2.docx\n",
      "/kaggle/input/gradient-descent/sample_submission.csv\n",
      "/kaggle/input/gradient-descent/bureau_balance.csv\n",
      "/kaggle/input/gradient-descent/POS_CASH_balance.csv\n",
      "/kaggle/input/gradient-descent/application_train.csv\n",
      "/kaggle/input/gradient-descent/HomeCredit_columns_description.csv\n",
      "/kaggle/input/gradient-descent/AI-InvestorFinalProject.docx\n",
      "/kaggle/input/gradient-descent/application_test.csv\n",
      "/kaggle/input/gradient-descent/previous_application.csv\n",
      "/kaggle/input/gradient-descent/constituents_csv.csv\n",
      "/kaggle/input/gradient-descent/credit_card_balance.csv\n",
      "/kaggle/input/gradient-descent/installments_payments.csv\n",
      "/kaggle/input/gradient-descent/bureau.csv\n"
     ]
    }
   ],
   "source": [
    "# This Python 3 environment comes with many helpful analytics libraries installed\n",
    "# It is defined by the kaggle/python Docker image: https://github.com/kaggle/docker-python\n",
    "# For example, here's several helpful packages to load\n",
    "\n",
    "import numpy as np # linear algebra\n",
    "import pandas as pd # data processing, CSV file I/O (e.g. pd.read_csv)\n",
    "\n",
    "# Input data files are available in the read-only \"../input/\" directory\n",
    "# For example, running this (by clicking run or pressing Shift+Enter) will list all files under the input directory\n",
    "\n",
    "import os\n",
    "for dirname, _, filenames in os.walk('/kaggle/input'):\n",
    "    for filename in filenames:\n",
    "        print(os.path.join(dirname, filename))\n",
    "\n",
    "# You can write up to 20GB to the current directory (/kaggle/working/) that gets preserved as output when you create a version using \"Save & Run All\" \n",
    "# You can also write temporary files to /kaggle/temp/, but they won't be saved outside of the current session"
   ]
  },
  {
   "cell_type": "code",
   "execution_count": 2,
   "id": "4c452ea1",
   "metadata": {
    "execution": {
     "iopub.execute_input": "2022-06-05T07:38:06.216114Z",
     "iopub.status.busy": "2022-06-05T07:38:06.215035Z",
     "iopub.status.idle": "2022-06-05T07:38:08.393634Z",
     "shell.execute_reply": "2022-06-05T07:38:08.392375Z"
    },
    "papermill": {
     "duration": 2.18524,
     "end_time": "2022-06-05T07:38:08.396065",
     "exception": false,
     "start_time": "2022-06-05T07:38:06.210825",
     "status": "completed"
    },
    "tags": []
   },
   "outputs": [
    {
     "data": {
      "text/html": [
       "<style type='text/css'>\n",
       ".datatable table.frame { margin-bottom: 0; }\n",
       ".datatable table.frame thead { border-bottom: none; }\n",
       ".datatable table.frame tr.coltypes td {  color: #FFFFFF;  line-height: 6px;  padding: 0 0.5em;}\n",
       ".datatable .bool    { background: #DDDD99; }\n",
       ".datatable .object  { background: #565656; }\n",
       ".datatable .int     { background: #5D9E5D; }\n",
       ".datatable .float   { background: #4040CC; }\n",
       ".datatable .str     { background: #CC4040; }\n",
       ".datatable .time    { background: #40CC40; }\n",
       ".datatable .row_index {  background: var(--jp-border-color3);  border-right: 1px solid var(--jp-border-color0);  color: var(--jp-ui-font-color3);  font-size: 9px;}\n",
       ".datatable .frame tbody td { text-align: left; }\n",
       ".datatable .frame tr.coltypes .row_index {  background: var(--jp-border-color0);}\n",
       ".datatable th:nth-child(2) { padding-left: 12px; }\n",
       ".datatable .hellipsis {  color: var(--jp-cell-editor-border-color);}\n",
       ".datatable .vellipsis {  background: var(--jp-layout-color0);  color: var(--jp-cell-editor-border-color);}\n",
       ".datatable .na {  color: var(--jp-cell-editor-border-color);  font-size: 80%;}\n",
       ".datatable .sp {  opacity: 0.25;}\n",
       ".datatable .footer { font-size: 9px; }\n",
       ".datatable .frame_dimensions {  background: var(--jp-border-color3);  border-top: 1px solid var(--jp-border-color0);  color: var(--jp-ui-font-color3);  display: inline-block;  opacity: 0.6;  padding: 1px 10px 1px 5px;}\n",
       "</style>\n"
      ],
      "text/plain": [
       "<IPython.core.display.HTML object>"
      ]
     },
     "metadata": {},
     "output_type": "display_data"
    }
   ],
   "source": [
    "import numpy as np\n",
    "import pandas as pd\n",
    "import gc\n",
    "import time\n",
    "from contextlib import contextmanager\n",
    "from lightgbm import LGBMClassifier\n",
    "from sklearn.metrics import roc_auc_score, roc_curve\n",
    "from sklearn.model_selection import KFold, StratifiedKFold\n",
    "import matplotlib.pyplot as plt\n",
    "import seaborn as sns\n",
    "import warnings\n",
    "import re\n",
    "warnings.simplefilter(action='ignore', category=FutureWarning)"
   ]
  },
  {
   "cell_type": "code",
   "execution_count": 3,
   "id": "f5a1434c",
   "metadata": {
    "execution": {
     "iopub.execute_input": "2022-06-05T07:38:08.404431Z",
     "iopub.status.busy": "2022-06-05T07:38:08.403726Z",
     "iopub.status.idle": "2022-06-05T07:38:08.417823Z",
     "shell.execute_reply": "2022-06-05T07:38:08.416897Z"
    },
    "papermill": {
     "duration": 0.020991,
     "end_time": "2022-06-05T07:38:08.420338",
     "exception": false,
     "start_time": "2022-06-05T07:38:08.399347",
     "status": "completed"
    },
    "tags": []
   },
   "outputs": [],
   "source": [
    "@contextmanager\n",
    "def timer(title):\n",
    "    t0 = time.time()\n",
    "    yield\n",
    "    print(\"{} - done in {:.0f}s\".format(title, time.time() - t0))\n",
    "\n",
    "# One-hot encoding for categorical columns with get_dummies\n",
    "def one_hot_encoder(df, nan_as_category = True):\n",
    "    original_columns = list(df.columns)\n",
    "    categorical_columns = [col for col in df.columns if df[col].dtype == 'object']\n",
    "    df = pd.get_dummies(df, columns= categorical_columns, dummy_na= nan_as_category)\n",
    "    new_columns = [c for c in df.columns if c not in original_columns]\n",
    "    return df, new_columns\n",
    "# Preprocess application_train.csv and application_test.csv\n",
    "def application_train_test(num_rows = None, nan_as_category = False):\n",
    "    # Read data and merge\n",
    "    df = pd.read_csv('/kaggle/input/gradient-descent/application_train.csv', nrows= num_rows)\n",
    "    test_df = pd.read_csv('/kaggle/input/gradient-descent/application_test.csv', nrows= num_rows)\n",
    "    print(\"Train samples: {}, test samples: {}\".format(len(df), len(test_df)))\n",
    "    df = df.append(test_df).reset_index()\n",
    "    # Optional: Remove 4 applications with XNA CODE_GENDER (train set)\n",
    "    df = df[df['CODE_GENDER'] != 'XNA']\n",
    "    \n",
    "    # Categorical features with Binary encode (0 or 1; two categories)\n",
    "    for bin_feature in ['CODE_GENDER', 'FLAG_OWN_CAR', 'FLAG_OWN_REALTY']:\n",
    "        df[bin_feature], uniques = pd.factorize(df[bin_feature])\n",
    "    # Categorical features with One-Hot encode\n",
    "    df, cat_cols = one_hot_encoder(df, nan_as_category)\n",
    "    \n",
    "    # NaN values for DAYS_EMPLOYED: 365.243 -> nan\n",
    "    df['DAYS_EMPLOYED'].replace(365243, np.nan, inplace= True)\n",
    "    # Some simple new features (percentages)\n",
    "    df['DAYS_EMPLOYED_PERC'] = df['DAYS_EMPLOYED'] / df['DAYS_BIRTH']\n",
    "    df['INCOME_CREDIT_PERC'] = df['AMT_INCOME_TOTAL'] / df['AMT_CREDIT']\n",
    "    df['INCOME_PER_PERSON'] = df['AMT_INCOME_TOTAL'] / df['CNT_FAM_MEMBERS']\n",
    "    df['ANNUITY_INCOME_PERC'] = df['AMT_ANNUITY'] / df['AMT_INCOME_TOTAL']\n",
    "    df['PAYMENT_RATE'] = df['AMT_ANNUITY'] / df['AMT_CREDIT']\n",
    "    del test_df\n",
    "    gc.collect()\n",
    "    return df\n"
   ]
  },
  {
   "cell_type": "code",
   "execution_count": 4,
   "id": "d4858f0c",
   "metadata": {
    "execution": {
     "iopub.execute_input": "2022-06-05T07:38:08.428616Z",
     "iopub.status.busy": "2022-06-05T07:38:08.427817Z",
     "iopub.status.idle": "2022-06-05T07:38:08.534832Z",
     "shell.execute_reply": "2022-06-05T07:38:08.533957Z"
    },
    "papermill": {
     "duration": 0.113556,
     "end_time": "2022-06-05T07:38:08.537198",
     "exception": false,
     "start_time": "2022-06-05T07:38:08.423642",
     "status": "completed"
    },
    "tags": []
   },
   "outputs": [],
   "source": [
    "#from catboost import CatBoostClassifier\n",
    "from xgboost import XGBClassifier\n",
    "from sklearn.metrics import roc_auc_score, accuracy_score, roc_curve, f1_score\n",
    "from sklearn.model_selection import RandomizedSearchCV, GridSearchCV\n",
    "#https://catboost.ai/en/docs/concepts/python-reference_utils_get_roc_curve\n",
    "#https://www.kaggle.com/code/romantihiy/catboost-0-96-auc/notebook"
   ]
  },
  {
   "cell_type": "code",
   "execution_count": 5,
   "id": "e6877059",
   "metadata": {
    "execution": {
     "iopub.execute_input": "2022-06-05T07:38:08.545281Z",
     "iopub.status.busy": "2022-06-05T07:38:08.544918Z",
     "iopub.status.idle": "2022-06-05T08:18:42.903016Z",
     "shell.execute_reply": "2022-06-05T08:18:42.901714Z"
    },
    "papermill": {
     "duration": 2434.364917,
     "end_time": "2022-06-05T08:18:42.905331",
     "exception": false,
     "start_time": "2022-06-05T07:38:08.540414",
     "status": "completed"
    },
    "tags": []
   },
   "outputs": [
    {
     "name": "stdout",
     "output_type": "stream",
     "text": [
      "Train samples: 307511, test samples: 48744\n",
      "Starting catBoost. Train shape: (307507, 248), test shape: (48744, 248)\n",
      "[07:38:20] WARNING: ../src/learner.cc:627: \n",
      "Parameters: { \"silent\" } might not be used.\n",
      "\n",
      "  This could be a false alarm, with some parameters getting used by language bindings but\n",
      "  then being mistakenly passed down to XGBoost core, or some parameter actually being used\n",
      "  but getting flagged wrongly here. Please open an issue if you find any such cases.\n",
      "\n",
      "\n",
      "accuracy of the catboost:  0.919455753996644\n",
      "Test ROC AUC = 0.5092148049827541\n",
      "Train ROC AUC = 0.5214622671983993\n",
      "[[141122    219]\n",
      " [ 12165    248]]\n",
      "              precision    recall  f1-score   support\n",
      "\n",
      "         0.0       0.92      1.00      0.96    141341\n",
      "         1.0       0.53      0.02      0.04     12413\n",
      "\n",
      "    accuracy                           0.92    153754\n",
      "   macro avg       0.73      0.51      0.50    153754\n",
      "weighted avg       0.89      0.92      0.88    153754\n",
      "\n",
      "[07:58:27] WARNING: ../src/learner.cc:627: \n",
      "Parameters: { \"silent\" } might not be used.\n",
      "\n",
      "  This could be a false alarm, with some parameters getting used by language bindings but\n",
      "  then being mistakenly passed down to XGBoost core, or some parameter actually being used\n",
      "  but getting flagged wrongly here. Please open an issue if you find any such cases.\n",
      "\n",
      "\n",
      "accuracy of the catboost:  0.9195918128426762\n",
      "Test ROC AUC = 0.5088454080592064\n",
      "Train ROC AUC = 0.5166516289177574\n",
      "[[141154    187]\n",
      " [ 12176    236]]\n",
      "              precision    recall  f1-score   support\n",
      "\n",
      "         0.0       0.92      1.00      0.96    141341\n",
      "         1.0       0.56      0.02      0.04     12412\n",
      "\n",
      "    accuracy                           0.92    153753\n",
      "   macro avg       0.74      0.51      0.50    153753\n",
      "weighted avg       0.89      0.92      0.88    153753\n",
      "\n"
     ]
    },
    {
     "data": {
      "image/png": "[encoded data removed]",
      "text/plain": [
       "<Figure size 720x576 with 1 Axes>"
      ]
     },
     "metadata": {},
     "output_type": "display_data"
    },
    {
     "name": "stdout",
     "output_type": "stream",
     "text": [
      "['_Booster', '__class__', '__delattr__', '__dict__', '__dir__', '__doc__', '__eq__', '__format__', '__ge__', '__getattribute__', '__getstate__', '__gt__', '__hash__', '__init__', '__init_subclass__', '__le__', '__lt__', '__module__', '__ne__', '__new__', '__reduce__', '__reduce_ex__', '__repr__', '__setattr__', '__setstate__', '__sizeof__', '__sklearn_is_fitted__', '__str__', '__subclasshook__', '__weakref__', '_can_use_inplace_predict', '_check_feature_names', '_check_n_features', '_configure_fit', '_early_stopping_attr', '_estimator_type', '_get_iteration_range', '_get_param_names', '_get_tags', '_get_type', '_more_tags', '_repr_html_', '_repr_html_inner', '_repr_mimebundle_', '_set_evaluation_result', '_validate_data', 'apply', 'base_score', 'best_iteration', 'best_ntree_limit', 'best_score', 'booster', 'callbacks', 'classes_', 'coef_', 'colsample_bylevel', 'colsample_bynode', 'colsample_bytree', 'early_stopping_rounds', 'enable_categorical', 'eval_metric', 'evals_result', 'feature_importances_', 'feature_names_in_', 'fit', 'gamma', 'get_booster', 'get_num_boosting_rounds', 'get_params', 'get_xgb_params', 'gpu_id', 'grow_policy', 'importance_type', 'interaction_constraints', 'intercept_', 'kwargs', 'learning_rate', 'load_model', 'max_bin', 'max_cat_to_onehot', 'max_delta_step', 'max_depth', 'max_leaves', 'min_child_weight', 'missing', 'monotone_constraints', 'n_classes_', 'n_estimators', 'n_features_in_', 'n_jobs', 'num_parallel_tree', 'objective', 'predict', 'predict_proba', 'predictor', 'random_state', 'reg_alpha', 'reg_lambda', 'sampling_method', 'save_model', 'scale_pos_weight', 'score', 'set_params', 'subsample', 'tree_method', 'use_label_encoder', 'validate_parameters', 'verbosity']\n",
      "Run LightGBM with kfold - done in 2425s\n",
      "Full model run - done in 2434s\n"
     ]
    }
   ],
   "source": [
    "\n",
    "# Catboost with KFold or Stratified KFold\n",
    "\n",
    "def kfold_catboost(df, num_folds, stratified = False, debug= False):\n",
    "    # Divide in training/validation and test data\n",
    "    df = df.rename(columns = lambda x:re.sub('[^A-Za-z0-9_]+', '', x))\n",
    "    train_df = df[df['TARGET'].notnull()]\n",
    "    test_df = df[df['TARGET'].isnull()]\n",
    "    print(\"Starting catBoost. Train shape: {}, test shape: {}\".format(train_df.shape, test_df.shape))\n",
    "    del df\n",
    "    gc.collect()\n",
    "    # Cross validation model\n",
    "    if stratified:\n",
    "        folds = StratifiedKFold(n_splits= num_folds, shuffle=True, random_state=1001)\n",
    "    else:\n",
    "        folds = KFold(n_splits= num_folds, shuffle=True, random_state=1001)\n",
    "    # Create arrays and dataframes to store results\n",
    "    oof_preds = np.zeros(train_df.shape[0])\n",
    "    sub_preds = np.zeros(test_df.shape[0])\n",
    "    feature_importance_df = pd.DataFrame()\n",
    "    feats = [f for f in train_df.columns if f not in ['TARGET','SK_ID_CURR','SK_ID_BUREAU','SK_ID_PREV','index']]\n",
    "    \n",
    "    for n_fold, (train_idx, valid_idx) in enumerate(folds.split(train_df[feats], train_df['TARGET'])):\n",
    "        train_x, train_y = train_df[feats].iloc[train_idx], train_df['TARGET'].iloc[train_idx]\n",
    "        valid_x, valid_y = train_df[feats].iloc[valid_idx], train_df['TARGET'].iloc[valid_idx]\n",
    "        \n",
    "        \"\"\"\n",
    "        catClf = CatBoostClassifier(\n",
    "            iterations=15, \n",
    "            learning_rate=0.5, \n",
    "            loss_function='CrossEntropy'\n",
    "        )\n",
    "        \"\"\"\n",
    "        # A parameter grid for XGBoost\n",
    "        params = {\n",
    "       # 'min_child_weight': [1, 5, 10],\n",
    "       # 'gamma': [0.5, 1, 1.5, 2, 5],\n",
    "       # 'subsample': [0.6, 0.8, 1.0],\n",
    "       # 'colsample_bytree': [0.6, 0.8, 1.0],\n",
    "        #'max_depth': [3, 4, 5]\n",
    "        }\n",
    "        folds = 3\n",
    "        param_comb = 5\n",
    "\n",
    "        xgb = XGBClassifier(eval_metric='auc', learning_rate=0.02, n_estimators=600, objective='binary:logistic',\n",
    "                    silent=True, nthread=1)\n",
    "        #random_search = RandomizedSearchCV(xgb, param_distributions=params, n_iter=param_comb, scoring='roc_auc', n_jobs=4, X=train_x, y=train_y verbose=3, random_state=1001 )\n",
    "\n",
    "        \"\"\"\n",
    "        catClf = CatBoostClassifier()\n",
    "        grid = {'learning_rate': [0.03, 0.1],\n",
    "                'depth': [4, 6, 10],\n",
    "                'l2_leaf_reg': [1, 3, 5, 7, 9]}\n",
    "        catClf.randomized_search(grid, X=train_x, y=train_y)\n",
    "        \n",
    "        catClf.fit(train_x, train_y)\n",
    "        predictions = catClf.predict(valid_x)\n",
    "        predictionsTrain = catClf.predict(train_x)\n",
    "        \"\"\"\n",
    "        xgb.fit(train_x, train_y)\n",
    "        predictions = xgb.predict(valid_x)\n",
    "        predictionsTrain = xgb.predict(train_x)\n",
    "        print(\"accuracy of the catboost: \",accuracy_score(valid_y,predictions))\n",
    "        print('Test ROC AUC =', roc_auc_score(valid_y, predictions))\n",
    "        print('Train ROC AUC =', roc_auc_score(train_y, predictionsTrain))\n",
    "        from sklearn.metrics import confusion_matrix\n",
    "        from sklearn.metrics import classification_report\n",
    "        cm = confusion_matrix(valid_y, predictions)\n",
    "        print(cm)\n",
    "\n",
    "        cr = classification_report(valid_y, predictions)\n",
    "        print(cr) \n",
    "        \n",
    "       \n",
    "    sns.set(font_scale=1.5)\n",
    "    sns.set_color_codes(\"muted\")\n",
    "    plt.figure(figsize=(10, 8))\n",
    "    fpr, tpr, thresholds = roc_curve(valid_y, xgb.predict_proba(valid_x)[:,1], pos_label=1)\n",
    "    lw = 2\n",
    "    plt.plot(fpr, tpr, lw=lw, label='ROC curve ')\n",
    "    plt.plot([0, 1], [0, 1])\n",
    "    plt.xlim([0.0, 1.0])\n",
    "    plt.ylim([0.0, 1.05])\n",
    "    plt.xlabel('False Positive Rate')\n",
    "    plt.ylabel('True Positive Rate')\n",
    "    plt.title('ROC curve')\n",
    "    plt.show()\n",
    "    print(dir(xgb))\n",
    "        \n",
    "    return xgb\n",
    "\n",
    "def main(debug = False):\n",
    "    num_rows = 10000 if debug else None\n",
    "    df = application_train_test(num_rows)\n",
    "    \"\"\"\n",
    "    with timer(\"Process bureau and bureau_balance\"):\n",
    "        bureau = bureau_and_balance(num_rows)\n",
    "        print(\"Bureau df shape:\", bureau.shape)\n",
    "        df = df.join(bureau, how='left', on='SK_ID_CURR')\n",
    "        del bureau\n",
    "        gc.collect()\n",
    "    with timer(\"Process previous_applications\"):\n",
    "        prev = previous_applications(num_rows)\n",
    "        print(\"Previous applications df shape:\", prev.shape)\n",
    "        df = df.join(prev, how='left', on='SK_ID_CURR')\n",
    "        del prev\n",
    "        gc.collect()\n",
    "    with timer(\"Process POS-CASH balance\"):\n",
    "        pos = pos_cash(num_rows)\n",
    "        print(\"Pos-cash balance df shape:\", pos.shape)\n",
    "        df = df.join(pos, how='left', on='SK_ID_CURR')\n",
    "        del pos\n",
    "        gc.collect()\n",
    "    with timer(\"Process installments payments\"):\n",
    "        ins = installments_payments(num_rows)\n",
    "        print(\"Installments payments df shape:\", ins.shape)\n",
    "        df = df.join(ins, how='left', on='SK_ID_CURR')\n",
    "        del ins\n",
    "        gc.collect()\n",
    "    with timer(\"Process credit card balance\"):\n",
    "        cc = credit_card_balance(num_rows)\n",
    "        print(\"Credit card balance df shape:\", cc.shape)\n",
    "        df = df.join(cc, how='left', on='SK_ID_CURR')\n",
    "        del cc\n",
    "        gc.collect()\n",
    "    \"\"\"\n",
    "    with timer(\"Run LightGBM with kfold\"):\n",
    "        model = kfold_catboost(df, num_folds= 2, stratified= False, debug= debug)\n",
    "\n",
    "#if __name__ == \"__main__\":\n",
    "submission_file_name = \"submission_kernel02.csv\"\n",
    "with timer(\"Full model run\"):\n",
    "   \n",
    "    main()"
   ]
  },
  {
   "cell_type": "code",
   "execution_count": null,
   "id": "79ab0847",
   "metadata": {
    "papermill": {
     "duration": 0.004455,
     "end_time": "2022-06-05T08:18:42.914685",
     "exception": false,
     "start_time": "2022-06-05T08:18:42.910230",
     "status": "completed"
    },
    "tags": []
   },
   "outputs": [],
   "source": []
  }
 ],
 "metadata": {
  "kernelspec": {
   "display_name": "Python 3",
   "language": "python",
   "name": "python3"
  },
  "language_info": {
   "codemirror_mode": {
    "name": "ipython",
    "version": 3
   },
   "file_extension": ".py",
   "mimetype": "text/x-python",
   "name": "python",
   "nbconvert_exporter": "python",
   "pygments_lexer": "ipython3",
   "version": "3.7.12"
  },
  "papermill": {
   "default_parameters": {},
   "duration": 2447.333266,
   "end_time": "2022-06-05T08:18:43.745146",
   "environment_variables": {},
   "exception": null,
   "input_path": "__notebook__.ipynb",
   "output_path": "__notebook__.ipynb",
   "parameters": {},
   "start_time": "2022-06-05T07:37:56.411880",
   "version": "2.3.4"
  }
 },
 "nbformat": 4,
 "nbformat_minor": 5
}
