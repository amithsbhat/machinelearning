{
 "cells": [
  {
   "cell_type": "code",
   "execution_count": 1,
   "id": "9790a507",
   "metadata": {
    "_cell_guid": "b1076dfc-b9ad-4769-8c92-a6c4dae69d19",
    "_uuid": "8f2839f25d086af736a60e9eeb907d3b93b6e0e5",
    "execution": {
     "iopub.execute_input": "2022-05-29T15:23:21.586983Z",
     "iopub.status.busy": "2022-05-29T15:23:21.585815Z",
     "iopub.status.idle": "2022-05-29T15:23:21.609876Z",
     "shell.execute_reply": "2022-05-29T15:23:21.609259Z"
    },
    "papermill": {
     "duration": 0.033486,
     "end_time": "2022-05-29T15:23:21.613110",
     "exception": false,
     "start_time": "2022-05-29T15:23:21.579624",
     "status": "completed"
    },
    "tags": []
   },
   "outputs": [
    {
     "name": "stdout",
     "output_type": "stream",
     "text": [
      "/kaggle/input/gradient-descent/AI-InvestorFinalProjectPart2.docx\n",
      "/kaggle/input/gradient-descent/sample_submission.csv\n",
      "/kaggle/input/gradient-descent/bureau_balance.csv\n",
      "/kaggle/input/gradient-descent/POS_CASH_balance.csv\n",
      "/kaggle/input/gradient-descent/application_train.csv\n",
      "/kaggle/input/gradient-descent/HomeCredit_columns_description.csv\n",
      "/kaggle/input/gradient-descent/AI-InvestorFinalProject.docx\n",
      "/kaggle/input/gradient-descent/application_test.csv\n",
      "/kaggle/input/gradient-descent/previous_application.csv\n",
      "/kaggle/input/gradient-descent/constituents_csv.csv\n",
      "/kaggle/input/gradient-descent/credit_card_balance.csv\n",
      "/kaggle/input/gradient-descent/installments_payments.csv\n",
      "/kaggle/input/gradient-descent/bureau.csv\n"
     ]
    }
   ],
   "source": [
    "# This Python 3 environment comes with many helpful analytics libraries installed\n",
    "# It is defined by the kaggle/python Docker image: https://github.com/kaggle/docker-python\n",
    "# For example, here's several helpful packages to load\n",
    "\n",
    "import numpy as np # linear algebra\n",
    "import pandas as pd # data processing, CSV file I/O (e.g. pd.read_csv)\n",
    "\n",
    "# Input data files are available in the read-only \"../input/\" directory\n",
    "# For example, running this (by clicking run or pressing Shift+Enter) will list all files under the input directory\n",
    "\n",
    "import os\n",
    "for dirname, _, filenames in os.walk('/kaggle/input'):\n",
    "    for filename in filenames:\n",
    "        print(os.path.join(dirname, filename))\n",
    "\n",
    "# You can write up to 20GB to the current directory (/kaggle/working/) that gets preserved as output when you create a version using \"Save & Run All\" \n",
    "# You can also write temporary files to /kaggle/temp/, but they won't be saved outside of the current session"
   ]
  },
  {
   "cell_type": "code",
   "execution_count": 2,
   "id": "5e11c0b6",
   "metadata": {
    "execution": {
     "iopub.execute_input": "2022-05-29T15:23:21.622749Z",
     "iopub.status.busy": "2022-05-29T15:23:21.622050Z",
     "iopub.status.idle": "2022-05-29T15:23:23.892223Z",
     "shell.execute_reply": "2022-05-29T15:23:23.891377Z"
    },
    "papermill": {
     "duration": 2.276847,
     "end_time": "2022-05-29T15:23:23.894569",
     "exception": false,
     "start_time": "2022-05-29T15:23:21.617722",
     "status": "completed"
    },
    "tags": []
   },
   "outputs": [
    {
     "data": {
      "text/html": [
       "<style type='text/css'>\n",
       ".datatable table.frame { margin-bottom: 0; }\n",
       ".datatable table.frame thead { border-bottom: none; }\n",
       ".datatable table.frame tr.coltypes td {  color: #FFFFFF;  line-height: 6px;  padding: 0 0.5em;}\n",
       ".datatable .bool    { background: #DDDD99; }\n",
       ".datatable .object  { background: #565656; }\n",
       ".datatable .int     { background: #5D9E5D; }\n",
       ".datatable .float   { background: #4040CC; }\n",
       ".datatable .str     { background: #CC4040; }\n",
       ".datatable .time    { background: #40CC40; }\n",
       ".datatable .row_index {  background: var(--jp-border-color3);  border-right: 1px solid var(--jp-border-color0);  color: var(--jp-ui-font-color3);  font-size: 9px;}\n",
       ".datatable .frame tbody td { text-align: left; }\n",
       ".datatable .frame tr.coltypes .row_index {  background: var(--jp-border-color0);}\n",
       ".datatable th:nth-child(2) { padding-left: 12px; }\n",
       ".datatable .hellipsis {  color: var(--jp-cell-editor-border-color);}\n",
       ".datatable .vellipsis {  background: var(--jp-layout-color0);  color: var(--jp-cell-editor-border-color);}\n",
       ".datatable .na {  color: var(--jp-cell-editor-border-color);  font-size: 80%;}\n",
       ".datatable .sp {  opacity: 0.25;}\n",
       ".datatable .footer { font-size: 9px; }\n",
       ".datatable .frame_dimensions {  background: var(--jp-border-color3);  border-top: 1px solid var(--jp-border-color0);  color: var(--jp-ui-font-color3);  display: inline-block;  opacity: 0.6;  padding: 1px 10px 1px 5px;}\n",
       "</style>\n"
      ],
      "text/plain": [
       "<IPython.core.display.HTML object>"
      ]
     },
     "metadata": {},
     "output_type": "display_data"
    }
   ],
   "source": [
    "import numpy as np\n",
    "import pandas as pd\n",
    "import gc\n",
    "import time\n",
    "from contextlib import contextmanager\n",
    "from lightgbm import LGBMClassifier\n",
    "from sklearn.metrics import roc_auc_score, roc_curve\n",
    "from sklearn.model_selection import KFold, StratifiedKFold\n",
    "import matplotlib.pyplot as plt\n",
    "import seaborn as sns\n",
    "import warnings\n",
    "import re\n",
    "warnings.simplefilter(action='ignore', category=FutureWarning)"
   ]
  },
  {
   "cell_type": "code",
   "execution_count": 3,
   "id": "792ee0c8",
   "metadata": {
    "execution": {
     "iopub.execute_input": "2022-05-29T15:23:23.903526Z",
     "iopub.status.busy": "2022-05-29T15:23:23.902897Z",
     "iopub.status.idle": "2022-05-29T15:23:23.916327Z",
     "shell.execute_reply": "2022-05-29T15:23:23.915441Z"
    },
    "papermill": {
     "duration": 0.019719,
     "end_time": "2022-05-29T15:23:23.918063",
     "exception": false,
     "start_time": "2022-05-29T15:23:23.898344",
     "status": "completed"
    },
    "tags": []
   },
   "outputs": [],
   "source": [
    "@contextmanager\n",
    "def timer(title):\n",
    "    t0 = time.time()\n",
    "    yield\n",
    "    print(\"{} - done in {:.0f}s\".format(title, time.time() - t0))\n",
    "\n",
    "# One-hot encoding for categorical columns with get_dummies\n",
    "def one_hot_encoder(df, nan_as_category = True):\n",
    "    original_columns = list(df.columns)\n",
    "    categorical_columns = [col for col in df.columns if df[col].dtype == 'object']\n",
    "    df = pd.get_dummies(df, columns= categorical_columns, dummy_na= nan_as_category)\n",
    "    new_columns = [c for c in df.columns if c not in original_columns]\n",
    "    return df, new_columns\n",
    "# Preprocess application_train.csv and application_test.csv\n",
    "def application_train_test(num_rows = None, nan_as_category = False):\n",
    "    # Read data and merge\n",
    "    df = pd.read_csv('/kaggle/input/gradient-descent/application_train.csv', nrows= num_rows)\n",
    "    test_df = pd.read_csv('/kaggle/input/gradient-descent/application_test.csv', nrows= num_rows)\n",
    "    print(\"Train samples: {}, test samples: {}\".format(len(df), len(test_df)))\n",
    "    df = df.append(test_df).reset_index()\n",
    "    # Optional: Remove 4 applications with XNA CODE_GENDER (train set)\n",
    "    df = df[df['CODE_GENDER'] != 'XNA']\n",
    "    \n",
    "    # Categorical features with Binary encode (0 or 1; two categories)\n",
    "    for bin_feature in ['CODE_GENDER', 'FLAG_OWN_CAR', 'FLAG_OWN_REALTY']:\n",
    "        df[bin_feature], uniques = pd.factorize(df[bin_feature])\n",
    "    # Categorical features with One-Hot encode\n",
    "    df, cat_cols = one_hot_encoder(df, nan_as_category)\n",
    "    \n",
    "    # NaN values for DAYS_EMPLOYED: 365.243 -> nan\n",
    "    df['DAYS_EMPLOYED'].replace(365243, np.nan, inplace= True)\n",
    "    # Some simple new features (percentages)\n",
    "    df['DAYS_EMPLOYED_PERC'] = df['DAYS_EMPLOYED'] / df['DAYS_BIRTH']\n",
    "    df['INCOME_CREDIT_PERC'] = df['AMT_INCOME_TOTAL'] / df['AMT_CREDIT']\n",
    "    df['INCOME_PER_PERSON'] = df['AMT_INCOME_TOTAL'] / df['CNT_FAM_MEMBERS']\n",
    "    df['ANNUITY_INCOME_PERC'] = df['AMT_ANNUITY'] / df['AMT_INCOME_TOTAL']\n",
    "    df['PAYMENT_RATE'] = df['AMT_ANNUITY'] / df['AMT_CREDIT']\n",
    "    del test_df\n",
    "    gc.collect()\n",
    "    return df\n"
   ]
  },
  {
   "cell_type": "code",
   "execution_count": 4,
   "id": "33b7280f",
   "metadata": {
    "execution": {
     "iopub.execute_input": "2022-05-29T15:23:23.926866Z",
     "iopub.status.busy": "2022-05-29T15:23:23.926506Z",
     "iopub.status.idle": "2022-05-29T15:23:23.944334Z",
     "shell.execute_reply": "2022-05-29T15:23:23.943463Z"
    },
    "papermill": {
     "duration": 0.024809,
     "end_time": "2022-05-29T15:23:23.946403",
     "exception": false,
     "start_time": "2022-05-29T15:23:23.921594",
     "status": "completed"
    },
    "tags": []
   },
   "outputs": [],
   "source": [
    "# Preprocess bureau.csv and bureau_balance.csv\n",
    "def bureau_and_balance(num_rows = None, nan_as_category = True):\n",
    "    bureau = pd.read_csv('/kaggle/input/gradient-descent/bureau.csv', nrows = num_rows)\n",
    "    bb = pd.read_csv('/kaggle/input/gradient-descent/bureau_balance.csv', nrows = num_rows)\n",
    "    bb, bb_cat = one_hot_encoder(bb, nan_as_category)\n",
    "    bureau, bureau_cat = one_hot_encoder(bureau, nan_as_category)\n",
    "    \n",
    "    # Bureau balance: Perform aggregations and merge with bureau.csv\n",
    "    bb_aggregations = {'MONTHS_BALANCE': ['min', 'max', 'size']}\n",
    "    for col in bb_cat:\n",
    "        bb_aggregations[col] = ['mean']\n",
    "    bb_agg = bb.groupby('SK_ID_BUREAU').agg(bb_aggregations)\n",
    "    bb_agg.columns = pd.Index([e[0] + \"_\" + e[1].upper() for e in bb_agg.columns.tolist()])\n",
    "    bureau = bureau.join(bb_agg, how='left', on='SK_ID_BUREAU')\n",
    "    bureau.drop(['SK_ID_BUREAU'], axis=1, inplace= True)\n",
    "    del bb, bb_agg\n",
    "    gc.collect()\n",
    "    \n",
    "    # Bureau and bureau_balance numeric features\n",
    "    num_aggregations = {\n",
    "        'DAYS_CREDIT': ['min', 'max', 'mean', 'var'],\n",
    "        'DAYS_CREDIT_ENDDATE': ['min', 'max', 'mean'],\n",
    "        'DAYS_CREDIT_UPDATE': ['mean'],\n",
    "        'CREDIT_DAY_OVERDUE': ['max', 'mean'],\n",
    "        'AMT_CREDIT_MAX_OVERDUE': ['mean'],\n",
    "        'AMT_CREDIT_SUM': ['max', 'mean', 'sum'],\n",
    "        'AMT_CREDIT_SUM_DEBT': ['max', 'mean', 'sum'],\n",
    "        'AMT_CREDIT_SUM_OVERDUE': ['mean'],\n",
    "        'AMT_CREDIT_SUM_LIMIT': ['mean', 'sum'],\n",
    "        'AMT_ANNUITY': ['max', 'mean'],\n",
    "        'CNT_CREDIT_PROLONG': ['sum'],\n",
    "        'MONTHS_BALANCE_MIN': ['min'],\n",
    "        'MONTHS_BALANCE_MAX': ['max'],\n",
    "        'MONTHS_BALANCE_SIZE': ['mean', 'sum']\n",
    "    }\n",
    "    # Bureau and bureau_balance categorical features\n",
    "    cat_aggregations = {}\n",
    "    for cat in bureau_cat: cat_aggregations[cat] = ['mean']\n",
    "    for cat in bb_cat: cat_aggregations[cat + \"_MEAN\"] = ['mean']\n",
    "    \n",
    "    bureau_agg = bureau.groupby('SK_ID_CURR').agg({**num_aggregations, **cat_aggregations})\n",
    "    bureau_agg.columns = pd.Index(['BURO_' + e[0] + \"_\" + e[1].upper() for e in bureau_agg.columns.tolist()])\n",
    "    # Bureau: Active credits - using only numerical aggregations\n",
    "    active = bureau[bureau['CREDIT_ACTIVE_Active'] == 1]\n",
    "    active_agg = active.groupby('SK_ID_CURR').agg(num_aggregations)\n",
    "    active_agg.columns = pd.Index(['ACTIVE_' + e[0] + \"_\" + e[1].upper() for e in active_agg.columns.tolist()])\n",
    "    bureau_agg = bureau_agg.join(active_agg, how='left', on='SK_ID_CURR')\n",
    "    del active, active_agg\n",
    "    gc.collect()\n",
    "    # Bureau: Closed credits - using only numerical aggregations\n",
    "    closed = bureau[bureau['CREDIT_ACTIVE_Closed'] == 1]\n",
    "    closed_agg = closed.groupby('SK_ID_CURR').agg(num_aggregations)\n",
    "    closed_agg.columns = pd.Index(['CLOSED_' + e[0] + \"_\" + e[1].upper() for e in closed_agg.columns.tolist()])\n",
    "    bureau_agg = bureau_agg.join(closed_agg, how='left', on='SK_ID_CURR')\n",
    "    del closed, closed_agg, bureau\n",
    "    gc.collect()\n",
    "    return bureau_agg"
   ]
  },
  {
   "cell_type": "code",
   "execution_count": 5,
   "id": "6cf6ed6b",
   "metadata": {
    "execution": {
     "iopub.execute_input": "2022-05-29T15:23:23.959035Z",
     "iopub.status.busy": "2022-05-29T15:23:23.958040Z",
     "iopub.status.idle": "2022-05-29T15:23:23.974803Z",
     "shell.execute_reply": "2022-05-29T15:23:23.974138Z"
    },
    "papermill": {
     "duration": 0.026608,
     "end_time": "2022-05-29T15:23:23.976897",
     "exception": false,
     "start_time": "2022-05-29T15:23:23.950289",
     "status": "completed"
    },
    "tags": []
   },
   "outputs": [],
   "source": [
    "# Preprocess previous_applications.csv\n",
    "def previous_applications(num_rows = None, nan_as_category = True):\n",
    "    prev = pd.read_csv('/kaggle/input/gradient-descent/previous_application.csv', nrows = num_rows)\n",
    "    prev, cat_cols = one_hot_encoder(prev, nan_as_category= True)\n",
    "    # Days 365.243 values -> nan\n",
    "    prev['DAYS_FIRST_DRAWING'].replace(365243, np.nan, inplace= True)\n",
    "    prev['DAYS_FIRST_DUE'].replace(365243, np.nan, inplace= True)\n",
    "    prev['DAYS_LAST_DUE_1ST_VERSION'].replace(365243, np.nan, inplace= True)\n",
    "    prev['DAYS_LAST_DUE'].replace(365243, np.nan, inplace= True)\n",
    "    prev['DAYS_TERMINATION'].replace(365243, np.nan, inplace= True)\n",
    "    # Add feature: value ask / value received percentage\n",
    "    prev['APP_CREDIT_PERC'] = prev['AMT_APPLICATION'] / prev['AMT_CREDIT']\n",
    "    # Previous applications numeric features\n",
    "    num_aggregations = {\n",
    "        'AMT_ANNUITY': ['min', 'max', 'mean'],\n",
    "        'AMT_APPLICATION': ['min', 'max', 'mean'],\n",
    "        'AMT_CREDIT': ['min', 'max', 'mean'],\n",
    "        'APP_CREDIT_PERC': ['min', 'max', 'mean', 'var'],\n",
    "        'AMT_DOWN_PAYMENT': ['min', 'max', 'mean'],\n",
    "        'AMT_GOODS_PRICE': ['min', 'max', 'mean'],\n",
    "        'HOUR_APPR_PROCESS_START': ['min', 'max', 'mean'],\n",
    "        'RATE_DOWN_PAYMENT': ['min', 'max', 'mean'],\n",
    "        'DAYS_DECISION': ['min', 'max', 'mean'],\n",
    "        'CNT_PAYMENT': ['mean', 'sum'],\n",
    "    }\n",
    "    # Previous applications categorical features\n",
    "    cat_aggregations = {}\n",
    "    for cat in cat_cols:\n",
    "        cat_aggregations[cat] = ['mean']\n",
    "    \n",
    "    prev_agg = prev.groupby('SK_ID_CURR').agg({**num_aggregations, **cat_aggregations})\n",
    "    prev_agg.columns = pd.Index(['PREV_' + e[0] + \"_\" + e[1].upper() for e in prev_agg.columns.tolist()])\n",
    "    # Previous Applications: Approved Applications - only numerical features\n",
    "    approved = prev[prev['NAME_CONTRACT_STATUS_Approved'] == 1]\n",
    "    approved_agg = approved.groupby('SK_ID_CURR').agg(num_aggregations)\n",
    "    approved_agg.columns = pd.Index(['APPROVED_' + e[0] + \"_\" + e[1].upper() for e in approved_agg.columns.tolist()])\n",
    "    prev_agg = prev_agg.join(approved_agg, how='left', on='SK_ID_CURR')\n",
    "    # Previous Applications: Refused Applications - only numerical features\n",
    "    refused = prev[prev['NAME_CONTRACT_STATUS_Refused'] == 1]\n",
    "    refused_agg = refused.groupby('SK_ID_CURR').agg(num_aggregations)\n",
    "    refused_agg.columns = pd.Index(['REFUSED_' + e[0] + \"_\" + e[1].upper() for e in refused_agg.columns.tolist()])\n",
    "    prev_agg = prev_agg.join(refused_agg, how='left', on='SK_ID_CURR')\n",
    "    del refused, refused_agg, approved, approved_agg, prev\n",
    "    gc.collect()\n",
    "    return prev_agg\n"
   ]
  },
  {
   "cell_type": "code",
   "execution_count": 6,
   "id": "3b1057ad",
   "metadata": {
    "execution": {
     "iopub.execute_input": "2022-05-29T15:23:23.985775Z",
     "iopub.status.busy": "2022-05-29T15:23:23.985259Z",
     "iopub.status.idle": "2022-05-29T15:23:24.001657Z",
     "shell.execute_reply": "2022-05-29T15:23:24.000949Z"
    },
    "papermill": {
     "duration": 0.022565,
     "end_time": "2022-05-29T15:23:24.003401",
     "exception": false,
     "start_time": "2022-05-29T15:23:23.980836",
     "status": "completed"
    },
    "tags": []
   },
   "outputs": [],
   "source": [
    "# Preprocess POS_CASH_balance.csv\n",
    "def pos_cash(num_rows = None, nan_as_category = True):\n",
    "    pos = pd.read_csv('/kaggle/input/gradient-descent/POS_CASH_balance.csv', nrows = num_rows)\n",
    "    pos, cat_cols = one_hot_encoder(pos, nan_as_category= True)\n",
    "    # Features\n",
    "    aggregations = {\n",
    "        'MONTHS_BALANCE': ['max', 'mean', 'size'],\n",
    "        'SK_DPD': ['max', 'mean'],\n",
    "        'SK_DPD_DEF': ['max', 'mean']\n",
    "    }\n",
    "    for cat in cat_cols:\n",
    "        aggregations[cat] = ['mean']\n",
    "    \n",
    "    pos_agg = pos.groupby('SK_ID_CURR').agg(aggregations)\n",
    "    pos_agg.columns = pd.Index(['POS_' + e[0] + \"_\" + e[1].upper() for e in pos_agg.columns.tolist()])\n",
    "    # Count pos cash accounts\n",
    "    pos_agg['POS_COUNT'] = pos.groupby('SK_ID_CURR').size()\n",
    "    del pos\n",
    "    gc.collect()\n",
    "    return pos_agg\n",
    "    \n",
    "# Preprocess installments_payments.csv\n",
    "def installments_payments(num_rows = None, nan_as_category = True):\n",
    "    ins = pd.read_csv('/kaggle/input/gradient-descent/installments_payments.csv', nrows = num_rows)\n",
    "    ins, cat_cols = one_hot_encoder(ins, nan_as_category= True)\n",
    "    # Percentage and difference paid in each installment (amount paid and installment value)\n",
    "    ins['PAYMENT_PERC'] = ins['AMT_PAYMENT'] / ins['AMT_INSTALMENT']\n",
    "    ins['PAYMENT_DIFF'] = ins['AMT_INSTALMENT'] - ins['AMT_PAYMENT']\n",
    "    # Days past due and days before due (no negative values)\n",
    "    ins['DPD'] = ins['DAYS_ENTRY_PAYMENT'] - ins['DAYS_INSTALMENT']\n",
    "    ins['DBD'] = ins['DAYS_INSTALMENT'] - ins['DAYS_ENTRY_PAYMENT']\n",
    "    ins['DPD'] = ins['DPD'].apply(lambda x: x if x > 0 else 0)\n",
    "    ins['DBD'] = ins['DBD'].apply(lambda x: x if x > 0 else 0)\n",
    "    # Features: Perform aggregations\n",
    "    aggregations = {\n",
    "        'NUM_INSTALMENT_VERSION': ['nunique'],\n",
    "        'DPD': ['max', 'mean', 'sum'],\n",
    "        'DBD': ['max', 'mean', 'sum'],\n",
    "        'PAYMENT_PERC': ['max', 'mean', 'sum', 'var'],\n",
    "        'PAYMENT_DIFF': ['max', 'mean', 'sum', 'var'],\n",
    "        'AMT_INSTALMENT': ['max', 'mean', 'sum'],\n",
    "        'AMT_PAYMENT': ['min', 'max', 'mean', 'sum'],\n",
    "        'DAYS_ENTRY_PAYMENT': ['max', 'mean', 'sum']\n",
    "    }\n",
    "    for cat in cat_cols:\n",
    "        aggregations[cat] = ['mean']\n",
    "    ins_agg = ins.groupby('SK_ID_CURR').agg(aggregations)\n",
    "    ins_agg.columns = pd.Index(['INSTAL_' + e[0] + \"_\" + e[1].upper() for e in ins_agg.columns.tolist()])\n",
    "    # Count installments accounts\n",
    "    ins_agg['INSTAL_COUNT'] = ins.groupby('SK_ID_CURR').size()\n",
    "    del ins\n",
    "    gc.collect()\n",
    "    return ins_agg"
   ]
  },
  {
   "cell_type": "code",
   "execution_count": 7,
   "id": "ef00e8c2",
   "metadata": {
    "execution": {
     "iopub.execute_input": "2022-05-29T15:23:24.013132Z",
     "iopub.status.busy": "2022-05-29T15:23:24.012503Z",
     "iopub.status.idle": "2022-05-29T16:46:02.872931Z",
     "shell.execute_reply": "2022-05-29T16:46:02.871793Z"
    },
    "papermill": {
     "duration": 4958.870179,
     "end_time": "2022-05-29T16:46:02.877173",
     "exception": false,
     "start_time": "2022-05-29T15:23:24.006994",
     "status": "completed"
    },
    "tags": []
   },
   "outputs": [
    {
     "name": "stdout",
     "output_type": "stream",
     "text": [
      "Train samples: 307511, test samples: 48744\n",
      "Bureau df shape: (305811, 116)\n",
      "Process bureau and bureau_balance - done in 30s\n",
      "Previous applications df shape: (338857, 249)\n",
      "Process previous_applications - done in 29s\n",
      "Pos-cash balance df shape: (337252, 18)\n",
      "Process POS-CASH balance - done in 17s\n",
      "Installments payments df shape: (339587, 26)\n",
      "Process installments payments - done in 45s\n",
      "Credit card balance df shape: (103558, 141)\n",
      "Process credit card balance - done in 31s\n",
      "Starting LightGBM. Train shape: (307507, 798), test shape: (48744, 798)\n"
     ]
    },
    {
     "name": "stderr",
     "output_type": "stream",
     "text": [
      "/opt/conda/lib/python3.7/site-packages/lightgbm/sklearn.py:598: UserWarning: 'silent' argument is deprecated and will be removed in a future release of LightGBM. Pass 'verbose' parameter via keyword arguments instead.\n",
      "  _log_warning(\"'silent' argument is deprecated and will be removed in a future release of LightGBM. \"\n",
      "/opt/conda/lib/python3.7/site-packages/lightgbm/sklearn.py:726: UserWarning: 'early_stopping_rounds' argument is deprecated and will be removed in a future release of LightGBM. Pass 'early_stopping()' callback via 'callbacks' argument instead.\n",
      "  _log_warning(\"'early_stopping_rounds' argument is deprecated and will be removed in a future release of LightGBM. \"\n",
      "/opt/conda/lib/python3.7/site-packages/lightgbm/sklearn.py:736: UserWarning: 'verbose' argument is deprecated and will be removed in a future release of LightGBM. Pass 'log_evaluation()' callback via 'callbacks' argument instead.\n",
      "  _log_warning(\"'verbose' argument is deprecated and will be removed in a future release of LightGBM. \"\n"
     ]
    },
    {
     "name": "stdout",
     "output_type": "stream",
     "text": [
      "[LightGBM] [Warning] num_threads is set with nthread=4, will be overridden by n_jobs=-1. Current value: num_threads=-1\n",
      "[200]\ttraining's auc: 0.797445\ttraining's binary_logloss: 0.234636\tvalid_1's auc: 0.777354\tvalid_1's binary_logloss: 0.246379\n",
      "[400]\ttraining's auc: 0.820468\ttraining's binary_logloss: 0.224923\tvalid_1's auc: 0.788356\tvalid_1's binary_logloss: 0.242156\n",
      "[600]\ttraining's auc: 0.836244\ttraining's binary_logloss: 0.218593\tvalid_1's auc: 0.792129\tvalid_1's binary_logloss: 0.240838\n",
      "[800]\ttraining's auc: 0.849866\ttraining's binary_logloss: 0.213138\tvalid_1's auc: 0.793937\tvalid_1's binary_logloss: 0.240186\n",
      "[1000]\ttraining's auc: 0.861637\ttraining's binary_logloss: 0.208214\tvalid_1's auc: 0.794852\tvalid_1's binary_logloss: 0.239853\n",
      "[1200]\ttraining's auc: 0.872283\ttraining's binary_logloss: 0.203536\tvalid_1's auc: 0.795296\tvalid_1's binary_logloss: 0.239638\n",
      "[1400]\ttraining's auc: 0.88159\ttraining's binary_logloss: 0.19929\tvalid_1's auc: 0.795255\tvalid_1's binary_logloss: 0.23964\n",
      "Fold  1 AUC : 0.795422\n"
     ]
    },
    {
     "name": "stderr",
     "output_type": "stream",
     "text": [
      "/opt/conda/lib/python3.7/site-packages/lightgbm/sklearn.py:598: UserWarning: 'silent' argument is deprecated and will be removed in a future release of LightGBM. Pass 'verbose' parameter via keyword arguments instead.\n",
      "  _log_warning(\"'silent' argument is deprecated and will be removed in a future release of LightGBM. \"\n",
      "/opt/conda/lib/python3.7/site-packages/lightgbm/sklearn.py:726: UserWarning: 'early_stopping_rounds' argument is deprecated and will be removed in a future release of LightGBM. Pass 'early_stopping()' callback via 'callbacks' argument instead.\n",
      "  _log_warning(\"'early_stopping_rounds' argument is deprecated and will be removed in a future release of LightGBM. \"\n",
      "/opt/conda/lib/python3.7/site-packages/lightgbm/sklearn.py:736: UserWarning: 'verbose' argument is deprecated and will be removed in a future release of LightGBM. Pass 'log_evaluation()' callback via 'callbacks' argument instead.\n",
      "  _log_warning(\"'verbose' argument is deprecated and will be removed in a future release of LightGBM. \"\n"
     ]
    },
    {
     "name": "stdout",
     "output_type": "stream",
     "text": [
      "[LightGBM] [Warning] num_threads is set with nthread=4, will be overridden by n_jobs=-1. Current value: num_threads=-1\n",
      "[200]\ttraining's auc: 0.797098\ttraining's binary_logloss: 0.235283\tvalid_1's auc: 0.778314\tvalid_1's binary_logloss: 0.241313\n",
      "[400]\ttraining's auc: 0.820496\ttraining's binary_logloss: 0.225537\tvalid_1's auc: 0.786869\tvalid_1's binary_logloss: 0.237363\n",
      "[600]\ttraining's auc: 0.836317\ttraining's binary_logloss: 0.219213\tvalid_1's auc: 0.78994\tvalid_1's binary_logloss: 0.236064\n",
      "[800]\ttraining's auc: 0.849676\ttraining's binary_logloss: 0.21384\tvalid_1's auc: 0.791662\tvalid_1's binary_logloss: 0.235379\n",
      "[1000]\ttraining's auc: 0.861504\ttraining's binary_logloss: 0.208919\tvalid_1's auc: 0.792522\tvalid_1's binary_logloss: 0.235015\n",
      "[1200]\ttraining's auc: 0.872119\ttraining's binary_logloss: 0.20432\tvalid_1's auc: 0.792966\tvalid_1's binary_logloss: 0.234786\n",
      "[1400]\ttraining's auc: 0.881618\ttraining's binary_logloss: 0.200077\tvalid_1's auc: 0.793317\tvalid_1's binary_logloss: 0.234594\n",
      "Fold  2 AUC : 0.793442\n"
     ]
    },
    {
     "name": "stderr",
     "output_type": "stream",
     "text": [
      "/opt/conda/lib/python3.7/site-packages/lightgbm/sklearn.py:598: UserWarning: 'silent' argument is deprecated and will be removed in a future release of LightGBM. Pass 'verbose' parameter via keyword arguments instead.\n",
      "  _log_warning(\"'silent' argument is deprecated and will be removed in a future release of LightGBM. \"\n",
      "/opt/conda/lib/python3.7/site-packages/lightgbm/sklearn.py:726: UserWarning: 'early_stopping_rounds' argument is deprecated and will be removed in a future release of LightGBM. Pass 'early_stopping()' callback via 'callbacks' argument instead.\n",
      "  _log_warning(\"'early_stopping_rounds' argument is deprecated and will be removed in a future release of LightGBM. \"\n",
      "/opt/conda/lib/python3.7/site-packages/lightgbm/sklearn.py:736: UserWarning: 'verbose' argument is deprecated and will be removed in a future release of LightGBM. Pass 'log_evaluation()' callback via 'callbacks' argument instead.\n",
      "  _log_warning(\"'verbose' argument is deprecated and will be removed in a future release of LightGBM. \"\n"
     ]
    },
    {
     "name": "stdout",
     "output_type": "stream",
     "text": [
      "[LightGBM] [Warning] num_threads is set with nthread=4, will be overridden by n_jobs=-1. Current value: num_threads=-1\n",
      "[200]\ttraining's auc: 0.797639\ttraining's binary_logloss: 0.234748\tvalid_1's auc: 0.768049\tvalid_1's binary_logloss: 0.246406\n",
      "[400]\ttraining's auc: 0.820758\ttraining's binary_logloss: 0.225061\tvalid_1's auc: 0.777973\tvalid_1's binary_logloss: 0.242609\n",
      "[600]\ttraining's auc: 0.836493\ttraining's binary_logloss: 0.21872\tvalid_1's auc: 0.781495\tvalid_1's binary_logloss: 0.241485\n",
      "[800]\ttraining's auc: 0.850073\ttraining's binary_logloss: 0.213252\tvalid_1's auc: 0.783478\tvalid_1's binary_logloss: 0.240874\n",
      "[1000]\ttraining's auc: 0.861532\ttraining's binary_logloss: 0.208415\tvalid_1's auc: 0.784368\tvalid_1's binary_logloss: 0.240627\n",
      "[1200]\ttraining's auc: 0.871965\ttraining's binary_logloss: 0.203898\tvalid_1's auc: 0.78514\tvalid_1's binary_logloss: 0.240376\n",
      "[1400]\ttraining's auc: 0.88154\ttraining's binary_logloss: 0.199585\tvalid_1's auc: 0.785114\tvalid_1's binary_logloss: 0.240408\n",
      "Fold  3 AUC : 0.785329\n"
     ]
    },
    {
     "name": "stderr",
     "output_type": "stream",
     "text": [
      "/opt/conda/lib/python3.7/site-packages/lightgbm/sklearn.py:598: UserWarning: 'silent' argument is deprecated and will be removed in a future release of LightGBM. Pass 'verbose' parameter via keyword arguments instead.\n",
      "  _log_warning(\"'silent' argument is deprecated and will be removed in a future release of LightGBM. \"\n",
      "/opt/conda/lib/python3.7/site-packages/lightgbm/sklearn.py:726: UserWarning: 'early_stopping_rounds' argument is deprecated and will be removed in a future release of LightGBM. Pass 'early_stopping()' callback via 'callbacks' argument instead.\n",
      "  _log_warning(\"'early_stopping_rounds' argument is deprecated and will be removed in a future release of LightGBM. \"\n",
      "/opt/conda/lib/python3.7/site-packages/lightgbm/sklearn.py:736: UserWarning: 'verbose' argument is deprecated and will be removed in a future release of LightGBM. Pass 'log_evaluation()' callback via 'callbacks' argument instead.\n",
      "  _log_warning(\"'verbose' argument is deprecated and will be removed in a future release of LightGBM. \"\n"
     ]
    },
    {
     "name": "stdout",
     "output_type": "stream",
     "text": [
      "[LightGBM] [Warning] num_threads is set with nthread=4, will be overridden by n_jobs=-1. Current value: num_threads=-1\n",
      "[200]\ttraining's auc: 0.797149\ttraining's binary_logloss: 0.235272\tvalid_1's auc: 0.779218\tvalid_1's binary_logloss: 0.240999\n",
      "[400]\ttraining's auc: 0.820281\ttraining's binary_logloss: 0.225599\tvalid_1's auc: 0.789166\tvalid_1's binary_logloss: 0.236741\n",
      "[600]\ttraining's auc: 0.836112\ttraining's binary_logloss: 0.219244\tvalid_1's auc: 0.791943\tvalid_1's binary_logloss: 0.235504\n",
      "[800]\ttraining's auc: 0.849302\ttraining's binary_logloss: 0.213882\tvalid_1's auc: 0.793612\tvalid_1's binary_logloss: 0.234845\n",
      "[1000]\ttraining's auc: 0.861006\ttraining's binary_logloss: 0.209034\tvalid_1's auc: 0.79409\tvalid_1's binary_logloss: 0.234589\n",
      "[1200]\ttraining's auc: 0.871703\ttraining's binary_logloss: 0.204392\tvalid_1's auc: 0.794443\tvalid_1's binary_logloss: 0.234433\n",
      "[1400]\ttraining's auc: 0.881175\ttraining's binary_logloss: 0.2001\tvalid_1's auc: 0.794547\tvalid_1's binary_logloss: 0.234372\n",
      "[1600]\ttraining's auc: 0.88987\ttraining's binary_logloss: 0.195978\tvalid_1's auc: 0.794558\tvalid_1's binary_logloss: 0.234293\n",
      "Fold  4 AUC : 0.794688\n"
     ]
    },
    {
     "name": "stderr",
     "output_type": "stream",
     "text": [
      "/opt/conda/lib/python3.7/site-packages/lightgbm/sklearn.py:598: UserWarning: 'silent' argument is deprecated and will be removed in a future release of LightGBM. Pass 'verbose' parameter via keyword arguments instead.\n",
      "  _log_warning(\"'silent' argument is deprecated and will be removed in a future release of LightGBM. \"\n",
      "/opt/conda/lib/python3.7/site-packages/lightgbm/sklearn.py:726: UserWarning: 'early_stopping_rounds' argument is deprecated and will be removed in a future release of LightGBM. Pass 'early_stopping()' callback via 'callbacks' argument instead.\n",
      "  _log_warning(\"'early_stopping_rounds' argument is deprecated and will be removed in a future release of LightGBM. \"\n",
      "/opt/conda/lib/python3.7/site-packages/lightgbm/sklearn.py:736: UserWarning: 'verbose' argument is deprecated and will be removed in a future release of LightGBM. Pass 'log_evaluation()' callback via 'callbacks' argument instead.\n",
      "  _log_warning(\"'verbose' argument is deprecated and will be removed in a future release of LightGBM. \"\n"
     ]
    },
    {
     "name": "stdout",
     "output_type": "stream",
     "text": [
      "[LightGBM] [Warning] num_threads is set with nthread=4, will be overridden by n_jobs=-1. Current value: num_threads=-1\n",
      "[200]\ttraining's auc: 0.79689\ttraining's binary_logloss: 0.236093\tvalid_1's auc: 0.780758\tvalid_1's binary_logloss: 0.233942\n",
      "[400]\ttraining's auc: 0.819838\ttraining's binary_logloss: 0.226418\tvalid_1's auc: 0.791374\tvalid_1's binary_logloss: 0.229608\n",
      "[600]\ttraining's auc: 0.835674\ttraining's binary_logloss: 0.220036\tvalid_1's auc: 0.794846\tvalid_1's binary_logloss: 0.228237\n",
      "[800]\ttraining's auc: 0.848903\ttraining's binary_logloss: 0.214657\tvalid_1's auc: 0.7967\tvalid_1's binary_logloss: 0.227562\n",
      "[1000]\ttraining's auc: 0.860858\ttraining's binary_logloss: 0.209671\tvalid_1's auc: 0.797951\tvalid_1's binary_logloss: 0.227079\n",
      "[1200]\ttraining's auc: 0.871317\ttraining's binary_logloss: 0.205084\tvalid_1's auc: 0.798218\tvalid_1's binary_logloss: 0.226951\n",
      "Fold  5 AUC : 0.798432\n"
     ]
    },
    {
     "name": "stderr",
     "output_type": "stream",
     "text": [
      "/opt/conda/lib/python3.7/site-packages/lightgbm/sklearn.py:598: UserWarning: 'silent' argument is deprecated and will be removed in a future release of LightGBM. Pass 'verbose' parameter via keyword arguments instead.\n",
      "  _log_warning(\"'silent' argument is deprecated and will be removed in a future release of LightGBM. \"\n",
      "/opt/conda/lib/python3.7/site-packages/lightgbm/sklearn.py:726: UserWarning: 'early_stopping_rounds' argument is deprecated and will be removed in a future release of LightGBM. Pass 'early_stopping()' callback via 'callbacks' argument instead.\n",
      "  _log_warning(\"'early_stopping_rounds' argument is deprecated and will be removed in a future release of LightGBM. \"\n",
      "/opt/conda/lib/python3.7/site-packages/lightgbm/sklearn.py:736: UserWarning: 'verbose' argument is deprecated and will be removed in a future release of LightGBM. Pass 'log_evaluation()' callback via 'callbacks' argument instead.\n",
      "  _log_warning(\"'verbose' argument is deprecated and will be removed in a future release of LightGBM. \"\n"
     ]
    },
    {
     "name": "stdout",
     "output_type": "stream",
     "text": [
      "[LightGBM] [Warning] num_threads is set with nthread=4, will be overridden by n_jobs=-1. Current value: num_threads=-1\n",
      "[200]\ttraining's auc: 0.79798\ttraining's binary_logloss: 0.235042\tvalid_1's auc: 0.767554\tvalid_1's binary_logloss: 0.24313\n",
      "[400]\ttraining's auc: 0.820908\ttraining's binary_logloss: 0.225346\tvalid_1's auc: 0.778878\tvalid_1's binary_logloss: 0.239131\n",
      "[600]\ttraining's auc: 0.836981\ttraining's binary_logloss: 0.218902\tvalid_1's auc: 0.783182\tvalid_1's binary_logloss: 0.237728\n",
      "[800]\ttraining's auc: 0.850338\ttraining's binary_logloss: 0.213508\tvalid_1's auc: 0.785021\tvalid_1's binary_logloss: 0.237099\n",
      "[1000]\ttraining's auc: 0.861658\ttraining's binary_logloss: 0.208735\tvalid_1's auc: 0.78581\tvalid_1's binary_logloss: 0.236833\n",
      "[1200]\ttraining's auc: 0.87228\ttraining's binary_logloss: 0.204114\tvalid_1's auc: 0.78645\tvalid_1's binary_logloss: 0.236704\n",
      "Fold  6 AUC : 0.786553\n"
     ]
    },
    {
     "name": "stderr",
     "output_type": "stream",
     "text": [
      "/opt/conda/lib/python3.7/site-packages/lightgbm/sklearn.py:598: UserWarning: 'silent' argument is deprecated and will be removed in a future release of LightGBM. Pass 'verbose' parameter via keyword arguments instead.\n",
      "  _log_warning(\"'silent' argument is deprecated and will be removed in a future release of LightGBM. \"\n",
      "/opt/conda/lib/python3.7/site-packages/lightgbm/sklearn.py:726: UserWarning: 'early_stopping_rounds' argument is deprecated and will be removed in a future release of LightGBM. Pass 'early_stopping()' callback via 'callbacks' argument instead.\n",
      "  _log_warning(\"'early_stopping_rounds' argument is deprecated and will be removed in a future release of LightGBM. \"\n",
      "/opt/conda/lib/python3.7/site-packages/lightgbm/sklearn.py:736: UserWarning: 'verbose' argument is deprecated and will be removed in a future release of LightGBM. Pass 'log_evaluation()' callback via 'callbacks' argument instead.\n",
      "  _log_warning(\"'verbose' argument is deprecated and will be removed in a future release of LightGBM. \"\n"
     ]
    },
    {
     "name": "stdout",
     "output_type": "stream",
     "text": [
      "[LightGBM] [Warning] num_threads is set with nthread=4, will be overridden by n_jobs=-1. Current value: num_threads=-1\n",
      "[200]\ttraining's auc: 0.797786\ttraining's binary_logloss: 0.23523\tvalid_1's auc: 0.774863\tvalid_1's binary_logloss: 0.240376\n",
      "[400]\ttraining's auc: 0.820837\ttraining's binary_logloss: 0.225512\tvalid_1's auc: 0.784178\tvalid_1's binary_logloss: 0.236432\n",
      "[600]\ttraining's auc: 0.836909\ttraining's binary_logloss: 0.219109\tvalid_1's auc: 0.787643\tvalid_1's binary_logloss: 0.235162\n",
      "[800]\ttraining's auc: 0.850465\ttraining's binary_logloss: 0.21361\tvalid_1's auc: 0.789304\tvalid_1's binary_logloss: 0.234602\n",
      "[1000]\ttraining's auc: 0.862104\ttraining's binary_logloss: 0.208685\tvalid_1's auc: 0.790002\tvalid_1's binary_logloss: 0.234378\n",
      "[1200]\ttraining's auc: 0.872901\ttraining's binary_logloss: 0.204032\tvalid_1's auc: 0.79063\tvalid_1's binary_logloss: 0.234236\n",
      "[1400]\ttraining's auc: 0.882131\ttraining's binary_logloss: 0.199778\tvalid_1's auc: 0.790624\tvalid_1's binary_logloss: 0.234219\n",
      "Fold  7 AUC : 0.790727\n"
     ]
    },
    {
     "name": "stderr",
     "output_type": "stream",
     "text": [
      "/opt/conda/lib/python3.7/site-packages/lightgbm/sklearn.py:598: UserWarning: 'silent' argument is deprecated and will be removed in a future release of LightGBM. Pass 'verbose' parameter via keyword arguments instead.\n",
      "  _log_warning(\"'silent' argument is deprecated and will be removed in a future release of LightGBM. \"\n",
      "/opt/conda/lib/python3.7/site-packages/lightgbm/sklearn.py:726: UserWarning: 'early_stopping_rounds' argument is deprecated and will be removed in a future release of LightGBM. Pass 'early_stopping()' callback via 'callbacks' argument instead.\n",
      "  _log_warning(\"'early_stopping_rounds' argument is deprecated and will be removed in a future release of LightGBM. \"\n",
      "/opt/conda/lib/python3.7/site-packages/lightgbm/sklearn.py:736: UserWarning: 'verbose' argument is deprecated and will be removed in a future release of LightGBM. Pass 'log_evaluation()' callback via 'callbacks' argument instead.\n",
      "  _log_warning(\"'verbose' argument is deprecated and will be removed in a future release of LightGBM. \"\n"
     ]
    },
    {
     "name": "stdout",
     "output_type": "stream",
     "text": [
      "[LightGBM] [Warning] num_threads is set with nthread=4, will be overridden by n_jobs=-1. Current value: num_threads=-1\n",
      "[200]\ttraining's auc: 0.797557\ttraining's binary_logloss: 0.234831\tvalid_1's auc: 0.771473\tvalid_1's binary_logloss: 0.244975\n",
      "[400]\ttraining's auc: 0.820463\ttraining's binary_logloss: 0.225188\tvalid_1's auc: 0.782168\tvalid_1's binary_logloss: 0.24082\n",
      "[600]\ttraining's auc: 0.836294\ttraining's binary_logloss: 0.218872\tvalid_1's auc: 0.786872\tvalid_1's binary_logloss: 0.239236\n",
      "[800]\ttraining's auc: 0.849717\ttraining's binary_logloss: 0.213426\tvalid_1's auc: 0.788956\tvalid_1's binary_logloss: 0.238443\n",
      "[1000]\ttraining's auc: 0.861354\ttraining's binary_logloss: 0.208546\tvalid_1's auc: 0.790159\tvalid_1's binary_logloss: 0.238061\n",
      "[1200]\ttraining's auc: 0.871698\ttraining's binary_logloss: 0.20405\tvalid_1's auc: 0.791303\tvalid_1's binary_logloss: 0.237686\n",
      "[1400]\ttraining's auc: 0.881205\ttraining's binary_logloss: 0.199686\tvalid_1's auc: 0.792024\tvalid_1's binary_logloss: 0.237425\n",
      "[1600]\ttraining's auc: 0.890156\ttraining's binary_logloss: 0.195513\tvalid_1's auc: 0.7926\tvalid_1's binary_logloss: 0.237205\n",
      "[1800]\ttraining's auc: 0.897918\ttraining's binary_logloss: 0.191682\tvalid_1's auc: 0.792413\tvalid_1's binary_logloss: 0.237213\n",
      "Fold  8 AUC : 0.792669\n"
     ]
    },
    {
     "name": "stderr",
     "output_type": "stream",
     "text": [
      "/opt/conda/lib/python3.7/site-packages/lightgbm/sklearn.py:598: UserWarning: 'silent' argument is deprecated and will be removed in a future release of LightGBM. Pass 'verbose' parameter via keyword arguments instead.\n",
      "  _log_warning(\"'silent' argument is deprecated and will be removed in a future release of LightGBM. \"\n",
      "/opt/conda/lib/python3.7/site-packages/lightgbm/sklearn.py:726: UserWarning: 'early_stopping_rounds' argument is deprecated and will be removed in a future release of LightGBM. Pass 'early_stopping()' callback via 'callbacks' argument instead.\n",
      "  _log_warning(\"'early_stopping_rounds' argument is deprecated and will be removed in a future release of LightGBM. \"\n",
      "/opt/conda/lib/python3.7/site-packages/lightgbm/sklearn.py:736: UserWarning: 'verbose' argument is deprecated and will be removed in a future release of LightGBM. Pass 'log_evaluation()' callback via 'callbacks' argument instead.\n",
      "  _log_warning(\"'verbose' argument is deprecated and will be removed in a future release of LightGBM. \"\n"
     ]
    },
    {
     "name": "stdout",
     "output_type": "stream",
     "text": [
      "[LightGBM] [Warning] num_threads is set with nthread=4, will be overridden by n_jobs=-1. Current value: num_threads=-1\n",
      "[200]\ttraining's auc: 0.796859\ttraining's binary_logloss: 0.235207\tvalid_1's auc: 0.781792\tvalid_1's binary_logloss: 0.242186\n",
      "[400]\ttraining's auc: 0.820287\ttraining's binary_logloss: 0.225398\tvalid_1's auc: 0.791615\tvalid_1's binary_logloss: 0.237753\n",
      "[600]\ttraining's auc: 0.836555\ttraining's binary_logloss: 0.218938\tvalid_1's auc: 0.795005\tvalid_1's binary_logloss: 0.236353\n",
      "[800]\ttraining's auc: 0.850108\ttraining's binary_logloss: 0.213477\tvalid_1's auc: 0.796376\tvalid_1's binary_logloss: 0.235764\n",
      "[1000]\ttraining's auc: 0.861928\ttraining's binary_logloss: 0.208574\tvalid_1's auc: 0.797117\tvalid_1's binary_logloss: 0.235397\n",
      "[1200]\ttraining's auc: 0.872618\ttraining's binary_logloss: 0.203954\tvalid_1's auc: 0.797555\tvalid_1's binary_logloss: 0.235231\n",
      "[1400]\ttraining's auc: 0.882058\ttraining's binary_logloss: 0.199657\tvalid_1's auc: 0.797921\tvalid_1's binary_logloss: 0.235096\n",
      "[1600]\ttraining's auc: 0.890702\ttraining's binary_logloss: 0.195587\tvalid_1's auc: 0.798229\tvalid_1's binary_logloss: 0.234971\n",
      "[1800]\ttraining's auc: 0.898607\ttraining's binary_logloss: 0.19163\tvalid_1's auc: 0.798361\tvalid_1's binary_logloss: 0.234913\n",
      "Fold  9 AUC : 0.798531\n"
     ]
    },
    {
     "name": "stderr",
     "output_type": "stream",
     "text": [
      "/opt/conda/lib/python3.7/site-packages/lightgbm/sklearn.py:598: UserWarning: 'silent' argument is deprecated and will be removed in a future release of LightGBM. Pass 'verbose' parameter via keyword arguments instead.\n",
      "  _log_warning(\"'silent' argument is deprecated and will be removed in a future release of LightGBM. \"\n",
      "/opt/conda/lib/python3.7/site-packages/lightgbm/sklearn.py:726: UserWarning: 'early_stopping_rounds' argument is deprecated and will be removed in a future release of LightGBM. Pass 'early_stopping()' callback via 'callbacks' argument instead.\n",
      "  _log_warning(\"'early_stopping_rounds' argument is deprecated and will be removed in a future release of LightGBM. \"\n",
      "/opt/conda/lib/python3.7/site-packages/lightgbm/sklearn.py:736: UserWarning: 'verbose' argument is deprecated and will be removed in a future release of LightGBM. Pass 'log_evaluation()' callback via 'callbacks' argument instead.\n",
      "  _log_warning(\"'verbose' argument is deprecated and will be removed in a future release of LightGBM. \"\n"
     ]
    },
    {
     "name": "stdout",
     "output_type": "stream",
     "text": [
      "[LightGBM] [Warning] num_threads is set with nthread=4, will be overridden by n_jobs=-1. Current value: num_threads=-1\n",
      "[200]\ttraining's auc: 0.797462\ttraining's binary_logloss: 0.235354\tvalid_1's auc: 0.773224\tvalid_1's binary_logloss: 0.240457\n",
      "[400]\ttraining's auc: 0.820671\ttraining's binary_logloss: 0.225664\tvalid_1's auc: 0.784063\tvalid_1's binary_logloss: 0.236194\n",
      "[600]\ttraining's auc: 0.836494\ttraining's binary_logloss: 0.219267\tvalid_1's auc: 0.788248\tvalid_1's binary_logloss: 0.234708\n",
      "[800]\ttraining's auc: 0.849881\ttraining's binary_logloss: 0.213817\tvalid_1's auc: 0.790191\tvalid_1's binary_logloss: 0.234014\n",
      "[1000]\ttraining's auc: 0.861692\ttraining's binary_logloss: 0.208899\tvalid_1's auc: 0.790741\tvalid_1's binary_logloss: 0.23375\n",
      "[1200]\ttraining's auc: 0.871838\ttraining's binary_logloss: 0.204432\tvalid_1's auc: 0.791216\tvalid_1's binary_logloss: 0.233523\n",
      "[1400]\ttraining's auc: 0.881489\ttraining's binary_logloss: 0.200077\tvalid_1's auc: 0.791406\tvalid_1's binary_logloss: 0.233429\n",
      "[1600]\ttraining's auc: 0.890199\ttraining's binary_logloss: 0.19595\tvalid_1's auc: 0.791767\tvalid_1's binary_logloss: 0.233287\n",
      "[1800]\ttraining's auc: 0.898198\ttraining's binary_logloss: 0.192004\tvalid_1's auc: 0.791695\tvalid_1's binary_logloss: 0.233298\n",
      "Fold 10 AUC : 0.791865\n",
      "Full AUC score 0.792730\n",
      "Run LightGBM with kfold - done in 4796s\n",
      "Full model run - done in 4959s\n"
     ]
    },
    {
     "data": {
      "image/png": "[encoded data removed]",
      "text/plain": [
       "<Figure size 576x720 with 1 Axes>"
      ]
     },
     "metadata": {
      "needs_background": "light"
     },
     "output_type": "display_data"
    }
   ],
   "source": [
    "# Preprocess credit_card_balance.csv\n",
    "def credit_card_balance(num_rows = None, nan_as_category = True):\n",
    "    cc = pd.read_csv('/kaggle/input/gradient-descent/credit_card_balance.csv', nrows = num_rows)\n",
    "    cc, cat_cols = one_hot_encoder(cc, nan_as_category= True)\n",
    "    # General aggregations\n",
    "    cc.drop(['SK_ID_PREV'], axis= 1, inplace = True)\n",
    "    cc_agg = cc.groupby('SK_ID_CURR').agg(['min', 'max', 'mean', 'sum', 'var'])\n",
    "    cc_agg.columns = pd.Index(['CC_' + e[0] + \"_\" + e[1].upper() for e in cc_agg.columns.tolist()])\n",
    "    # Count credit card lines\n",
    "    cc_agg['CC_COUNT'] = cc.groupby('SK_ID_CURR').size()\n",
    "    del cc\n",
    "    gc.collect()\n",
    "    return cc_agg\n",
    "\n",
    "# LightGBM GBDT with KFold or Stratified KFold\n",
    "# Parameters from Tilii kernel: https://www.kaggle.com/tilii7/olivier-lightgbm-parameters-by-bayesian-opt/code\n",
    "def kfold_lightgbm(df, num_folds, stratified = False, debug= False):\n",
    "    # Divide in training/validation and test data\n",
    "    df = df.rename(columns = lambda x:re.sub('[^A-Za-z0-9_]+', '', x))\n",
    "    train_df = df[df['TARGET'].notnull()]\n",
    "    test_df = df[df['TARGET'].isnull()]\n",
    "    print(\"Starting LightGBM. Train shape: {}, test shape: {}\".format(train_df.shape, test_df.shape))\n",
    "    del df\n",
    "    gc.collect()\n",
    "    # Cross validation model\n",
    "    if stratified:\n",
    "        folds = StratifiedKFold(n_splits= num_folds, shuffle=True, random_state=1001)\n",
    "    else:\n",
    "        folds = KFold(n_splits= num_folds, shuffle=True, random_state=1001)\n",
    "    # Create arrays and dataframes to store results\n",
    "    oof_preds = np.zeros(train_df.shape[0])\n",
    "    sub_preds = np.zeros(test_df.shape[0])\n",
    "    feature_importance_df = pd.DataFrame()\n",
    "    feats = [f for f in train_df.columns if f not in ['TARGET','SK_ID_CURR','SK_ID_BUREAU','SK_ID_PREV','index']]\n",
    "    \n",
    "    for n_fold, (train_idx, valid_idx) in enumerate(folds.split(train_df[feats], train_df['TARGET'])):\n",
    "        train_x, train_y = train_df[feats].iloc[train_idx], train_df['TARGET'].iloc[train_idx]\n",
    "        valid_x, valid_y = train_df[feats].iloc[valid_idx], train_df['TARGET'].iloc[valid_idx]\n",
    "\n",
    "        # LightGBM parameters found by Bayesian optimization\n",
    "        clf = LGBMClassifier(\n",
    "            boosting_type = 'goss',  ### Added as per notebook comments ###\n",
    "            nthread=4,\n",
    "            n_estimators=10000,\n",
    "            learning_rate=0.02,\n",
    "            num_leaves=34,\n",
    "            colsample_bytree=0.9497036,\n",
    "            subsample=0.8715623,\n",
    "            max_depth=8,\n",
    "            reg_alpha=0.041545473,\n",
    "            reg_lambda=0.0735294,\n",
    "            min_split_gain=0.0222415,\n",
    "            min_child_weight=39.3259775,\n",
    "            silent=-1,\n",
    "            verbose=-1, )\n",
    "\n",
    "        clf.fit(train_x, train_y, eval_set=[(train_x, train_y), (valid_x, valid_y)], \n",
    "            eval_metric= 'auc', verbose= 200, early_stopping_rounds= 200)\n",
    "\n",
    "        oof_preds[valid_idx] = clf.predict_proba(valid_x, num_iteration=clf.best_iteration_)[:, 1]\n",
    "        sub_preds += clf.predict_proba(test_df[feats], num_iteration=clf.best_iteration_)[:, 1] / folds.n_splits\n",
    "\n",
    "        fold_importance_df = pd.DataFrame()\n",
    "        fold_importance_df[\"feature\"] = feats\n",
    "        fold_importance_df[\"importance\"] = clf.feature_importances_\n",
    "        fold_importance_df[\"fold\"] = n_fold + 1\n",
    "        feature_importance_df = pd.concat([feature_importance_df, fold_importance_df], axis=0)\n",
    "        print('Fold %2d AUC : %.6f' % (n_fold + 1, roc_auc_score(valid_y, oof_preds[valid_idx])))\n",
    "        del clf, train_x, train_y, valid_x, valid_y\n",
    "        gc.collect()\n",
    "\n",
    "    print('Full AUC score %.6f' % roc_auc_score(train_df['TARGET'], oof_preds))\n",
    "    # Write submission file and plot feature importance\n",
    "    if not debug:\n",
    "        test_df['TARGET'] = sub_preds\n",
    "        test_df[['SK_ID_CURR', 'TARGET']].to_csv(submission_file_name, index= False)\n",
    "    display_importances(feature_importance_df)\n",
    "    return feature_importance_df\n",
    "\n",
    "# Display/plot feature importance\n",
    "def display_importances(feature_importance_df_):\n",
    "    cols = feature_importance_df_[[\"feature\", \"importance\"]].groupby(\"feature\").mean().sort_values(by=\"importance\", ascending=False)[:40].index\n",
    "    best_features = feature_importance_df_.loc[feature_importance_df_.feature.isin(cols)]\n",
    "    plt.figure(figsize=(8, 10))\n",
    "    sns.barplot(x=\"importance\", y=\"feature\", data=best_features.sort_values(by=\"importance\", ascending=False))\n",
    "    plt.title('LightGBM Features (avg over folds)')\n",
    "    plt.tight_layout()\n",
    "    plt.savefig('lgbm_importances01.png')\n",
    "\n",
    "\n",
    "def main(debug = False):\n",
    "    num_rows = 10000 if debug else None\n",
    "    df = application_train_test(num_rows)\n",
    "    with timer(\"Process bureau and bureau_balance\"):\n",
    "        bureau = bureau_and_balance(num_rows)\n",
    "        print(\"Bureau df shape:\", bureau.shape)\n",
    "        df = df.join(bureau, how='left', on='SK_ID_CURR')\n",
    "        del bureau\n",
    "        gc.collect()\n",
    "    with timer(\"Process previous_applications\"):\n",
    "        prev = previous_applications(num_rows)\n",
    "        print(\"Previous applications df shape:\", prev.shape)\n",
    "        df = df.join(prev, how='left', on='SK_ID_CURR')\n",
    "        del prev\n",
    "        gc.collect()\n",
    "    with timer(\"Process POS-CASH balance\"):\n",
    "        pos = pos_cash(num_rows)\n",
    "        print(\"Pos-cash balance df shape:\", pos.shape)\n",
    "        df = df.join(pos, how='left', on='SK_ID_CURR')\n",
    "        del pos\n",
    "        gc.collect()\n",
    "    with timer(\"Process installments payments\"):\n",
    "        ins = installments_payments(num_rows)\n",
    "        print(\"Installments payments df shape:\", ins.shape)\n",
    "        df = df.join(ins, how='left', on='SK_ID_CURR')\n",
    "        del ins\n",
    "        gc.collect()\n",
    "    with timer(\"Process credit card balance\"):\n",
    "        cc = credit_card_balance(num_rows)\n",
    "        print(\"Credit card balance df shape:\", cc.shape)\n",
    "        df = df.join(cc, how='left', on='SK_ID_CURR')\n",
    "        del cc\n",
    "        gc.collect()\n",
    "    with timer(\"Run LightGBM with kfold\"):\n",
    "        feat_importance = kfold_lightgbm(df, num_folds= 10, stratified= False, debug= debug)\n",
    "\n",
    "#if __name__ == \"__main__\":\n",
    "submission_file_name = \"submission_kernel02.csv\"\n",
    "with timer(\"Full model run\"):\n",
    "    main()"
   ]
  }
 ],
 "metadata": {
  "kernelspec": {
   "display_name": "Python 3",
   "language": "python",
   "name": "python3"
  },
  "language_info": {
   "codemirror_mode": {
    "name": "ipython",
    "version": 3
   },
   "file_extension": ".py",
   "mimetype": "text/x-python",
   "name": "python",
   "nbconvert_exporter": "python",
   "pygments_lexer": "ipython3",
   "version": "3.7.12"
  },
  "papermill": {
   "default_parameters": {},
   "duration": 4971.983959,
   "end_time": "2022-05-29T16:46:03.827221",
   "environment_variables": {},
   "exception": null,
   "input_path": "__notebook__.ipynb",
   "output_path": "__notebook__.ipynb",
   "parameters": {},
   "start_time": "2022-05-29T15:23:11.843262",
   "version": "2.3.4"
  }
 },
 "nbformat": 4,
 "nbformat_minor": 5
}
