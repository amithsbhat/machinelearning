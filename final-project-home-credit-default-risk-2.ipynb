{
 "cells": [
  {
   "cell_type": "code",
   "execution_count": 1,
   "id": "f84416b6",
   "metadata": {
    "_cell_guid": "b1076dfc-b9ad-4769-8c92-a6c4dae69d19",
    "_uuid": "8f2839f25d086af736a60e9eeb907d3b93b6e0e5",
    "execution": {
     "iopub.execute_input": "2022-05-29T15:56:20.890526Z",
     "iopub.status.busy": "2022-05-29T15:56:20.889815Z",
     "iopub.status.idle": "2022-05-29T15:56:20.921797Z",
     "shell.execute_reply": "2022-05-29T15:56:20.921015Z"
    },
    "papermill": {
     "duration": 0.042608,
     "end_time": "2022-05-29T15:56:20.924166",
     "exception": false,
     "start_time": "2022-05-29T15:56:20.881558",
     "status": "completed"
    },
    "tags": []
   },
   "outputs": [
    {
     "name": "stdout",
     "output_type": "stream",
     "text": [
      "/kaggle/input/gradient-descent/AI-InvestorFinalProjectPart2.docx\n",
      "/kaggle/input/gradient-descent/sample_submission.csv\n",
      "/kaggle/input/gradient-descent/bureau_balance.csv\n",
      "/kaggle/input/gradient-descent/POS_CASH_balance.csv\n",
      "/kaggle/input/gradient-descent/application_train.csv\n",
      "/kaggle/input/gradient-descent/HomeCredit_columns_description.csv\n",
      "/kaggle/input/gradient-descent/AI-InvestorFinalProject.docx\n",
      "/kaggle/input/gradient-descent/application_test.csv\n",
      "/kaggle/input/gradient-descent/previous_application.csv\n",
      "/kaggle/input/gradient-descent/constituents_csv.csv\n",
      "/kaggle/input/gradient-descent/credit_card_balance.csv\n",
      "/kaggle/input/gradient-descent/installments_payments.csv\n",
      "/kaggle/input/gradient-descent/bureau.csv\n"
     ]
    }
   ],
   "source": [
    "# This Python 3 environment comes with many helpful analytics libraries installed\n",
    "# It is defined by the kaggle/python Docker image: https://github.com/kaggle/docker-python\n",
    "# For example, here's several helpful packages to load\n",
    "\n",
    "import numpy as np # linear algebra\n",
    "import pandas as pd # data processing, CSV file I/O (e.g. pd.read_csv)\n",
    "\n",
    "# Input data files are available in the read-only \"../input/\" directory\n",
    "# For example, running this (by clicking run or pressing Shift+Enter) will list all files under the input directory\n",
    "\n",
    "import os\n",
    "for dirname, _, filenames in os.walk('/kaggle/input'):\n",
    "    for filename in filenames:\n",
    "        print(os.path.join(dirname, filename))\n",
    "\n",
    "# You can write up to 20GB to the current directory (/kaggle/working/) that gets preserved as output when you create a version using \"Save & Run All\" \n",
    "# You can also write temporary files to /kaggle/temp/, but they won't be saved outside of the current session"
   ]
  },
  {
   "cell_type": "code",
   "execution_count": 2,
   "id": "5c18ed77",
   "metadata": {
    "execution": {
     "iopub.execute_input": "2022-05-29T15:56:20.948758Z",
     "iopub.status.busy": "2022-05-29T15:56:20.948296Z",
     "iopub.status.idle": "2022-05-29T15:56:24.329589Z",
     "shell.execute_reply": "2022-05-29T15:56:24.328774Z"
    },
    "papermill": {
     "duration": 3.387896,
     "end_time": "2022-05-29T15:56:24.331698",
     "exception": false,
     "start_time": "2022-05-29T15:56:20.943802",
     "status": "completed"
    },
    "tags": []
   },
   "outputs": [
    {
     "data": {
      "text/html": [
       "<style type='text/css'>\n",
       ".datatable table.frame { margin-bottom: 0; }\n",
       ".datatable table.frame thead { border-bottom: none; }\n",
       ".datatable table.frame tr.coltypes td {  color: #FFFFFF;  line-height: 6px;  padding: 0 0.5em;}\n",
       ".datatable .bool    { background: #DDDD99; }\n",
       ".datatable .object  { background: #565656; }\n",
       ".datatable .int     { background: #5D9E5D; }\n",
       ".datatable .float   { background: #4040CC; }\n",
       ".datatable .str     { background: #CC4040; }\n",
       ".datatable .time    { background: #40CC40; }\n",
       ".datatable .row_index {  background: var(--jp-border-color3);  border-right: 1px solid var(--jp-border-color0);  color: var(--jp-ui-font-color3);  font-size: 9px;}\n",
       ".datatable .frame tbody td { text-align: left; }\n",
       ".datatable .frame tr.coltypes .row_index {  background: var(--jp-border-color0);}\n",
       ".datatable th:nth-child(2) { padding-left: 12px; }\n",
       ".datatable .hellipsis {  color: var(--jp-cell-editor-border-color);}\n",
       ".datatable .vellipsis {  background: var(--jp-layout-color0);  color: var(--jp-cell-editor-border-color);}\n",
       ".datatable .na {  color: var(--jp-cell-editor-border-color);  font-size: 80%;}\n",
       ".datatable .sp {  opacity: 0.25;}\n",
       ".datatable .footer { font-size: 9px; }\n",
       ".datatable .frame_dimensions {  background: var(--jp-border-color3);  border-top: 1px solid var(--jp-border-color0);  color: var(--jp-ui-font-color3);  display: inline-block;  opacity: 0.6;  padding: 1px 10px 1px 5px;}\n",
       "</style>\n"
      ],
      "text/plain": [
       "<IPython.core.display.HTML object>"
      ]
     },
     "metadata": {},
     "output_type": "display_data"
    }
   ],
   "source": [
    "import numpy as np\n",
    "import pandas as pd\n",
    "import gc\n",
    "import time\n",
    "from contextlib import contextmanager\n",
    "from lightgbm import LGBMClassifier\n",
    "from sklearn.metrics import roc_auc_score, roc_curve\n",
    "from sklearn.model_selection import KFold, StratifiedKFold\n",
    "import matplotlib.pyplot as plt\n",
    "import seaborn as sns\n",
    "import warnings\n",
    "import re\n",
    "warnings.simplefilter(action='ignore', category=FutureWarning)"
   ]
  },
  {
   "cell_type": "code",
   "execution_count": 3,
   "id": "1dffef98",
   "metadata": {
    "execution": {
     "iopub.execute_input": "2022-05-29T15:56:24.338228Z",
     "iopub.status.busy": "2022-05-29T15:56:24.337950Z",
     "iopub.status.idle": "2022-05-29T15:56:24.350038Z",
     "shell.execute_reply": "2022-05-29T15:56:24.349385Z"
    },
    "papermill": {
     "duration": 0.017162,
     "end_time": "2022-05-29T15:56:24.351630",
     "exception": false,
     "start_time": "2022-05-29T15:56:24.334468",
     "status": "completed"
    },
    "tags": []
   },
   "outputs": [],
   "source": [
    "@contextmanager\n",
    "def timer(title):\n",
    "    t0 = time.time()\n",
    "    yield\n",
    "    print(\"{} - done in {:.0f}s\".format(title, time.time() - t0))\n",
    "\n",
    "# One-hot encoding for categorical columns with get_dummies\n",
    "def one_hot_encoder(df, nan_as_category = True):\n",
    "    original_columns = list(df.columns)\n",
    "    categorical_columns = [col for col in df.columns if df[col].dtype == 'object']\n",
    "    df = pd.get_dummies(df, columns= categorical_columns, dummy_na= nan_as_category)\n",
    "    new_columns = [c for c in df.columns if c not in original_columns]\n",
    "    return df, new_columns\n",
    "# Preprocess application_train.csv and application_test.csv\n",
    "def application_train_test(num_rows = None, nan_as_category = False):\n",
    "    # Read data and merge\n",
    "    df = pd.read_csv('/kaggle/input/gradient-descent/application_train.csv', nrows= num_rows)\n",
    "    test_df = pd.read_csv('/kaggle/input/gradient-descent/application_test.csv', nrows= num_rows)\n",
    "    print(\"Train samples: {}, test samples: {}\".format(len(df), len(test_df)))\n",
    "    df = df.append(test_df).reset_index()\n",
    "    # Optional: Remove 4 applications with XNA CODE_GENDER (train set)\n",
    "    df = df[df['CODE_GENDER'] != 'XNA']\n",
    "    \n",
    "    # Categorical features with Binary encode (0 or 1; two categories)\n",
    "    for bin_feature in ['CODE_GENDER', 'FLAG_OWN_CAR', 'FLAG_OWN_REALTY']:\n",
    "        df[bin_feature], uniques = pd.factorize(df[bin_feature])\n",
    "    # Categorical features with One-Hot encode\n",
    "    df, cat_cols = one_hot_encoder(df, nan_as_category)\n",
    "    \n",
    "    # NaN values for DAYS_EMPLOYED: 365.243 -> nan\n",
    "    df['DAYS_EMPLOYED'].replace(365243, np.nan, inplace= True)\n",
    "    # Some simple new features (percentages)\n",
    "    df['DAYS_EMPLOYED_PERC'] = df['DAYS_EMPLOYED'] / df['DAYS_BIRTH']\n",
    "    df['INCOME_CREDIT_PERC'] = df['AMT_INCOME_TOTAL'] / df['AMT_CREDIT']\n",
    "    df['INCOME_PER_PERSON'] = df['AMT_INCOME_TOTAL'] / df['CNT_FAM_MEMBERS']\n",
    "    df['ANNUITY_INCOME_PERC'] = df['AMT_ANNUITY'] / df['AMT_INCOME_TOTAL']\n",
    "    df['PAYMENT_RATE'] = df['AMT_ANNUITY'] / df['AMT_CREDIT']\n",
    "    del test_df\n",
    "    gc.collect()\n",
    "    return df\n"
   ]
  },
  {
   "cell_type": "code",
   "execution_count": 4,
   "id": "2fb97020",
   "metadata": {
    "execution": {
     "iopub.execute_input": "2022-05-29T15:56:24.357584Z",
     "iopub.status.busy": "2022-05-29T15:56:24.357299Z",
     "iopub.status.idle": "2022-05-29T15:56:24.651877Z",
     "shell.execute_reply": "2022-05-29T15:56:24.651142Z"
    },
    "papermill": {
     "duration": 0.299635,
     "end_time": "2022-05-29T15:56:24.653768",
     "exception": false,
     "start_time": "2022-05-29T15:56:24.354133",
     "status": "completed"
    },
    "tags": []
   },
   "outputs": [],
   "source": [
    "from catboost import CatBoostClassifier\n"
   ]
  },
  {
   "cell_type": "code",
   "execution_count": 5,
   "id": "82d7aa49",
   "metadata": {
    "execution": {
     "iopub.execute_input": "2022-05-29T15:56:24.660376Z",
     "iopub.status.busy": "2022-05-29T15:56:24.660109Z",
     "iopub.status.idle": "2022-05-29T16:24:52.552780Z",
     "shell.execute_reply": "2022-05-29T16:24:52.552001Z"
    },
    "papermill": {
     "duration": 1707.898458,
     "end_time": "2022-05-29T16:24:52.554894",
     "exception": false,
     "start_time": "2022-05-29T15:56:24.656436",
     "status": "completed"
    },
    "tags": []
   },
   "outputs": [
    {
     "name": "stdout",
     "output_type": "stream",
     "text": [
      "Train samples: 307511, test samples: 48744\n",
      "Starting LightGBM. Train shape: (307507, 248), test shape: (48744, 248)\n"
     ]
    },
    {
     "name": "stderr",
     "output_type": "stream",
     "text": [
      "/opt/conda/lib/python3.7/site-packages/lightgbm/sklearn.py:598: UserWarning: 'silent' argument is deprecated and will be removed in a future release of LightGBM. Pass 'verbose' parameter via keyword arguments instead.\n",
      "  _log_warning(\"'silent' argument is deprecated and will be removed in a future release of LightGBM. \"\n",
      "/opt/conda/lib/python3.7/site-packages/lightgbm/sklearn.py:726: UserWarning: 'early_stopping_rounds' argument is deprecated and will be removed in a future release of LightGBM. Pass 'early_stopping()' callback via 'callbacks' argument instead.\n",
      "  _log_warning(\"'early_stopping_rounds' argument is deprecated and will be removed in a future release of LightGBM. \"\n",
      "/opt/conda/lib/python3.7/site-packages/lightgbm/sklearn.py:736: UserWarning: 'verbose' argument is deprecated and will be removed in a future release of LightGBM. Pass 'log_evaluation()' callback via 'callbacks' argument instead.\n",
      "  _log_warning(\"'verbose' argument is deprecated and will be removed in a future release of LightGBM. \"\n"
     ]
    },
    {
     "name": "stdout",
     "output_type": "stream",
     "text": [
      "[LightGBM] [Warning] num_threads is set with nthread=4, will be overridden by n_jobs=-1. Current value: num_threads=-1\n",
      "[200]\ttraining's auc: 0.774705\ttraining's binary_logloss: 0.241492\tvalid_1's auc: 0.76061\tvalid_1's binary_logloss: 0.250624\n",
      "[400]\ttraining's auc: 0.793039\ttraining's binary_logloss: 0.235213\tvalid_1's auc: 0.76696\tvalid_1's binary_logloss: 0.248285\n",
      "[600]\ttraining's auc: 0.805942\ttraining's binary_logloss: 0.231025\tvalid_1's auc: 0.768789\tvalid_1's binary_logloss: 0.247595\n",
      "[800]\ttraining's auc: 0.816932\ttraining's binary_logloss: 0.227412\tvalid_1's auc: 0.769609\tvalid_1's binary_logloss: 0.247258\n",
      "[1000]\ttraining's auc: 0.826627\ttraining's binary_logloss: 0.224124\tvalid_1's auc: 0.769926\tvalid_1's binary_logloss: 0.247152\n",
      "Fold  1 AUC : 0.770105\n"
     ]
    },
    {
     "name": "stderr",
     "output_type": "stream",
     "text": [
      "/opt/conda/lib/python3.7/site-packages/lightgbm/sklearn.py:598: UserWarning: 'silent' argument is deprecated and will be removed in a future release of LightGBM. Pass 'verbose' parameter via keyword arguments instead.\n",
      "  _log_warning(\"'silent' argument is deprecated and will be removed in a future release of LightGBM. \"\n",
      "/opt/conda/lib/python3.7/site-packages/lightgbm/sklearn.py:726: UserWarning: 'early_stopping_rounds' argument is deprecated and will be removed in a future release of LightGBM. Pass 'early_stopping()' callback via 'callbacks' argument instead.\n",
      "  _log_warning(\"'early_stopping_rounds' argument is deprecated and will be removed in a future release of LightGBM. \"\n",
      "/opt/conda/lib/python3.7/site-packages/lightgbm/sklearn.py:736: UserWarning: 'verbose' argument is deprecated and will be removed in a future release of LightGBM. Pass 'log_evaluation()' callback via 'callbacks' argument instead.\n",
      "  _log_warning(\"'verbose' argument is deprecated and will be removed in a future release of LightGBM. \"\n"
     ]
    },
    {
     "name": "stdout",
     "output_type": "stream",
     "text": [
      "[LightGBM] [Warning] num_threads is set with nthread=4, will be overridden by n_jobs=-1. Current value: num_threads=-1\n",
      "[200]\ttraining's auc: 0.774547\ttraining's binary_logloss: 0.24208\tvalid_1's auc: 0.761697\tvalid_1's binary_logloss: 0.245617\n",
      "[400]\ttraining's auc: 0.792338\ttraining's binary_logloss: 0.235938\tvalid_1's auc: 0.768772\tvalid_1's binary_logloss: 0.243026\n",
      "[600]\ttraining's auc: 0.805635\ttraining's binary_logloss: 0.231632\tvalid_1's auc: 0.771788\tvalid_1's binary_logloss: 0.242089\n",
      "[800]\ttraining's auc: 0.816231\ttraining's binary_logloss: 0.228138\tvalid_1's auc: 0.772889\tvalid_1's binary_logloss: 0.241735\n",
      "[1000]\ttraining's auc: 0.82554\ttraining's binary_logloss: 0.22496\tvalid_1's auc: 0.773511\tvalid_1's binary_logloss: 0.241562\n",
      "[1200]\ttraining's auc: 0.834222\ttraining's binary_logloss: 0.22191\tvalid_1's auc: 0.77375\tvalid_1's binary_logloss: 0.241479\n",
      "[1400]\ttraining's auc: 0.841948\ttraining's binary_logloss: 0.219078\tvalid_1's auc: 0.773626\tvalid_1's binary_logloss: 0.241531\n",
      "Fold  2 AUC : 0.773792\n"
     ]
    },
    {
     "name": "stderr",
     "output_type": "stream",
     "text": [
      "/opt/conda/lib/python3.7/site-packages/lightgbm/sklearn.py:598: UserWarning: 'silent' argument is deprecated and will be removed in a future release of LightGBM. Pass 'verbose' parameter via keyword arguments instead.\n",
      "  _log_warning(\"'silent' argument is deprecated and will be removed in a future release of LightGBM. \"\n",
      "/opt/conda/lib/python3.7/site-packages/lightgbm/sklearn.py:726: UserWarning: 'early_stopping_rounds' argument is deprecated and will be removed in a future release of LightGBM. Pass 'early_stopping()' callback via 'callbacks' argument instead.\n",
      "  _log_warning(\"'early_stopping_rounds' argument is deprecated and will be removed in a future release of LightGBM. \"\n",
      "/opt/conda/lib/python3.7/site-packages/lightgbm/sklearn.py:736: UserWarning: 'verbose' argument is deprecated and will be removed in a future release of LightGBM. Pass 'log_evaluation()' callback via 'callbacks' argument instead.\n",
      "  _log_warning(\"'verbose' argument is deprecated and will be removed in a future release of LightGBM. \"\n"
     ]
    },
    {
     "name": "stdout",
     "output_type": "stream",
     "text": [
      "[LightGBM] [Warning] num_threads is set with nthread=4, will be overridden by n_jobs=-1. Current value: num_threads=-1\n",
      "[200]\ttraining's auc: 0.7752\ttraining's binary_logloss: 0.24156\tvalid_1's auc: 0.753479\tvalid_1's binary_logloss: 0.25056\n",
      "[400]\ttraining's auc: 0.793244\ttraining's binary_logloss: 0.235356\tvalid_1's auc: 0.761033\tvalid_1's binary_logloss: 0.248065\n",
      "[600]\ttraining's auc: 0.806001\ttraining's binary_logloss: 0.231211\tvalid_1's auc: 0.763264\tvalid_1's binary_logloss: 0.247386\n",
      "[800]\ttraining's auc: 0.816999\ttraining's binary_logloss: 0.227596\tvalid_1's auc: 0.764348\tvalid_1's binary_logloss: 0.247025\n",
      "[1000]\ttraining's auc: 0.826516\ttraining's binary_logloss: 0.224296\tvalid_1's auc: 0.764618\tvalid_1's binary_logloss: 0.246911\n",
      "Fold  3 AUC : 0.764797\n"
     ]
    },
    {
     "name": "stderr",
     "output_type": "stream",
     "text": [
      "/opt/conda/lib/python3.7/site-packages/lightgbm/sklearn.py:598: UserWarning: 'silent' argument is deprecated and will be removed in a future release of LightGBM. Pass 'verbose' parameter via keyword arguments instead.\n",
      "  _log_warning(\"'silent' argument is deprecated and will be removed in a future release of LightGBM. \"\n",
      "/opt/conda/lib/python3.7/site-packages/lightgbm/sklearn.py:726: UserWarning: 'early_stopping_rounds' argument is deprecated and will be removed in a future release of LightGBM. Pass 'early_stopping()' callback via 'callbacks' argument instead.\n",
      "  _log_warning(\"'early_stopping_rounds' argument is deprecated and will be removed in a future release of LightGBM. \"\n",
      "/opt/conda/lib/python3.7/site-packages/lightgbm/sklearn.py:736: UserWarning: 'verbose' argument is deprecated and will be removed in a future release of LightGBM. Pass 'log_evaluation()' callback via 'callbacks' argument instead.\n",
      "  _log_warning(\"'verbose' argument is deprecated and will be removed in a future release of LightGBM. \"\n"
     ]
    },
    {
     "name": "stdout",
     "output_type": "stream",
     "text": [
      "[LightGBM] [Warning] num_threads is set with nthread=4, will be overridden by n_jobs=-1. Current value: num_threads=-1\n",
      "[200]\ttraining's auc: 0.774764\ttraining's binary_logloss: 0.242081\tvalid_1's auc: 0.763152\tvalid_1's binary_logloss: 0.245333\n",
      "[400]\ttraining's auc: 0.79229\ttraining's binary_logloss: 0.236024\tvalid_1's auc: 0.770597\tvalid_1's binary_logloss: 0.242672\n",
      "[600]\ttraining's auc: 0.805422\ttraining's binary_logloss: 0.231776\tvalid_1's auc: 0.773195\tvalid_1's binary_logloss: 0.241765\n",
      "[800]\ttraining's auc: 0.816281\ttraining's binary_logloss: 0.228225\tvalid_1's auc: 0.774228\tvalid_1's binary_logloss: 0.241418\n",
      "[1000]\ttraining's auc: 0.82572\ttraining's binary_logloss: 0.225043\tvalid_1's auc: 0.774345\tvalid_1's binary_logloss: 0.241319\n",
      "Fold  4 AUC : 0.774457\n"
     ]
    },
    {
     "name": "stderr",
     "output_type": "stream",
     "text": [
      "/opt/conda/lib/python3.7/site-packages/lightgbm/sklearn.py:598: UserWarning: 'silent' argument is deprecated and will be removed in a future release of LightGBM. Pass 'verbose' parameter via keyword arguments instead.\n",
      "  _log_warning(\"'silent' argument is deprecated and will be removed in a future release of LightGBM. \"\n",
      "/opt/conda/lib/python3.7/site-packages/lightgbm/sklearn.py:726: UserWarning: 'early_stopping_rounds' argument is deprecated and will be removed in a future release of LightGBM. Pass 'early_stopping()' callback via 'callbacks' argument instead.\n",
      "  _log_warning(\"'early_stopping_rounds' argument is deprecated and will be removed in a future release of LightGBM. \"\n",
      "/opt/conda/lib/python3.7/site-packages/lightgbm/sklearn.py:736: UserWarning: 'verbose' argument is deprecated and will be removed in a future release of LightGBM. Pass 'log_evaluation()' callback via 'callbacks' argument instead.\n",
      "  _log_warning(\"'verbose' argument is deprecated and will be removed in a future release of LightGBM. \"\n"
     ]
    },
    {
     "name": "stdout",
     "output_type": "stream",
     "text": [
      "[LightGBM] [Warning] num_threads is set with nthread=4, will be overridden by n_jobs=-1. Current value: num_threads=-1\n",
      "[200]\ttraining's auc: 0.774719\ttraining's binary_logloss: 0.242756\tvalid_1's auc: 0.762138\tvalid_1's binary_logloss: 0.238589\n",
      "[400]\ttraining's auc: 0.792387\ttraining's binary_logloss: 0.236622\tvalid_1's auc: 0.769596\tvalid_1's binary_logloss: 0.236126\n",
      "[600]\ttraining's auc: 0.805213\ttraining's binary_logloss: 0.232434\tvalid_1's auc: 0.772115\tvalid_1's binary_logloss: 0.235351\n",
      "[800]\ttraining's auc: 0.81603\ttraining's binary_logloss: 0.228868\tvalid_1's auc: 0.773109\tvalid_1's binary_logloss: 0.235033\n",
      "[1000]\ttraining's auc: 0.825698\ttraining's binary_logloss: 0.225616\tvalid_1's auc: 0.773161\tvalid_1's binary_logloss: 0.234975\n",
      "Fold  5 AUC : 0.773449\n"
     ]
    },
    {
     "name": "stderr",
     "output_type": "stream",
     "text": [
      "/opt/conda/lib/python3.7/site-packages/lightgbm/sklearn.py:598: UserWarning: 'silent' argument is deprecated and will be removed in a future release of LightGBM. Pass 'verbose' parameter via keyword arguments instead.\n",
      "  _log_warning(\"'silent' argument is deprecated and will be removed in a future release of LightGBM. \"\n",
      "/opt/conda/lib/python3.7/site-packages/lightgbm/sklearn.py:726: UserWarning: 'early_stopping_rounds' argument is deprecated and will be removed in a future release of LightGBM. Pass 'early_stopping()' callback via 'callbacks' argument instead.\n",
      "  _log_warning(\"'early_stopping_rounds' argument is deprecated and will be removed in a future release of LightGBM. \"\n",
      "/opt/conda/lib/python3.7/site-packages/lightgbm/sklearn.py:736: UserWarning: 'verbose' argument is deprecated and will be removed in a future release of LightGBM. Pass 'log_evaluation()' callback via 'callbacks' argument instead.\n",
      "  _log_warning(\"'verbose' argument is deprecated and will be removed in a future release of LightGBM. \"\n"
     ]
    },
    {
     "name": "stdout",
     "output_type": "stream",
     "text": [
      "[LightGBM] [Warning] num_threads is set with nthread=4, will be overridden by n_jobs=-1. Current value: num_threads=-1\n",
      "[200]\ttraining's auc: 0.775496\ttraining's binary_logloss: 0.241828\tvalid_1's auc: 0.753497\tvalid_1's binary_logloss: 0.247102\n",
      "[400]\ttraining's auc: 0.79334\ttraining's binary_logloss: 0.235604\tvalid_1's auc: 0.759892\tvalid_1's binary_logloss: 0.245019\n",
      "[600]\ttraining's auc: 0.806392\ttraining's binary_logloss: 0.231348\tvalid_1's auc: 0.762082\tvalid_1's binary_logloss: 0.244366\n",
      "[800]\ttraining's auc: 0.816828\ttraining's binary_logloss: 0.227839\tvalid_1's auc: 0.762451\tvalid_1's binary_logloss: 0.244207\n",
      "[1000]\ttraining's auc: 0.826487\ttraining's binary_logloss: 0.224508\tvalid_1's auc: 0.76289\tvalid_1's binary_logloss: 0.244089\n",
      "Fold  6 AUC : 0.763043\n"
     ]
    },
    {
     "name": "stderr",
     "output_type": "stream",
     "text": [
      "/opt/conda/lib/python3.7/site-packages/lightgbm/sklearn.py:598: UserWarning: 'silent' argument is deprecated and will be removed in a future release of LightGBM. Pass 'verbose' parameter via keyword arguments instead.\n",
      "  _log_warning(\"'silent' argument is deprecated and will be removed in a future release of LightGBM. \"\n",
      "/opt/conda/lib/python3.7/site-packages/lightgbm/sklearn.py:726: UserWarning: 'early_stopping_rounds' argument is deprecated and will be removed in a future release of LightGBM. Pass 'early_stopping()' callback via 'callbacks' argument instead.\n",
      "  _log_warning(\"'early_stopping_rounds' argument is deprecated and will be removed in a future release of LightGBM. \"\n",
      "/opt/conda/lib/python3.7/site-packages/lightgbm/sklearn.py:736: UserWarning: 'verbose' argument is deprecated and will be removed in a future release of LightGBM. Pass 'log_evaluation()' callback via 'callbacks' argument instead.\n",
      "  _log_warning(\"'verbose' argument is deprecated and will be removed in a future release of LightGBM. \"\n"
     ]
    },
    {
     "name": "stdout",
     "output_type": "stream",
     "text": [
      "[LightGBM] [Warning] num_threads is set with nthread=4, will be overridden by n_jobs=-1. Current value: num_threads=-1\n",
      "[200]\ttraining's auc: 0.774508\ttraining's binary_logloss: 0.24216\tvalid_1's auc: 0.760519\tvalid_1's binary_logloss: 0.244999\n",
      "[400]\ttraining's auc: 0.792132\ttraining's binary_logloss: 0.236094\tvalid_1's auc: 0.768014\tvalid_1's binary_logloss: 0.242475\n",
      "[600]\ttraining's auc: 0.805003\ttraining's binary_logloss: 0.231873\tvalid_1's auc: 0.769956\tvalid_1's binary_logloss: 0.241807\n",
      "[800]\ttraining's auc: 0.815788\ttraining's binary_logloss: 0.228272\tvalid_1's auc: 0.770971\tvalid_1's binary_logloss: 0.24148\n",
      "[1000]\ttraining's auc: 0.825465\ttraining's binary_logloss: 0.224991\tvalid_1's auc: 0.771183\tvalid_1's binary_logloss: 0.241416\n",
      "[1200]\ttraining's auc: 0.833889\ttraining's binary_logloss: 0.222004\tvalid_1's auc: 0.771348\tvalid_1's binary_logloss: 0.241367\n",
      "Fold  7 AUC : 0.771439\n"
     ]
    },
    {
     "name": "stderr",
     "output_type": "stream",
     "text": [
      "/opt/conda/lib/python3.7/site-packages/lightgbm/sklearn.py:598: UserWarning: 'silent' argument is deprecated and will be removed in a future release of LightGBM. Pass 'verbose' parameter via keyword arguments instead.\n",
      "  _log_warning(\"'silent' argument is deprecated and will be removed in a future release of LightGBM. \"\n",
      "/opt/conda/lib/python3.7/site-packages/lightgbm/sklearn.py:726: UserWarning: 'early_stopping_rounds' argument is deprecated and will be removed in a future release of LightGBM. Pass 'early_stopping()' callback via 'callbacks' argument instead.\n",
      "  _log_warning(\"'early_stopping_rounds' argument is deprecated and will be removed in a future release of LightGBM. \"\n",
      "/opt/conda/lib/python3.7/site-packages/lightgbm/sklearn.py:736: UserWarning: 'verbose' argument is deprecated and will be removed in a future release of LightGBM. Pass 'log_evaluation()' callback via 'callbacks' argument instead.\n",
      "  _log_warning(\"'verbose' argument is deprecated and will be removed in a future release of LightGBM. \"\n"
     ]
    },
    {
     "name": "stdout",
     "output_type": "stream",
     "text": [
      "[LightGBM] [Warning] num_threads is set with nthread=4, will be overridden by n_jobs=-1. Current value: num_threads=-1\n",
      "[200]\ttraining's auc: 0.775098\ttraining's binary_logloss: 0.241666\tvalid_1's auc: 0.756288\tvalid_1's binary_logloss: 0.24908\n",
      "[400]\ttraining's auc: 0.792358\ttraining's binary_logloss: 0.235633\tvalid_1's auc: 0.76377\tvalid_1's binary_logloss: 0.246621\n",
      "[600]\ttraining's auc: 0.804866\ttraining's binary_logloss: 0.231554\tvalid_1's auc: 0.766551\tvalid_1's binary_logloss: 0.245785\n",
      "[800]\ttraining's auc: 0.815676\ttraining's binary_logloss: 0.227978\tvalid_1's auc: 0.768422\tvalid_1's binary_logloss: 0.245302\n",
      "[1000]\ttraining's auc: 0.825482\ttraining's binary_logloss: 0.224639\tvalid_1's auc: 0.769272\tvalid_1's binary_logloss: 0.245071\n",
      "[1200]\ttraining's auc: 0.834127\ttraining's binary_logloss: 0.221652\tvalid_1's auc: 0.769598\tvalid_1's binary_logloss: 0.245003\n",
      "Fold  8 AUC : 0.769662\n"
     ]
    },
    {
     "name": "stderr",
     "output_type": "stream",
     "text": [
      "/opt/conda/lib/python3.7/site-packages/lightgbm/sklearn.py:598: UserWarning: 'silent' argument is deprecated and will be removed in a future release of LightGBM. Pass 'verbose' parameter via keyword arguments instead.\n",
      "  _log_warning(\"'silent' argument is deprecated and will be removed in a future release of LightGBM. \"\n",
      "/opt/conda/lib/python3.7/site-packages/lightgbm/sklearn.py:726: UserWarning: 'early_stopping_rounds' argument is deprecated and will be removed in a future release of LightGBM. Pass 'early_stopping()' callback via 'callbacks' argument instead.\n",
      "  _log_warning(\"'early_stopping_rounds' argument is deprecated and will be removed in a future release of LightGBM. \"\n",
      "/opt/conda/lib/python3.7/site-packages/lightgbm/sklearn.py:736: UserWarning: 'verbose' argument is deprecated and will be removed in a future release of LightGBM. Pass 'log_evaluation()' callback via 'callbacks' argument instead.\n",
      "  _log_warning(\"'verbose' argument is deprecated and will be removed in a future release of LightGBM. \"\n"
     ]
    },
    {
     "name": "stdout",
     "output_type": "stream",
     "text": [
      "[LightGBM] [Warning] num_threads is set with nthread=4, will be overridden by n_jobs=-1. Current value: num_threads=-1\n",
      "[200]\ttraining's auc: 0.774561\ttraining's binary_logloss: 0.241875\tvalid_1's auc: 0.766095\tvalid_1's binary_logloss: 0.24639\n",
      "[400]\ttraining's auc: 0.792116\ttraining's binary_logloss: 0.235797\tvalid_1's auc: 0.772584\tvalid_1's binary_logloss: 0.243906\n",
      "[600]\ttraining's auc: 0.805149\ttraining's binary_logloss: 0.231554\tvalid_1's auc: 0.774214\tvalid_1's binary_logloss: 0.243258\n",
      "[800]\ttraining's auc: 0.815932\ttraining's binary_logloss: 0.228007\tvalid_1's auc: 0.77511\tvalid_1's binary_logloss: 0.242925\n",
      "[1000]\ttraining's auc: 0.825672\ttraining's binary_logloss: 0.224692\tvalid_1's auc: 0.775675\tvalid_1's binary_logloss: 0.242692\n",
      "[1200]\ttraining's auc: 0.834303\ttraining's binary_logloss: 0.221676\tvalid_1's auc: 0.775574\tvalid_1's binary_logloss: 0.242698\n",
      "Fold  9 AUC : 0.775719\n"
     ]
    },
    {
     "name": "stderr",
     "output_type": "stream",
     "text": [
      "/opt/conda/lib/python3.7/site-packages/lightgbm/sklearn.py:598: UserWarning: 'silent' argument is deprecated and will be removed in a future release of LightGBM. Pass 'verbose' parameter via keyword arguments instead.\n",
      "  _log_warning(\"'silent' argument is deprecated and will be removed in a future release of LightGBM. \"\n",
      "/opt/conda/lib/python3.7/site-packages/lightgbm/sklearn.py:726: UserWarning: 'early_stopping_rounds' argument is deprecated and will be removed in a future release of LightGBM. Pass 'early_stopping()' callback via 'callbacks' argument instead.\n",
      "  _log_warning(\"'early_stopping_rounds' argument is deprecated and will be removed in a future release of LightGBM. \"\n",
      "/opt/conda/lib/python3.7/site-packages/lightgbm/sklearn.py:736: UserWarning: 'verbose' argument is deprecated and will be removed in a future release of LightGBM. Pass 'log_evaluation()' callback via 'callbacks' argument instead.\n",
      "  _log_warning(\"'verbose' argument is deprecated and will be removed in a future release of LightGBM. \"\n"
     ]
    },
    {
     "name": "stdout",
     "output_type": "stream",
     "text": [
      "[LightGBM] [Warning] num_threads is set with nthread=4, will be overridden by n_jobs=-1. Current value: num_threads=-1\n",
      "[200]\ttraining's auc: 0.775496\ttraining's binary_logloss: 0.242035\tvalid_1's auc: 0.755245\tvalid_1's binary_logloss: 0.245119\n",
      "[400]\ttraining's auc: 0.792781\ttraining's binary_logloss: 0.236009\tvalid_1's auc: 0.762907\tvalid_1's binary_logloss: 0.242626\n",
      "[600]\ttraining's auc: 0.805742\ttraining's binary_logloss: 0.231744\tvalid_1's auc: 0.765108\tvalid_1's binary_logloss: 0.241938\n",
      "[800]\ttraining's auc: 0.816579\ttraining's binary_logloss: 0.228109\tvalid_1's auc: 0.766008\tvalid_1's binary_logloss: 0.241645\n",
      "[1000]\ttraining's auc: 0.825964\ttraining's binary_logloss: 0.22492\tvalid_1's auc: 0.766467\tvalid_1's binary_logloss: 0.241552\n",
      "[1200]\ttraining's auc: 0.834491\ttraining's binary_logloss: 0.221889\tvalid_1's auc: 0.766816\tvalid_1's binary_logloss: 0.24146\n",
      "[1400]\ttraining's auc: 0.842186\ttraining's binary_logloss: 0.219055\tvalid_1's auc: 0.767055\tvalid_1's binary_logloss: 0.241402\n",
      "Fold 10 AUC : 0.767165\n",
      "Full AUC score 0.770329\n",
      "Run LightGBM with kfold - done in 1699s\n",
      "Full model run - done in 1708s\n"
     ]
    },
    {
     "data": {
      "image/png": "[encoded data removed]",
      "text/plain": [
       "<Figure size 576x720 with 1 Axes>"
      ]
     },
     "metadata": {
      "needs_background": "light"
     },
     "output_type": "display_data"
    }
   ],
   "source": [
    "\n",
    "# LightGBM GBDT with KFold or Stratified KFold\n",
    "# Parameters from Tilii kernel: https://www.kaggle.com/tilii7/olivier-lightgbm-parameters-by-bayesian-opt/code\n",
    "def kfold_lightgbm(df, num_folds, stratified = False, debug= False):\n",
    "    # Divide in training/validation and test data\n",
    "    df = df.rename(columns = lambda x:re.sub('[^A-Za-z0-9_]+', '', x))\n",
    "    train_df = df[df['TARGET'].notnull()]\n",
    "    test_df = df[df['TARGET'].isnull()]\n",
    "    print(\"Starting LightGBM. Train shape: {}, test shape: {}\".format(train_df.shape, test_df.shape))\n",
    "    del df\n",
    "    gc.collect()\n",
    "    # Cross validation model\n",
    "    if stratified:\n",
    "        folds = StratifiedKFold(n_splits= num_folds, shuffle=True, random_state=1001)\n",
    "    else:\n",
    "        folds = KFold(n_splits= num_folds, shuffle=True, random_state=1001)\n",
    "    # Create arrays and dataframes to store results\n",
    "    oof_preds = np.zeros(train_df.shape[0])\n",
    "    sub_preds = np.zeros(test_df.shape[0])\n",
    "    feature_importance_df = pd.DataFrame()\n",
    "    feats = [f for f in train_df.columns if f not in ['TARGET','SK_ID_CURR','SK_ID_BUREAU','SK_ID_PREV','index']]\n",
    "    \n",
    "    for n_fold, (train_idx, valid_idx) in enumerate(folds.split(train_df[feats], train_df['TARGET'])):\n",
    "        train_x, train_y = train_df[feats].iloc[train_idx], train_df['TARGET'].iloc[train_idx]\n",
    "        valid_x, valid_y = train_df[feats].iloc[valid_idx], train_df['TARGET'].iloc[valid_idx]\n",
    "        \n",
    "        \"\"\"\n",
    "        clf = CatBoostClassifier(\n",
    "            iterations=5, \n",
    "            learning_rate=0.1, \n",
    "            #loss_function='CrossEntropy'\n",
    "        )\n",
    "        \"\"\"\n",
    "        # LightGBM parameters found by Bayesian optimization\n",
    "        clf = LGBMClassifier(\n",
    "            boosting_type = 'goss',  ### Added as per notebook comments ###\n",
    "            nthread=4,\n",
    "            n_estimators=10000,\n",
    "            learning_rate=0.02,\n",
    "            num_leaves=34,\n",
    "            colsample_bytree=0.9497036,\n",
    "            subsample=0.8715623,\n",
    "            max_depth=8,\n",
    "            reg_alpha=0.041545473,\n",
    "            reg_lambda=0.0735294,\n",
    "            min_split_gain=0.0222415,\n",
    "            min_child_weight=39.3259775,\n",
    "            silent=-1,\n",
    "            verbose=-1, )\n",
    "        \n",
    "\n",
    "        clf.fit(train_x, train_y, eval_set=[(train_x, train_y), (valid_x, valid_y)], \n",
    "            eval_metric= 'auc', verbose= 200, early_stopping_rounds= 200)\n",
    "\n",
    "        oof_preds[valid_idx] = clf.predict_proba(valid_x, num_iteration=clf.best_iteration_)[:, 1]\n",
    "        sub_preds += clf.predict_proba(test_df[feats], num_iteration=clf.best_iteration_)[:, 1] / folds.n_splits\n",
    "\n",
    "        fold_importance_df = pd.DataFrame()\n",
    "        fold_importance_df[\"feature\"] = feats\n",
    "        fold_importance_df[\"importance\"] = clf.feature_importances_\n",
    "        fold_importance_df[\"fold\"] = n_fold + 1\n",
    "        feature_importance_df = pd.concat([feature_importance_df, fold_importance_df], axis=0)\n",
    "        print('Fold %2d AUC : %.6f' % (n_fold + 1, roc_auc_score(valid_y, oof_preds[valid_idx])))\n",
    "        del clf, train_x, train_y, valid_x, valid_y\n",
    "        gc.collect()\n",
    "\n",
    "    print('Full AUC score %.6f' % roc_auc_score(train_df['TARGET'], oof_preds))\n",
    "    # Write submission file and plot feature importance\n",
    "    if not debug:\n",
    "        test_df['TARGET'] = sub_preds\n",
    "        test_df[['SK_ID_CURR', 'TARGET']].to_csv(submission_file_name, index= False)\n",
    "    display_importances(feature_importance_df)\n",
    "    return feature_importance_df\n",
    "\n",
    "# Display/plot feature importance\n",
    "def display_importances(feature_importance_df_):\n",
    "    cols = feature_importance_df_[[\"feature\", \"importance\"]].groupby(\"feature\").mean().sort_values(by=\"importance\", ascending=False)[:40].index\n",
    "    best_features = feature_importance_df_.loc[feature_importance_df_.feature.isin(cols)]\n",
    "    plt.figure(figsize=(8, 10))\n",
    "    sns.barplot(x=\"importance\", y=\"feature\", data=best_features.sort_values(by=\"importance\", ascending=False))\n",
    "    plt.title('LightGBM Features (avg over folds)')\n",
    "    plt.tight_layout()\n",
    "    plt.savefig('lgbm_importances01.png')\n",
    "\n",
    "\n",
    "def main(debug = False):\n",
    "    num_rows = 10000 if debug else None\n",
    "    df = application_train_test(num_rows)\n",
    "    \"\"\"\n",
    "    with timer(\"Process bureau and bureau_balance\"):\n",
    "        bureau = bureau_and_balance(num_rows)\n",
    "        print(\"Bureau df shape:\", bureau.shape)\n",
    "        df = df.join(bureau, how='left', on='SK_ID_CURR')\n",
    "        del bureau\n",
    "        gc.collect()\n",
    "    with timer(\"Process previous_applications\"):\n",
    "        prev = previous_applications(num_rows)\n",
    "        print(\"Previous applications df shape:\", prev.shape)\n",
    "        df = df.join(prev, how='left', on='SK_ID_CURR')\n",
    "        del prev\n",
    "        gc.collect()\n",
    "    with timer(\"Process POS-CASH balance\"):\n",
    "        pos = pos_cash(num_rows)\n",
    "        print(\"Pos-cash balance df shape:\", pos.shape)\n",
    "        df = df.join(pos, how='left', on='SK_ID_CURR')\n",
    "        del pos\n",
    "        gc.collect()\n",
    "    with timer(\"Process installments payments\"):\n",
    "        ins = installments_payments(num_rows)\n",
    "        print(\"Installments payments df shape:\", ins.shape)\n",
    "        df = df.join(ins, how='left', on='SK_ID_CURR')\n",
    "        del ins\n",
    "        gc.collect()\n",
    "    with timer(\"Process credit card balance\"):\n",
    "        cc = credit_card_balance(num_rows)\n",
    "        print(\"Credit card balance df shape:\", cc.shape)\n",
    "        df = df.join(cc, how='left', on='SK_ID_CURR')\n",
    "        del cc\n",
    "        gc.collect()\n",
    "    \"\"\"\n",
    "    with timer(\"Run LightGBM with kfold\"):\n",
    "        feat_importance = kfold_lightgbm(df, num_folds= 10, stratified= False, debug= debug)\n",
    "\n",
    "#if __name__ == \"__main__\":\n",
    "submission_file_name = \"submission_kernel02.csv\"\n",
    "with timer(\"Full model run\"):\n",
    "    \"\"\"\n",
    "    [LightGBM] [Warning] num_threads is set with nthread=4, will be overridden by n_jobs=-1. Current value: num_threads=-1\n",
    "    [200]\ttraining's auc: 0.774705\ttraining's binary_logloss: 0.241492\tvalid_1's auc: 0.76061\tvalid_1's binary_logloss: 0.250624\n",
    "    [400]\ttraining's auc: 0.793039\ttraining's binary_logloss: 0.235213\tvalid_1's auc: 0.76696\tvalid_1's binary_logloss: 0.248285\n",
    "    [600]\ttraining's auc: 0.805942\ttraining's binary_logloss: 0.231025\tvalid_1's auc: 0.768789\tvalid_1's binary_logloss: 0.247595\n",
    "    [800]\ttraining's auc: 0.816932\ttraining's binary_logloss: 0.227412\tvalid_1's auc: 0.769609\tvalid_1's binary_logloss: 0.247258\n",
    "    [1000]\ttraining's auc: 0.826627\ttraining's binary_logloss: 0.224124\tvalid_1's auc: 0.769926\tvalid_1's binary_logloss: 0.247152\n",
    "    Fold  1 AUC : 0.770105\n",
    "    \"\n",
    "    [LightGBM] [Warning] num_threads is set with nthread=4, will be overridden by n_jobs=-1. Current value: num_threads=-1\n",
    "    [200]\ttraining's auc: 0.774547\ttraining's binary_logloss: 0.24208\tvalid_1's auc: 0.761697\tvalid_1's binary_logloss: 0.245617\n",
    "    [400]\ttraining's auc: 0.792338\ttraining's binary_logloss: 0.235938\tvalid_1's auc: 0.768772\tvalid_1's binary_logloss: 0.243026\n",
    "\n",
    "\n",
    "    \"\"\"\n",
    "    main()"
   ]
  },
  {
   "cell_type": "code",
   "execution_count": null,
   "id": "afa377fd",
   "metadata": {
    "papermill": {
     "duration": 0.008405,
     "end_time": "2022-05-29T16:24:52.572217",
     "exception": false,
     "start_time": "2022-05-29T16:24:52.563812",
     "status": "completed"
    },
    "tags": []
   },
   "outputs": [],
   "source": []
  }
 ],
 "metadata": {
  "kernelspec": {
   "display_name": "Python 3",
   "language": "python",
   "name": "python3"
  },
  "language_info": {
   "codemirror_mode": {
    "name": "ipython",
    "version": 3
   },
   "file_extension": ".py",
   "mimetype": "text/x-python",
   "name": "python",
   "nbconvert_exporter": "python",
   "pygments_lexer": "ipython3",
   "version": "3.7.12"
  },
  "papermill": {
   "default_parameters": {},
   "duration": 1720.659495,
   "end_time": "2022-05-29T16:24:53.503492",
   "environment_variables": {},
   "exception": null,
   "input_path": "__notebook__.ipynb",
   "output_path": "__notebook__.ipynb",
   "parameters": {},
   "start_time": "2022-05-29T15:56:12.843997",
   "version": "2.3.4"
  }
 },
 "nbformat": 4,
 "nbformat_minor": 5
}
