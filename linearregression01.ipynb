{
 "cells": [
  {
   "cell_type": "markdown",
   "id": "62d888f2",
   "metadata": {
    "papermill": {
     "duration": 0.021742,
     "end_time": "2022-05-04T08:05:28.868255",
     "exception": false,
     "start_time": "2022-05-04T08:05:28.846513",
     "status": "completed"
    },
    "tags": []
   },
   "source": [
    "# Linear Regression in using Scikit-Learn\n",
    "\n",
    "### Overview\n",
    "Instructor to demo this on screen.\n",
    " \n",
    "### Builds on\n",
    "None\n",
    "\n",
    "### Run time\n",
    "approx. 20-30 minutes\n",
    "\n",
    "### Notes\n"
   ]
  },
  {
   "cell_type": "markdown",
   "id": "34fb9b39",
   "metadata": {
    "papermill": {
     "duration": 0.019023,
     "end_time": "2022-05-04T08:05:28.907424",
     "exception": false,
     "start_time": "2022-05-04T08:05:28.888401",
     "status": "completed"
    },
    "tags": []
   },
   "source": [
    "## Step 1 - Load Data"
   ]
  },
  {
   "cell_type": "code",
   "execution_count": 1,
   "id": "4b2f094c",
   "metadata": {
    "execution": {
     "iopub.execute_input": "2022-05-04T08:05:28.948282Z",
     "iopub.status.busy": "2022-05-04T08:05:28.947782Z",
     "iopub.status.idle": "2022-05-04T08:05:28.985409Z",
     "shell.execute_reply": "2022-05-04T08:05:28.984488Z"
    },
    "papermill": {
     "duration": 0.061249,
     "end_time": "2022-05-04T08:05:28.987843",
     "exception": false,
     "start_time": "2022-05-04T08:05:28.926594",
     "status": "completed"
    },
    "tags": []
   },
   "outputs": [
    {
     "data": {
      "text/html": [
       "<div>\n",
       "<style scoped>\n",
       "    .dataframe tbody tr th:only-of-type {\n",
       "        vertical-align: middle;\n",
       "    }\n",
       "\n",
       "    .dataframe tbody tr th {\n",
       "        vertical-align: top;\n",
       "    }\n",
       "\n",
       "    .dataframe thead th {\n",
       "        text-align: right;\n",
       "    }\n",
       "</style>\n",
       "<table border=\"1\" class=\"dataframe\">\n",
       "  <thead>\n",
       "    <tr style=\"text-align: right;\">\n",
       "      <th></th>\n",
       "      <th>bill</th>\n",
       "      <th>tip</th>\n",
       "    </tr>\n",
       "  </thead>\n",
       "  <tbody>\n",
       "    <tr>\n",
       "      <th>0</th>\n",
       "      <td>50.0</td>\n",
       "      <td>12.0</td>\n",
       "    </tr>\n",
       "    <tr>\n",
       "      <th>1</th>\n",
       "      <td>30.0</td>\n",
       "      <td>7.0</td>\n",
       "    </tr>\n",
       "    <tr>\n",
       "      <th>2</th>\n",
       "      <td>60.0</td>\n",
       "      <td>13.0</td>\n",
       "    </tr>\n",
       "    <tr>\n",
       "      <th>3</th>\n",
       "      <td>40.0</td>\n",
       "      <td>8.0</td>\n",
       "    </tr>\n",
       "    <tr>\n",
       "      <th>4</th>\n",
       "      <td>65.0</td>\n",
       "      <td>15.0</td>\n",
       "    </tr>\n",
       "    <tr>\n",
       "      <th>5</th>\n",
       "      <td>20.0</td>\n",
       "      <td>5.0</td>\n",
       "    </tr>\n",
       "    <tr>\n",
       "      <th>6</th>\n",
       "      <td>10.0</td>\n",
       "      <td>2.0</td>\n",
       "    </tr>\n",
       "    <tr>\n",
       "      <th>7</th>\n",
       "      <td>15.0</td>\n",
       "      <td>2.0</td>\n",
       "    </tr>\n",
       "    <tr>\n",
       "      <th>8</th>\n",
       "      <td>25.0</td>\n",
       "      <td>3.0</td>\n",
       "    </tr>\n",
       "    <tr>\n",
       "      <th>9</th>\n",
       "      <td>35.0</td>\n",
       "      <td>4.0</td>\n",
       "    </tr>\n",
       "  </tbody>\n",
       "</table>\n",
       "</div>"
      ],
      "text/plain": [
       "   bill   tip\n",
       "0  50.0  12.0\n",
       "1  30.0   7.0\n",
       "2  60.0  13.0\n",
       "3  40.0   8.0\n",
       "4  65.0  15.0\n",
       "5  20.0   5.0\n",
       "6  10.0   2.0\n",
       "7  15.0   2.0\n",
       "8  25.0   3.0\n",
       "9  35.0   4.0"
      ]
     },
     "execution_count": 1,
     "metadata": {},
     "output_type": "execute_result"
    }
   ],
   "source": [
    "import pandas as pd\n",
    "\n",
    "tip_data = pd.DataFrame({'bill' : [50.00, 30.00, 60.00, 40.00, 65.00, 20.00, 10.00, 15.00, 25.00, 35.00],\n",
    "                        'tip' : [12.00, 7.00, 13.00, 8.00, 15.00, 5.00, 2.00, 2.00, 3.00, 4.00]})\n",
    "tip_data"
   ]
  },
  {
   "cell_type": "markdown",
   "id": "863370f2",
   "metadata": {
    "papermill": {
     "duration": 0.022122,
     "end_time": "2022-05-04T08:05:29.034246",
     "exception": false,
     "start_time": "2022-05-04T08:05:29.012124",
     "status": "completed"
    },
    "tags": []
   },
   "source": [
    "## Step 2 - Exploratory Data Analytics (EDA)\n",
    "Do some basic plots ..etc"
   ]
  },
  {
   "cell_type": "code",
   "execution_count": 2,
   "id": "2459a573",
   "metadata": {
    "execution": {
     "iopub.execute_input": "2022-05-04T08:05:29.080633Z",
     "iopub.status.busy": "2022-05-04T08:05:29.080284Z",
     "iopub.status.idle": "2022-05-04T08:05:29.118422Z",
     "shell.execute_reply": "2022-05-04T08:05:29.117429Z"
    },
    "papermill": {
     "duration": 0.063912,
     "end_time": "2022-05-04T08:05:29.120903",
     "exception": false,
     "start_time": "2022-05-04T08:05:29.056991",
     "status": "completed"
    },
    "tags": []
   },
   "outputs": [
    {
     "data": {
      "text/html": [
       "<div>\n",
       "<style scoped>\n",
       "    .dataframe tbody tr th:only-of-type {\n",
       "        vertical-align: middle;\n",
       "    }\n",
       "\n",
       "    .dataframe tbody tr th {\n",
       "        vertical-align: top;\n",
       "    }\n",
       "\n",
       "    .dataframe thead th {\n",
       "        text-align: right;\n",
       "    }\n",
       "</style>\n",
       "<table border=\"1\" class=\"dataframe\">\n",
       "  <thead>\n",
       "    <tr style=\"text-align: right;\">\n",
       "      <th></th>\n",
       "      <th>count</th>\n",
       "      <th>mean</th>\n",
       "      <th>std</th>\n",
       "      <th>min</th>\n",
       "      <th>25%</th>\n",
       "      <th>50%</th>\n",
       "      <th>75%</th>\n",
       "      <th>max</th>\n",
       "    </tr>\n",
       "  </thead>\n",
       "  <tbody>\n",
       "    <tr>\n",
       "      <th>bill</th>\n",
       "      <td>10.0</td>\n",
       "      <td>35.0</td>\n",
       "      <td>18.708287</td>\n",
       "      <td>10.0</td>\n",
       "      <td>21.25</td>\n",
       "      <td>32.5</td>\n",
       "      <td>47.5</td>\n",
       "      <td>65.0</td>\n",
       "    </tr>\n",
       "    <tr>\n",
       "      <th>tip</th>\n",
       "      <td>10.0</td>\n",
       "      <td>7.1</td>\n",
       "      <td>4.771443</td>\n",
       "      <td>2.0</td>\n",
       "      <td>3.25</td>\n",
       "      <td>6.0</td>\n",
       "      <td>11.0</td>\n",
       "      <td>15.0</td>\n",
       "    </tr>\n",
       "  </tbody>\n",
       "</table>\n",
       "</div>"
      ],
      "text/plain": [
       "      count  mean        std   min    25%   50%   75%   max\n",
       "bill   10.0  35.0  18.708287  10.0  21.25  32.5  47.5  65.0\n",
       "tip    10.0   7.1   4.771443   2.0   3.25   6.0  11.0  15.0"
      ]
     },
     "execution_count": 2,
     "metadata": {},
     "output_type": "execute_result"
    }
   ],
   "source": [
    "## describe\n",
    "tip_data.describe().T"
   ]
  },
  {
   "cell_type": "code",
   "execution_count": 3,
   "id": "651c207f",
   "metadata": {
    "execution": {
     "iopub.execute_input": "2022-05-04T08:05:29.169028Z",
     "iopub.status.busy": "2022-05-04T08:05:29.168729Z",
     "iopub.status.idle": "2022-05-04T08:05:29.540149Z",
     "shell.execute_reply": "2022-05-04T08:05:29.538957Z"
    },
    "papermill": {
     "duration": 0.398698,
     "end_time": "2022-05-04T08:05:29.542968",
     "exception": false,
     "start_time": "2022-05-04T08:05:29.144270",
     "status": "completed"
    },
    "tags": []
   },
   "outputs": [
    {
     "data": {
      "text/plain": [
       "<matplotlib.collections.PathCollection at 0x7ff4415a3910>"
      ]
     },
     "execution_count": 3,
     "metadata": {},
     "output_type": "execute_result"
    },
    {
     "data": {
      "image/png": "[encoded data removed]",
      "text/plain": [
       "<Figure size 432x288 with 1 Axes>"
      ]
     },
     "metadata": {
      "needs_background": "light"
     },
     "output_type": "display_data"
    }
   ],
   "source": [
    "## plot \n",
    "%matplotlib inline\n",
    "import matplotlib.pyplot as plt\n",
    "\n",
    "plt.scatter(tip_data['bill'], tip_data['tip'])"
   ]
  },
  {
   "cell_type": "code",
   "execution_count": 4,
   "id": "02b1cc29",
   "metadata": {
    "execution": {
     "iopub.execute_input": "2022-05-04T08:05:29.590164Z",
     "iopub.status.busy": "2022-05-04T08:05:29.589875Z",
     "iopub.status.idle": "2022-05-04T08:05:30.989548Z",
     "shell.execute_reply": "2022-05-04T08:05:30.987866Z"
    },
    "papermill": {
     "duration": 1.426257,
     "end_time": "2022-05-04T08:05:30.992056",
     "exception": false,
     "start_time": "2022-05-04T08:05:29.565799",
     "status": "completed"
    },
    "tags": []
   },
   "outputs": [
    {
     "name": "stderr",
     "output_type": "stream",
     "text": [
      "/opt/conda/lib/python3.7/site-packages/seaborn/_decorators.py:43: FutureWarning: Pass the following variables as keyword args: x, y. From version 0.12, the only valid positional argument will be `data`, and passing other arguments without an explicit keyword will result in an error or misinterpretation.\n",
      "  FutureWarning\n"
     ]
    },
    {
     "data": {
      "text/plain": [
       "<AxesSubplot:xlabel='bill', ylabel='tip'>"
      ]
     },
     "execution_count": 4,
     "metadata": {},
     "output_type": "execute_result"
    },
    {
     "data": {
      "image/png": "[encoded data removed]",
      "text/plain": [
       "<Figure size 432x288 with 1 Axes>"
      ]
     },
     "metadata": {
      "needs_background": "light"
     },
     "output_type": "display_data"
    }
   ],
   "source": [
    "import seaborn as sns\n",
    "sns.scatterplot('bill', 'tip', data = tip_data)"
   ]
  },
  {
   "cell_type": "markdown",
   "id": "1c7d83c2",
   "metadata": {
    "papermill": {
     "duration": 0.025005,
     "end_time": "2022-05-04T08:05:31.043405",
     "exception": false,
     "start_time": "2022-05-04T08:05:31.018400",
     "status": "completed"
    },
    "tags": []
   },
   "source": [
    "## Step 3 - Shape Data"
   ]
  },
  {
   "cell_type": "code",
   "execution_count": 5,
   "id": "0bca1318",
   "metadata": {
    "execution": {
     "iopub.execute_input": "2022-05-04T08:05:31.096472Z",
     "iopub.status.busy": "2022-05-04T08:05:31.095894Z",
     "iopub.status.idle": "2022-05-04T08:05:31.108329Z",
     "shell.execute_reply": "2022-05-04T08:05:31.107360Z"
    },
    "papermill": {
     "duration": 0.043866,
     "end_time": "2022-05-04T08:05:31.112265",
     "exception": false,
     "start_time": "2022-05-04T08:05:31.068399",
     "status": "completed"
    },
    "tags": []
   },
   "outputs": [
    {
     "name": "stdout",
     "output_type": "stream",
     "text": [
      "   bill\n",
      "0  50.0\n",
      "1  30.0\n",
      "2  60.0\n",
      "3  40.0\n",
      "4  65.0\n",
      "5  20.0\n",
      "6  10.0\n",
      "7  15.0\n",
      "8  25.0\n",
      "9  35.0\n",
      "    tip\n",
      "0  12.0\n",
      "1   7.0\n",
      "2  13.0\n",
      "3   8.0\n",
      "4  15.0\n",
      "5   5.0\n",
      "6   2.0\n",
      "7   2.0\n",
      "8   3.0\n",
      "9   4.0\n"
     ]
    }
   ],
   "source": [
    "## don't forget the double brackets!\n",
    "## x is a dataframe\n",
    "## TODO  : x is 'bill'\n",
    "x = tip_data[['bill']]\n",
    "print(x)\n",
    "\n",
    "## don't forget the double brackets!\n",
    "## y is a dataframe\n",
    "## TODO : y is tip\n",
    "y = tip_data[['tip']]\n",
    "print (y)"
   ]
  },
  {
   "cell_type": "markdown",
   "id": "f575bc55",
   "metadata": {
    "papermill": {
     "duration": 0.024141,
     "end_time": "2022-05-04T08:05:31.161314",
     "exception": false,
     "start_time": "2022-05-04T08:05:31.137173",
     "status": "completed"
    },
    "tags": []
   },
   "source": [
    "## Step 5 : Do Linear Regression"
   ]
  },
  {
   "cell_type": "code",
   "execution_count": 6,
   "id": "38b525ee",
   "metadata": {
    "execution": {
     "iopub.execute_input": "2022-05-04T08:05:31.211082Z",
     "iopub.status.busy": "2022-05-04T08:05:31.210506Z",
     "iopub.status.idle": "2022-05-04T08:05:31.559237Z",
     "shell.execute_reply": "2022-05-04T08:05:31.558152Z"
    },
    "papermill": {
     "duration": 0.377043,
     "end_time": "2022-05-04T08:05:31.562156",
     "exception": false,
     "start_time": "2022-05-04T08:05:31.185113",
     "status": "completed"
    },
    "tags": []
   },
   "outputs": [
    {
     "data": {
      "text/plain": [
       "LinearRegression()"
      ]
     },
     "execution_count": 6,
     "metadata": {},
     "output_type": "execute_result"
    }
   ],
   "source": [
    "from sklearn.linear_model import LinearRegression\n",
    "\n",
    "## TODO : fit with (x,y)\n",
    "model = LinearRegression ().fit(x, y)\n",
    "model"
   ]
  },
  {
   "cell_type": "markdown",
   "id": "90afec86",
   "metadata": {
    "papermill": {
     "duration": 0.025156,
     "end_time": "2022-05-04T08:05:31.613632",
     "exception": false,
     "start_time": "2022-05-04T08:05:31.588476",
     "status": "completed"
    },
    "tags": []
   },
   "source": [
    "## Step 6 : Predict"
   ]
  },
  {
   "cell_type": "code",
   "execution_count": 7,
   "id": "1f8385bb",
   "metadata": {
    "execution": {
     "iopub.execute_input": "2022-05-04T08:05:31.669323Z",
     "iopub.status.busy": "2022-05-04T08:05:31.668568Z",
     "iopub.status.idle": "2022-05-04T08:05:31.681238Z",
     "shell.execute_reply": "2022-05-04T08:05:31.679746Z"
    },
    "papermill": {
     "duration": 0.042104,
     "end_time": "2022-05-04T08:05:31.683414",
     "exception": false,
     "start_time": "2022-05-04T08:05:31.641310",
     "status": "completed"
    },
    "tags": []
   },
   "outputs": [
    {
     "name": "stderr",
     "output_type": "stream",
     "text": [
      "/opt/conda/lib/python3.7/site-packages/sklearn/base.py:493: FutureWarning: The feature names should match those that were passed during fit. Starting version 1.2, an error will be raised.\n",
      "Feature names unseen at fit time:\n",
      "- tip\n",
      "Feature names seen at fit time, yet now missing:\n",
      "- bill\n",
      "\n",
      "  warnings.warn(message, FutureWarning)\n"
     ]
    },
    {
     "data": {
      "text/plain": [
       "array([[ 1.51428571],\n",
       "       [ 0.3       ],\n",
       "       [ 1.75714286],\n",
       "       [ 0.54285714],\n",
       "       [ 2.24285714],\n",
       "       [-0.18571429],\n",
       "       [-0.91428571],\n",
       "       [-0.91428571],\n",
       "       [-0.67142857],\n",
       "       [-0.42857143]])"
      ]
     },
     "execution_count": 7,
     "metadata": {},
     "output_type": "execute_result"
    }
   ],
   "source": [
    "## TODO : predict on x\n",
    "predictions = model.predict (y)\n",
    "predictions"
   ]
  },
  {
   "cell_type": "code",
   "execution_count": 8,
   "id": "130270d9",
   "metadata": {
    "execution": {
     "iopub.execute_input": "2022-05-04T08:05:31.737470Z",
     "iopub.status.busy": "2022-05-04T08:05:31.736644Z",
     "iopub.status.idle": "2022-05-04T08:05:31.750000Z",
     "shell.execute_reply": "2022-05-04T08:05:31.749350Z"
    },
    "papermill": {
     "duration": 0.041574,
     "end_time": "2022-05-04T08:05:31.751904",
     "exception": false,
     "start_time": "2022-05-04T08:05:31.710330",
     "status": "completed"
    },
    "tags": []
   },
   "outputs": [
    {
     "data": {
      "text/html": [
       "<div>\n",
       "<style scoped>\n",
       "    .dataframe tbody tr th:only-of-type {\n",
       "        vertical-align: middle;\n",
       "    }\n",
       "\n",
       "    .dataframe tbody tr th {\n",
       "        vertical-align: top;\n",
       "    }\n",
       "\n",
       "    .dataframe thead th {\n",
       "        text-align: right;\n",
       "    }\n",
       "</style>\n",
       "<table border=\"1\" class=\"dataframe\">\n",
       "  <thead>\n",
       "    <tr style=\"text-align: right;\">\n",
       "      <th></th>\n",
       "      <th>bill</th>\n",
       "      <th>tip</th>\n",
       "      <th>predictions</th>\n",
       "    </tr>\n",
       "  </thead>\n",
       "  <tbody>\n",
       "    <tr>\n",
       "      <th>0</th>\n",
       "      <td>50.0</td>\n",
       "      <td>12.0</td>\n",
       "      <td>1.514286</td>\n",
       "    </tr>\n",
       "    <tr>\n",
       "      <th>1</th>\n",
       "      <td>30.0</td>\n",
       "      <td>7.0</td>\n",
       "      <td>0.300000</td>\n",
       "    </tr>\n",
       "    <tr>\n",
       "      <th>2</th>\n",
       "      <td>60.0</td>\n",
       "      <td>13.0</td>\n",
       "      <td>1.757143</td>\n",
       "    </tr>\n",
       "    <tr>\n",
       "      <th>3</th>\n",
       "      <td>40.0</td>\n",
       "      <td>8.0</td>\n",
       "      <td>0.542857</td>\n",
       "    </tr>\n",
       "    <tr>\n",
       "      <th>4</th>\n",
       "      <td>65.0</td>\n",
       "      <td>15.0</td>\n",
       "      <td>2.242857</td>\n",
       "    </tr>\n",
       "    <tr>\n",
       "      <th>5</th>\n",
       "      <td>20.0</td>\n",
       "      <td>5.0</td>\n",
       "      <td>-0.185714</td>\n",
       "    </tr>\n",
       "    <tr>\n",
       "      <th>6</th>\n",
       "      <td>10.0</td>\n",
       "      <td>2.0</td>\n",
       "      <td>-0.914286</td>\n",
       "    </tr>\n",
       "    <tr>\n",
       "      <th>7</th>\n",
       "      <td>15.0</td>\n",
       "      <td>2.0</td>\n",
       "      <td>-0.914286</td>\n",
       "    </tr>\n",
       "    <tr>\n",
       "      <th>8</th>\n",
       "      <td>25.0</td>\n",
       "      <td>3.0</td>\n",
       "      <td>-0.671429</td>\n",
       "    </tr>\n",
       "    <tr>\n",
       "      <th>9</th>\n",
       "      <td>35.0</td>\n",
       "      <td>4.0</td>\n",
       "      <td>-0.428571</td>\n",
       "    </tr>\n",
       "  </tbody>\n",
       "</table>\n",
       "</div>"
      ],
      "text/plain": [
       "   bill   tip  predictions\n",
       "0  50.0  12.0     1.514286\n",
       "1  30.0   7.0     0.300000\n",
       "2  60.0  13.0     1.757143\n",
       "3  40.0   8.0     0.542857\n",
       "4  65.0  15.0     2.242857\n",
       "5  20.0   5.0    -0.185714\n",
       "6  10.0   2.0    -0.914286\n",
       "7  15.0   2.0    -0.914286\n",
       "8  25.0   3.0    -0.671429\n",
       "9  35.0   4.0    -0.428571"
      ]
     },
     "execution_count": 8,
     "metadata": {},
     "output_type": "execute_result"
    }
   ],
   "source": [
    "## Compare actual vs. predictions\n",
    "\n",
    "tip_data['predictions'] = predictions\n",
    "tip_data"
   ]
  },
  {
   "cell_type": "markdown",
   "id": "9adf5cef",
   "metadata": {
    "papermill": {
     "duration": 0.025098,
     "end_time": "2022-05-04T08:05:31.803756",
     "exception": false,
     "start_time": "2022-05-04T08:05:31.778658",
     "status": "completed"
    },
    "tags": []
   },
   "source": [
    "## Step 7 : Evaluate\n",
    "\n",
    "We can see the model coefficients from below\n",
    "- slope : 0.24\n",
    "- intercept : -1.4\n",
    "\n",
    "And R2 is 90%.  That is pretty good!"
   ]
  },
  {
   "cell_type": "code",
   "execution_count": 9,
   "id": "2d12341e",
   "metadata": {
    "execution": {
     "iopub.execute_input": "2022-05-04T08:05:31.857719Z",
     "iopub.status.busy": "2022-05-04T08:05:31.857153Z",
     "iopub.status.idle": "2022-05-04T08:05:31.872689Z",
     "shell.execute_reply": "2022-05-04T08:05:31.871113Z"
    },
    "papermill": {
     "duration": 0.045609,
     "end_time": "2022-05-04T08:05:31.874833",
     "exception": false,
     "start_time": "2022-05-04T08:05:31.829224",
     "status": "completed"
    },
    "tags": []
   },
   "outputs": [
    {
     "name": "stdout",
     "output_type": "stream",
     "text": [
      "Coefficients: [[0.24285714]]\n",
      "intercept: [-1.4]\n",
      "slope :  0.2428571428571429 , intercept:  -1.4000000000000021\n",
      "R2 :  -1.8138853198673326\n",
      "MSE :  57.65651020408164\n",
      "RMSE :  7.593188408309229\n"
     ]
    }
   ],
   "source": [
    "from sklearn.metrics import mean_squared_error, r2_score\n",
    "from math import sqrt\n",
    "\n",
    "print('Coefficients:', model.coef_)\n",
    "print('intercept:', model.intercept_)\n",
    "\n",
    "slope = model.coef_[0][0]\n",
    "intercept = model.intercept_[0]\n",
    "print (\"slope : \", slope, \", intercept: \", intercept)\n",
    "\n",
    "print (\"R2 : \" , r2_score(y, predictions))\n",
    "\n",
    "print (\"MSE : \", mean_squared_error(y, predictions))\n",
    "print (\"RMSE : \", sqrt(mean_squared_error(y, predictions)) )"
   ]
  },
  {
   "cell_type": "code",
   "execution_count": 10,
   "id": "1c626971",
   "metadata": {
    "execution": {
     "iopub.execute_input": "2022-05-04T08:05:31.930577Z",
     "iopub.status.busy": "2022-05-04T08:05:31.930289Z",
     "iopub.status.idle": "2022-05-04T08:05:32.113052Z",
     "shell.execute_reply": "2022-05-04T08:05:32.112106Z"
    },
    "papermill": {
     "duration": 0.213589,
     "end_time": "2022-05-04T08:05:32.115608",
     "exception": false,
     "start_time": "2022-05-04T08:05:31.902019",
     "status": "completed"
    },
    "tags": []
   },
   "outputs": [
    {
     "data": {
      "text/plain": [
       "[<matplotlib.lines.Line2D at 0x7ff41c48d590>]"
      ]
     },
     "execution_count": 10,
     "metadata": {},
     "output_type": "execute_result"
    },
    {
     "data": {
      "image/png": "[encoded data removed]",
      "text/plain": [
       "<Figure size 432x288 with 1 Axes>"
      ]
     },
     "metadata": {
      "needs_background": "light"
     },
     "output_type": "display_data"
    }
   ],
   "source": [
    "%matplotlib inline\n",
    "import matplotlib.pyplot as plt\n",
    "\n",
    "plt.scatter(x,y , color=\"black\")\n",
    "plt.plot(x, predictions, color='blue')"
   ]
  },
  {
   "cell_type": "markdown",
   "id": "12e84a74",
   "metadata": {
    "papermill": {
     "duration": 0.027276,
     "end_time": "2022-05-04T08:05:32.170585",
     "exception": false,
     "start_time": "2022-05-04T08:05:32.143309",
     "status": "completed"
    },
    "tags": []
   },
   "source": [
    "## Step 8 : Predict on some new data"
   ]
  },
  {
   "cell_type": "code",
   "execution_count": 11,
   "id": "004f7bfc",
   "metadata": {
    "execution": {
     "iopub.execute_input": "2022-05-04T08:05:32.229324Z",
     "iopub.status.busy": "2022-05-04T08:05:32.228730Z",
     "iopub.status.idle": "2022-05-04T08:05:32.238597Z",
     "shell.execute_reply": "2022-05-04T08:05:32.237924Z"
    },
    "papermill": {
     "duration": 0.04084,
     "end_time": "2022-05-04T08:05:32.240546",
     "exception": false,
     "start_time": "2022-05-04T08:05:32.199706",
     "status": "completed"
    },
    "tags": []
   },
   "outputs": [
    {
     "data": {
      "text/html": [
       "<div>\n",
       "<style scoped>\n",
       "    .dataframe tbody tr th:only-of-type {\n",
       "        vertical-align: middle;\n",
       "    }\n",
       "\n",
       "    .dataframe tbody tr th {\n",
       "        vertical-align: top;\n",
       "    }\n",
       "\n",
       "    .dataframe thead th {\n",
       "        text-align: right;\n",
       "    }\n",
       "</style>\n",
       "<table border=\"1\" class=\"dataframe\">\n",
       "  <thead>\n",
       "    <tr style=\"text-align: right;\">\n",
       "      <th></th>\n",
       "      <th>bill</th>\n",
       "    </tr>\n",
       "  </thead>\n",
       "  <tbody>\n",
       "    <tr>\n",
       "      <th>0</th>\n",
       "      <td>100</td>\n",
       "    </tr>\n",
       "    <tr>\n",
       "      <th>1</th>\n",
       "      <td>200</td>\n",
       "    </tr>\n",
       "    <tr>\n",
       "      <th>2</th>\n",
       "      <td>300</td>\n",
       "    </tr>\n",
       "  </tbody>\n",
       "</table>\n",
       "</div>"
      ],
      "text/plain": [
       "   bill\n",
       "0   100\n",
       "1   200\n",
       "2   300"
      ]
     },
     "execution_count": 11,
     "metadata": {},
     "output_type": "execute_result"
    }
   ],
   "source": [
    "## TODO : create a new dataframe with amounts : 100, 200, 300\n",
    "new_data = pd.DataFrame({'bill' : [100,200, 300]})\n",
    "new_data"
   ]
  },
  {
   "cell_type": "code",
   "execution_count": 12,
   "id": "687effdf",
   "metadata": {
    "execution": {
     "iopub.execute_input": "2022-05-04T08:05:32.298723Z",
     "iopub.status.busy": "2022-05-04T08:05:32.297777Z",
     "iopub.status.idle": "2022-05-04T08:05:32.305416Z",
     "shell.execute_reply": "2022-05-04T08:05:32.304850Z"
    },
    "papermill": {
     "duration": 0.038754,
     "end_time": "2022-05-04T08:05:32.307306",
     "exception": false,
     "start_time": "2022-05-04T08:05:32.268552",
     "status": "completed"
    },
    "tags": []
   },
   "outputs": [
    {
     "data": {
      "text/plain": [
       "array([[22.88571429],\n",
       "       [47.17142857],\n",
       "       [71.45714286]])"
      ]
     },
     "execution_count": 12,
     "metadata": {},
     "output_type": "execute_result"
    }
   ],
   "source": [
    "new_tips = model.predict (new_data)\n",
    "new_tips"
   ]
  },
  {
   "cell_type": "code",
   "execution_count": 13,
   "id": "e94636b1",
   "metadata": {
    "execution": {
     "iopub.execute_input": "2022-05-04T08:05:32.368116Z",
     "iopub.status.busy": "2022-05-04T08:05:32.367452Z",
     "iopub.status.idle": "2022-05-04T08:05:32.376989Z",
     "shell.execute_reply": "2022-05-04T08:05:32.376098Z"
    },
    "papermill": {
     "duration": 0.042335,
     "end_time": "2022-05-04T08:05:32.379172",
     "exception": false,
     "start_time": "2022-05-04T08:05:32.336837",
     "status": "completed"
    },
    "tags": []
   },
   "outputs": [
    {
     "data": {
      "text/html": [
       "<div>\n",
       "<style scoped>\n",
       "    .dataframe tbody tr th:only-of-type {\n",
       "        vertical-align: middle;\n",
       "    }\n",
       "\n",
       "    .dataframe tbody tr th {\n",
       "        vertical-align: top;\n",
       "    }\n",
       "\n",
       "    .dataframe thead th {\n",
       "        text-align: right;\n",
       "    }\n",
       "</style>\n",
       "<table border=\"1\" class=\"dataframe\">\n",
       "  <thead>\n",
       "    <tr style=\"text-align: right;\">\n",
       "      <th></th>\n",
       "      <th>bill</th>\n",
       "      <th>predicted_tip</th>\n",
       "    </tr>\n",
       "  </thead>\n",
       "  <tbody>\n",
       "    <tr>\n",
       "      <th>0</th>\n",
       "      <td>100</td>\n",
       "      <td>22.885714</td>\n",
       "    </tr>\n",
       "    <tr>\n",
       "      <th>1</th>\n",
       "      <td>200</td>\n",
       "      <td>47.171429</td>\n",
       "    </tr>\n",
       "    <tr>\n",
       "      <th>2</th>\n",
       "      <td>300</td>\n",
       "      <td>71.457143</td>\n",
       "    </tr>\n",
       "  </tbody>\n",
       "</table>\n",
       "</div>"
      ],
      "text/plain": [
       "   bill  predicted_tip\n",
       "0   100      22.885714\n",
       "1   200      47.171429\n",
       "2   300      71.457143"
      ]
     },
     "execution_count": 13,
     "metadata": {},
     "output_type": "execute_result"
    }
   ],
   "source": [
    "new_data['predicted_tip'] = new_tips\n",
    "new_data"
   ]
  },
  {
   "cell_type": "code",
   "execution_count": null,
   "id": "b686bf42",
   "metadata": {
    "papermill": {
     "duration": 0.030096,
     "end_time": "2022-05-04T08:05:32.439024",
     "exception": false,
     "start_time": "2022-05-04T08:05:32.408928",
     "status": "completed"
    },
    "tags": []
   },
   "outputs": [],
   "source": []
  }
 ],
 "metadata": {
  "kernelspec": {
   "display_name": "Python 3",
   "language": "python",
   "name": "python3"
  },
  "language_info": {
   "codemirror_mode": {
    "name": "ipython",
    "version": 3
   },
   "file_extension": ".py",
   "mimetype": "text/x-python",
   "name": "python",
   "nbconvert_exporter": "python",
   "pygments_lexer": "ipython3",
   "version": "3.7.12"
  },
  "papermill": {
   "default_parameters": {},
   "duration": 15.650617,
   "end_time": "2022-05-04T08:05:33.390875",
   "environment_variables": {},
   "exception": null,
   "input_path": "__notebook__.ipynb",
   "output_path": "__notebook__.ipynb",
   "parameters": {},
   "start_time": "2022-05-04T08:05:17.740258",
   "version": "2.3.4"
  }
 },
 "nbformat": 4,
 "nbformat_minor": 5
}
