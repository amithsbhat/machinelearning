{
 "cells": [
  {
   "cell_type": "code",
   "execution_count": 1,
   "id": "e0665b0b",
   "metadata": {
    "_cell_guid": "b1076dfc-b9ad-4769-8c92-a6c4dae69d19",
    "_uuid": "8f2839f25d086af736a60e9eeb907d3b93b6e0e5",
    "execution": {
     "iopub.execute_input": "2022-06-20T04:48:35.616137Z",
     "iopub.status.busy": "2022-06-20T04:48:35.615288Z",
     "iopub.status.idle": "2022-06-20T04:48:35.629592Z",
     "shell.execute_reply": "2022-06-20T04:48:35.628594Z"
    },
    "papermill": {
     "duration": 0.026974,
     "end_time": "2022-06-20T04:48:35.635124",
     "exception": false,
     "start_time": "2022-06-20T04:48:35.608150",
     "status": "completed"
    },
    "tags": []
   },
   "outputs": [
    {
     "name": "stdout",
     "output_type": "stream",
     "text": [
      "/kaggle/input/home-credit-default-risk/sample_submission.csv\n",
      "/kaggle/input/home-credit-default-risk/bureau_balance.csv\n",
      "/kaggle/input/home-credit-default-risk/POS_CASH_balance.csv\n",
      "/kaggle/input/home-credit-default-risk/application_train.csv\n",
      "/kaggle/input/home-credit-default-risk/HomeCredit_columns_description.csv\n",
      "/kaggle/input/home-credit-default-risk/application_test.csv\n",
      "/kaggle/input/home-credit-default-risk/previous_application.csv\n",
      "/kaggle/input/home-credit-default-risk/credit_card_balance.csv\n",
      "/kaggle/input/home-credit-default-risk/installments_payments.csv\n",
      "/kaggle/input/home-credit-default-risk/bureau.csv\n"
     ]
    }
   ],
   "source": [
    "# This Python 3 environment comes with many helpful analytics libraries installed\n",
    "# It is defined by the kaggle/python Docker image: https://github.com/kaggle/docker-python\n",
    "# For example, here's several helpful packages to load\n",
    "\n",
    "import numpy as np # linear algebra\n",
    "import pandas as pd # data processing, CSV file I/O (e.g. pd.read_csv)\n",
    "\n",
    "# Input data files are available in the read-only \"../input/\" directory\n",
    "# For example, running this (by clicking run or pressing Shift+Enter) will list all files under the input directory\n",
    "\n",
    "import os\n",
    "for dirname, _, filenames in os.walk('/kaggle/input'):\n",
    "    for filename in filenames:\n",
    "        print(os.path.join(dirname, filename))\n",
    "\n",
    "# You can write up to 20GB to the current directory (/kaggle/working/) that gets preserved as output when you create a version using \"Save & Run All\" \n",
    "# You can also write temporary files to /kaggle/temp/, but they won't be saved outside of the current session"
   ]
  },
  {
   "cell_type": "code",
   "execution_count": 2,
   "id": "caadc726",
   "metadata": {
    "execution": {
     "iopub.execute_input": "2022-06-20T04:48:35.646405Z",
     "iopub.status.busy": "2022-06-20T04:48:35.646015Z",
     "iopub.status.idle": "2022-06-20T04:48:38.371331Z",
     "shell.execute_reply": "2022-06-20T04:48:38.370247Z"
    },
    "papermill": {
     "duration": 2.734416,
     "end_time": "2022-06-20T04:48:38.374262",
     "exception": false,
     "start_time": "2022-06-20T04:48:35.639846",
     "status": "completed"
    },
    "tags": []
   },
   "outputs": [
    {
     "data": {
      "text/html": [
       "<style type='text/css'>\n",
       ".datatable table.frame { margin-bottom: 0; }\n",
       ".datatable table.frame thead { border-bottom: none; }\n",
       ".datatable table.frame tr.coltypes td {  color: #FFFFFF;  line-height: 6px;  padding: 0 0.5em;}\n",
       ".datatable .bool    { background: #DDDD99; }\n",
       ".datatable .object  { background: #565656; }\n",
       ".datatable .int     { background: #5D9E5D; }\n",
       ".datatable .float   { background: #4040CC; }\n",
       ".datatable .str     { background: #CC4040; }\n",
       ".datatable .time    { background: #40CC40; }\n",
       ".datatable .row_index {  background: var(--jp-border-color3);  border-right: 1px solid var(--jp-border-color0);  color: var(--jp-ui-font-color3);  font-size: 9px;}\n",
       ".datatable .frame tbody td { text-align: left; }\n",
       ".datatable .frame tr.coltypes .row_index {  background: var(--jp-border-color0);}\n",
       ".datatable th:nth-child(2) { padding-left: 12px; }\n",
       ".datatable .hellipsis {  color: var(--jp-cell-editor-border-color);}\n",
       ".datatable .vellipsis {  background: var(--jp-layout-color0);  color: var(--jp-cell-editor-border-color);}\n",
       ".datatable .na {  color: var(--jp-cell-editor-border-color);  font-size: 80%;}\n",
       ".datatable .sp {  opacity: 0.25;}\n",
       ".datatable .footer { font-size: 9px; }\n",
       ".datatable .frame_dimensions {  background: var(--jp-border-color3);  border-top: 1px solid var(--jp-border-color0);  color: var(--jp-ui-font-color3);  display: inline-block;  opacity: 0.6;  padding: 1px 10px 1px 5px;}\n",
       "</style>\n"
      ],
      "text/plain": [
       "<IPython.core.display.HTML object>"
      ]
     },
     "metadata": {},
     "output_type": "display_data"
    }
   ],
   "source": [
    "import numpy as np\n",
    "import pandas as pd\n",
    "import gc\n",
    "import time\n",
    "from contextlib import contextmanager\n",
    "from lightgbm import LGBMClassifier\n",
    "from sklearn.metrics import roc_auc_score, roc_curve\n",
    "from sklearn.model_selection import KFold, StratifiedKFold\n",
    "import matplotlib.pyplot as plt\n",
    "import seaborn as sns\n",
    "import warnings\n",
    "import re\n",
    "from sklearn.ensemble import VotingClassifier\n",
    "from sklearn.ensemble import AdaBoostClassifier\n",
    "from sklearn.neighbors import KNeighborsClassifier\n",
    "from sklearn.ensemble import RandomForestClassifier\n",
    "warnings.simplefilter(action='ignore', category=FutureWarning)\n",
    "file_name = '/kaggle/working/data.pickl'"
   ]
  },
  {
   "cell_type": "code",
   "execution_count": 3,
   "id": "52aa7b27",
   "metadata": {
    "execution": {
     "iopub.execute_input": "2022-06-20T04:48:38.385596Z",
     "iopub.status.busy": "2022-06-20T04:48:38.384941Z",
     "iopub.status.idle": "2022-06-20T04:48:38.392278Z",
     "shell.execute_reply": "2022-06-20T04:48:38.391413Z"
    },
    "papermill": {
     "duration": 0.015937,
     "end_time": "2022-06-20T04:48:38.394944",
     "exception": false,
     "start_time": "2022-06-20T04:48:38.379007",
     "status": "completed"
    },
    "tags": []
   },
   "outputs": [],
   "source": [
    "@contextmanager\n",
    "def timer(title):\n",
    "    t0 = time.time()\n",
    "    yield\n",
    "    print(\"{} - done in {:.0f}s\".format(title, time.time() - t0))\n",
    "\n",
    "# One-hot encoding for categorical columns with get_dummies\n",
    "def one_hot_encoder(df, nan_as_category = True):\n",
    "    original_columns = list(df.columns)\n",
    "    categorical_columns = [col for col in df.columns if df[col].dtype == 'object']\n",
    "    df = pd.get_dummies(df, columns= categorical_columns, dummy_na= nan_as_category)\n",
    "    new_columns = [c for c in df.columns if c not in original_columns]\n",
    "    return df, new_columns"
   ]
  },
  {
   "cell_type": "code",
   "execution_count": 4,
   "id": "a767ebe6",
   "metadata": {
    "execution": {
     "iopub.execute_input": "2022-06-20T04:48:38.406514Z",
     "iopub.status.busy": "2022-06-20T04:48:38.406076Z",
     "iopub.status.idle": "2022-06-20T04:48:38.417356Z",
     "shell.execute_reply": "2022-06-20T04:48:38.415911Z"
    },
    "papermill": {
     "duration": 0.019346,
     "end_time": "2022-06-20T04:48:38.419454",
     "exception": false,
     "start_time": "2022-06-20T04:48:38.400108",
     "status": "completed"
    },
    "tags": []
   },
   "outputs": [],
   "source": [
    "# Preprocess application_train.csv and application_test.csv\n",
    "def application_train_test(num_rows = None, nan_as_category = True):\n",
    "    # Read data and merge\n",
    "    df = pd.read_csv('/kaggle/input/home-credit-default-risk/application_train.csv', nrows= num_rows)\n",
    "    test_df = pd.read_csv('/kaggle/input/home-credit-default-risk/application_test.csv', nrows= num_rows)\n",
    "    print(\"Train samples: {}, test samples: {}\".format(len(df), len(test_df)))\n",
    "    df = df.append(test_df).reset_index()\n",
    "    # Optional: Remove 4 applications with XNA CODE_GENDER (train set)\n",
    "    df = df[df['CODE_GENDER'] != 'XNA']\n",
    "    \n",
    "    # Categorical features with Binary encode (0 or 1; two categories)\n",
    "    for bin_feature in ['CODE_GENDER', 'FLAG_OWN_CAR', 'FLAG_OWN_REALTY']:\n",
    "        df[bin_feature], uniques = pd.factorize(df[bin_feature])\n",
    "    # Categorical features with One-Hot encode\n",
    "    df, cat_cols = one_hot_encoder(df, nan_as_category)\n",
    "    \n",
    "    # NaN values for DAYS_EMPLOYED: 365.243 -> nan\n",
    "    df['DAYS_EMPLOYED'].replace(365243, np.nan, inplace= True)\n",
    "    df['DAYS_EMPLOYED'].fillna(df['DAYS_EMPLOYED'].median(), inplace=True)\n",
    "    # Some simple new features (percentages)\n",
    "    df['DAYS_EMPLOYED_PERC'] = df['DAYS_EMPLOYED'] / df['DAYS_BIRTH']\n",
    "    df['INCOME_CREDIT_PERC'] = df['AMT_INCOME_TOTAL'] / df['AMT_CREDIT']\n",
    "    df['INCOME_PER_PERSON'] = df['AMT_INCOME_TOTAL'] / df['CNT_FAM_MEMBERS']\n",
    "    df['ANNUITY_INCOME_PERC'] = df['AMT_ANNUITY'] / df['AMT_INCOME_TOTAL']\n",
    "    df['PAYMENT_RATE'] = df['AMT_ANNUITY'] / df['AMT_CREDIT']\n",
    "    del test_df\n",
    "    gc.collect()\n",
    "    return df\n",
    "\n"
   ]
  },
  {
   "cell_type": "markdown",
   "id": "66ac1f89",
   "metadata": {
    "papermill": {
     "duration": 0.004335,
     "end_time": "2022-06-20T04:48:38.428373",
     "exception": false,
     "start_time": "2022-06-20T04:48:38.424038",
     "status": "completed"
    },
    "tags": []
   },
   "source": [
    "https://towardsdatascience.com/understanding-the-roc-curve-and-auc-dd4f9a192ecb\n",
    "https://stackoverflow.com/questions/70841834/false-positive-vs-false-negative-trade-off-plot\n",
    "https://towardsdatascience.com/how-to-deal-with-imbalanced-classification-without-re-balancing-the-data-8a3c02353fe3\n",
    "https://towardsdatascience.com/classifying-model-outcomes-true-false-positives-negatives-177c1e702810\n",
    "https://www.analyticsvidhya.com/blog/2020/11/a-tour-of-evaluation-metrics-for-machine-learning/\n",
    "https://machinelearningmastery.com/precision-recall-and-f-measure-for-imbalanced-classification/"
   ]
  },
  {
   "cell_type": "code",
   "execution_count": 5,
   "id": "73e6ba87",
   "metadata": {
    "execution": {
     "iopub.execute_input": "2022-06-20T04:48:38.439389Z",
     "iopub.status.busy": "2022-06-20T04:48:38.438972Z",
     "iopub.status.idle": "2022-06-20T04:48:38.556691Z",
     "shell.execute_reply": "2022-06-20T04:48:38.555491Z"
    },
    "papermill": {
     "duration": 0.126231,
     "end_time": "2022-06-20T04:48:38.559143",
     "exception": false,
     "start_time": "2022-06-20T04:48:38.432912",
     "status": "completed"
    },
    "tags": []
   },
   "outputs": [
    {
     "name": "stderr",
     "output_type": "stream",
     "text": [
      "/opt/conda/lib/python3.7/site-packages/sklearn/experimental/enable_hist_gradient_boosting.py:17: UserWarning: Since version 1.0, it is not needed to import enable_hist_gradient_boosting anymore. HistGradientBoostingClassifier and HistGradientBoostingRegressor are now stable and can be normally imported from sklearn.ensemble.\n",
      "  \"Since version 1.0, \"\n"
     ]
    }
   ],
   "source": [
    "from sklearn.experimental import enable_hist_gradient_boosting\n",
    "from sklearn.ensemble import HistGradientBoostingClassifier\n",
    "from sklearn.metrics import classification_report, accuracy_score\n",
    "from sklearn import model_selection, metrics\n",
    "from xgboost import XGBClassifier\n",
    "from sklearn.metrics import recall_score"
   ]
  },
  {
   "cell_type": "code",
   "execution_count": 6,
   "id": "3cce0617",
   "metadata": {
    "execution": {
     "iopub.execute_input": "2022-06-20T04:48:38.570139Z",
     "iopub.status.busy": "2022-06-20T04:48:38.569733Z",
     "iopub.status.idle": "2022-06-20T04:48:38.579253Z",
     "shell.execute_reply": "2022-06-20T04:48:38.578518Z"
    },
    "papermill": {
     "duration": 0.017093,
     "end_time": "2022-06-20T04:48:38.581007",
     "exception": false,
     "start_time": "2022-06-20T04:48:38.563914",
     "status": "completed"
    },
    "tags": []
   },
   "outputs": [],
   "source": [
    "from sklearn.model_selection import train_test_split\n",
    "from sklearn.preprocessing import StandardScaler\n",
    "from sklearn.preprocessing import MinMaxScaler\n",
    "\n",
    "def getDatasets(df):\n",
    "    print(\"### Total datapoints {} ###\".format(df))\n",
    "    df = df[df['TARGET'].notnull()]\n",
    "    print(\"### Datapoints excluding test file {} ###\".format(df))\n",
    "    df = df.rename(columns = lambda x:re.sub('[^A-Za-z0-9_]+', '', x))\n",
    "    feature_col_names = [f for f in df.columns if f not in ['TARGET','SK_ID_CURR','SK_ID_BUREAU','SK_ID_PREV','index']]\n",
    "    predicted_class_names = ['TARGET']\n",
    "    \n",
    "    X = df[feature_col_names].values\n",
    "\n",
    "    Y = df[predicted_class_names].values\n",
    "\n",
    "    split_test_size = 0.3\n",
    "    \n",
    "    scaler = MinMaxScaler() #StandardScaler()\n",
    "\n",
    "    X= scaler.fit_transform(X)\n",
    "\n",
    "    X_train, X_test, y_train, y_test = train_test_split(X,Y, test_size=split_test_size, random_state = 42)\n",
    "    return X_train, X_test, y_train, y_test"
   ]
  },
  {
   "cell_type": "markdown",
   "id": "9bcb3dc4",
   "metadata": {
    "papermill": {
     "duration": 0.00446,
     "end_time": "2022-06-20T04:48:38.590188",
     "exception": false,
     "start_time": "2022-06-20T04:48:38.585728",
     "status": "completed"
    },
    "tags": []
   },
   "source": [
    "Check https://www.kaggle.com/code/arezoodahesh/home-credit-default-risk-part02-boosting-models"
   ]
  },
  {
   "cell_type": "code",
   "execution_count": 7,
   "id": "0b057691",
   "metadata": {
    "execution": {
     "iopub.execute_input": "2022-06-20T04:48:38.601681Z",
     "iopub.status.busy": "2022-06-20T04:48:38.600972Z",
     "iopub.status.idle": "2022-06-20T04:48:38.612421Z",
     "shell.execute_reply": "2022-06-20T04:48:38.611241Z"
    },
    "papermill": {
     "duration": 0.01984,
     "end_time": "2022-06-20T04:48:38.614814",
     "exception": false,
     "start_time": "2022-06-20T04:48:38.594974",
     "status": "completed"
    },
    "tags": []
   },
   "outputs": [
    {
     "data": {
      "text/plain": [
       "\"\\n\\n'XGBoost': XGBClassifier(base_score=0.5, booster='gbtree', colsample_bylevel=1,\\n          colsample_bynode=1, colsample_bytree=1, eval_metric='auc',\\n          gamma=0, gpu_id=-1, importance_type='gain',\\n          interaction_constraints='', learning_rate=0.300000012,\\n          max_delta_step=0, max_depth=6, min_child_weight=1, #missing=nan,\\n          monotone_constraints='()', n_estimators=100, n_jobs=16,\\n          num_parallel_tree=1,  random_state=0, #objective='multi:softprob',\\n          reg_alpha=0, reg_lambda=1, scale_pos_weight=None, subsample=1,\\n          tree_method='exact', use_label_encoder=False,\\n          validate_parameters=1, verbosity=None)\\n\\n\""
      ]
     },
     "execution_count": 7,
     "metadata": {},
     "output_type": "execute_result"
    }
   ],
   "source": [
    "allModels = {\n",
    "    \n",
    "    'LightGBM' : LGBMClassifier(\n",
    "            boosting_type = 'goss',  ### Added as per notebook comments ###\n",
    "            nthread=4,\n",
    "            n_estimators=10000,\n",
    "            learning_rate=0.02,\n",
    "            num_leaves=34,\n",
    "            colsample_bytree=0.9497036,\n",
    "            subsample=0.8715623,\n",
    "            max_depth=8,\n",
    "            reg_alpha=0.041545473,\n",
    "            reg_lambda=0.0735294,\n",
    "            min_split_gain=0.0222415,\n",
    "            min_child_weight=39.3259775,\n",
    "            silent=-1,\n",
    "            verbose=-1, ),\n",
    "    \n",
    "   'HGBC' :  HistGradientBoostingClassifier(learning_rate=0.01, \n",
    "        max_iter=2000, max_leaf_nodes=6, validation_fraction=0.2, \n",
    "        n_iter_no_change=15, random_state=42),\n",
    "    \n",
    "   # \"RFC\" : RandomForestClassifier(n_estimators=10),\n",
    "    \n",
    "   # 'ADA' : AdaBoostClassifier(learning_rate=0.2, \n",
    "   #                      algorithm = 'SAMME.R',\n",
    "   #                      n_estimators=200, \n",
    "    #                     random_state=100),\n",
    "    \n",
    "  # 'KNN3':  KNeighborsClassifier(n_neighbors=3), \n",
    "    \n",
    "   # 'KNN5':  KNeighborsClassifier(n_neighbors=5), \n",
    "    }\n",
    "\n",
    "\"\"\"\n",
    "\n",
    "'XGBoost': XGBClassifier(base_score=0.5, booster='gbtree', colsample_bylevel=1,\n",
    "          colsample_bynode=1, colsample_bytree=1, eval_metric='auc',\n",
    "          gamma=0, gpu_id=-1, importance_type='gain',\n",
    "          interaction_constraints='', learning_rate=0.300000012,\n",
    "          max_delta_step=0, max_depth=6, min_child_weight=1, #missing=nan,\n",
    "          monotone_constraints='()', n_estimators=100, n_jobs=16,\n",
    "          num_parallel_tree=1,  random_state=0, #objective='multi:softprob',\n",
    "          reg_alpha=0, reg_lambda=1, scale_pos_weight=None, subsample=1,\n",
    "          tree_method='exact', use_label_encoder=False,\n",
    "          validate_parameters=1, verbosity=None)\n",
    "\n",
    "\"\"\"\n"
   ]
  },
  {
   "cell_type": "code",
   "execution_count": 8,
   "id": "9e716c63",
   "metadata": {
    "execution": {
     "iopub.execute_input": "2022-06-20T04:48:38.626303Z",
     "iopub.status.busy": "2022-06-20T04:48:38.625901Z",
     "iopub.status.idle": "2022-06-20T04:48:38.632416Z",
     "shell.execute_reply": "2022-06-20T04:48:38.631619Z"
    },
    "papermill": {
     "duration": 0.014591,
     "end_time": "2022-06-20T04:48:38.634399",
     "exception": false,
     "start_time": "2022-06-20T04:48:38.619808",
     "status": "completed"
    },
    "tags": []
   },
   "outputs": [],
   "source": [
    "def conf_matrix(y,pred):\n",
    "    \n",
    "    ((tn, fp), (fn, tp)) = metrics.confusion_matrix(y, pred)\n",
    "    ((tnr,fpr),(fnr,tpr))= metrics.confusion_matrix(y, pred, \n",
    "            normalize='true')\n",
    "    return pd.DataFrame([[f'TN = {tn} (TNR = {tnr:1.2%})', \n",
    "                                f'FP = {fp} (FPR = {fpr:1.2%})'], \n",
    "                             [f'FN = {fn} (FNR = {fnr:1.2%})', \n",
    "                                    f'TP = {tp} (TPR = {tpr:1.2%})']],\n",
    "                index=['True 0(Legit)', 'True 1(Fraud)'], \n",
    "                columns=['Pred 0(Approve as Legit)', \n",
    "                                'Pred 1(Deny as Fraud)'])"
   ]
  },
  {
   "cell_type": "code",
   "execution_count": 9,
   "id": "7955eeb6",
   "metadata": {
    "execution": {
     "iopub.execute_input": "2022-06-20T04:48:38.645955Z",
     "iopub.status.busy": "2022-06-20T04:48:38.645318Z",
     "iopub.status.idle": "2022-06-20T04:49:54.951491Z",
     "shell.execute_reply": "2022-06-20T04:49:54.950446Z"
    },
    "papermill": {
     "duration": 76.315014,
     "end_time": "2022-06-20T04:49:54.954254",
     "exception": false,
     "start_time": "2022-06-20T04:48:38.639240",
     "status": "completed"
    },
    "tags": []
   },
   "outputs": [
    {
     "name": "stdout",
     "output_type": "stream",
     "text": [
      "Train samples: 10000, test samples: 10000\n",
      "### Picked data ###\n",
      "Run main - done in 0s\n",
      "0.0    9225\n",
      "1.0     775\n",
      "Name: TARGET, dtype: int64\n",
      "### Total datapoints        index  SK_ID_CURR  TARGET  CODE_GENDER  FLAG_OWN_CAR  FLAG_OWN_REALTY  \\\n",
      "0          0      100002     1.0            0             0                0   \n",
      "1          1      100003     0.0            1             0                1   \n",
      "2          2      100004     0.0            0             1                0   \n",
      "3          3      100006     0.0            1             0                0   \n",
      "4          4      100007     0.0            0             0                0   \n",
      "...      ...         ...     ...          ...           ...              ...   \n",
      "19995   9995      172551     NaN            1             0                0   \n",
      "19996   9996      172556     NaN            0             1                1   \n",
      "19997   9997      172562     NaN            1             0                0   \n",
      "19998   9998      172570     NaN            0             0                0   \n",
      "19999   9999      172574     NaN            1             0                1   \n",
      "\n",
      "       CNT_CHILDREN  AMT_INCOME_TOTAL  AMT_CREDIT  AMT_ANNUITY  ...  \\\n",
      "0                 0          202500.0    406597.5      24700.5  ...   \n",
      "1                 0          270000.0   1293502.5      35698.5  ...   \n",
      "2                 0           67500.0    135000.0       6750.0  ...   \n",
      "3                 0          135000.0    312682.5      29686.5  ...   \n",
      "4                 0          121500.0    513000.0      21865.5  ...   \n",
      "...             ...               ...         ...          ...  ...   \n",
      "19995             0          135000.0    454500.0      29173.5  ...   \n",
      "19996             1          180000.0    500490.0      52555.5  ...   \n",
      "19997             0          202500.0    523152.0      37336.5  ...   \n",
      "19998             1          382500.0    967500.0      31338.0  ...   \n",
      "19999             1          112500.0    539100.0      22837.5  ...   \n",
      "\n",
      "       WALLSMATERIAL_MODE_Wooden  WALLSMATERIAL_MODE_nan  \\\n",
      "0                              0                       0   \n",
      "1                              0                       0   \n",
      "2                              0                       1   \n",
      "3                              0                       1   \n",
      "4                              0                       1   \n",
      "...                          ...                     ...   \n",
      "19995                          0                       0   \n",
      "19996                          0                       1   \n",
      "19997                          0                       0   \n",
      "19998                          0                       0   \n",
      "19999                          0                       0   \n",
      "\n",
      "       EMERGENCYSTATE_MODE_No  EMERGENCYSTATE_MODE_Yes  \\\n",
      "0                           1                        0   \n",
      "1                           1                        0   \n",
      "2                           0                        0   \n",
      "3                           0                        0   \n",
      "4                           0                        0   \n",
      "...                       ...                      ...   \n",
      "19995                       1                        0   \n",
      "19996                       1                        0   \n",
      "19997                       1                        0   \n",
      "19998                       1                        0   \n",
      "19999                       1                        0   \n",
      "\n",
      "       EMERGENCYSTATE_MODE_nan  DAYS_EMPLOYED_PERC  INCOME_CREDIT_PERC  \\\n",
      "0                            0            0.067329            0.498036   \n",
      "1                            0            0.070862            0.208736   \n",
      "2                            1            0.011814            0.500000   \n",
      "3                            1            0.159905            0.431748   \n",
      "4                            1            0.152418            0.236842   \n",
      "...                        ...                 ...                 ...   \n",
      "19995                        0            0.614244            0.297030   \n",
      "19996                        0            0.141290            0.359648   \n",
      "19997                        0            0.006618            0.387077   \n",
      "19998                        0            0.056491            0.395349   \n",
      "19999                        0            0.012844            0.208681   \n",
      "\n",
      "       INCOME_PER_PERSON  ANNUITY_INCOME_PERC  PAYMENT_RATE  \n",
      "0               202500.0             0.121978      0.060749  \n",
      "1               135000.0             0.132217      0.027598  \n",
      "2                67500.0             0.100000      0.050000  \n",
      "3                67500.0             0.219900      0.094941  \n",
      "4               121500.0             0.179963      0.042623  \n",
      "...                  ...                  ...           ...  \n",
      "19995           135000.0             0.216100      0.064188  \n",
      "19996            60000.0             0.291975      0.105008  \n",
      "19997           202500.0             0.184378      0.071368  \n",
      "19998           127500.0             0.081929      0.032391  \n",
      "19999            37500.0             0.203000      0.042362  \n",
      "\n",
      "[20000 rows x 259 columns] ###\n",
      "### Datapoints excluding test file       index  SK_ID_CURR  TARGET  CODE_GENDER  FLAG_OWN_CAR  FLAG_OWN_REALTY  \\\n",
      "0         0      100002     1.0            0             0                0   \n",
      "1         1      100003     0.0            1             0                1   \n",
      "2         2      100004     0.0            0             1                0   \n",
      "3         3      100006     0.0            1             0                0   \n",
      "4         4      100007     0.0            0             0                0   \n",
      "...     ...         ...     ...          ...           ...              ...   \n",
      "9995   9995      111629     0.0            1             1                0   \n",
      "9996   9996      111630     0.0            1             1                0   \n",
      "9997   9997      111631     0.0            0             1                0   \n",
      "9998   9998      111632     0.0            1             0                1   \n",
      "9999   9999      111633     0.0            0             1                1   \n",
      "\n",
      "      CNT_CHILDREN  AMT_INCOME_TOTAL  AMT_CREDIT  AMT_ANNUITY  ...  \\\n",
      "0                0          202500.0    406597.5      24700.5  ...   \n",
      "1                0          270000.0   1293502.5      35698.5  ...   \n",
      "2                0           67500.0    135000.0       6750.0  ...   \n",
      "3                0          135000.0    312682.5      29686.5  ...   \n",
      "4                0          121500.0    513000.0      21865.5  ...   \n",
      "...            ...               ...         ...          ...  ...   \n",
      "9995             1          135000.0    270000.0      13500.0  ...   \n",
      "9996             0          166500.0   1006920.0      51543.0  ...   \n",
      "9997             0          225000.0    497520.0      53581.5  ...   \n",
      "9998             0          360000.0    348264.0      27643.5  ...   \n",
      "9999             0           94500.0    355536.0      18742.5  ...   \n",
      "\n",
      "      WALLSMATERIAL_MODE_Wooden  WALLSMATERIAL_MODE_nan  \\\n",
      "0                             0                       0   \n",
      "1                             0                       0   \n",
      "2                             0                       1   \n",
      "3                             0                       1   \n",
      "4                             0                       1   \n",
      "...                         ...                     ...   \n",
      "9995                          0                       0   \n",
      "9996                          0                       1   \n",
      "9997                          0                       1   \n",
      "9998                          0                       1   \n",
      "9999                          0                       1   \n",
      "\n",
      "      EMERGENCYSTATE_MODE_No  EMERGENCYSTATE_MODE_Yes  \\\n",
      "0                          1                        0   \n",
      "1                          1                        0   \n",
      "2                          0                        0   \n",
      "3                          0                        0   \n",
      "4                          0                        0   \n",
      "...                      ...                      ...   \n",
      "9995                       1                        0   \n",
      "9996                       0                        0   \n",
      "9997                       0                        0   \n",
      "9998                       0                        0   \n",
      "9999                       0                        0   \n",
      "\n",
      "      EMERGENCYSTATE_MODE_nan  DAYS_EMPLOYED_PERC  INCOME_CREDIT_PERC  \\\n",
      "0                           0            0.067329            0.498036   \n",
      "1                           0            0.070862            0.208736   \n",
      "2                           1            0.011814            0.500000   \n",
      "3                           1            0.159905            0.431748   \n",
      "4                           1            0.152418            0.236842   \n",
      "...                       ...                 ...                 ...   \n",
      "9995                        0            0.235638            0.500000   \n",
      "9996                        1            0.238410            0.165356   \n",
      "9997                        1            0.088442            0.452243   \n",
      "9998                        1            0.102390            1.033699   \n",
      "9999                        1            0.036337            0.265796   \n",
      "\n",
      "      INCOME_PER_PERSON  ANNUITY_INCOME_PERC  PAYMENT_RATE  \n",
      "0              202500.0             0.121978      0.060749  \n",
      "1              135000.0             0.132217      0.027598  \n",
      "2               67500.0             0.100000      0.050000  \n",
      "3               67500.0             0.219900      0.094941  \n",
      "4              121500.0             0.179963      0.042623  \n",
      "...                 ...                  ...           ...  \n",
      "9995            45000.0             0.100000      0.050000  \n",
      "9996            83250.0             0.309568      0.051189  \n",
      "9997           112500.0             0.238140      0.107697  \n",
      "9998           180000.0             0.076787      0.079375  \n",
      "9999            94500.0             0.198333      0.052716  \n",
      "\n",
      "[10000 rows x 259 columns] ###\n",
      "Starting LightGBM.... Train shape: (7000, 256), test shape: (3000, 256)\n",
      "[LightGBM] [Warning] num_threads is set with nthread=4, will be overridden by n_jobs=-1. Current value: num_threads=-1\n"
     ]
    },
    {
     "name": "stderr",
     "output_type": "stream",
     "text": [
      "/opt/conda/lib/python3.7/site-packages/sklearn/preprocessing/_label.py:98: DataConversionWarning: A column-vector y was passed when a 1d array was expected. Please change the shape of y to (n_samples, ), for example using ravel().\n",
      "  y = column_or_1d(y, warn=True)\n",
      "/opt/conda/lib/python3.7/site-packages/sklearn/preprocessing/_label.py:133: DataConversionWarning: A column-vector y was passed when a 1d array was expected. Please change the shape of y to (n_samples, ), for example using ravel().\n",
      "  y = column_or_1d(y, warn=True)\n",
      "/opt/conda/lib/python3.7/site-packages/lightgbm/sklearn.py:598: UserWarning: 'silent' argument is deprecated and will be removed in a future release of LightGBM. Pass 'verbose' parameter via keyword arguments instead.\n",
      "  _log_warning(\"'silent' argument is deprecated and will be removed in a future release of LightGBM. \"\n"
     ]
    },
    {
     "name": "stdout",
     "output_type": "stream",
     "text": [
      "################## Stats for LightGBM ##########################\n",
      "               Pred 0(Approve as Legit)  Pred 1(Deny as Fraud)\n",
      "True 0(Legit)  TN = 2723 (TNR = 99.02%)  FP = 27 (FPR = 0.98%)\n",
      "True 1(Fraud)   FN = 231 (FNR = 92.40%)  TP = 19 (TPR = 7.60%)\n",
      "Recall: 0.076\n",
      "ROC AUC: 0.5331\n",
      "############################################\n",
      "Starting HGBC.... Train shape: (7000, 256), test shape: (3000, 256)\n"
     ]
    },
    {
     "name": "stderr",
     "output_type": "stream",
     "text": [
      "/opt/conda/lib/python3.7/site-packages/sklearn/utils/validation.py:993: DataConversionWarning: A column-vector y was passed when a 1d array was expected. Please change the shape of y to (n_samples, ), for example using ravel().\n",
      "  y = column_or_1d(y, warn=True)\n"
     ]
    },
    {
     "name": "stdout",
     "output_type": "stream",
     "text": [
      "################## Stats for HGBC ##########################\n",
      "               Pred 0(Approve as Legit) Pred 1(Deny as Fraud)\n",
      "True 0(Legit)  TN = 2742 (TNR = 99.71%)  FP = 8 (FPR = 0.29%)\n",
      "True 1(Fraud)   FN = 244 (FNR = 97.60%)  TP = 6 (TPR = 2.40%)\n",
      "Recall: 0.024\n",
      "ROC AUC: 0.5105\n",
      "############################################\n",
      "Starting None.... Train shape: (7000, 256), test shape: (3000, 256)\n",
      "[LightGBM] [Warning] num_threads is set with nthread=4, will be overridden by n_jobs=-1. Current value: num_threads=-1\n"
     ]
    },
    {
     "name": "stderr",
     "output_type": "stream",
     "text": [
      "/opt/conda/lib/python3.7/site-packages/sklearn/preprocessing/_label.py:98: DataConversionWarning: A column-vector y was passed when a 1d array was expected. Please change the shape of y to (n_samples, ), for example using ravel().\n",
      "  y = column_or_1d(y, warn=True)\n",
      "/opt/conda/lib/python3.7/site-packages/sklearn/preprocessing/_label.py:133: DataConversionWarning: A column-vector y was passed when a 1d array was expected. Please change the shape of y to (n_samples, ), for example using ravel().\n",
      "  y = column_or_1d(y, warn=True)\n",
      "/opt/conda/lib/python3.7/site-packages/lightgbm/sklearn.py:598: UserWarning: 'silent' argument is deprecated and will be removed in a future release of LightGBM. Pass 'verbose' parameter via keyword arguments instead.\n",
      "  _log_warning(\"'silent' argument is deprecated and will be removed in a future release of LightGBM. \"\n"
     ]
    },
    {
     "name": "stdout",
     "output_type": "stream",
     "text": [
      "################## Stats for None ##########################\n",
      "               Pred 0(Approve as Legit) Pred 1(Deny as Fraud)\n",
      "True 0(Legit)  TN = 2746 (TNR = 99.85%)  FP = 4 (FPR = 0.15%)\n",
      "True 1(Fraud)   FN = 249 (FNR = 99.60%)  TP = 1 (TPR = 0.40%)\n",
      "Recall: 0.004\n",
      "ROC AUC: 0.5013\n",
      "############################################\n",
      "Full model run - done in 76s\n"
     ]
    },
    {
     "data": {
      "image/png": "[encoded data removed]",
      "text/plain": [
       "<Figure size 432x288 with 1 Axes>"
      ]
     },
     "metadata": {
      "needs_background": "light"
     },
     "output_type": "display_data"
    },
    {
     "data": {
      "image/png": "[encoded data removed]",
      "text/plain": [
       "<Figure size 432x288 with 1 Axes>"
      ]
     },
     "metadata": {
      "needs_background": "light"
     },
     "output_type": "display_data"
    },
    {
     "data": {
      "image/png": "[encoded data removed]",
      "text/plain": [
       "<Figure size 432x288 with 1 Axes>"
      ]
     },
     "metadata": {
      "needs_background": "light"
     },
     "output_type": "display_data"
    }
   ],
   "source": [
    "from sklearn.metrics import plot_roc_curve\n",
    "# LightGBM GBDT with KFold or Stratified KFold\n",
    "# Parameters from Tilii kernel: https://www.kaggle.com/tilii7/olivier-lightgbm-parameters-by-bayesian-opt/code\n",
    "def runAlgos(algoName, X_train, X_test, y_train, y_test, ensemble = None):\n",
    "   \n",
    "    print(\"Starting {}.... Train shape: {}, test shape: {}\".format(algoName, X_train.shape, X_test.shape))\n",
    "\n",
    "    clf = ensemble or allModels.get(algoName) \n",
    "    clf.fit(X_train, y_train)\n",
    "    y_pred=clf.predict(X_test)\n",
    "    print(\"################## Stats for {} ##########################\".format(algoName))\n",
    "    if not ensemble:\n",
    "        plot_roc_curve(clf, X_test, y_test, name = algoName)\n",
    "    print(conf_matrix(y_test,y_pred))\n",
    "    # calculate recall\n",
    "    recall = recall_score(y_test, y_pred, average='binary')\n",
    "    print('Recall: %.3f' % recall)\n",
    "    from sklearn.metrics import roc_auc_score\n",
    "    score = roc_auc_score(y_test, y_pred)\n",
    "    print(f\"ROC AUC: {score:.4f}\")\n",
    "    print(\"############################################\")\n",
    "\n",
    "    gc.collect()\n",
    "    \n",
    "\n",
    "\n",
    "def prepare(debug = False):\n",
    "    num_rows = 10000 if debug else None\n",
    "    df = application_train_test(num_rows)\n",
    "   \n",
    "    with timer(\"Run main\"):\n",
    "        \n",
    "        \n",
    "        df.to_pickle(file_name)\n",
    "        #df = df.dropna()\n",
    "        print(\"### Picked data ###\")\n",
    "        #df = pd.read_pickle(file_name)\n",
    "        #df = df[:1000]\n",
    "        return df\n",
    "    \n",
    "def main():\n",
    "    df = prepare(debug = True) #pd.read_pickle(file_name) #prepare(debug = False)\n",
    "    sns.countplot(x = \"TARGET\", data = df)\n",
    "    print(df.loc[:, 'TARGET'].value_counts())\n",
    "    #np.where(df.values >= np.finfo(np.float32).max)\n",
    "    #print(\"Pre-drop {}\".format(len(df)))\n",
    "    #df = df.dropna()\n",
    "    #print(\"Post-drop {}\".format(len(df)))\n",
    "    X_train, X_test, y_train, y_test = getDatasets(df)\n",
    "    # try - https://machinelearningmastery.com/voting-ensembles-with-python/\n",
    "    for k in allModels.keys():\n",
    "\n",
    "        runAlgos(k, X_train, X_test, y_train, y_test)\n",
    "        \n",
    "    ensembleModels = [(k,v) for k,v in allModels.items() ]  \n",
    "    ensemble = VotingClassifier(estimators=ensembleModels, voting='hard')\n",
    "    runAlgos(None, X_train, X_test, y_train, y_test, ensemble=ensemble)\n",
    "\n",
    "'''\n",
    "Version 2 without nan as category\n",
    "################## Stats for LightGBM ##########################\n",
    "                Pred 0(Approve as Legit)   Pred 1(Deny as Fraud)\n",
    "True 0(Legit)  TN = 84471 (TNR = 99.60%)  FP = 340 (FPR = 0.40%)\n",
    "True 1(Fraud)   FN = 7135 (FNR = 95.87%)  TP = 307 (TPR = 4.13%)\n",
    "Recall: 0.041\n",
    "ROC AUC: 0.5186\n",
    "############################################\n",
    "Starting HGBC.... Train shape: (215254, 258), test shape: (92253, 258)\n",
    "/opt/conda/lib/python3.7/site-packages/sklearn/utils/validation.py:993: DataConversionWarning: A column-vector y was passed when a 1d array was expected. Please change the shape of y to (n_samples, ), for example using ravel().\n",
    "  y = column_or_1d(y, warn=True)\n",
    "################## Stats for HGBC ##########################\n",
    "                Pred 0(Approve as Legit)   Pred 1(Deny as Fraud)\n",
    "True 0(Legit)  TN = 84739 (TNR = 99.92%)   FP = 72 (FPR = 0.08%)\n",
    "True 1(Fraud)   FN = 7324 (FNR = 98.41%)  TP = 118 (TPR = 1.59%)\n",
    "Recall: 0.016\n",
    "ROC AUC: 0.5075\n",
    "############################################\n",
    "\n",
    "\n",
    "################## Stats for None ##########################\n",
    "                Pred 0(Approve as Legit)  Pred 1(Deny as Fraud)\n",
    "True 0(Legit)  TN = 84758 (TNR = 99.94%)  FP = 53 (FPR = 0.06%)\n",
    "True 1(Fraud)   FN = 7353 (FNR = 98.80%)  TP = 89 (TPR = 1.20%)\n",
    "Recall: 0.012\n",
    "ROC AUC: 0.5057\n",
    "'''\n",
    "with timer(\"Full model run\"):\n",
    "    main()"
   ]
  },
  {
   "cell_type": "code",
   "execution_count": null,
   "id": "9c311266",
   "metadata": {
    "papermill": {
     "duration": 0.007781,
     "end_time": "2022-06-20T04:49:54.969995",
     "exception": false,
     "start_time": "2022-06-20T04:49:54.962214",
     "status": "completed"
    },
    "tags": []
   },
   "outputs": [],
   "source": []
  }
 ],
 "metadata": {
  "kernelspec": {
   "display_name": "Python 3",
   "language": "python",
   "name": "python3"
  },
  "language_info": {
   "codemirror_mode": {
    "name": "ipython",
    "version": 3
   },
   "file_extension": ".py",
   "mimetype": "text/x-python",
   "name": "python",
   "nbconvert_exporter": "python",
   "pygments_lexer": "ipython3",
   "version": "3.7.12"
  },
  "papermill": {
   "default_parameters": {},
   "duration": 91.252806,
   "end_time": "2022-06-20T04:49:55.901904",
   "environment_variables": {},
   "exception": null,
   "input_path": "__notebook__.ipynb",
   "output_path": "__notebook__.ipynb",
   "parameters": {},
   "start_time": "2022-06-20T04:48:24.649098",
   "version": "2.3.4"
  }
 },
 "nbformat": 4,
 "nbformat_minor": 5
}
