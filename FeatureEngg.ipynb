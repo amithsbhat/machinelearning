{
 "cells": [
  {
   "cell_type": "code",
   "execution_count": 1,
   "id": "bf312e38",
   "metadata": {
    "execution": {
     "iopub.execute_input": "2022-04-28T16:43:06.436912Z",
     "iopub.status.busy": "2022-04-28T16:43:06.435958Z",
     "iopub.status.idle": "2022-04-28T16:43:07.520797Z",
     "shell.execute_reply": "2022-04-28T16:43:07.519747Z"
    },
    "papermill": {
     "duration": 1.151269,
     "end_time": "2022-04-28T16:43:07.523525",
     "exception": false,
     "start_time": "2022-04-28T16:43:06.372256",
     "status": "completed"
    },
    "tags": []
   },
   "outputs": [],
   "source": [
    "import pandas as pd\n",
    "dfaccount = pd.read_csv('https://query.data.world/s/eenobtmnk5ducuuwriagjx3zj6ee4z',  sep=';')"
   ]
  },
  {
   "cell_type": "code",
   "execution_count": 2,
   "id": "0c5f1153",
   "metadata": {
    "execution": {
     "iopub.execute_input": "2022-04-28T16:43:07.660398Z",
     "iopub.status.busy": "2022-04-28T16:43:07.659703Z",
     "iopub.status.idle": "2022-04-28T16:43:09.335924Z",
     "shell.execute_reply": "2022-04-28T16:43:09.334605Z"
    },
    "papermill": {
     "duration": 1.745366,
     "end_time": "2022-04-28T16:43:09.338790",
     "exception": false,
     "start_time": "2022-04-28T16:43:07.593424",
     "status": "completed"
    },
    "tags": []
   },
   "outputs": [],
   "source": [
    "dfclient = pd.read_csv('https://query.data.world/s/y52ecnrj755lglbpcq7ohwjzdhvtg7',  sep=';')"
   ]
  },
  {
   "cell_type": "code",
   "execution_count": 3,
   "id": "2bf0e341",
   "metadata": {
    "execution": {
     "iopub.execute_input": "2022-04-28T16:43:09.463883Z",
     "iopub.status.busy": "2022-04-28T16:43:09.463142Z",
     "iopub.status.idle": "2022-04-28T16:43:10.485583Z",
     "shell.execute_reply": "2022-04-28T16:43:10.484427Z"
    },
    "papermill": {
     "duration": 1.087808,
     "end_time": "2022-04-28T16:43:10.488337",
     "exception": false,
     "start_time": "2022-04-28T16:43:09.400529",
     "status": "completed"
    },
    "tags": []
   },
   "outputs": [],
   "source": [
    "dfdisp = pd.read_csv('https://query.data.world/s/udbqns7mfu77msmw4jh5bdemrbwdkq',  sep=';')"
   ]
  },
  {
   "cell_type": "code",
   "execution_count": 4,
   "id": "342b2520",
   "metadata": {
    "execution": {
     "iopub.execute_input": "2022-04-28T16:43:10.609659Z",
     "iopub.status.busy": "2022-04-28T16:43:10.609335Z",
     "iopub.status.idle": "2022-04-28T16:43:14.619308Z",
     "shell.execute_reply": "2022-04-28T16:43:14.618327Z"
    },
    "papermill": {
     "duration": 4.074562,
     "end_time": "2022-04-28T16:43:14.623006",
     "exception": false,
     "start_time": "2022-04-28T16:43:10.548444",
     "status": "completed"
    },
    "tags": []
   },
   "outputs": [
    {
     "name": "stderr",
     "output_type": "stream",
     "text": [
      "/opt/conda/lib/python3.7/site-packages/IPython/core/interactiveshell.py:3524: DtypeWarning: Columns (8) have mixed types.Specify dtype option on import or set low_memory=False.\n",
      "  exec(code_obj, self.user_global_ns, self.user_ns)\n"
     ]
    }
   ],
   "source": [
    "dftrans = pd.read_csv('https://query.data.world/s/ehw6znxqznfmrojmgyzobje55regbd',  sep=';')"
   ]
  },
  {
   "cell_type": "code",
   "execution_count": 5,
   "id": "c9481ea7",
   "metadata": {
    "execution": {
     "iopub.execute_input": "2022-04-28T16:43:14.770274Z",
     "iopub.status.busy": "2022-04-28T16:43:14.769119Z",
     "iopub.status.idle": "2022-04-28T16:43:14.792913Z",
     "shell.execute_reply": "2022-04-28T16:43:14.792123Z"
    },
    "papermill": {
     "duration": 0.098855,
     "end_time": "2022-04-28T16:43:14.795191",
     "exception": false,
     "start_time": "2022-04-28T16:43:14.696336",
     "status": "completed"
    },
    "tags": []
   },
   "outputs": [
    {
     "data": {
      "text/html": [
       "<div>\n",
       "<style scoped>\n",
       "    .dataframe tbody tr th:only-of-type {\n",
       "        vertical-align: middle;\n",
       "    }\n",
       "\n",
       "    .dataframe tbody tr th {\n",
       "        vertical-align: top;\n",
       "    }\n",
       "\n",
       "    .dataframe thead th {\n",
       "        text-align: right;\n",
       "    }\n",
       "</style>\n",
       "<table border=\"1\" class=\"dataframe\">\n",
       "  <thead>\n",
       "    <tr style=\"text-align: right;\">\n",
       "      <th></th>\n",
       "      <th>account_id</th>\n",
       "      <th>district_id</th>\n",
       "      <th>frequency</th>\n",
       "      <th>date</th>\n",
       "    </tr>\n",
       "  </thead>\n",
       "  <tbody>\n",
       "    <tr>\n",
       "      <th>0</th>\n",
       "      <td>576</td>\n",
       "      <td>55</td>\n",
       "      <td>POPLATEK MESICNE</td>\n",
       "      <td>930101</td>\n",
       "    </tr>\n",
       "    <tr>\n",
       "      <th>1</th>\n",
       "      <td>3818</td>\n",
       "      <td>74</td>\n",
       "      <td>POPLATEK MESICNE</td>\n",
       "      <td>930101</td>\n",
       "    </tr>\n",
       "    <tr>\n",
       "      <th>2</th>\n",
       "      <td>704</td>\n",
       "      <td>55</td>\n",
       "      <td>POPLATEK MESICNE</td>\n",
       "      <td>930101</td>\n",
       "    </tr>\n",
       "    <tr>\n",
       "      <th>3</th>\n",
       "      <td>2378</td>\n",
       "      <td>16</td>\n",
       "      <td>POPLATEK MESICNE</td>\n",
       "      <td>930101</td>\n",
       "    </tr>\n",
       "    <tr>\n",
       "      <th>4</th>\n",
       "      <td>2632</td>\n",
       "      <td>24</td>\n",
       "      <td>POPLATEK MESICNE</td>\n",
       "      <td>930102</td>\n",
       "    </tr>\n",
       "  </tbody>\n",
       "</table>\n",
       "</div>"
      ],
      "text/plain": [
       "   account_id  district_id         frequency    date\n",
       "0         576           55  POPLATEK MESICNE  930101\n",
       "1        3818           74  POPLATEK MESICNE  930101\n",
       "2         704           55  POPLATEK MESICNE  930101\n",
       "3        2378           16  POPLATEK MESICNE  930101\n",
       "4        2632           24  POPLATEK MESICNE  930102"
      ]
     },
     "execution_count": 5,
     "metadata": {},
     "output_type": "execute_result"
    }
   ],
   "source": [
    "dfaccount.head()"
   ]
  },
  {
   "cell_type": "code",
   "execution_count": 6,
   "id": "f4e41629",
   "metadata": {
    "execution": {
     "iopub.execute_input": "2022-04-28T16:43:14.928735Z",
     "iopub.status.busy": "2022-04-28T16:43:14.928049Z",
     "iopub.status.idle": "2022-04-28T16:43:14.934318Z",
     "shell.execute_reply": "2022-04-28T16:43:14.933467Z"
    },
    "papermill": {
     "duration": 0.076125,
     "end_time": "2022-04-28T16:43:14.936361",
     "exception": false,
     "start_time": "2022-04-28T16:43:14.860236",
     "status": "completed"
    },
    "tags": []
   },
   "outputs": [
    {
     "data": {
      "text/plain": [
       "4500"
      ]
     },
     "execution_count": 6,
     "metadata": {},
     "output_type": "execute_result"
    }
   ],
   "source": [
    "len(dfaccount)"
   ]
  },
  {
   "cell_type": "code",
   "execution_count": 7,
   "id": "e6b7290f",
   "metadata": {
    "execution": {
     "iopub.execute_input": "2022-04-28T16:43:15.063847Z",
     "iopub.status.busy": "2022-04-28T16:43:15.063212Z",
     "iopub.status.idle": "2022-04-28T16:43:15.075992Z",
     "shell.execute_reply": "2022-04-28T16:43:15.074931Z"
    },
    "papermill": {
     "duration": 0.079296,
     "end_time": "2022-04-28T16:43:15.078106",
     "exception": false,
     "start_time": "2022-04-28T16:43:14.998810",
     "status": "completed"
    },
    "tags": []
   },
   "outputs": [
    {
     "data": {
      "text/html": [
       "<div>\n",
       "<style scoped>\n",
       "    .dataframe tbody tr th:only-of-type {\n",
       "        vertical-align: middle;\n",
       "    }\n",
       "\n",
       "    .dataframe tbody tr th {\n",
       "        vertical-align: top;\n",
       "    }\n",
       "\n",
       "    .dataframe thead th {\n",
       "        text-align: right;\n",
       "    }\n",
       "</style>\n",
       "<table border=\"1\" class=\"dataframe\">\n",
       "  <thead>\n",
       "    <tr style=\"text-align: right;\">\n",
       "      <th></th>\n",
       "      <th>client_id</th>\n",
       "      <th>birth_number</th>\n",
       "      <th>district_id</th>\n",
       "    </tr>\n",
       "  </thead>\n",
       "  <tbody>\n",
       "    <tr>\n",
       "      <th>0</th>\n",
       "      <td>1</td>\n",
       "      <td>706213</td>\n",
       "      <td>18</td>\n",
       "    </tr>\n",
       "    <tr>\n",
       "      <th>1</th>\n",
       "      <td>2</td>\n",
       "      <td>450204</td>\n",
       "      <td>1</td>\n",
       "    </tr>\n",
       "    <tr>\n",
       "      <th>2</th>\n",
       "      <td>3</td>\n",
       "      <td>406009</td>\n",
       "      <td>1</td>\n",
       "    </tr>\n",
       "    <tr>\n",
       "      <th>3</th>\n",
       "      <td>4</td>\n",
       "      <td>561201</td>\n",
       "      <td>5</td>\n",
       "    </tr>\n",
       "    <tr>\n",
       "      <th>4</th>\n",
       "      <td>5</td>\n",
       "      <td>605703</td>\n",
       "      <td>5</td>\n",
       "    </tr>\n",
       "    <tr>\n",
       "      <th>...</th>\n",
       "      <td>...</td>\n",
       "      <td>...</td>\n",
       "      <td>...</td>\n",
       "    </tr>\n",
       "    <tr>\n",
       "      <th>5364</th>\n",
       "      <td>13955</td>\n",
       "      <td>456030</td>\n",
       "      <td>1</td>\n",
       "    </tr>\n",
       "    <tr>\n",
       "      <th>5365</th>\n",
       "      <td>13956</td>\n",
       "      <td>430406</td>\n",
       "      <td>1</td>\n",
       "    </tr>\n",
       "    <tr>\n",
       "      <th>5366</th>\n",
       "      <td>13968</td>\n",
       "      <td>680413</td>\n",
       "      <td>61</td>\n",
       "    </tr>\n",
       "    <tr>\n",
       "      <th>5367</th>\n",
       "      <td>13971</td>\n",
       "      <td>626019</td>\n",
       "      <td>67</td>\n",
       "    </tr>\n",
       "    <tr>\n",
       "      <th>5368</th>\n",
       "      <td>13998</td>\n",
       "      <td>535812</td>\n",
       "      <td>74</td>\n",
       "    </tr>\n",
       "  </tbody>\n",
       "</table>\n",
       "<p>5369 rows × 3 columns</p>\n",
       "</div>"
      ],
      "text/plain": [
       "      client_id  birth_number  district_id\n",
       "0             1        706213           18\n",
       "1             2        450204            1\n",
       "2             3        406009            1\n",
       "3             4        561201            5\n",
       "4             5        605703            5\n",
       "...         ...           ...          ...\n",
       "5364      13955        456030            1\n",
       "5365      13956        430406            1\n",
       "5366      13968        680413           61\n",
       "5367      13971        626019           67\n",
       "5368      13998        535812           74\n",
       "\n",
       "[5369 rows x 3 columns]"
      ]
     },
     "execution_count": 7,
     "metadata": {},
     "output_type": "execute_result"
    }
   ],
   "source": [
    "dfclient"
   ]
  },
  {
   "cell_type": "code",
   "execution_count": 8,
   "id": "7579398e",
   "metadata": {
    "execution": {
     "iopub.execute_input": "2022-04-28T16:43:15.208225Z",
     "iopub.status.busy": "2022-04-28T16:43:15.207570Z",
     "iopub.status.idle": "2022-04-28T16:43:15.220943Z",
     "shell.execute_reply": "2022-04-28T16:43:15.220154Z"
    },
    "papermill": {
     "duration": 0.08306,
     "end_time": "2022-04-28T16:43:15.223069",
     "exception": false,
     "start_time": "2022-04-28T16:43:15.140009",
     "status": "completed"
    },
    "tags": []
   },
   "outputs": [
    {
     "data": {
      "text/html": [
       "<div>\n",
       "<style scoped>\n",
       "    .dataframe tbody tr th:only-of-type {\n",
       "        vertical-align: middle;\n",
       "    }\n",
       "\n",
       "    .dataframe tbody tr th {\n",
       "        vertical-align: top;\n",
       "    }\n",
       "\n",
       "    .dataframe thead th {\n",
       "        text-align: right;\n",
       "    }\n",
       "</style>\n",
       "<table border=\"1\" class=\"dataframe\">\n",
       "  <thead>\n",
       "    <tr style=\"text-align: right;\">\n",
       "      <th></th>\n",
       "      <th>disp_id</th>\n",
       "      <th>client_id</th>\n",
       "      <th>account_id</th>\n",
       "      <th>type</th>\n",
       "    </tr>\n",
       "  </thead>\n",
       "  <tbody>\n",
       "    <tr>\n",
       "      <th>0</th>\n",
       "      <td>1</td>\n",
       "      <td>1</td>\n",
       "      <td>1</td>\n",
       "      <td>OWNER</td>\n",
       "    </tr>\n",
       "    <tr>\n",
       "      <th>1</th>\n",
       "      <td>2</td>\n",
       "      <td>2</td>\n",
       "      <td>2</td>\n",
       "      <td>OWNER</td>\n",
       "    </tr>\n",
       "    <tr>\n",
       "      <th>2</th>\n",
       "      <td>3</td>\n",
       "      <td>3</td>\n",
       "      <td>2</td>\n",
       "      <td>DISPONENT</td>\n",
       "    </tr>\n",
       "    <tr>\n",
       "      <th>3</th>\n",
       "      <td>4</td>\n",
       "      <td>4</td>\n",
       "      <td>3</td>\n",
       "      <td>OWNER</td>\n",
       "    </tr>\n",
       "    <tr>\n",
       "      <th>4</th>\n",
       "      <td>5</td>\n",
       "      <td>5</td>\n",
       "      <td>3</td>\n",
       "      <td>DISPONENT</td>\n",
       "    </tr>\n",
       "    <tr>\n",
       "      <th>...</th>\n",
       "      <td>...</td>\n",
       "      <td>...</td>\n",
       "      <td>...</td>\n",
       "      <td>...</td>\n",
       "    </tr>\n",
       "    <tr>\n",
       "      <th>5364</th>\n",
       "      <td>13647</td>\n",
       "      <td>13955</td>\n",
       "      <td>11349</td>\n",
       "      <td>OWNER</td>\n",
       "    </tr>\n",
       "    <tr>\n",
       "      <th>5365</th>\n",
       "      <td>13648</td>\n",
       "      <td>13956</td>\n",
       "      <td>11349</td>\n",
       "      <td>DISPONENT</td>\n",
       "    </tr>\n",
       "    <tr>\n",
       "      <th>5366</th>\n",
       "      <td>13660</td>\n",
       "      <td>13968</td>\n",
       "      <td>11359</td>\n",
       "      <td>OWNER</td>\n",
       "    </tr>\n",
       "    <tr>\n",
       "      <th>5367</th>\n",
       "      <td>13663</td>\n",
       "      <td>13971</td>\n",
       "      <td>11362</td>\n",
       "      <td>OWNER</td>\n",
       "    </tr>\n",
       "    <tr>\n",
       "      <th>5368</th>\n",
       "      <td>13690</td>\n",
       "      <td>13998</td>\n",
       "      <td>11382</td>\n",
       "      <td>OWNER</td>\n",
       "    </tr>\n",
       "  </tbody>\n",
       "</table>\n",
       "<p>5369 rows × 4 columns</p>\n",
       "</div>"
      ],
      "text/plain": [
       "      disp_id  client_id  account_id       type\n",
       "0           1          1           1      OWNER\n",
       "1           2          2           2      OWNER\n",
       "2           3          3           2  DISPONENT\n",
       "3           4          4           3      OWNER\n",
       "4           5          5           3  DISPONENT\n",
       "...       ...        ...         ...        ...\n",
       "5364    13647      13955       11349      OWNER\n",
       "5365    13648      13956       11349  DISPONENT\n",
       "5366    13660      13968       11359      OWNER\n",
       "5367    13663      13971       11362      OWNER\n",
       "5368    13690      13998       11382      OWNER\n",
       "\n",
       "[5369 rows x 4 columns]"
      ]
     },
     "execution_count": 8,
     "metadata": {},
     "output_type": "execute_result"
    }
   ],
   "source": [
    "dfdisp"
   ]
  },
  {
   "cell_type": "code",
   "execution_count": 9,
   "id": "c35f286b",
   "metadata": {
    "execution": {
     "iopub.execute_input": "2022-04-28T16:43:15.357039Z",
     "iopub.status.busy": "2022-04-28T16:43:15.356414Z",
     "iopub.status.idle": "2022-04-28T16:43:15.383389Z",
     "shell.execute_reply": "2022-04-28T16:43:15.382587Z"
    },
    "papermill": {
     "duration": 0.096341,
     "end_time": "2022-04-28T16:43:15.385626",
     "exception": false,
     "start_time": "2022-04-28T16:43:15.289285",
     "status": "completed"
    },
    "tags": []
   },
   "outputs": [
    {
     "data": {
      "text/html": [
       "<div>\n",
       "<style scoped>\n",
       "    .dataframe tbody tr th:only-of-type {\n",
       "        vertical-align: middle;\n",
       "    }\n",
       "\n",
       "    .dataframe tbody tr th {\n",
       "        vertical-align: top;\n",
       "    }\n",
       "\n",
       "    .dataframe thead th {\n",
       "        text-align: right;\n",
       "    }\n",
       "</style>\n",
       "<table border=\"1\" class=\"dataframe\">\n",
       "  <thead>\n",
       "    <tr style=\"text-align: right;\">\n",
       "      <th></th>\n",
       "      <th>trans_id</th>\n",
       "      <th>account_id</th>\n",
       "      <th>date</th>\n",
       "      <th>type</th>\n",
       "      <th>operation</th>\n",
       "      <th>amount</th>\n",
       "      <th>balance</th>\n",
       "      <th>k_symbol</th>\n",
       "      <th>bank</th>\n",
       "      <th>account</th>\n",
       "    </tr>\n",
       "  </thead>\n",
       "  <tbody>\n",
       "    <tr>\n",
       "      <th>0</th>\n",
       "      <td>695247</td>\n",
       "      <td>2378</td>\n",
       "      <td>930101</td>\n",
       "      <td>PRIJEM</td>\n",
       "      <td>VKLAD</td>\n",
       "      <td>700.0</td>\n",
       "      <td>700.0</td>\n",
       "      <td>NaN</td>\n",
       "      <td>NaN</td>\n",
       "      <td>NaN</td>\n",
       "    </tr>\n",
       "    <tr>\n",
       "      <th>1</th>\n",
       "      <td>171812</td>\n",
       "      <td>576</td>\n",
       "      <td>930101</td>\n",
       "      <td>PRIJEM</td>\n",
       "      <td>VKLAD</td>\n",
       "      <td>900.0</td>\n",
       "      <td>900.0</td>\n",
       "      <td>NaN</td>\n",
       "      <td>NaN</td>\n",
       "      <td>NaN</td>\n",
       "    </tr>\n",
       "    <tr>\n",
       "      <th>2</th>\n",
       "      <td>207264</td>\n",
       "      <td>704</td>\n",
       "      <td>930101</td>\n",
       "      <td>PRIJEM</td>\n",
       "      <td>VKLAD</td>\n",
       "      <td>1000.0</td>\n",
       "      <td>1000.0</td>\n",
       "      <td>NaN</td>\n",
       "      <td>NaN</td>\n",
       "      <td>NaN</td>\n",
       "    </tr>\n",
       "    <tr>\n",
       "      <th>3</th>\n",
       "      <td>1117247</td>\n",
       "      <td>3818</td>\n",
       "      <td>930101</td>\n",
       "      <td>PRIJEM</td>\n",
       "      <td>VKLAD</td>\n",
       "      <td>600.0</td>\n",
       "      <td>600.0</td>\n",
       "      <td>NaN</td>\n",
       "      <td>NaN</td>\n",
       "      <td>NaN</td>\n",
       "    </tr>\n",
       "    <tr>\n",
       "      <th>4</th>\n",
       "      <td>579373</td>\n",
       "      <td>1972</td>\n",
       "      <td>930102</td>\n",
       "      <td>PRIJEM</td>\n",
       "      <td>VKLAD</td>\n",
       "      <td>400.0</td>\n",
       "      <td>400.0</td>\n",
       "      <td>NaN</td>\n",
       "      <td>NaN</td>\n",
       "      <td>NaN</td>\n",
       "    </tr>\n",
       "    <tr>\n",
       "      <th>...</th>\n",
       "      <td>...</td>\n",
       "      <td>...</td>\n",
       "      <td>...</td>\n",
       "      <td>...</td>\n",
       "      <td>...</td>\n",
       "      <td>...</td>\n",
       "      <td>...</td>\n",
       "      <td>...</td>\n",
       "      <td>...</td>\n",
       "      <td>...</td>\n",
       "    </tr>\n",
       "    <tr>\n",
       "      <th>1056315</th>\n",
       "      <td>3626622</td>\n",
       "      <td>2906</td>\n",
       "      <td>981231</td>\n",
       "      <td>PRIJEM</td>\n",
       "      <td>NaN</td>\n",
       "      <td>62.3</td>\n",
       "      <td>13729.4</td>\n",
       "      <td>UROK</td>\n",
       "      <td>NaN</td>\n",
       "      <td>NaN</td>\n",
       "    </tr>\n",
       "    <tr>\n",
       "      <th>1056316</th>\n",
       "      <td>3627616</td>\n",
       "      <td>2935</td>\n",
       "      <td>981231</td>\n",
       "      <td>PRIJEM</td>\n",
       "      <td>NaN</td>\n",
       "      <td>81.3</td>\n",
       "      <td>19544.9</td>\n",
       "      <td>UROK</td>\n",
       "      <td>NaN</td>\n",
       "      <td>NaN</td>\n",
       "    </tr>\n",
       "    <tr>\n",
       "      <th>1056317</th>\n",
       "      <td>3625403</td>\n",
       "      <td>2869</td>\n",
       "      <td>981231</td>\n",
       "      <td>PRIJEM</td>\n",
       "      <td>NaN</td>\n",
       "      <td>60.2</td>\n",
       "      <td>14638.2</td>\n",
       "      <td>UROK</td>\n",
       "      <td>NaN</td>\n",
       "      <td>NaN</td>\n",
       "    </tr>\n",
       "    <tr>\n",
       "      <th>1056318</th>\n",
       "      <td>3626683</td>\n",
       "      <td>2907</td>\n",
       "      <td>981231</td>\n",
       "      <td>PRIJEM</td>\n",
       "      <td>NaN</td>\n",
       "      <td>107.5</td>\n",
       "      <td>23453.0</td>\n",
       "      <td>UROK</td>\n",
       "      <td>NaN</td>\n",
       "      <td>NaN</td>\n",
       "    </tr>\n",
       "    <tr>\n",
       "      <th>1056319</th>\n",
       "      <td>3626540</td>\n",
       "      <td>2902</td>\n",
       "      <td>981231</td>\n",
       "      <td>PRIJEM</td>\n",
       "      <td>NaN</td>\n",
       "      <td>164.1</td>\n",
       "      <td>41642.9</td>\n",
       "      <td>UROK</td>\n",
       "      <td>NaN</td>\n",
       "      <td>NaN</td>\n",
       "    </tr>\n",
       "  </tbody>\n",
       "</table>\n",
       "<p>1056320 rows × 10 columns</p>\n",
       "</div>"
      ],
      "text/plain": [
       "         trans_id  account_id    date    type operation  amount  balance  \\\n",
       "0          695247        2378  930101  PRIJEM     VKLAD   700.0    700.0   \n",
       "1          171812         576  930101  PRIJEM     VKLAD   900.0    900.0   \n",
       "2          207264         704  930101  PRIJEM     VKLAD  1000.0   1000.0   \n",
       "3         1117247        3818  930101  PRIJEM     VKLAD   600.0    600.0   \n",
       "4          579373        1972  930102  PRIJEM     VKLAD   400.0    400.0   \n",
       "...           ...         ...     ...     ...       ...     ...      ...   \n",
       "1056315   3626622        2906  981231  PRIJEM       NaN    62.3  13729.4   \n",
       "1056316   3627616        2935  981231  PRIJEM       NaN    81.3  19544.9   \n",
       "1056317   3625403        2869  981231  PRIJEM       NaN    60.2  14638.2   \n",
       "1056318   3626683        2907  981231  PRIJEM       NaN   107.5  23453.0   \n",
       "1056319   3626540        2902  981231  PRIJEM       NaN   164.1  41642.9   \n",
       "\n",
       "        k_symbol bank  account  \n",
       "0            NaN  NaN      NaN  \n",
       "1            NaN  NaN      NaN  \n",
       "2            NaN  NaN      NaN  \n",
       "3            NaN  NaN      NaN  \n",
       "4            NaN  NaN      NaN  \n",
       "...          ...  ...      ...  \n",
       "1056315     UROK  NaN      NaN  \n",
       "1056316     UROK  NaN      NaN  \n",
       "1056317     UROK  NaN      NaN  \n",
       "1056318     UROK  NaN      NaN  \n",
       "1056319     UROK  NaN      NaN  \n",
       "\n",
       "[1056320 rows x 10 columns]"
      ]
     },
     "execution_count": 9,
     "metadata": {},
     "output_type": "execute_result"
    }
   ],
   "source": [
    "dftrans"
   ]
  },
  {
   "cell_type": "code",
   "execution_count": 10,
   "id": "296d74d2",
   "metadata": {
    "execution": {
     "iopub.execute_input": "2022-04-28T16:43:15.524614Z",
     "iopub.status.busy": "2022-04-28T16:43:15.524222Z",
     "iopub.status.idle": "2022-04-28T16:43:16.294875Z",
     "shell.execute_reply": "2022-04-28T16:43:16.293710Z"
    },
    "papermill": {
     "duration": 0.843016,
     "end_time": "2022-04-28T16:43:16.297756",
     "exception": false,
     "start_time": "2022-04-28T16:43:15.454740",
     "status": "completed"
    },
    "tags": []
   },
   "outputs": [],
   "source": [
    "df_trans_disp = dftrans.merge(dfdisp, left_on='account_id', right_on='account_id', how='left', suffixes=['_trans','_disp'])"
   ]
  },
  {
   "cell_type": "code",
   "execution_count": 11,
   "id": "531554cd",
   "metadata": {
    "execution": {
     "iopub.execute_input": "2022-04-28T16:43:16.438574Z",
     "iopub.status.busy": "2022-04-28T16:43:16.437424Z",
     "iopub.status.idle": "2022-04-28T16:43:16.456755Z",
     "shell.execute_reply": "2022-04-28T16:43:16.455765Z"
    },
    "papermill": {
     "duration": 0.093138,
     "end_time": "2022-04-28T16:43:16.459101",
     "exception": false,
     "start_time": "2022-04-28T16:43:16.365963",
     "status": "completed"
    },
    "tags": []
   },
   "outputs": [
    {
     "data": {
      "text/html": [
       "<div>\n",
       "<style scoped>\n",
       "    .dataframe tbody tr th:only-of-type {\n",
       "        vertical-align: middle;\n",
       "    }\n",
       "\n",
       "    .dataframe tbody tr th {\n",
       "        vertical-align: top;\n",
       "    }\n",
       "\n",
       "    .dataframe thead th {\n",
       "        text-align: right;\n",
       "    }\n",
       "</style>\n",
       "<table border=\"1\" class=\"dataframe\">\n",
       "  <thead>\n",
       "    <tr style=\"text-align: right;\">\n",
       "      <th></th>\n",
       "      <th>trans_id</th>\n",
       "      <th>account_id</th>\n",
       "      <th>date</th>\n",
       "      <th>type_trans</th>\n",
       "      <th>operation</th>\n",
       "      <th>amount</th>\n",
       "      <th>balance</th>\n",
       "      <th>k_symbol</th>\n",
       "      <th>bank</th>\n",
       "      <th>account</th>\n",
       "      <th>disp_id</th>\n",
       "      <th>client_id</th>\n",
       "      <th>type_disp</th>\n",
       "    </tr>\n",
       "  </thead>\n",
       "  <tbody>\n",
       "    <tr>\n",
       "      <th>0</th>\n",
       "      <td>695247</td>\n",
       "      <td>2378</td>\n",
       "      <td>930101</td>\n",
       "      <td>PRIJEM</td>\n",
       "      <td>VKLAD</td>\n",
       "      <td>700.0</td>\n",
       "      <td>700.0</td>\n",
       "      <td>NaN</td>\n",
       "      <td>NaN</td>\n",
       "      <td>NaN</td>\n",
       "      <td>2873</td>\n",
       "      <td>2873</td>\n",
       "      <td>OWNER</td>\n",
       "    </tr>\n",
       "    <tr>\n",
       "      <th>1</th>\n",
       "      <td>171812</td>\n",
       "      <td>576</td>\n",
       "      <td>930101</td>\n",
       "      <td>PRIJEM</td>\n",
       "      <td>VKLAD</td>\n",
       "      <td>900.0</td>\n",
       "      <td>900.0</td>\n",
       "      <td>NaN</td>\n",
       "      <td>NaN</td>\n",
       "      <td>NaN</td>\n",
       "      <td>692</td>\n",
       "      <td>692</td>\n",
       "      <td>OWNER</td>\n",
       "    </tr>\n",
       "    <tr>\n",
       "      <th>2</th>\n",
       "      <td>171812</td>\n",
       "      <td>576</td>\n",
       "      <td>930101</td>\n",
       "      <td>PRIJEM</td>\n",
       "      <td>VKLAD</td>\n",
       "      <td>900.0</td>\n",
       "      <td>900.0</td>\n",
       "      <td>NaN</td>\n",
       "      <td>NaN</td>\n",
       "      <td>NaN</td>\n",
       "      <td>693</td>\n",
       "      <td>693</td>\n",
       "      <td>DISPONENT</td>\n",
       "    </tr>\n",
       "    <tr>\n",
       "      <th>3</th>\n",
       "      <td>207264</td>\n",
       "      <td>704</td>\n",
       "      <td>930101</td>\n",
       "      <td>PRIJEM</td>\n",
       "      <td>VKLAD</td>\n",
       "      <td>1000.0</td>\n",
       "      <td>1000.0</td>\n",
       "      <td>NaN</td>\n",
       "      <td>NaN</td>\n",
       "      <td>NaN</td>\n",
       "      <td>844</td>\n",
       "      <td>844</td>\n",
       "      <td>OWNER</td>\n",
       "    </tr>\n",
       "    <tr>\n",
       "      <th>4</th>\n",
       "      <td>207264</td>\n",
       "      <td>704</td>\n",
       "      <td>930101</td>\n",
       "      <td>PRIJEM</td>\n",
       "      <td>VKLAD</td>\n",
       "      <td>1000.0</td>\n",
       "      <td>1000.0</td>\n",
       "      <td>NaN</td>\n",
       "      <td>NaN</td>\n",
       "      <td>NaN</td>\n",
       "      <td>845</td>\n",
       "      <td>845</td>\n",
       "      <td>DISPONENT</td>\n",
       "    </tr>\n",
       "  </tbody>\n",
       "</table>\n",
       "</div>"
      ],
      "text/plain": [
       "   trans_id  account_id    date type_trans operation  amount  balance  \\\n",
       "0    695247        2378  930101     PRIJEM     VKLAD   700.0    700.0   \n",
       "1    171812         576  930101     PRIJEM     VKLAD   900.0    900.0   \n",
       "2    171812         576  930101     PRIJEM     VKLAD   900.0    900.0   \n",
       "3    207264         704  930101     PRIJEM     VKLAD  1000.0   1000.0   \n",
       "4    207264         704  930101     PRIJEM     VKLAD  1000.0   1000.0   \n",
       "\n",
       "  k_symbol bank  account  disp_id  client_id  type_disp  \n",
       "0      NaN  NaN      NaN     2873       2873      OWNER  \n",
       "1      NaN  NaN      NaN      692        692      OWNER  \n",
       "2      NaN  NaN      NaN      693        693  DISPONENT  \n",
       "3      NaN  NaN      NaN      844        844      OWNER  \n",
       "4      NaN  NaN      NaN      845        845  DISPONENT  "
      ]
     },
     "execution_count": 11,
     "metadata": {},
     "output_type": "execute_result"
    }
   ],
   "source": [
    "df_trans_disp.head()"
   ]
  },
  {
   "cell_type": "code",
   "execution_count": 12,
   "id": "61f263b6",
   "metadata": {
    "execution": {
     "iopub.execute_input": "2022-04-28T16:43:16.596674Z",
     "iopub.status.busy": "2022-04-28T16:43:16.595922Z",
     "iopub.status.idle": "2022-04-28T16:43:16.602975Z",
     "shell.execute_reply": "2022-04-28T16:43:16.601978Z"
    },
    "papermill": {
     "duration": 0.077502,
     "end_time": "2022-04-28T16:43:16.605086",
     "exception": false,
     "start_time": "2022-04-28T16:43:16.527584",
     "status": "completed"
    },
    "tags": []
   },
   "outputs": [
    {
     "data": {
      "text/plain": [
       "1262625"
      ]
     },
     "execution_count": 12,
     "metadata": {},
     "output_type": "execute_result"
    }
   ],
   "source": [
    "len(df_trans_disp)"
   ]
  },
  {
   "cell_type": "code",
   "execution_count": 13,
   "id": "8b24eee2",
   "metadata": {
    "execution": {
     "iopub.execute_input": "2022-04-28T16:43:16.745135Z",
     "iopub.status.busy": "2022-04-28T16:43:16.744811Z",
     "iopub.status.idle": "2022-04-28T16:43:16.750704Z",
     "shell.execute_reply": "2022-04-28T16:43:16.749530Z"
    },
    "papermill": {
     "duration": 0.081938,
     "end_time": "2022-04-28T16:43:16.752830",
     "exception": false,
     "start_time": "2022-04-28T16:43:16.670892",
     "status": "completed"
    },
    "tags": []
   },
   "outputs": [],
   "source": [
    "def checkDuplicated(df, dfname):\n",
    "    print(dfname)\n",
    "    if df.duplicated().sum() > 0:\n",
    "        print(\"### Is duplicated {} ###\".format(dfname))\n",
    "        \n",
    "        "
   ]
  },
  {
   "cell_type": "code",
   "execution_count": 14,
   "id": "46b051d8",
   "metadata": {
    "execution": {
     "iopub.execute_input": "2022-04-28T16:43:16.891718Z",
     "iopub.status.busy": "2022-04-28T16:43:16.890941Z",
     "iopub.status.idle": "2022-04-28T16:43:19.690279Z",
     "shell.execute_reply": "2022-04-28T16:43:19.689261Z"
    },
    "papermill": {
     "duration": 2.870898,
     "end_time": "2022-04-28T16:43:19.693250",
     "exception": false,
     "start_time": "2022-04-28T16:43:16.822352",
     "status": "completed"
    },
    "tags": []
   },
   "outputs": [
    {
     "name": "stdout",
     "output_type": "stream",
     "text": [
      "dftrans\n",
      "dfaccount\n",
      "dfdisp\n",
      "dfclient\n",
      "df_trans_disp\n"
     ]
    }
   ],
   "source": [
    "for each, name in ((dftrans,'dftrans'),( dfaccount, 'dfaccount'), (dfdisp, 'dfdisp'),(dfclient, 'dfclient'), (df_trans_disp, 'df_trans_disp')):\n",
    "    checkDuplicated(each, name)"
   ]
  },
  {
   "cell_type": "code",
   "execution_count": 15,
   "id": "e7fd22da",
   "metadata": {
    "execution": {
     "iopub.execute_input": "2022-04-28T16:43:19.830263Z",
     "iopub.status.busy": "2022-04-28T16:43:19.829926Z",
     "iopub.status.idle": "2022-04-28T16:43:20.270649Z",
     "shell.execute_reply": "2022-04-28T16:43:20.269364Z"
    },
    "papermill": {
     "duration": 0.511857,
     "end_time": "2022-04-28T16:43:20.273522",
     "exception": false,
     "start_time": "2022-04-28T16:43:19.761665",
     "status": "completed"
    },
    "tags": []
   },
   "outputs": [],
   "source": [
    "df_trans_account = dftrans.merge(dfaccount, left_on='account_id', right_on='account_id', how='left', suffixes=['_trans','_acc'])"
   ]
  },
  {
   "cell_type": "code",
   "execution_count": 16,
   "id": "86056ce9",
   "metadata": {
    "execution": {
     "iopub.execute_input": "2022-04-28T16:43:20.409477Z",
     "iopub.status.busy": "2022-04-28T16:43:20.408883Z",
     "iopub.status.idle": "2022-04-28T16:43:20.968045Z",
     "shell.execute_reply": "2022-04-28T16:43:20.967023Z"
    },
    "papermill": {
     "duration": 0.629876,
     "end_time": "2022-04-28T16:43:20.970852",
     "exception": false,
     "start_time": "2022-04-28T16:43:20.340976",
     "status": "completed"
    },
    "tags": []
   },
   "outputs": [],
   "source": [
    "df_trans_account_disp = df_trans_account.merge(dfdisp, left_on='account_id', right_on='account_id', how='left', suffixes=['_trans','_disp'])"
   ]
  },
  {
   "cell_type": "code",
   "execution_count": 17,
   "id": "09eac236",
   "metadata": {
    "execution": {
     "iopub.execute_input": "2022-04-28T16:43:21.103641Z",
     "iopub.status.busy": "2022-04-28T16:43:21.103249Z",
     "iopub.status.idle": "2022-04-28T16:43:21.109439Z",
     "shell.execute_reply": "2022-04-28T16:43:21.108551Z"
    },
    "papermill": {
     "duration": 0.075953,
     "end_time": "2022-04-28T16:43:21.111929",
     "exception": false,
     "start_time": "2022-04-28T16:43:21.035976",
     "status": "completed"
    },
    "tags": []
   },
   "outputs": [
    {
     "data": {
      "text/plain": [
       "1262625"
      ]
     },
     "execution_count": 17,
     "metadata": {},
     "output_type": "execute_result"
    }
   ],
   "source": [
    "len(df_trans_account_disp)"
   ]
  },
  {
   "cell_type": "code",
   "execution_count": 18,
   "id": "caeed247",
   "metadata": {
    "execution": {
     "iopub.execute_input": "2022-04-28T16:43:21.248046Z",
     "iopub.status.busy": "2022-04-28T16:43:21.247552Z",
     "iopub.status.idle": "2022-04-28T16:43:21.715794Z",
     "shell.execute_reply": "2022-04-28T16:43:21.714665Z"
    },
    "papermill": {
     "duration": 0.539325,
     "end_time": "2022-04-28T16:43:21.718352",
     "exception": false,
     "start_time": "2022-04-28T16:43:21.179027",
     "status": "completed"
    },
    "tags": []
   },
   "outputs": [],
   "source": [
    "df_trans_account_disp_client = df_trans_account_disp.merge(dfclient, left_on='client_id', right_on='client_id', how='left', suffixes=['_trans','_client'])"
   ]
  },
  {
   "cell_type": "code",
   "execution_count": 19,
   "id": "c973a2e4",
   "metadata": {
    "execution": {
     "iopub.execute_input": "2022-04-28T16:43:21.853460Z",
     "iopub.status.busy": "2022-04-28T16:43:21.852245Z",
     "iopub.status.idle": "2022-04-28T16:43:21.858228Z",
     "shell.execute_reply": "2022-04-28T16:43:21.857512Z"
    },
    "papermill": {
     "duration": 0.075378,
     "end_time": "2022-04-28T16:43:21.860122",
     "exception": false,
     "start_time": "2022-04-28T16:43:21.784744",
     "status": "completed"
    },
    "tags": []
   },
   "outputs": [
    {
     "data": {
      "text/plain": [
       "1262625"
      ]
     },
     "execution_count": 19,
     "metadata": {},
     "output_type": "execute_result"
    }
   ],
   "source": [
    "len(df_trans_account_disp_client)"
   ]
  },
  {
   "cell_type": "code",
   "execution_count": 20,
   "id": "6138a154",
   "metadata": {
    "execution": {
     "iopub.execute_input": "2022-04-28T16:43:21.995971Z",
     "iopub.status.busy": "2022-04-28T16:43:21.995623Z",
     "iopub.status.idle": "2022-04-28T16:43:21.999821Z",
     "shell.execute_reply": "2022-04-28T16:43:21.999108Z"
    },
    "papermill": {
     "duration": 0.07386,
     "end_time": "2022-04-28T16:43:22.001664",
     "exception": false,
     "start_time": "2022-04-28T16:43:21.927804",
     "status": "completed"
    },
    "tags": []
   },
   "outputs": [],
   "source": [
    "dfraw = df_trans_account_disp_client"
   ]
  },
  {
   "cell_type": "code",
   "execution_count": 21,
   "id": "f77fbad4",
   "metadata": {
    "execution": {
     "iopub.execute_input": "2022-04-28T16:43:22.133877Z",
     "iopub.status.busy": "2022-04-28T16:43:22.133025Z",
     "iopub.status.idle": "2022-04-28T16:43:22.869151Z",
     "shell.execute_reply": "2022-04-28T16:43:22.868119Z"
    },
    "papermill": {
     "duration": 0.804788,
     "end_time": "2022-04-28T16:43:22.871612",
     "exception": false,
     "start_time": "2022-04-28T16:43:22.066824",
     "status": "completed"
    },
    "tags": []
   },
   "outputs": [
    {
     "data": {
      "text/plain": [
       "trans_id              0.000000\n",
       "account_id            0.000000\n",
       "date_trans            0.000000\n",
       "type_trans            0.000000\n",
       "operation             0.172902\n",
       "amount                0.000000\n",
       "balance               0.000000\n",
       "k_symbol              0.451296\n",
       "bank                  0.733849\n",
       "account               0.713619\n",
       "district_id_trans     0.000000\n",
       "frequency             0.000000\n",
       "date_acc              0.000000\n",
       "disp_id               0.000000\n",
       "client_id             0.000000\n",
       "type_disp             0.000000\n",
       "birth_number          0.000000\n",
       "district_id_client    0.000000\n",
       "dtype: float64"
      ]
     },
     "execution_count": 21,
     "metadata": {},
     "output_type": "execute_result"
    }
   ],
   "source": [
    "dfraw.isnull().sum()/len(dfraw)"
   ]
  },
  {
   "cell_type": "code",
   "execution_count": 22,
   "id": "fcb46530",
   "metadata": {
    "execution": {
     "iopub.execute_input": "2022-04-28T16:43:23.010610Z",
     "iopub.status.busy": "2022-04-28T16:43:23.010243Z",
     "iopub.status.idle": "2022-04-28T16:43:23.766585Z",
     "shell.execute_reply": "2022-04-28T16:43:23.765283Z"
    },
    "papermill": {
     "duration": 0.826841,
     "end_time": "2022-04-28T16:43:23.769098",
     "exception": false,
     "start_time": "2022-04-28T16:43:22.942257",
     "status": "completed"
    },
    "tags": []
   },
   "outputs": [
    {
     "name": "stdout",
     "output_type": "stream",
     "text": [
      "<class 'pandas.core.frame.DataFrame'>\n",
      "Int64Index: 1262625 entries, 0 to 1262624\n",
      "Data columns (total 18 columns):\n",
      " #   Column              Non-Null Count    Dtype  \n",
      "---  ------              --------------    -----  \n",
      " 0   trans_id            1262625 non-null  int64  \n",
      " 1   account_id          1262625 non-null  int64  \n",
      " 2   date_trans          1262625 non-null  int64  \n",
      " 3   type_trans          1262625 non-null  object \n",
      " 4   operation           1044314 non-null  object \n",
      " 5   amount              1262625 non-null  float64\n",
      " 6   balance             1262625 non-null  float64\n",
      " 7   k_symbol            692808 non-null   object \n",
      " 8   bank                336049 non-null   object \n",
      " 9   account             361592 non-null   float64\n",
      " 10  district_id_trans   1262625 non-null  int64  \n",
      " 11  frequency           1262625 non-null  object \n",
      " 12  date_acc            1262625 non-null  int64  \n",
      " 13  disp_id             1262625 non-null  int64  \n",
      " 14  client_id           1262625 non-null  int64  \n",
      " 15  type_disp           1262625 non-null  object \n",
      " 16  birth_number        1262625 non-null  int64  \n",
      " 17  district_id_client  1262625 non-null  int64  \n",
      "dtypes: float64(3), int64(9), object(6)\n",
      "memory usage: 183.0+ MB\n"
     ]
    }
   ],
   "source": [
    "dfraw.info()"
   ]
  },
  {
   "cell_type": "code",
   "execution_count": 23,
   "id": "82341c56",
   "metadata": {
    "execution": {
     "iopub.execute_input": "2022-04-28T16:43:23.909252Z",
     "iopub.status.busy": "2022-04-28T16:43:23.908476Z",
     "iopub.status.idle": "2022-04-28T16:43:24.008498Z",
     "shell.execute_reply": "2022-04-28T16:43:24.007396Z"
    },
    "papermill": {
     "duration": 0.173669,
     "end_time": "2022-04-28T16:43:24.011455",
     "exception": false,
     "start_time": "2022-04-28T16:43:23.837786",
     "status": "completed"
    },
    "tags": []
   },
   "outputs": [],
   "source": [
    "dfraw['bank'].fillna(value='Not_Available', inplace=True)"
   ]
  },
  {
   "cell_type": "code",
   "execution_count": 24,
   "id": "ecc91ae6",
   "metadata": {
    "execution": {
     "iopub.execute_input": "2022-04-28T16:43:24.150815Z",
     "iopub.status.busy": "2022-04-28T16:43:24.150473Z",
     "iopub.status.idle": "2022-04-28T16:43:24.160080Z",
     "shell.execute_reply": "2022-04-28T16:43:24.159108Z"
    },
    "papermill": {
     "duration": 0.082855,
     "end_time": "2022-04-28T16:43:24.162475",
     "exception": false,
     "start_time": "2022-04-28T16:43:24.079620",
     "status": "completed"
    },
    "tags": []
   },
   "outputs": [
    {
     "data": {
      "text/plain": [
       "True"
      ]
     },
     "execution_count": 24,
     "metadata": {},
     "output_type": "execute_result"
    }
   ],
   "source": [
    "dfraw['account'].isna().any()"
   ]
  },
  {
   "cell_type": "code",
   "execution_count": 25,
   "id": "3d5a47a5",
   "metadata": {
    "execution": {
     "iopub.execute_input": "2022-04-28T16:43:24.298000Z",
     "iopub.status.busy": "2022-04-28T16:43:24.297694Z",
     "iopub.status.idle": "2022-04-28T16:43:24.440746Z",
     "shell.execute_reply": "2022-04-28T16:43:24.439651Z"
    },
    "papermill": {
     "duration": 0.213511,
     "end_time": "2022-04-28T16:43:24.443030",
     "exception": false,
     "start_time": "2022-04-28T16:43:24.229519",
     "status": "completed"
    },
    "tags": []
   },
   "outputs": [
    {
     "data": {
      "text/plain": [
       "False"
      ]
     },
     "execution_count": 25,
     "metadata": {},
     "output_type": "execute_result"
    }
   ],
   "source": [
    "dfraw['bank'].isna().any()"
   ]
  },
  {
   "cell_type": "code",
   "execution_count": 26,
   "id": "d6dc9d7f",
   "metadata": {
    "execution": {
     "iopub.execute_input": "2022-04-28T16:43:24.589891Z",
     "iopub.status.busy": "2022-04-28T16:43:24.589531Z",
     "iopub.status.idle": "2022-04-28T16:43:24.723650Z",
     "shell.execute_reply": "2022-04-28T16:43:24.722659Z"
    },
    "papermill": {
     "duration": 0.212837,
     "end_time": "2022-04-28T16:43:24.726358",
     "exception": false,
     "start_time": "2022-04-28T16:43:24.513521",
     "status": "completed"
    },
    "tags": []
   },
   "outputs": [],
   "source": [
    "dfraw['operation'].fillna(value='Not_Available', inplace=True)"
   ]
  },
  {
   "cell_type": "code",
   "execution_count": 27,
   "id": "a19893ea",
   "metadata": {
    "execution": {
     "iopub.execute_input": "2022-04-28T16:43:24.872326Z",
     "iopub.status.busy": "2022-04-28T16:43:24.871967Z",
     "iopub.status.idle": "2022-04-28T16:43:25.013553Z",
     "shell.execute_reply": "2022-04-28T16:43:25.012256Z"
    },
    "papermill": {
     "duration": 0.217763,
     "end_time": "2022-04-28T16:43:25.015952",
     "exception": false,
     "start_time": "2022-04-28T16:43:24.798189",
     "status": "completed"
    },
    "tags": []
   },
   "outputs": [
    {
     "data": {
      "text/plain": [
       "False"
      ]
     },
     "execution_count": 27,
     "metadata": {},
     "output_type": "execute_result"
    }
   ],
   "source": [
    "dfraw['operation'].isna().any()"
   ]
  },
  {
   "cell_type": "markdown",
   "id": "44767a5b",
   "metadata": {
    "papermill": {
     "duration": 0.067363,
     "end_time": "2022-04-28T16:43:25.161531",
     "exception": false,
     "start_time": "2022-04-28T16:43:25.094168",
     "status": "completed"
    },
    "tags": []
   },
   "source": [
    "The following steps will help you complete this activity --- Steps 1-5 have been done for you in the starter file:\n",
    "\n",
    "Download and load the different tables from this dataset into Python.\n",
    "Analyze each table with the .shape and .head() methods.\n",
    "Find the common/similar column(s) between tables that will be used for merging based on the analysis from Step 2.\n",
    "There should be four common tables. Merge the four tables together using pd.merge().\n",
    "Rename the column names after merging with .rename().\n",
    "Check there is no duplication after merging with .duplicated() and .sum().\n",
    "Transform the data type for date columns using .to_datetime().\n",
    "Create two separate features from birth_number to get the date of birth and sex for each customer.    (NoteThis is the rule used for coding the data related to birthday and sex in this column: the number is in the YYMMDD format for men, the number is in the YYMM+50DD format for women, where YYMMDD is the date of birth. )\n",
    "Fix data quality issues with .isna().\n",
    "Create a new feature that will calculate customers' ages when they opened an account using date operations:\n",
    "Download the datasets:"
   ]
  },
  {
   "cell_type": "code",
   "execution_count": 28,
   "id": "203f2b88",
   "metadata": {
    "execution": {
     "iopub.execute_input": "2022-04-28T16:43:25.307639Z",
     "iopub.status.busy": "2022-04-28T16:43:25.307257Z",
     "iopub.status.idle": "2022-04-28T16:43:26.709210Z",
     "shell.execute_reply": "2022-04-28T16:43:26.707889Z"
    },
    "papermill": {
     "duration": 1.480045,
     "end_time": "2022-04-28T16:43:26.711910",
     "exception": false,
     "start_time": "2022-04-28T16:43:25.231865",
     "status": "completed"
    },
    "tags": []
   },
   "outputs": [],
   "source": [
    "import seaborn as sns\n",
    "import matplotlib.pyplot as plt"
   ]
  },
  {
   "cell_type": "code",
   "execution_count": 29,
   "id": "ff458e94",
   "metadata": {
    "execution": {
     "iopub.execute_input": "2022-04-28T16:43:26.852518Z",
     "iopub.status.busy": "2022-04-28T16:43:26.852168Z",
     "iopub.status.idle": "2022-04-28T16:43:28.301995Z",
     "shell.execute_reply": "2022-04-28T16:43:28.300937Z"
    },
    "papermill": {
     "duration": 1.523721,
     "end_time": "2022-04-28T16:43:28.304887",
     "exception": false,
     "start_time": "2022-04-28T16:43:26.781166",
     "status": "completed"
    },
    "tags": []
   },
   "outputs": [
    {
     "data": {
      "text/plain": [
       "<AxesSubplot:xlabel='account', ylabel='Count'>"
      ]
     },
     "execution_count": 29,
     "metadata": {},
     "output_type": "execute_result"
    },
    {
     "data": {
      "image/png": "[encoded data removed]",
      "text/plain": [
       "<Figure size 432x288 with 1 Axes>"
      ]
     },
     "metadata": {
      "needs_background": "light"
     },
     "output_type": "display_data"
    }
   ],
   "source": [
    "sns.histplot(dfraw['account'])"
   ]
  },
  {
   "cell_type": "code",
   "execution_count": 30,
   "id": "7fa84882",
   "metadata": {
    "execution": {
     "iopub.execute_input": "2022-04-28T16:43:28.449521Z",
     "iopub.status.busy": "2022-04-28T16:43:28.449136Z",
     "iopub.status.idle": "2022-04-28T16:43:28.884646Z",
     "shell.execute_reply": "2022-04-28T16:43:28.883722Z"
    },
    "papermill": {
     "duration": 0.510008,
     "end_time": "2022-04-28T16:43:28.887098",
     "exception": false,
     "start_time": "2022-04-28T16:43:28.377090",
     "status": "completed"
    },
    "tags": []
   },
   "outputs": [
    {
     "data": {
      "text/plain": [
       "25543"
      ]
     },
     "execution_count": 30,
     "metadata": {},
     "output_type": "execute_result"
    }
   ],
   "source": [
    "len(dfraw[dfraw.account ==0])"
   ]
  },
  {
   "cell_type": "code",
   "execution_count": 31,
   "id": "ec306a86",
   "metadata": {
    "execution": {
     "iopub.execute_input": "2022-04-28T16:43:29.032271Z",
     "iopub.status.busy": "2022-04-28T16:43:29.031722Z",
     "iopub.status.idle": "2022-04-28T16:43:29.042919Z",
     "shell.execute_reply": "2022-04-28T16:43:29.041919Z"
    },
    "papermill": {
     "duration": 0.086515,
     "end_time": "2022-04-28T16:43:29.045401",
     "exception": false,
     "start_time": "2022-04-28T16:43:28.958886",
     "status": "completed"
    },
    "tags": []
   },
   "outputs": [],
   "source": [
    "dfraw['account'].fillna(value=0, inplace=True)"
   ]
  },
  {
   "cell_type": "code",
   "execution_count": 32,
   "id": "a4a47564",
   "metadata": {
    "execution": {
     "iopub.execute_input": "2022-04-28T16:43:29.185183Z",
     "iopub.status.busy": "2022-04-28T16:43:29.184818Z",
     "iopub.status.idle": "2022-04-28T16:43:29.193290Z",
     "shell.execute_reply": "2022-04-28T16:43:29.192449Z"
    },
    "papermill": {
     "duration": 0.080703,
     "end_time": "2022-04-28T16:43:29.195238",
     "exception": false,
     "start_time": "2022-04-28T16:43:29.114535",
     "status": "completed"
    },
    "tags": []
   },
   "outputs": [
    {
     "data": {
      "text/plain": [
       "False"
      ]
     },
     "execution_count": 32,
     "metadata": {},
     "output_type": "execute_result"
    }
   ],
   "source": [
    "dfraw['account'].isna().any()"
   ]
  },
  {
   "cell_type": "code",
   "execution_count": 33,
   "id": "3e52f234",
   "metadata": {
    "execution": {
     "iopub.execute_input": "2022-04-28T16:43:29.339204Z",
     "iopub.status.busy": "2022-04-28T16:43:29.338831Z",
     "iopub.status.idle": "2022-04-28T16:43:30.178604Z",
     "shell.execute_reply": "2022-04-28T16:43:30.177355Z"
    },
    "papermill": {
     "duration": 0.915238,
     "end_time": "2022-04-28T16:43:30.181380",
     "exception": false,
     "start_time": "2022-04-28T16:43:29.266142",
     "status": "completed"
    },
    "tags": []
   },
   "outputs": [
    {
     "data": {
      "text/plain": [
       "trans_id              0.000000\n",
       "account_id            0.000000\n",
       "date_trans            0.000000\n",
       "type_trans            0.000000\n",
       "operation             0.000000\n",
       "amount                0.000000\n",
       "balance               0.000000\n",
       "k_symbol              0.451296\n",
       "bank                  0.000000\n",
       "account               0.000000\n",
       "district_id_trans     0.000000\n",
       "frequency             0.000000\n",
       "date_acc              0.000000\n",
       "disp_id               0.000000\n",
       "client_id             0.000000\n",
       "type_disp             0.000000\n",
       "birth_number          0.000000\n",
       "district_id_client    0.000000\n",
       "dtype: float64"
      ]
     },
     "execution_count": 33,
     "metadata": {},
     "output_type": "execute_result"
    }
   ],
   "source": [
    "dfraw.isnull().sum()/len(dfraw)"
   ]
  },
  {
   "cell_type": "code",
   "execution_count": 34,
   "id": "016b3b45",
   "metadata": {
    "execution": {
     "iopub.execute_input": "2022-04-28T16:43:30.330988Z",
     "iopub.status.busy": "2022-04-28T16:43:30.329802Z",
     "iopub.status.idle": "2022-04-28T16:43:32.598846Z",
     "shell.execute_reply": "2022-04-28T16:43:32.597895Z"
    },
    "papermill": {
     "duration": 2.346768,
     "end_time": "2022-04-28T16:43:32.601500",
     "exception": false,
     "start_time": "2022-04-28T16:43:30.254732",
     "status": "completed"
    },
    "tags": []
   },
   "outputs": [
    {
     "data": {
      "text/plain": [
       "<AxesSubplot:xlabel='k_symbol', ylabel='Count'>"
      ]
     },
     "execution_count": 34,
     "metadata": {},
     "output_type": "execute_result"
    },
    {
     "data": {
      "image/png": "[encoded data removed]",
      "text/plain": [
       "<Figure size 432x288 with 1 Axes>"
      ]
     },
     "metadata": {
      "needs_background": "light"
     },
     "output_type": "display_data"
    }
   ],
   "source": [
    "sns.histplot(dfraw['k_symbol'])"
   ]
  },
  {
   "cell_type": "code",
   "execution_count": 35,
   "id": "bed362b7",
   "metadata": {
    "execution": {
     "iopub.execute_input": "2022-04-28T16:43:32.747189Z",
     "iopub.status.busy": "2022-04-28T16:43:32.746883Z",
     "iopub.status.idle": "2022-04-28T16:43:32.866241Z",
     "shell.execute_reply": "2022-04-28T16:43:32.865419Z"
    },
    "papermill": {
     "duration": 0.196126,
     "end_time": "2022-04-28T16:43:32.868694",
     "exception": false,
     "start_time": "2022-04-28T16:43:32.672568",
     "status": "completed"
    },
    "tags": []
   },
   "outputs": [],
   "source": [
    "dfraw['k_symbol'].fillna(value='Not_Available', inplace=True)"
   ]
  },
  {
   "cell_type": "code",
   "execution_count": 36,
   "id": "093a5408",
   "metadata": {
    "execution": {
     "iopub.execute_input": "2022-04-28T16:43:33.015720Z",
     "iopub.status.busy": "2022-04-28T16:43:33.015419Z",
     "iopub.status.idle": "2022-04-28T16:43:33.853964Z",
     "shell.execute_reply": "2022-04-28T16:43:33.853037Z"
    },
    "papermill": {
     "duration": 0.91416,
     "end_time": "2022-04-28T16:43:33.856386",
     "exception": false,
     "start_time": "2022-04-28T16:43:32.942226",
     "status": "completed"
    },
    "tags": []
   },
   "outputs": [
    {
     "data": {
      "text/plain": [
       "trans_id              0.0\n",
       "account_id            0.0\n",
       "date_trans            0.0\n",
       "type_trans            0.0\n",
       "operation             0.0\n",
       "amount                0.0\n",
       "balance               0.0\n",
       "k_symbol              0.0\n",
       "bank                  0.0\n",
       "account               0.0\n",
       "district_id_trans     0.0\n",
       "frequency             0.0\n",
       "date_acc              0.0\n",
       "disp_id               0.0\n",
       "client_id             0.0\n",
       "type_disp             0.0\n",
       "birth_number          0.0\n",
       "district_id_client    0.0\n",
       "dtype: float64"
      ]
     },
     "execution_count": 36,
     "metadata": {},
     "output_type": "execute_result"
    }
   ],
   "source": [
    "dfraw.isnull().sum()/len(dfraw)"
   ]
  },
  {
   "cell_type": "code",
   "execution_count": 37,
   "id": "879a6348",
   "metadata": {
    "execution": {
     "iopub.execute_input": "2022-04-28T16:43:34.004213Z",
     "iopub.status.busy": "2022-04-28T16:43:34.003486Z",
     "iopub.status.idle": "2022-04-28T16:43:34.025315Z",
     "shell.execute_reply": "2022-04-28T16:43:34.024441Z"
    },
    "papermill": {
     "duration": 0.097455,
     "end_time": "2022-04-28T16:43:34.027432",
     "exception": false,
     "start_time": "2022-04-28T16:43:33.929977",
     "status": "completed"
    },
    "tags": []
   },
   "outputs": [
    {
     "data": {
      "text/html": [
       "<div>\n",
       "<style scoped>\n",
       "    .dataframe tbody tr th:only-of-type {\n",
       "        vertical-align: middle;\n",
       "    }\n",
       "\n",
       "    .dataframe tbody tr th {\n",
       "        vertical-align: top;\n",
       "    }\n",
       "\n",
       "    .dataframe thead th {\n",
       "        text-align: right;\n",
       "    }\n",
       "</style>\n",
       "<table border=\"1\" class=\"dataframe\">\n",
       "  <thead>\n",
       "    <tr style=\"text-align: right;\">\n",
       "      <th></th>\n",
       "      <th>trans_id</th>\n",
       "      <th>account_id</th>\n",
       "      <th>date_trans</th>\n",
       "      <th>type_trans</th>\n",
       "      <th>operation</th>\n",
       "      <th>amount</th>\n",
       "      <th>balance</th>\n",
       "      <th>k_symbol</th>\n",
       "      <th>bank</th>\n",
       "      <th>account</th>\n",
       "      <th>district_id_trans</th>\n",
       "      <th>frequency</th>\n",
       "      <th>date_acc</th>\n",
       "      <th>disp_id</th>\n",
       "      <th>client_id</th>\n",
       "      <th>type_disp</th>\n",
       "      <th>birth_number</th>\n",
       "      <th>district_id_client</th>\n",
       "    </tr>\n",
       "  </thead>\n",
       "  <tbody>\n",
       "    <tr>\n",
       "      <th>0</th>\n",
       "      <td>695247</td>\n",
       "      <td>2378</td>\n",
       "      <td>930101</td>\n",
       "      <td>PRIJEM</td>\n",
       "      <td>VKLAD</td>\n",
       "      <td>700.0</td>\n",
       "      <td>700.0</td>\n",
       "      <td>Not_Available</td>\n",
       "      <td>Not_Available</td>\n",
       "      <td>0.0</td>\n",
       "      <td>16</td>\n",
       "      <td>POPLATEK MESICNE</td>\n",
       "      <td>930101</td>\n",
       "      <td>2873</td>\n",
       "      <td>2873</td>\n",
       "      <td>OWNER</td>\n",
       "      <td>755324</td>\n",
       "      <td>16</td>\n",
       "    </tr>\n",
       "    <tr>\n",
       "      <th>1</th>\n",
       "      <td>171812</td>\n",
       "      <td>576</td>\n",
       "      <td>930101</td>\n",
       "      <td>PRIJEM</td>\n",
       "      <td>VKLAD</td>\n",
       "      <td>900.0</td>\n",
       "      <td>900.0</td>\n",
       "      <td>Not_Available</td>\n",
       "      <td>Not_Available</td>\n",
       "      <td>0.0</td>\n",
       "      <td>55</td>\n",
       "      <td>POPLATEK MESICNE</td>\n",
       "      <td>930101</td>\n",
       "      <td>692</td>\n",
       "      <td>692</td>\n",
       "      <td>OWNER</td>\n",
       "      <td>365111</td>\n",
       "      <td>74</td>\n",
       "    </tr>\n",
       "    <tr>\n",
       "      <th>2</th>\n",
       "      <td>171812</td>\n",
       "      <td>576</td>\n",
       "      <td>930101</td>\n",
       "      <td>PRIJEM</td>\n",
       "      <td>VKLAD</td>\n",
       "      <td>900.0</td>\n",
       "      <td>900.0</td>\n",
       "      <td>Not_Available</td>\n",
       "      <td>Not_Available</td>\n",
       "      <td>0.0</td>\n",
       "      <td>55</td>\n",
       "      <td>POPLATEK MESICNE</td>\n",
       "      <td>930101</td>\n",
       "      <td>693</td>\n",
       "      <td>693</td>\n",
       "      <td>DISPONENT</td>\n",
       "      <td>350317</td>\n",
       "      <td>74</td>\n",
       "    </tr>\n",
       "    <tr>\n",
       "      <th>3</th>\n",
       "      <td>207264</td>\n",
       "      <td>704</td>\n",
       "      <td>930101</td>\n",
       "      <td>PRIJEM</td>\n",
       "      <td>VKLAD</td>\n",
       "      <td>1000.0</td>\n",
       "      <td>1000.0</td>\n",
       "      <td>Not_Available</td>\n",
       "      <td>Not_Available</td>\n",
       "      <td>0.0</td>\n",
       "      <td>55</td>\n",
       "      <td>POPLATEK MESICNE</td>\n",
       "      <td>930101</td>\n",
       "      <td>844</td>\n",
       "      <td>844</td>\n",
       "      <td>OWNER</td>\n",
       "      <td>450114</td>\n",
       "      <td>22</td>\n",
       "    </tr>\n",
       "    <tr>\n",
       "      <th>4</th>\n",
       "      <td>207264</td>\n",
       "      <td>704</td>\n",
       "      <td>930101</td>\n",
       "      <td>PRIJEM</td>\n",
       "      <td>VKLAD</td>\n",
       "      <td>1000.0</td>\n",
       "      <td>1000.0</td>\n",
       "      <td>Not_Available</td>\n",
       "      <td>Not_Available</td>\n",
       "      <td>0.0</td>\n",
       "      <td>55</td>\n",
       "      <td>POPLATEK MESICNE</td>\n",
       "      <td>930101</td>\n",
       "      <td>845</td>\n",
       "      <td>845</td>\n",
       "      <td>DISPONENT</td>\n",
       "      <td>535130</td>\n",
       "      <td>22</td>\n",
       "    </tr>\n",
       "  </tbody>\n",
       "</table>\n",
       "</div>"
      ],
      "text/plain": [
       "   trans_id  account_id  date_trans type_trans operation  amount  balance  \\\n",
       "0    695247        2378      930101     PRIJEM     VKLAD   700.0    700.0   \n",
       "1    171812         576      930101     PRIJEM     VKLAD   900.0    900.0   \n",
       "2    171812         576      930101     PRIJEM     VKLAD   900.0    900.0   \n",
       "3    207264         704      930101     PRIJEM     VKLAD  1000.0   1000.0   \n",
       "4    207264         704      930101     PRIJEM     VKLAD  1000.0   1000.0   \n",
       "\n",
       "        k_symbol           bank  account  district_id_trans         frequency  \\\n",
       "0  Not_Available  Not_Available      0.0                 16  POPLATEK MESICNE   \n",
       "1  Not_Available  Not_Available      0.0                 55  POPLATEK MESICNE   \n",
       "2  Not_Available  Not_Available      0.0                 55  POPLATEK MESICNE   \n",
       "3  Not_Available  Not_Available      0.0                 55  POPLATEK MESICNE   \n",
       "4  Not_Available  Not_Available      0.0                 55  POPLATEK MESICNE   \n",
       "\n",
       "   date_acc  disp_id  client_id  type_disp  birth_number  district_id_client  \n",
       "0    930101     2873       2873      OWNER        755324                  16  \n",
       "1    930101      692        692      OWNER        365111                  74  \n",
       "2    930101      693        693  DISPONENT        350317                  74  \n",
       "3    930101      844        844      OWNER        450114                  22  \n",
       "4    930101      845        845  DISPONENT        535130                  22  "
      ]
     },
     "execution_count": 37,
     "metadata": {},
     "output_type": "execute_result"
    }
   ],
   "source": [
    "dfraw.head()"
   ]
  },
  {
   "cell_type": "code",
   "execution_count": 38,
   "id": "e8c8c345",
   "metadata": {
    "execution": {
     "iopub.execute_input": "2022-04-28T16:43:34.175665Z",
     "iopub.status.busy": "2022-04-28T16:43:34.175330Z",
     "iopub.status.idle": "2022-04-28T16:43:38.612489Z",
     "shell.execute_reply": "2022-04-28T16:43:38.611704Z"
    },
    "papermill": {
     "duration": 4.512962,
     "end_time": "2022-04-28T16:43:38.614800",
     "exception": false,
     "start_time": "2022-04-28T16:43:34.101838",
     "status": "completed"
    },
    "tags": []
   },
   "outputs": [],
   "source": [
    "dfraw['byr'] = dfraw['birth_number'].apply(lambda x: int('19'+ str(x)[:2]))\n",
    "dfraw['bmon'] = dfraw['birth_number'].apply(lambda x: int(str(x)[2:4]))\n",
    "dfraw['bdt'] = dfraw['birth_number'].apply(lambda x: int(str(x)[4:]))"
   ]
  },
  {
   "cell_type": "code",
   "execution_count": 39,
   "id": "4ab6a00f",
   "metadata": {
    "execution": {
     "iopub.execute_input": "2022-04-28T16:43:38.759693Z",
     "iopub.status.busy": "2022-04-28T16:43:38.759184Z",
     "iopub.status.idle": "2022-04-28T16:43:38.784192Z",
     "shell.execute_reply": "2022-04-28T16:43:38.783273Z"
    },
    "papermill": {
     "duration": 0.100279,
     "end_time": "2022-04-28T16:43:38.786348",
     "exception": false,
     "start_time": "2022-04-28T16:43:38.686069",
     "status": "completed"
    },
    "tags": []
   },
   "outputs": [
    {
     "data": {
      "text/html": [
       "<div>\n",
       "<style scoped>\n",
       "    .dataframe tbody tr th:only-of-type {\n",
       "        vertical-align: middle;\n",
       "    }\n",
       "\n",
       "    .dataframe tbody tr th {\n",
       "        vertical-align: top;\n",
       "    }\n",
       "\n",
       "    .dataframe thead th {\n",
       "        text-align: right;\n",
       "    }\n",
       "</style>\n",
       "<table border=\"1\" class=\"dataframe\">\n",
       "  <thead>\n",
       "    <tr style=\"text-align: right;\">\n",
       "      <th></th>\n",
       "      <th>trans_id</th>\n",
       "      <th>account_id</th>\n",
       "      <th>date_trans</th>\n",
       "      <th>type_trans</th>\n",
       "      <th>operation</th>\n",
       "      <th>amount</th>\n",
       "      <th>balance</th>\n",
       "      <th>k_symbol</th>\n",
       "      <th>bank</th>\n",
       "      <th>account</th>\n",
       "      <th>...</th>\n",
       "      <th>frequency</th>\n",
       "      <th>date_acc</th>\n",
       "      <th>disp_id</th>\n",
       "      <th>client_id</th>\n",
       "      <th>type_disp</th>\n",
       "      <th>birth_number</th>\n",
       "      <th>district_id_client</th>\n",
       "      <th>byr</th>\n",
       "      <th>bmon</th>\n",
       "      <th>bdt</th>\n",
       "    </tr>\n",
       "  </thead>\n",
       "  <tbody>\n",
       "    <tr>\n",
       "      <th>0</th>\n",
       "      <td>695247</td>\n",
       "      <td>2378</td>\n",
       "      <td>930101</td>\n",
       "      <td>PRIJEM</td>\n",
       "      <td>VKLAD</td>\n",
       "      <td>700.0</td>\n",
       "      <td>700.0</td>\n",
       "      <td>Not_Available</td>\n",
       "      <td>Not_Available</td>\n",
       "      <td>0.0</td>\n",
       "      <td>...</td>\n",
       "      <td>POPLATEK MESICNE</td>\n",
       "      <td>930101</td>\n",
       "      <td>2873</td>\n",
       "      <td>2873</td>\n",
       "      <td>OWNER</td>\n",
       "      <td>755324</td>\n",
       "      <td>16</td>\n",
       "      <td>1975</td>\n",
       "      <td>53</td>\n",
       "      <td>24</td>\n",
       "    </tr>\n",
       "    <tr>\n",
       "      <th>1</th>\n",
       "      <td>171812</td>\n",
       "      <td>576</td>\n",
       "      <td>930101</td>\n",
       "      <td>PRIJEM</td>\n",
       "      <td>VKLAD</td>\n",
       "      <td>900.0</td>\n",
       "      <td>900.0</td>\n",
       "      <td>Not_Available</td>\n",
       "      <td>Not_Available</td>\n",
       "      <td>0.0</td>\n",
       "      <td>...</td>\n",
       "      <td>POPLATEK MESICNE</td>\n",
       "      <td>930101</td>\n",
       "      <td>692</td>\n",
       "      <td>692</td>\n",
       "      <td>OWNER</td>\n",
       "      <td>365111</td>\n",
       "      <td>74</td>\n",
       "      <td>1936</td>\n",
       "      <td>51</td>\n",
       "      <td>11</td>\n",
       "    </tr>\n",
       "    <tr>\n",
       "      <th>2</th>\n",
       "      <td>171812</td>\n",
       "      <td>576</td>\n",
       "      <td>930101</td>\n",
       "      <td>PRIJEM</td>\n",
       "      <td>VKLAD</td>\n",
       "      <td>900.0</td>\n",
       "      <td>900.0</td>\n",
       "      <td>Not_Available</td>\n",
       "      <td>Not_Available</td>\n",
       "      <td>0.0</td>\n",
       "      <td>...</td>\n",
       "      <td>POPLATEK MESICNE</td>\n",
       "      <td>930101</td>\n",
       "      <td>693</td>\n",
       "      <td>693</td>\n",
       "      <td>DISPONENT</td>\n",
       "      <td>350317</td>\n",
       "      <td>74</td>\n",
       "      <td>1935</td>\n",
       "      <td>3</td>\n",
       "      <td>17</td>\n",
       "    </tr>\n",
       "    <tr>\n",
       "      <th>3</th>\n",
       "      <td>207264</td>\n",
       "      <td>704</td>\n",
       "      <td>930101</td>\n",
       "      <td>PRIJEM</td>\n",
       "      <td>VKLAD</td>\n",
       "      <td>1000.0</td>\n",
       "      <td>1000.0</td>\n",
       "      <td>Not_Available</td>\n",
       "      <td>Not_Available</td>\n",
       "      <td>0.0</td>\n",
       "      <td>...</td>\n",
       "      <td>POPLATEK MESICNE</td>\n",
       "      <td>930101</td>\n",
       "      <td>844</td>\n",
       "      <td>844</td>\n",
       "      <td>OWNER</td>\n",
       "      <td>450114</td>\n",
       "      <td>22</td>\n",
       "      <td>1945</td>\n",
       "      <td>1</td>\n",
       "      <td>14</td>\n",
       "    </tr>\n",
       "    <tr>\n",
       "      <th>4</th>\n",
       "      <td>207264</td>\n",
       "      <td>704</td>\n",
       "      <td>930101</td>\n",
       "      <td>PRIJEM</td>\n",
       "      <td>VKLAD</td>\n",
       "      <td>1000.0</td>\n",
       "      <td>1000.0</td>\n",
       "      <td>Not_Available</td>\n",
       "      <td>Not_Available</td>\n",
       "      <td>0.0</td>\n",
       "      <td>...</td>\n",
       "      <td>POPLATEK MESICNE</td>\n",
       "      <td>930101</td>\n",
       "      <td>845</td>\n",
       "      <td>845</td>\n",
       "      <td>DISPONENT</td>\n",
       "      <td>535130</td>\n",
       "      <td>22</td>\n",
       "      <td>1953</td>\n",
       "      <td>51</td>\n",
       "      <td>30</td>\n",
       "    </tr>\n",
       "  </tbody>\n",
       "</table>\n",
       "<p>5 rows × 21 columns</p>\n",
       "</div>"
      ],
      "text/plain": [
       "   trans_id  account_id  date_trans type_trans operation  amount  balance  \\\n",
       "0    695247        2378      930101     PRIJEM     VKLAD   700.0    700.0   \n",
       "1    171812         576      930101     PRIJEM     VKLAD   900.0    900.0   \n",
       "2    171812         576      930101     PRIJEM     VKLAD   900.0    900.0   \n",
       "3    207264         704      930101     PRIJEM     VKLAD  1000.0   1000.0   \n",
       "4    207264         704      930101     PRIJEM     VKLAD  1000.0   1000.0   \n",
       "\n",
       "        k_symbol           bank  account  ...         frequency date_acc  \\\n",
       "0  Not_Available  Not_Available      0.0  ...  POPLATEK MESICNE   930101   \n",
       "1  Not_Available  Not_Available      0.0  ...  POPLATEK MESICNE   930101   \n",
       "2  Not_Available  Not_Available      0.0  ...  POPLATEK MESICNE   930101   \n",
       "3  Not_Available  Not_Available      0.0  ...  POPLATEK MESICNE   930101   \n",
       "4  Not_Available  Not_Available      0.0  ...  POPLATEK MESICNE   930101   \n",
       "\n",
       "   disp_id  client_id  type_disp birth_number  district_id_client   byr  bmon  \\\n",
       "0     2873       2873      OWNER       755324                  16  1975    53   \n",
       "1      692        692      OWNER       365111                  74  1936    51   \n",
       "2      693        693  DISPONENT       350317                  74  1935     3   \n",
       "3      844        844      OWNER       450114                  22  1945     1   \n",
       "4      845        845  DISPONENT       535130                  22  1953    51   \n",
       "\n",
       "   bdt  \n",
       "0   24  \n",
       "1   11  \n",
       "2   17  \n",
       "3   14  \n",
       "4   30  \n",
       "\n",
       "[5 rows x 21 columns]"
      ]
     },
     "execution_count": 39,
     "metadata": {},
     "output_type": "execute_result"
    }
   ],
   "source": [
    "dfraw.head()"
   ]
  },
  {
   "cell_type": "code",
   "execution_count": 40,
   "id": "a6763d06",
   "metadata": {
    "execution": {
     "iopub.execute_input": "2022-04-28T16:43:38.934786Z",
     "iopub.status.busy": "2022-04-28T16:43:38.934291Z",
     "iopub.status.idle": "2022-04-28T16:43:38.938059Z",
     "shell.execute_reply": "2022-04-28T16:43:38.937459Z"
    },
    "papermill": {
     "duration": 0.080972,
     "end_time": "2022-04-28T16:43:38.939905",
     "exception": false,
     "start_time": "2022-04-28T16:43:38.858933",
     "status": "completed"
    },
    "tags": []
   },
   "outputs": [],
   "source": [
    "#dfraw['byr'] = dfraw['byrTmp'].apply(lambda x : '19'+str(x))"
   ]
  },
  {
   "cell_type": "code",
   "execution_count": 41,
   "id": "d530a2cc",
   "metadata": {
    "execution": {
     "iopub.execute_input": "2022-04-28T16:43:39.090518Z",
     "iopub.status.busy": "2022-04-28T16:43:39.090031Z",
     "iopub.status.idle": "2022-04-28T16:43:40.641896Z",
     "shell.execute_reply": "2022-04-28T16:43:40.640977Z"
    },
    "papermill": {
     "duration": 1.62973,
     "end_time": "2022-04-28T16:43:40.644163",
     "exception": false,
     "start_time": "2022-04-28T16:43:39.014433",
     "status": "completed"
    },
    "tags": []
   },
   "outputs": [
    {
     "data": {
      "text/plain": [
       "<AxesSubplot:xlabel='byr', ylabel='Count'>"
      ]
     },
     "execution_count": 41,
     "metadata": {},
     "output_type": "execute_result"
    },
    {
     "data": {
      "image/png": "[encoded data removed]",
      "text/plain": [
       "<Figure size 432x288 with 1 Axes>"
      ]
     },
     "metadata": {
      "needs_background": "light"
     },
     "output_type": "display_data"
    }
   ],
   "source": [
    "sns.histplot(dfraw['byr'])"
   ]
  },
  {
   "cell_type": "code",
   "execution_count": 42,
   "id": "a70b3dfd",
   "metadata": {
    "execution": {
     "iopub.execute_input": "2022-04-28T16:43:40.793084Z",
     "iopub.status.busy": "2022-04-28T16:43:40.792777Z",
     "iopub.status.idle": "2022-04-28T16:43:42.094473Z",
     "shell.execute_reply": "2022-04-28T16:43:42.093434Z"
    },
    "papermill": {
     "duration": 1.379126,
     "end_time": "2022-04-28T16:43:42.096970",
     "exception": false,
     "start_time": "2022-04-28T16:43:40.717844",
     "status": "completed"
    },
    "tags": []
   },
   "outputs": [
    {
     "data": {
      "text/plain": [
       "<AxesSubplot:xlabel='bmon', ylabel='Count'>"
      ]
     },
     "execution_count": 42,
     "metadata": {},
     "output_type": "execute_result"
    },
    {
     "data": {
      "image/png": "[encoded data removed]",
      "text/plain": [
       "<Figure size 432x288 with 1 Axes>"
      ]
     },
     "metadata": {
      "needs_background": "light"
     },
     "output_type": "display_data"
    }
   ],
   "source": [
    "sns.histplot(dfraw['bmon'])"
   ]
  },
  {
   "cell_type": "code",
   "execution_count": 43,
   "id": "13f4b638",
   "metadata": {
    "execution": {
     "iopub.execute_input": "2022-04-28T16:43:42.252105Z",
     "iopub.status.busy": "2022-04-28T16:43:42.251140Z",
     "iopub.status.idle": "2022-04-28T16:43:43.045386Z",
     "shell.execute_reply": "2022-04-28T16:43:43.044629Z"
    },
    "papermill": {
     "duration": 0.873316,
     "end_time": "2022-04-28T16:43:43.047737",
     "exception": false,
     "start_time": "2022-04-28T16:43:42.174421",
     "status": "completed"
    },
    "tags": []
   },
   "outputs": [],
   "source": [
    "dfraw['gender'] = dfraw['bmon'].apply(lambda x: 1 if x < 50 else 0)"
   ]
  },
  {
   "cell_type": "code",
   "execution_count": 44,
   "id": "114b9099",
   "metadata": {
    "execution": {
     "iopub.execute_input": "2022-04-28T16:43:43.201007Z",
     "iopub.status.busy": "2022-04-28T16:43:43.200288Z",
     "iopub.status.idle": "2022-04-28T16:43:44.499887Z",
     "shell.execute_reply": "2022-04-28T16:43:44.498730Z"
    },
    "papermill": {
     "duration": 1.379777,
     "end_time": "2022-04-28T16:43:44.503278",
     "exception": false,
     "start_time": "2022-04-28T16:43:43.123501",
     "status": "completed"
    },
    "tags": []
   },
   "outputs": [
    {
     "data": {
      "text/plain": [
       "<AxesSubplot:xlabel='gender', ylabel='Count'>"
      ]
     },
     "execution_count": 44,
     "metadata": {},
     "output_type": "execute_result"
    },
    {
     "data": {
      "image/png": "[encoded data removed]",
      "text/plain": [
       "<Figure size 432x288 with 1 Axes>"
      ]
     },
     "metadata": {
      "needs_background": "light"
     },
     "output_type": "display_data"
    }
   ],
   "source": [
    "sns.histplot(dfraw['gender'])"
   ]
  },
  {
   "cell_type": "code",
   "execution_count": 45,
   "id": "fc01387c",
   "metadata": {
    "execution": {
     "iopub.execute_input": "2022-04-28T16:43:44.659990Z",
     "iopub.status.busy": "2022-04-28T16:43:44.658907Z",
     "iopub.status.idle": "2022-04-28T16:43:45.452767Z",
     "shell.execute_reply": "2022-04-28T16:43:45.451670Z"
    },
    "papermill": {
     "duration": 0.873741,
     "end_time": "2022-04-28T16:43:45.455324",
     "exception": false,
     "start_time": "2022-04-28T16:43:44.581583",
     "status": "completed"
    },
    "tags": []
   },
   "outputs": [],
   "source": [
    "dfraw['bmon'] = dfraw['bmon'].apply(lambda x: x if x < 50 else (x-50))"
   ]
  },
  {
   "cell_type": "code",
   "execution_count": 46,
   "id": "ff216557",
   "metadata": {
    "execution": {
     "iopub.execute_input": "2022-04-28T16:43:45.609996Z",
     "iopub.status.busy": "2022-04-28T16:43:45.609426Z",
     "iopub.status.idle": "2022-04-28T16:43:47.204532Z",
     "shell.execute_reply": "2022-04-28T16:43:47.203732Z"
    },
    "papermill": {
     "duration": 1.675024,
     "end_time": "2022-04-28T16:43:47.206820",
     "exception": false,
     "start_time": "2022-04-28T16:43:45.531796",
     "status": "completed"
    },
    "tags": []
   },
   "outputs": [
    {
     "data": {
      "text/plain": [
       "<AxesSubplot:xlabel='bmon', ylabel='Count'>"
      ]
     },
     "execution_count": 46,
     "metadata": {},
     "output_type": "execute_result"
    },
    {
     "data": {
      "image/png": "[encoded data removed]",
      "text/plain": [
       "<Figure size 432x288 with 1 Axes>"
      ]
     },
     "metadata": {
      "needs_background": "light"
     },
     "output_type": "display_data"
    }
   ],
   "source": [
    "sns.histplot(dfraw['bmon'])"
   ]
  },
  {
   "cell_type": "code",
   "execution_count": 47,
   "id": "3e40e43e",
   "metadata": {
    "execution": {
     "iopub.execute_input": "2022-04-28T16:43:47.392602Z",
     "iopub.status.busy": "2022-04-28T16:43:47.392109Z",
     "iopub.status.idle": "2022-04-28T16:43:47.417252Z",
     "shell.execute_reply": "2022-04-28T16:43:47.416318Z"
    },
    "papermill": {
     "duration": 0.125703,
     "end_time": "2022-04-28T16:43:47.419460",
     "exception": false,
     "start_time": "2022-04-28T16:43:47.293757",
     "status": "completed"
    },
    "tags": []
   },
   "outputs": [
    {
     "data": {
      "text/html": [
       "<div>\n",
       "<style scoped>\n",
       "    .dataframe tbody tr th:only-of-type {\n",
       "        vertical-align: middle;\n",
       "    }\n",
       "\n",
       "    .dataframe tbody tr th {\n",
       "        vertical-align: top;\n",
       "    }\n",
       "\n",
       "    .dataframe thead th {\n",
       "        text-align: right;\n",
       "    }\n",
       "</style>\n",
       "<table border=\"1\" class=\"dataframe\">\n",
       "  <thead>\n",
       "    <tr style=\"text-align: right;\">\n",
       "      <th></th>\n",
       "      <th>trans_id</th>\n",
       "      <th>account_id</th>\n",
       "      <th>date_trans</th>\n",
       "      <th>type_trans</th>\n",
       "      <th>operation</th>\n",
       "      <th>amount</th>\n",
       "      <th>balance</th>\n",
       "      <th>k_symbol</th>\n",
       "      <th>bank</th>\n",
       "      <th>account</th>\n",
       "      <th>...</th>\n",
       "      <th>date_acc</th>\n",
       "      <th>disp_id</th>\n",
       "      <th>client_id</th>\n",
       "      <th>type_disp</th>\n",
       "      <th>birth_number</th>\n",
       "      <th>district_id_client</th>\n",
       "      <th>byr</th>\n",
       "      <th>bmon</th>\n",
       "      <th>bdt</th>\n",
       "      <th>gender</th>\n",
       "    </tr>\n",
       "  </thead>\n",
       "  <tbody>\n",
       "    <tr>\n",
       "      <th>0</th>\n",
       "      <td>695247</td>\n",
       "      <td>2378</td>\n",
       "      <td>930101</td>\n",
       "      <td>PRIJEM</td>\n",
       "      <td>VKLAD</td>\n",
       "      <td>700.0</td>\n",
       "      <td>700.0</td>\n",
       "      <td>Not_Available</td>\n",
       "      <td>Not_Available</td>\n",
       "      <td>0.0</td>\n",
       "      <td>...</td>\n",
       "      <td>930101</td>\n",
       "      <td>2873</td>\n",
       "      <td>2873</td>\n",
       "      <td>OWNER</td>\n",
       "      <td>755324</td>\n",
       "      <td>16</td>\n",
       "      <td>1975</td>\n",
       "      <td>3</td>\n",
       "      <td>24</td>\n",
       "      <td>0</td>\n",
       "    </tr>\n",
       "    <tr>\n",
       "      <th>1</th>\n",
       "      <td>171812</td>\n",
       "      <td>576</td>\n",
       "      <td>930101</td>\n",
       "      <td>PRIJEM</td>\n",
       "      <td>VKLAD</td>\n",
       "      <td>900.0</td>\n",
       "      <td>900.0</td>\n",
       "      <td>Not_Available</td>\n",
       "      <td>Not_Available</td>\n",
       "      <td>0.0</td>\n",
       "      <td>...</td>\n",
       "      <td>930101</td>\n",
       "      <td>692</td>\n",
       "      <td>692</td>\n",
       "      <td>OWNER</td>\n",
       "      <td>365111</td>\n",
       "      <td>74</td>\n",
       "      <td>1936</td>\n",
       "      <td>1</td>\n",
       "      <td>11</td>\n",
       "      <td>0</td>\n",
       "    </tr>\n",
       "    <tr>\n",
       "      <th>2</th>\n",
       "      <td>171812</td>\n",
       "      <td>576</td>\n",
       "      <td>930101</td>\n",
       "      <td>PRIJEM</td>\n",
       "      <td>VKLAD</td>\n",
       "      <td>900.0</td>\n",
       "      <td>900.0</td>\n",
       "      <td>Not_Available</td>\n",
       "      <td>Not_Available</td>\n",
       "      <td>0.0</td>\n",
       "      <td>...</td>\n",
       "      <td>930101</td>\n",
       "      <td>693</td>\n",
       "      <td>693</td>\n",
       "      <td>DISPONENT</td>\n",
       "      <td>350317</td>\n",
       "      <td>74</td>\n",
       "      <td>1935</td>\n",
       "      <td>3</td>\n",
       "      <td>17</td>\n",
       "      <td>1</td>\n",
       "    </tr>\n",
       "    <tr>\n",
       "      <th>3</th>\n",
       "      <td>207264</td>\n",
       "      <td>704</td>\n",
       "      <td>930101</td>\n",
       "      <td>PRIJEM</td>\n",
       "      <td>VKLAD</td>\n",
       "      <td>1000.0</td>\n",
       "      <td>1000.0</td>\n",
       "      <td>Not_Available</td>\n",
       "      <td>Not_Available</td>\n",
       "      <td>0.0</td>\n",
       "      <td>...</td>\n",
       "      <td>930101</td>\n",
       "      <td>844</td>\n",
       "      <td>844</td>\n",
       "      <td>OWNER</td>\n",
       "      <td>450114</td>\n",
       "      <td>22</td>\n",
       "      <td>1945</td>\n",
       "      <td>1</td>\n",
       "      <td>14</td>\n",
       "      <td>1</td>\n",
       "    </tr>\n",
       "    <tr>\n",
       "      <th>4</th>\n",
       "      <td>207264</td>\n",
       "      <td>704</td>\n",
       "      <td>930101</td>\n",
       "      <td>PRIJEM</td>\n",
       "      <td>VKLAD</td>\n",
       "      <td>1000.0</td>\n",
       "      <td>1000.0</td>\n",
       "      <td>Not_Available</td>\n",
       "      <td>Not_Available</td>\n",
       "      <td>0.0</td>\n",
       "      <td>...</td>\n",
       "      <td>930101</td>\n",
       "      <td>845</td>\n",
       "      <td>845</td>\n",
       "      <td>DISPONENT</td>\n",
       "      <td>535130</td>\n",
       "      <td>22</td>\n",
       "      <td>1953</td>\n",
       "      <td>1</td>\n",
       "      <td>30</td>\n",
       "      <td>0</td>\n",
       "    </tr>\n",
       "  </tbody>\n",
       "</table>\n",
       "<p>5 rows × 22 columns</p>\n",
       "</div>"
      ],
      "text/plain": [
       "   trans_id  account_id  date_trans type_trans operation  amount  balance  \\\n",
       "0    695247        2378      930101     PRIJEM     VKLAD   700.0    700.0   \n",
       "1    171812         576      930101     PRIJEM     VKLAD   900.0    900.0   \n",
       "2    171812         576      930101     PRIJEM     VKLAD   900.0    900.0   \n",
       "3    207264         704      930101     PRIJEM     VKLAD  1000.0   1000.0   \n",
       "4    207264         704      930101     PRIJEM     VKLAD  1000.0   1000.0   \n",
       "\n",
       "        k_symbol           bank  account  ...  date_acc disp_id  client_id  \\\n",
       "0  Not_Available  Not_Available      0.0  ...    930101    2873       2873   \n",
       "1  Not_Available  Not_Available      0.0  ...    930101     692        692   \n",
       "2  Not_Available  Not_Available      0.0  ...    930101     693        693   \n",
       "3  Not_Available  Not_Available      0.0  ...    930101     844        844   \n",
       "4  Not_Available  Not_Available      0.0  ...    930101     845        845   \n",
       "\n",
       "   type_disp  birth_number district_id_client   byr  bmon  bdt  gender  \n",
       "0      OWNER        755324                 16  1975     3   24       0  \n",
       "1      OWNER        365111                 74  1936     1   11       0  \n",
       "2  DISPONENT        350317                 74  1935     3   17       1  \n",
       "3      OWNER        450114                 22  1945     1   14       1  \n",
       "4  DISPONENT        535130                 22  1953     1   30       0  \n",
       "\n",
       "[5 rows x 22 columns]"
      ]
     },
     "execution_count": 47,
     "metadata": {},
     "output_type": "execute_result"
    }
   ],
   "source": [
    "dfraw.head()"
   ]
  },
  {
   "cell_type": "code",
   "execution_count": 48,
   "id": "9bc94e67",
   "metadata": {
    "execution": {
     "iopub.execute_input": "2022-04-28T16:43:47.582990Z",
     "iopub.status.busy": "2022-04-28T16:43:47.582636Z",
     "iopub.status.idle": "2022-04-28T16:43:48.629546Z",
     "shell.execute_reply": "2022-04-28T16:43:48.628552Z"
    },
    "papermill": {
     "duration": 1.133433,
     "end_time": "2022-04-28T16:43:48.632177",
     "exception": false,
     "start_time": "2022-04-28T16:43:47.498744",
     "status": "completed"
    },
    "tags": []
   },
   "outputs": [],
   "source": [
    "dfraw['bmon'] = dfraw['bmon'].apply(lambda x : '0'+str(x) if len(str(x)) == 1 else str(x))"
   ]
  },
  {
   "cell_type": "code",
   "execution_count": 49,
   "id": "3be816d0",
   "metadata": {
    "execution": {
     "iopub.execute_input": "2022-04-28T16:43:48.791170Z",
     "iopub.status.busy": "2022-04-28T16:43:48.790841Z",
     "iopub.status.idle": "2022-04-28T16:43:48.816631Z",
     "shell.execute_reply": "2022-04-28T16:43:48.815895Z"
    },
    "papermill": {
     "duration": 0.108093,
     "end_time": "2022-04-28T16:43:48.818475",
     "exception": false,
     "start_time": "2022-04-28T16:43:48.710382",
     "status": "completed"
    },
    "tags": []
   },
   "outputs": [
    {
     "data": {
      "text/html": [
       "<div>\n",
       "<style scoped>\n",
       "    .dataframe tbody tr th:only-of-type {\n",
       "        vertical-align: middle;\n",
       "    }\n",
       "\n",
       "    .dataframe tbody tr th {\n",
       "        vertical-align: top;\n",
       "    }\n",
       "\n",
       "    .dataframe thead th {\n",
       "        text-align: right;\n",
       "    }\n",
       "</style>\n",
       "<table border=\"1\" class=\"dataframe\">\n",
       "  <thead>\n",
       "    <tr style=\"text-align: right;\">\n",
       "      <th></th>\n",
       "      <th>trans_id</th>\n",
       "      <th>account_id</th>\n",
       "      <th>date_trans</th>\n",
       "      <th>type_trans</th>\n",
       "      <th>operation</th>\n",
       "      <th>amount</th>\n",
       "      <th>balance</th>\n",
       "      <th>k_symbol</th>\n",
       "      <th>bank</th>\n",
       "      <th>account</th>\n",
       "      <th>...</th>\n",
       "      <th>date_acc</th>\n",
       "      <th>disp_id</th>\n",
       "      <th>client_id</th>\n",
       "      <th>type_disp</th>\n",
       "      <th>birth_number</th>\n",
       "      <th>district_id_client</th>\n",
       "      <th>byr</th>\n",
       "      <th>bmon</th>\n",
       "      <th>bdt</th>\n",
       "      <th>gender</th>\n",
       "    </tr>\n",
       "  </thead>\n",
       "  <tbody>\n",
       "    <tr>\n",
       "      <th>0</th>\n",
       "      <td>695247</td>\n",
       "      <td>2378</td>\n",
       "      <td>930101</td>\n",
       "      <td>PRIJEM</td>\n",
       "      <td>VKLAD</td>\n",
       "      <td>700.0</td>\n",
       "      <td>700.0</td>\n",
       "      <td>Not_Available</td>\n",
       "      <td>Not_Available</td>\n",
       "      <td>0.0</td>\n",
       "      <td>...</td>\n",
       "      <td>930101</td>\n",
       "      <td>2873</td>\n",
       "      <td>2873</td>\n",
       "      <td>OWNER</td>\n",
       "      <td>755324</td>\n",
       "      <td>16</td>\n",
       "      <td>1975</td>\n",
       "      <td>03</td>\n",
       "      <td>24</td>\n",
       "      <td>0</td>\n",
       "    </tr>\n",
       "    <tr>\n",
       "      <th>1</th>\n",
       "      <td>171812</td>\n",
       "      <td>576</td>\n",
       "      <td>930101</td>\n",
       "      <td>PRIJEM</td>\n",
       "      <td>VKLAD</td>\n",
       "      <td>900.0</td>\n",
       "      <td>900.0</td>\n",
       "      <td>Not_Available</td>\n",
       "      <td>Not_Available</td>\n",
       "      <td>0.0</td>\n",
       "      <td>...</td>\n",
       "      <td>930101</td>\n",
       "      <td>692</td>\n",
       "      <td>692</td>\n",
       "      <td>OWNER</td>\n",
       "      <td>365111</td>\n",
       "      <td>74</td>\n",
       "      <td>1936</td>\n",
       "      <td>01</td>\n",
       "      <td>11</td>\n",
       "      <td>0</td>\n",
       "    </tr>\n",
       "    <tr>\n",
       "      <th>2</th>\n",
       "      <td>171812</td>\n",
       "      <td>576</td>\n",
       "      <td>930101</td>\n",
       "      <td>PRIJEM</td>\n",
       "      <td>VKLAD</td>\n",
       "      <td>900.0</td>\n",
       "      <td>900.0</td>\n",
       "      <td>Not_Available</td>\n",
       "      <td>Not_Available</td>\n",
       "      <td>0.0</td>\n",
       "      <td>...</td>\n",
       "      <td>930101</td>\n",
       "      <td>693</td>\n",
       "      <td>693</td>\n",
       "      <td>DISPONENT</td>\n",
       "      <td>350317</td>\n",
       "      <td>74</td>\n",
       "      <td>1935</td>\n",
       "      <td>03</td>\n",
       "      <td>17</td>\n",
       "      <td>1</td>\n",
       "    </tr>\n",
       "    <tr>\n",
       "      <th>3</th>\n",
       "      <td>207264</td>\n",
       "      <td>704</td>\n",
       "      <td>930101</td>\n",
       "      <td>PRIJEM</td>\n",
       "      <td>VKLAD</td>\n",
       "      <td>1000.0</td>\n",
       "      <td>1000.0</td>\n",
       "      <td>Not_Available</td>\n",
       "      <td>Not_Available</td>\n",
       "      <td>0.0</td>\n",
       "      <td>...</td>\n",
       "      <td>930101</td>\n",
       "      <td>844</td>\n",
       "      <td>844</td>\n",
       "      <td>OWNER</td>\n",
       "      <td>450114</td>\n",
       "      <td>22</td>\n",
       "      <td>1945</td>\n",
       "      <td>01</td>\n",
       "      <td>14</td>\n",
       "      <td>1</td>\n",
       "    </tr>\n",
       "    <tr>\n",
       "      <th>4</th>\n",
       "      <td>207264</td>\n",
       "      <td>704</td>\n",
       "      <td>930101</td>\n",
       "      <td>PRIJEM</td>\n",
       "      <td>VKLAD</td>\n",
       "      <td>1000.0</td>\n",
       "      <td>1000.0</td>\n",
       "      <td>Not_Available</td>\n",
       "      <td>Not_Available</td>\n",
       "      <td>0.0</td>\n",
       "      <td>...</td>\n",
       "      <td>930101</td>\n",
       "      <td>845</td>\n",
       "      <td>845</td>\n",
       "      <td>DISPONENT</td>\n",
       "      <td>535130</td>\n",
       "      <td>22</td>\n",
       "      <td>1953</td>\n",
       "      <td>01</td>\n",
       "      <td>30</td>\n",
       "      <td>0</td>\n",
       "    </tr>\n",
       "  </tbody>\n",
       "</table>\n",
       "<p>5 rows × 22 columns</p>\n",
       "</div>"
      ],
      "text/plain": [
       "   trans_id  account_id  date_trans type_trans operation  amount  balance  \\\n",
       "0    695247        2378      930101     PRIJEM     VKLAD   700.0    700.0   \n",
       "1    171812         576      930101     PRIJEM     VKLAD   900.0    900.0   \n",
       "2    171812         576      930101     PRIJEM     VKLAD   900.0    900.0   \n",
       "3    207264         704      930101     PRIJEM     VKLAD  1000.0   1000.0   \n",
       "4    207264         704      930101     PRIJEM     VKLAD  1000.0   1000.0   \n",
       "\n",
       "        k_symbol           bank  account  ...  date_acc disp_id  client_id  \\\n",
       "0  Not_Available  Not_Available      0.0  ...    930101    2873       2873   \n",
       "1  Not_Available  Not_Available      0.0  ...    930101     692        692   \n",
       "2  Not_Available  Not_Available      0.0  ...    930101     693        693   \n",
       "3  Not_Available  Not_Available      0.0  ...    930101     844        844   \n",
       "4  Not_Available  Not_Available      0.0  ...    930101     845        845   \n",
       "\n",
       "   type_disp  birth_number district_id_client   byr  bmon  bdt gender  \n",
       "0      OWNER        755324                 16  1975    03   24      0  \n",
       "1      OWNER        365111                 74  1936    01   11      0  \n",
       "2  DISPONENT        350317                 74  1935    03   17      1  \n",
       "3      OWNER        450114                 22  1945    01   14      1  \n",
       "4  DISPONENT        535130                 22  1953    01   30      0  \n",
       "\n",
       "[5 rows x 22 columns]"
      ]
     },
     "execution_count": 49,
     "metadata": {},
     "output_type": "execute_result"
    }
   ],
   "source": [
    "dfraw.head()"
   ]
  },
  {
   "cell_type": "code",
   "execution_count": 50,
   "id": "76dcdace",
   "metadata": {
    "execution": {
     "iopub.execute_input": "2022-04-28T16:43:48.981577Z",
     "iopub.status.busy": "2022-04-28T16:43:48.980945Z",
     "iopub.status.idle": "2022-04-28T16:43:48.986590Z",
     "shell.execute_reply": "2022-04-28T16:43:48.985806Z"
    },
    "papermill": {
     "duration": 0.089912,
     "end_time": "2022-04-28T16:43:48.988474",
     "exception": false,
     "start_time": "2022-04-28T16:43:48.898562",
     "status": "completed"
    },
    "tags": []
   },
   "outputs": [
    {
     "data": {
      "text/plain": [
       "1262625"
      ]
     },
     "execution_count": 50,
     "metadata": {},
     "output_type": "execute_result"
    }
   ],
   "source": [
    "len(dfraw)"
   ]
  },
  {
   "cell_type": "code",
   "execution_count": 51,
   "id": "e6fb502d",
   "metadata": {
    "execution": {
     "iopub.execute_input": "2022-04-28T16:43:49.151446Z",
     "iopub.status.busy": "2022-04-28T16:43:49.150817Z",
     "iopub.status.idle": "2022-04-28T16:43:52.711139Z",
     "shell.execute_reply": "2022-04-28T16:43:52.710446Z"
    },
    "papermill": {
     "duration": 3.64514,
     "end_time": "2022-04-28T16:43:52.713602",
     "exception": false,
     "start_time": "2022-04-28T16:43:49.068462",
     "status": "completed"
    },
    "tags": []
   },
   "outputs": [],
   "source": [
    "dfraw['byr'] = dfraw['byr'].astype(str)\n",
    "dfraw['bmon'] = dfraw['bmon'].astype(str)\n",
    "dfraw['bdt'] = dfraw['bdt'].astype(str)\n",
    "dfraw['bdte'] = dfraw['bdt'] +'-'+ dfraw['bmon']+'-'+ dfraw['byr']   #.apply(lambda y,m,d : d+'-'+m+'-'+y)"
   ]
  },
  {
   "cell_type": "code",
   "execution_count": 52,
   "id": "ac590c64",
   "metadata": {
    "execution": {
     "iopub.execute_input": "2022-04-28T16:43:52.876444Z",
     "iopub.status.busy": "2022-04-28T16:43:52.875879Z",
     "iopub.status.idle": "2022-04-28T16:43:53.251832Z",
     "shell.execute_reply": "2022-04-28T16:43:53.250873Z"
    },
    "papermill": {
     "duration": 0.459839,
     "end_time": "2022-04-28T16:43:53.254444",
     "exception": false,
     "start_time": "2022-04-28T16:43:52.794605",
     "status": "completed"
    },
    "tags": []
   },
   "outputs": [],
   "source": [
    "dfraw['birthday'] =  pd.to_datetime(dfraw['bdte'], format='%d-%m-%Y')"
   ]
  },
  {
   "cell_type": "code",
   "execution_count": 53,
   "id": "f172b5ac",
   "metadata": {
    "execution": {
     "iopub.execute_input": "2022-04-28T16:43:53.417591Z",
     "iopub.status.busy": "2022-04-28T16:43:53.417249Z",
     "iopub.status.idle": "2022-04-28T16:43:57.820357Z",
     "shell.execute_reply": "2022-04-28T16:43:57.819546Z"
    },
    "papermill": {
     "duration": 4.488893,
     "end_time": "2022-04-28T16:43:57.822933",
     "exception": false,
     "start_time": "2022-04-28T16:43:53.334040",
     "status": "completed"
    },
    "tags": []
   },
   "outputs": [],
   "source": [
    "#dfraw['accdte'] = dfraw['date_acc'][:2] +'-'+ dfraw['date_acc'][2:4]+'-'+ dfraw['date_acc'][4:]\n",
    "dfraw['ayr'] = dfraw['date_acc'].apply(lambda x: int('19'+ str(x)[:2]))\n",
    "dfraw['amon'] = dfraw['date_acc'].apply(lambda x: int(str(x)[2:4]))\n",
    "dfraw['adt'] = dfraw['date_acc'].apply(lambda x: int(str(x)[4:]))"
   ]
  },
  {
   "cell_type": "code",
   "execution_count": 54,
   "id": "0048cce3",
   "metadata": {
    "execution": {
     "iopub.execute_input": "2022-04-28T16:43:57.985057Z",
     "iopub.status.busy": "2022-04-28T16:43:57.984760Z",
     "iopub.status.idle": "2022-04-28T16:44:02.826630Z",
     "shell.execute_reply": "2022-04-28T16:44:02.825712Z"
    },
    "papermill": {
     "duration": 4.924742,
     "end_time": "2022-04-28T16:44:02.829256",
     "exception": false,
     "start_time": "2022-04-28T16:43:57.904514",
     "status": "completed"
    },
    "tags": []
   },
   "outputs": [],
   "source": [
    "dfraw['ayr'] = dfraw['ayr'].astype(str)\n",
    "dfraw['amon'] = dfraw['amon'].astype(str)\n",
    "dfraw['adt'] = dfraw['adt'].astype(str)\n",
    "dfraw['accdte'] = dfraw['adt'] +'-'+ dfraw['amon']+'-'+ dfraw['ayr'] "
   ]
  },
  {
   "cell_type": "code",
   "execution_count": 55,
   "id": "f0f6d8a1",
   "metadata": {
    "execution": {
     "iopub.execute_input": "2022-04-28T16:44:02.991365Z",
     "iopub.status.busy": "2022-04-28T16:44:02.991041Z",
     "iopub.status.idle": "2022-04-28T16:44:03.362520Z",
     "shell.execute_reply": "2022-04-28T16:44:03.361683Z"
    },
    "papermill": {
     "duration": 0.455154,
     "end_time": "2022-04-28T16:44:03.365242",
     "exception": false,
     "start_time": "2022-04-28T16:44:02.910088",
     "status": "completed"
    },
    "tags": []
   },
   "outputs": [],
   "source": [
    "dfraw['accdte'] =  pd.to_datetime(dfraw['accdte'], format='%d-%m-%Y')"
   ]
  },
  {
   "cell_type": "code",
   "execution_count": 56,
   "id": "c35b9518",
   "metadata": {
    "execution": {
     "iopub.execute_input": "2022-04-28T16:44:03.526891Z",
     "iopub.status.busy": "2022-04-28T16:44:03.526567Z",
     "iopub.status.idle": "2022-04-28T16:44:03.535173Z",
     "shell.execute_reply": "2022-04-28T16:44:03.534271Z"
    },
    "papermill": {
     "duration": 0.091423,
     "end_time": "2022-04-28T16:44:03.537221",
     "exception": false,
     "start_time": "2022-04-28T16:44:03.445798",
     "status": "completed"
    },
    "tags": []
   },
   "outputs": [
    {
     "data": {
      "text/plain": [
       "0         1993-01-01\n",
       "1         1993-01-01\n",
       "2         1993-01-01\n",
       "3         1993-01-01\n",
       "4         1993-01-01\n",
       "             ...    \n",
       "1262620   1995-05-15\n",
       "1262621   1996-09-27\n",
       "1262622   1993-09-09\n",
       "1262623   1993-09-09\n",
       "1262624   1993-01-28\n",
       "Name: accdte, Length: 1262625, dtype: datetime64[ns]"
      ]
     },
     "execution_count": 56,
     "metadata": {},
     "output_type": "execute_result"
    }
   ],
   "source": [
    "dfraw['accdte']"
   ]
  },
  {
   "cell_type": "code",
   "execution_count": 57,
   "id": "52265b64",
   "metadata": {
    "execution": {
     "iopub.execute_input": "2022-04-28T16:44:03.700195Z",
     "iopub.status.busy": "2022-04-28T16:44:03.699867Z",
     "iopub.status.idle": "2022-04-28T16:44:03.800712Z",
     "shell.execute_reply": "2022-04-28T16:44:03.799742Z"
    },
    "papermill": {
     "duration": 0.185523,
     "end_time": "2022-04-28T16:44:03.803255",
     "exception": false,
     "start_time": "2022-04-28T16:44:03.617732",
     "status": "completed"
    },
    "tags": []
   },
   "outputs": [],
   "source": [
    "import numpy as np\n",
    "dfraw['age_at_acc_open'] = (np.floor((dfraw['accdte']- dfraw['birthday']).dt.days / 365.25)).astype(int)\n"
   ]
  },
  {
   "cell_type": "code",
   "execution_count": 58,
   "id": "e9a83209",
   "metadata": {
    "execution": {
     "iopub.execute_input": "2022-04-28T16:44:03.967376Z",
     "iopub.status.busy": "2022-04-28T16:44:03.966642Z",
     "iopub.status.idle": "2022-04-28T16:44:04.907146Z",
     "shell.execute_reply": "2022-04-28T16:44:04.905826Z"
    },
    "papermill": {
     "duration": 1.02411,
     "end_time": "2022-04-28T16:44:04.909496",
     "exception": false,
     "start_time": "2022-04-28T16:44:03.885386",
     "status": "completed"
    },
    "tags": []
   },
   "outputs": [
    {
     "data": {
      "text/html": [
       "<div>\n",
       "<style scoped>\n",
       "    .dataframe tbody tr th:only-of-type {\n",
       "        vertical-align: middle;\n",
       "    }\n",
       "\n",
       "    .dataframe tbody tr th {\n",
       "        vertical-align: top;\n",
       "    }\n",
       "\n",
       "    .dataframe thead th {\n",
       "        text-align: right;\n",
       "    }\n",
       "</style>\n",
       "<table border=\"1\" class=\"dataframe\">\n",
       "  <thead>\n",
       "    <tr style=\"text-align: right;\">\n",
       "      <th></th>\n",
       "      <th>age_at_acc_open</th>\n",
       "      <th>accdte</th>\n",
       "      <th>birthday</th>\n",
       "    </tr>\n",
       "  </thead>\n",
       "  <tbody>\n",
       "    <tr>\n",
       "      <th>0</th>\n",
       "      <td>17</td>\n",
       "      <td>1993-01-01</td>\n",
       "      <td>1975-03-24</td>\n",
       "    </tr>\n",
       "    <tr>\n",
       "      <th>1</th>\n",
       "      <td>56</td>\n",
       "      <td>1993-01-01</td>\n",
       "      <td>1936-01-11</td>\n",
       "    </tr>\n",
       "    <tr>\n",
       "      <th>2</th>\n",
       "      <td>57</td>\n",
       "      <td>1993-01-01</td>\n",
       "      <td>1935-03-17</td>\n",
       "    </tr>\n",
       "    <tr>\n",
       "      <th>3</th>\n",
       "      <td>47</td>\n",
       "      <td>1993-01-01</td>\n",
       "      <td>1945-01-14</td>\n",
       "    </tr>\n",
       "    <tr>\n",
       "      <th>4</th>\n",
       "      <td>39</td>\n",
       "      <td>1993-01-01</td>\n",
       "      <td>1953-01-30</td>\n",
       "    </tr>\n",
       "    <tr>\n",
       "      <th>...</th>\n",
       "      <td>...</td>\n",
       "      <td>...</td>\n",
       "      <td>...</td>\n",
       "    </tr>\n",
       "    <tr>\n",
       "      <th>1262620</th>\n",
       "      <td>28</td>\n",
       "      <td>1995-05-15</td>\n",
       "      <td>1966-11-01</td>\n",
       "    </tr>\n",
       "    <tr>\n",
       "      <th>1262621</th>\n",
       "      <td>62</td>\n",
       "      <td>1996-09-27</td>\n",
       "      <td>1933-12-31</td>\n",
       "    </tr>\n",
       "    <tr>\n",
       "      <th>1262622</th>\n",
       "      <td>71</td>\n",
       "      <td>1993-09-09</td>\n",
       "      <td>1922-07-20</td>\n",
       "    </tr>\n",
       "    <tr>\n",
       "      <th>1262623</th>\n",
       "      <td>75</td>\n",
       "      <td>1993-09-09</td>\n",
       "      <td>1918-02-05</td>\n",
       "    </tr>\n",
       "    <tr>\n",
       "      <th>1262624</th>\n",
       "      <td>46</td>\n",
       "      <td>1993-01-28</td>\n",
       "      <td>1946-12-02</td>\n",
       "    </tr>\n",
       "  </tbody>\n",
       "</table>\n",
       "<p>1262625 rows × 3 columns</p>\n",
       "</div>"
      ],
      "text/plain": [
       "         age_at_acc_open     accdte   birthday\n",
       "0                     17 1993-01-01 1975-03-24\n",
       "1                     56 1993-01-01 1936-01-11\n",
       "2                     57 1993-01-01 1935-03-17\n",
       "3                     47 1993-01-01 1945-01-14\n",
       "4                     39 1993-01-01 1953-01-30\n",
       "...                  ...        ...        ...\n",
       "1262620               28 1995-05-15 1966-11-01\n",
       "1262621               62 1996-09-27 1933-12-31\n",
       "1262622               71 1993-09-09 1922-07-20\n",
       "1262623               75 1993-09-09 1918-02-05\n",
       "1262624               46 1993-01-28 1946-12-02\n",
       "\n",
       "[1262625 rows x 3 columns]"
      ]
     },
     "execution_count": 58,
     "metadata": {},
     "output_type": "execute_result"
    }
   ],
   "source": [
    "dfraw[['age_at_acc_open', 'accdte', 'birthday']]"
   ]
  },
  {
   "cell_type": "code",
   "execution_count": 59,
   "id": "93a8054a",
   "metadata": {
    "execution": {
     "iopub.execute_input": "2022-04-28T16:44:05.073462Z",
     "iopub.status.busy": "2022-04-28T16:44:05.073140Z",
     "iopub.status.idle": "2022-04-28T16:44:06.597331Z",
     "shell.execute_reply": "2022-04-28T16:44:06.596479Z"
    },
    "papermill": {
     "duration": 1.609895,
     "end_time": "2022-04-28T16:44:06.599879",
     "exception": false,
     "start_time": "2022-04-28T16:44:04.989984",
     "status": "completed"
    },
    "tags": []
   },
   "outputs": [
    {
     "data": {
      "text/plain": [
       "<AxesSubplot:xlabel='age_at_acc_open', ylabel='Count'>"
      ]
     },
     "execution_count": 59,
     "metadata": {},
     "output_type": "execute_result"
    },
    {
     "data": {
      "image/png": "[encoded data removed]",
      "text/plain": [
       "<Figure size 432x288 with 1 Axes>"
      ]
     },
     "metadata": {
      "needs_background": "light"
     },
     "output_type": "display_data"
    }
   ],
   "source": [
    "sns.histplot(dfraw['age_at_acc_open'])"
   ]
  },
  {
   "cell_type": "code",
   "execution_count": null,
   "id": "85b35f3a",
   "metadata": {
    "papermill": {
     "duration": 0.083236,
     "end_time": "2022-04-28T16:44:06.764214",
     "exception": false,
     "start_time": "2022-04-28T16:44:06.680978",
     "status": "completed"
    },
    "tags": []
   },
   "outputs": [],
   "source": []
  }
 ],
 "metadata": {
  "kernelspec": {
   "display_name": "Python 3",
   "language": "python",
   "name": "python3"
  },
  "language_info": {
   "codemirror_mode": {
    "name": "ipython",
    "version": 3
   },
   "file_extension": ".py",
   "mimetype": "text/x-python",
   "name": "python",
   "nbconvert_exporter": "python",
   "pygments_lexer": "ipython3",
   "version": "3.7.12"
  },
  "papermill": {
   "default_parameters": {},
   "duration": 73.422758,
   "end_time": "2022-04-28T16:44:08.372740",
   "environment_variables": {},
   "exception": null,
   "input_path": "__notebook__.ipynb",
   "output_path": "__notebook__.ipynb",
   "parameters": {},
   "start_time": "2022-04-28T16:42:54.949982",
   "version": "2.3.4"
  }
 },
 "nbformat": 4,
 "nbformat_minor": 5
}
