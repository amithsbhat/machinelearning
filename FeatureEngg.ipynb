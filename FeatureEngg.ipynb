{
 "cells": [
  {
   "cell_type": "code",
   "execution_count": 1,
   "id": "30caaae1",
   "metadata": {
    "execution": {
     "iopub.execute_input": "2022-04-26T04:01:38.883255Z",
     "iopub.status.busy": "2022-04-26T04:01:38.882888Z",
     "iopub.status.idle": "2022-04-26T04:01:41.546800Z",
     "shell.execute_reply": "2022-04-26T04:01:41.546052Z"
    },
    "papermill": {
     "duration": 2.723061,
     "end_time": "2022-04-26T04:01:41.549441",
     "exception": false,
     "start_time": "2022-04-26T04:01:38.826380",
     "status": "completed"
    },
    "tags": []
   },
   "outputs": [],
   "source": [
    "import pandas as pd\n",
    "dfaccount = pd.read_csv('https://query.data.world/s/eenobtmnk5ducuuwriagjx3zj6ee4z',  sep=';')"
   ]
  },
  {
   "cell_type": "code",
   "execution_count": 2,
   "id": "0cda2db3",
   "metadata": {
    "execution": {
     "iopub.execute_input": "2022-04-26T04:01:41.655608Z",
     "iopub.status.busy": "2022-04-26T04:01:41.655057Z",
     "iopub.status.idle": "2022-04-26T04:01:43.964953Z",
     "shell.execute_reply": "2022-04-26T04:01:43.963854Z"
    },
    "papermill": {
     "duration": 2.365216,
     "end_time": "2022-04-26T04:01:43.967619",
     "exception": false,
     "start_time": "2022-04-26T04:01:41.602403",
     "status": "completed"
    },
    "tags": []
   },
   "outputs": [],
   "source": [
    "dfclient = pd.read_csv('https://query.data.world/s/y52ecnrj755lglbpcq7ohwjzdhvtg7',  sep=';')"
   ]
  },
  {
   "cell_type": "code",
   "execution_count": 3,
   "id": "92564b11",
   "metadata": {
    "execution": {
     "iopub.execute_input": "2022-04-26T04:01:44.075373Z",
     "iopub.status.busy": "2022-04-26T04:01:44.074606Z",
     "iopub.status.idle": "2022-04-26T04:01:46.506177Z",
     "shell.execute_reply": "2022-04-26T04:01:46.505102Z"
    },
    "papermill": {
     "duration": 2.489038,
     "end_time": "2022-04-26T04:01:46.508779",
     "exception": false,
     "start_time": "2022-04-26T04:01:44.019741",
     "status": "completed"
    },
    "tags": []
   },
   "outputs": [],
   "source": [
    "dfdisp = pd.read_csv('https://query.data.world/s/udbqns7mfu77msmw4jh5bdemrbwdkq',  sep=';')"
   ]
  },
  {
   "cell_type": "code",
   "execution_count": 4,
   "id": "7b581ee3",
   "metadata": {
    "execution": {
     "iopub.execute_input": "2022-04-26T04:01:46.613311Z",
     "iopub.status.busy": "2022-04-26T04:01:46.612495Z",
     "iopub.status.idle": "2022-04-26T04:01:54.877860Z",
     "shell.execute_reply": "2022-04-26T04:01:54.877096Z"
    },
    "papermill": {
     "duration": 8.32133,
     "end_time": "2022-04-26T04:01:54.881501",
     "exception": false,
     "start_time": "2022-04-26T04:01:46.560171",
     "status": "completed"
    },
    "tags": []
   },
   "outputs": [
    {
     "name": "stderr",
     "output_type": "stream",
     "text": [
      "/opt/conda/lib/python3.7/site-packages/IPython/core/interactiveshell.py:3524: DtypeWarning: Columns (8) have mixed types.Specify dtype option on import or set low_memory=False.\n",
      "  exec(code_obj, self.user_global_ns, self.user_ns)\n"
     ]
    }
   ],
   "source": [
    "dftrans = pd.read_csv('https://query.data.world/s/ehw6znxqznfmrojmgyzobje55regbd',  sep=';')"
   ]
  },
  {
   "cell_type": "code",
   "execution_count": 5,
   "id": "abc7d4d4",
   "metadata": {
    "execution": {
     "iopub.execute_input": "2022-04-26T04:01:54.997662Z",
     "iopub.status.busy": "2022-04-26T04:01:54.996842Z",
     "iopub.status.idle": "2022-04-26T04:01:55.023480Z",
     "shell.execute_reply": "2022-04-26T04:01:55.022740Z"
    },
    "papermill": {
     "duration": 0.089406,
     "end_time": "2022-04-26T04:01:55.025679",
     "exception": false,
     "start_time": "2022-04-26T04:01:54.936273",
     "status": "completed"
    },
    "tags": []
   },
   "outputs": [
    {
     "data": {
      "text/html": [
       "<div>\n",
       "<style scoped>\n",
       "    .dataframe tbody tr th:only-of-type {\n",
       "        vertical-align: middle;\n",
       "    }\n",
       "\n",
       "    .dataframe tbody tr th {\n",
       "        vertical-align: top;\n",
       "    }\n",
       "\n",
       "    .dataframe thead th {\n",
       "        text-align: right;\n",
       "    }\n",
       "</style>\n",
       "<table border=\"1\" class=\"dataframe\">\n",
       "  <thead>\n",
       "    <tr style=\"text-align: right;\">\n",
       "      <th></th>\n",
       "      <th>account_id</th>\n",
       "      <th>district_id</th>\n",
       "      <th>frequency</th>\n",
       "      <th>date</th>\n",
       "    </tr>\n",
       "  </thead>\n",
       "  <tbody>\n",
       "    <tr>\n",
       "      <th>0</th>\n",
       "      <td>576</td>\n",
       "      <td>55</td>\n",
       "      <td>POPLATEK MESICNE</td>\n",
       "      <td>930101</td>\n",
       "    </tr>\n",
       "    <tr>\n",
       "      <th>1</th>\n",
       "      <td>3818</td>\n",
       "      <td>74</td>\n",
       "      <td>POPLATEK MESICNE</td>\n",
       "      <td>930101</td>\n",
       "    </tr>\n",
       "    <tr>\n",
       "      <th>2</th>\n",
       "      <td>704</td>\n",
       "      <td>55</td>\n",
       "      <td>POPLATEK MESICNE</td>\n",
       "      <td>930101</td>\n",
       "    </tr>\n",
       "    <tr>\n",
       "      <th>3</th>\n",
       "      <td>2378</td>\n",
       "      <td>16</td>\n",
       "      <td>POPLATEK MESICNE</td>\n",
       "      <td>930101</td>\n",
       "    </tr>\n",
       "    <tr>\n",
       "      <th>4</th>\n",
       "      <td>2632</td>\n",
       "      <td>24</td>\n",
       "      <td>POPLATEK MESICNE</td>\n",
       "      <td>930102</td>\n",
       "    </tr>\n",
       "  </tbody>\n",
       "</table>\n",
       "</div>"
      ],
      "text/plain": [
       "   account_id  district_id         frequency    date\n",
       "0         576           55  POPLATEK MESICNE  930101\n",
       "1        3818           74  POPLATEK MESICNE  930101\n",
       "2         704           55  POPLATEK MESICNE  930101\n",
       "3        2378           16  POPLATEK MESICNE  930101\n",
       "4        2632           24  POPLATEK MESICNE  930102"
      ]
     },
     "execution_count": 5,
     "metadata": {},
     "output_type": "execute_result"
    }
   ],
   "source": [
    "dfaccount.head()"
   ]
  },
  {
   "cell_type": "code",
   "execution_count": 6,
   "id": "a14e08e4",
   "metadata": {
    "execution": {
     "iopub.execute_input": "2022-04-26T04:01:55.131839Z",
     "iopub.status.busy": "2022-04-26T04:01:55.131521Z",
     "iopub.status.idle": "2022-04-26T04:01:55.137205Z",
     "shell.execute_reply": "2022-04-26T04:01:55.136257Z"
    },
    "papermill": {
     "duration": 0.061342,
     "end_time": "2022-04-26T04:01:55.139251",
     "exception": false,
     "start_time": "2022-04-26T04:01:55.077909",
     "status": "completed"
    },
    "tags": []
   },
   "outputs": [
    {
     "data": {
      "text/plain": [
       "4500"
      ]
     },
     "execution_count": 6,
     "metadata": {},
     "output_type": "execute_result"
    }
   ],
   "source": [
    "len(dfaccount)"
   ]
  },
  {
   "cell_type": "code",
   "execution_count": 7,
   "id": "e5282122",
   "metadata": {
    "execution": {
     "iopub.execute_input": "2022-04-26T04:01:55.245829Z",
     "iopub.status.busy": "2022-04-26T04:01:55.245513Z",
     "iopub.status.idle": "2022-04-26T04:01:55.257767Z",
     "shell.execute_reply": "2022-04-26T04:01:55.256634Z"
    },
    "papermill": {
     "duration": 0.06754,
     "end_time": "2022-04-26T04:01:55.260016",
     "exception": false,
     "start_time": "2022-04-26T04:01:55.192476",
     "status": "completed"
    },
    "tags": []
   },
   "outputs": [
    {
     "data": {
      "text/html": [
       "<div>\n",
       "<style scoped>\n",
       "    .dataframe tbody tr th:only-of-type {\n",
       "        vertical-align: middle;\n",
       "    }\n",
       "\n",
       "    .dataframe tbody tr th {\n",
       "        vertical-align: top;\n",
       "    }\n",
       "\n",
       "    .dataframe thead th {\n",
       "        text-align: right;\n",
       "    }\n",
       "</style>\n",
       "<table border=\"1\" class=\"dataframe\">\n",
       "  <thead>\n",
       "    <tr style=\"text-align: right;\">\n",
       "      <th></th>\n",
       "      <th>client_id</th>\n",
       "      <th>birth_number</th>\n",
       "      <th>district_id</th>\n",
       "    </tr>\n",
       "  </thead>\n",
       "  <tbody>\n",
       "    <tr>\n",
       "      <th>0</th>\n",
       "      <td>1</td>\n",
       "      <td>706213</td>\n",
       "      <td>18</td>\n",
       "    </tr>\n",
       "    <tr>\n",
       "      <th>1</th>\n",
       "      <td>2</td>\n",
       "      <td>450204</td>\n",
       "      <td>1</td>\n",
       "    </tr>\n",
       "    <tr>\n",
       "      <th>2</th>\n",
       "      <td>3</td>\n",
       "      <td>406009</td>\n",
       "      <td>1</td>\n",
       "    </tr>\n",
       "    <tr>\n",
       "      <th>3</th>\n",
       "      <td>4</td>\n",
       "      <td>561201</td>\n",
       "      <td>5</td>\n",
       "    </tr>\n",
       "    <tr>\n",
       "      <th>4</th>\n",
       "      <td>5</td>\n",
       "      <td>605703</td>\n",
       "      <td>5</td>\n",
       "    </tr>\n",
       "    <tr>\n",
       "      <th>...</th>\n",
       "      <td>...</td>\n",
       "      <td>...</td>\n",
       "      <td>...</td>\n",
       "    </tr>\n",
       "    <tr>\n",
       "      <th>5364</th>\n",
       "      <td>13955</td>\n",
       "      <td>456030</td>\n",
       "      <td>1</td>\n",
       "    </tr>\n",
       "    <tr>\n",
       "      <th>5365</th>\n",
       "      <td>13956</td>\n",
       "      <td>430406</td>\n",
       "      <td>1</td>\n",
       "    </tr>\n",
       "    <tr>\n",
       "      <th>5366</th>\n",
       "      <td>13968</td>\n",
       "      <td>680413</td>\n",
       "      <td>61</td>\n",
       "    </tr>\n",
       "    <tr>\n",
       "      <th>5367</th>\n",
       "      <td>13971</td>\n",
       "      <td>626019</td>\n",
       "      <td>67</td>\n",
       "    </tr>\n",
       "    <tr>\n",
       "      <th>5368</th>\n",
       "      <td>13998</td>\n",
       "      <td>535812</td>\n",
       "      <td>74</td>\n",
       "    </tr>\n",
       "  </tbody>\n",
       "</table>\n",
       "<p>5369 rows × 3 columns</p>\n",
       "</div>"
      ],
      "text/plain": [
       "      client_id  birth_number  district_id\n",
       "0             1        706213           18\n",
       "1             2        450204            1\n",
       "2             3        406009            1\n",
       "3             4        561201            5\n",
       "4             5        605703            5\n",
       "...         ...           ...          ...\n",
       "5364      13955        456030            1\n",
       "5365      13956        430406            1\n",
       "5366      13968        680413           61\n",
       "5367      13971        626019           67\n",
       "5368      13998        535812           74\n",
       "\n",
       "[5369 rows x 3 columns]"
      ]
     },
     "execution_count": 7,
     "metadata": {},
     "output_type": "execute_result"
    }
   ],
   "source": [
    "dfclient"
   ]
  },
  {
   "cell_type": "code",
   "execution_count": 8,
   "id": "498c59a1",
   "metadata": {
    "execution": {
     "iopub.execute_input": "2022-04-26T04:01:55.367139Z",
     "iopub.status.busy": "2022-04-26T04:01:55.366294Z",
     "iopub.status.idle": "2022-04-26T04:01:55.378341Z",
     "shell.execute_reply": "2022-04-26T04:01:55.377653Z"
    },
    "papermill": {
     "duration": 0.067347,
     "end_time": "2022-04-26T04:01:55.380337",
     "exception": false,
     "start_time": "2022-04-26T04:01:55.312990",
     "status": "completed"
    },
    "tags": []
   },
   "outputs": [
    {
     "data": {
      "text/html": [
       "<div>\n",
       "<style scoped>\n",
       "    .dataframe tbody tr th:only-of-type {\n",
       "        vertical-align: middle;\n",
       "    }\n",
       "\n",
       "    .dataframe tbody tr th {\n",
       "        vertical-align: top;\n",
       "    }\n",
       "\n",
       "    .dataframe thead th {\n",
       "        text-align: right;\n",
       "    }\n",
       "</style>\n",
       "<table border=\"1\" class=\"dataframe\">\n",
       "  <thead>\n",
       "    <tr style=\"text-align: right;\">\n",
       "      <th></th>\n",
       "      <th>disp_id</th>\n",
       "      <th>client_id</th>\n",
       "      <th>account_id</th>\n",
       "      <th>type</th>\n",
       "    </tr>\n",
       "  </thead>\n",
       "  <tbody>\n",
       "    <tr>\n",
       "      <th>0</th>\n",
       "      <td>1</td>\n",
       "      <td>1</td>\n",
       "      <td>1</td>\n",
       "      <td>OWNER</td>\n",
       "    </tr>\n",
       "    <tr>\n",
       "      <th>1</th>\n",
       "      <td>2</td>\n",
       "      <td>2</td>\n",
       "      <td>2</td>\n",
       "      <td>OWNER</td>\n",
       "    </tr>\n",
       "    <tr>\n",
       "      <th>2</th>\n",
       "      <td>3</td>\n",
       "      <td>3</td>\n",
       "      <td>2</td>\n",
       "      <td>DISPONENT</td>\n",
       "    </tr>\n",
       "    <tr>\n",
       "      <th>3</th>\n",
       "      <td>4</td>\n",
       "      <td>4</td>\n",
       "      <td>3</td>\n",
       "      <td>OWNER</td>\n",
       "    </tr>\n",
       "    <tr>\n",
       "      <th>4</th>\n",
       "      <td>5</td>\n",
       "      <td>5</td>\n",
       "      <td>3</td>\n",
       "      <td>DISPONENT</td>\n",
       "    </tr>\n",
       "    <tr>\n",
       "      <th>...</th>\n",
       "      <td>...</td>\n",
       "      <td>...</td>\n",
       "      <td>...</td>\n",
       "      <td>...</td>\n",
       "    </tr>\n",
       "    <tr>\n",
       "      <th>5364</th>\n",
       "      <td>13647</td>\n",
       "      <td>13955</td>\n",
       "      <td>11349</td>\n",
       "      <td>OWNER</td>\n",
       "    </tr>\n",
       "    <tr>\n",
       "      <th>5365</th>\n",
       "      <td>13648</td>\n",
       "      <td>13956</td>\n",
       "      <td>11349</td>\n",
       "      <td>DISPONENT</td>\n",
       "    </tr>\n",
       "    <tr>\n",
       "      <th>5366</th>\n",
       "      <td>13660</td>\n",
       "      <td>13968</td>\n",
       "      <td>11359</td>\n",
       "      <td>OWNER</td>\n",
       "    </tr>\n",
       "    <tr>\n",
       "      <th>5367</th>\n",
       "      <td>13663</td>\n",
       "      <td>13971</td>\n",
       "      <td>11362</td>\n",
       "      <td>OWNER</td>\n",
       "    </tr>\n",
       "    <tr>\n",
       "      <th>5368</th>\n",
       "      <td>13690</td>\n",
       "      <td>13998</td>\n",
       "      <td>11382</td>\n",
       "      <td>OWNER</td>\n",
       "    </tr>\n",
       "  </tbody>\n",
       "</table>\n",
       "<p>5369 rows × 4 columns</p>\n",
       "</div>"
      ],
      "text/plain": [
       "      disp_id  client_id  account_id       type\n",
       "0           1          1           1      OWNER\n",
       "1           2          2           2      OWNER\n",
       "2           3          3           2  DISPONENT\n",
       "3           4          4           3      OWNER\n",
       "4           5          5           3  DISPONENT\n",
       "...       ...        ...         ...        ...\n",
       "5364    13647      13955       11349      OWNER\n",
       "5365    13648      13956       11349  DISPONENT\n",
       "5366    13660      13968       11359      OWNER\n",
       "5367    13663      13971       11362      OWNER\n",
       "5368    13690      13998       11382      OWNER\n",
       "\n",
       "[5369 rows x 4 columns]"
      ]
     },
     "execution_count": 8,
     "metadata": {},
     "output_type": "execute_result"
    }
   ],
   "source": [
    "dfdisp"
   ]
  },
  {
   "cell_type": "code",
   "execution_count": 9,
   "id": "8e59b5c0",
   "metadata": {
    "execution": {
     "iopub.execute_input": "2022-04-26T04:01:55.493175Z",
     "iopub.status.busy": "2022-04-26T04:01:55.492390Z",
     "iopub.status.idle": "2022-04-26T04:01:55.517775Z",
     "shell.execute_reply": "2022-04-26T04:01:55.517109Z"
    },
    "papermill": {
     "duration": 0.085755,
     "end_time": "2022-04-26T04:01:55.519835",
     "exception": false,
     "start_time": "2022-04-26T04:01:55.434080",
     "status": "completed"
    },
    "tags": []
   },
   "outputs": [
    {
     "data": {
      "text/html": [
       "<div>\n",
       "<style scoped>\n",
       "    .dataframe tbody tr th:only-of-type {\n",
       "        vertical-align: middle;\n",
       "    }\n",
       "\n",
       "    .dataframe tbody tr th {\n",
       "        vertical-align: top;\n",
       "    }\n",
       "\n",
       "    .dataframe thead th {\n",
       "        text-align: right;\n",
       "    }\n",
       "</style>\n",
       "<table border=\"1\" class=\"dataframe\">\n",
       "  <thead>\n",
       "    <tr style=\"text-align: right;\">\n",
       "      <th></th>\n",
       "      <th>trans_id</th>\n",
       "      <th>account_id</th>\n",
       "      <th>date</th>\n",
       "      <th>type</th>\n",
       "      <th>operation</th>\n",
       "      <th>amount</th>\n",
       "      <th>balance</th>\n",
       "      <th>k_symbol</th>\n",
       "      <th>bank</th>\n",
       "      <th>account</th>\n",
       "    </tr>\n",
       "  </thead>\n",
       "  <tbody>\n",
       "    <tr>\n",
       "      <th>0</th>\n",
       "      <td>695247</td>\n",
       "      <td>2378</td>\n",
       "      <td>930101</td>\n",
       "      <td>PRIJEM</td>\n",
       "      <td>VKLAD</td>\n",
       "      <td>700.0</td>\n",
       "      <td>700.0</td>\n",
       "      <td>NaN</td>\n",
       "      <td>NaN</td>\n",
       "      <td>NaN</td>\n",
       "    </tr>\n",
       "    <tr>\n",
       "      <th>1</th>\n",
       "      <td>171812</td>\n",
       "      <td>576</td>\n",
       "      <td>930101</td>\n",
       "      <td>PRIJEM</td>\n",
       "      <td>VKLAD</td>\n",
       "      <td>900.0</td>\n",
       "      <td>900.0</td>\n",
       "      <td>NaN</td>\n",
       "      <td>NaN</td>\n",
       "      <td>NaN</td>\n",
       "    </tr>\n",
       "    <tr>\n",
       "      <th>2</th>\n",
       "      <td>207264</td>\n",
       "      <td>704</td>\n",
       "      <td>930101</td>\n",
       "      <td>PRIJEM</td>\n",
       "      <td>VKLAD</td>\n",
       "      <td>1000.0</td>\n",
       "      <td>1000.0</td>\n",
       "      <td>NaN</td>\n",
       "      <td>NaN</td>\n",
       "      <td>NaN</td>\n",
       "    </tr>\n",
       "    <tr>\n",
       "      <th>3</th>\n",
       "      <td>1117247</td>\n",
       "      <td>3818</td>\n",
       "      <td>930101</td>\n",
       "      <td>PRIJEM</td>\n",
       "      <td>VKLAD</td>\n",
       "      <td>600.0</td>\n",
       "      <td>600.0</td>\n",
       "      <td>NaN</td>\n",
       "      <td>NaN</td>\n",
       "      <td>NaN</td>\n",
       "    </tr>\n",
       "    <tr>\n",
       "      <th>4</th>\n",
       "      <td>579373</td>\n",
       "      <td>1972</td>\n",
       "      <td>930102</td>\n",
       "      <td>PRIJEM</td>\n",
       "      <td>VKLAD</td>\n",
       "      <td>400.0</td>\n",
       "      <td>400.0</td>\n",
       "      <td>NaN</td>\n",
       "      <td>NaN</td>\n",
       "      <td>NaN</td>\n",
       "    </tr>\n",
       "    <tr>\n",
       "      <th>...</th>\n",
       "      <td>...</td>\n",
       "      <td>...</td>\n",
       "      <td>...</td>\n",
       "      <td>...</td>\n",
       "      <td>...</td>\n",
       "      <td>...</td>\n",
       "      <td>...</td>\n",
       "      <td>...</td>\n",
       "      <td>...</td>\n",
       "      <td>...</td>\n",
       "    </tr>\n",
       "    <tr>\n",
       "      <th>1056315</th>\n",
       "      <td>3626622</td>\n",
       "      <td>2906</td>\n",
       "      <td>981231</td>\n",
       "      <td>PRIJEM</td>\n",
       "      <td>NaN</td>\n",
       "      <td>62.3</td>\n",
       "      <td>13729.4</td>\n",
       "      <td>UROK</td>\n",
       "      <td>NaN</td>\n",
       "      <td>NaN</td>\n",
       "    </tr>\n",
       "    <tr>\n",
       "      <th>1056316</th>\n",
       "      <td>3627616</td>\n",
       "      <td>2935</td>\n",
       "      <td>981231</td>\n",
       "      <td>PRIJEM</td>\n",
       "      <td>NaN</td>\n",
       "      <td>81.3</td>\n",
       "      <td>19544.9</td>\n",
       "      <td>UROK</td>\n",
       "      <td>NaN</td>\n",
       "      <td>NaN</td>\n",
       "    </tr>\n",
       "    <tr>\n",
       "      <th>1056317</th>\n",
       "      <td>3625403</td>\n",
       "      <td>2869</td>\n",
       "      <td>981231</td>\n",
       "      <td>PRIJEM</td>\n",
       "      <td>NaN</td>\n",
       "      <td>60.2</td>\n",
       "      <td>14638.2</td>\n",
       "      <td>UROK</td>\n",
       "      <td>NaN</td>\n",
       "      <td>NaN</td>\n",
       "    </tr>\n",
       "    <tr>\n",
       "      <th>1056318</th>\n",
       "      <td>3626683</td>\n",
       "      <td>2907</td>\n",
       "      <td>981231</td>\n",
       "      <td>PRIJEM</td>\n",
       "      <td>NaN</td>\n",
       "      <td>107.5</td>\n",
       "      <td>23453.0</td>\n",
       "      <td>UROK</td>\n",
       "      <td>NaN</td>\n",
       "      <td>NaN</td>\n",
       "    </tr>\n",
       "    <tr>\n",
       "      <th>1056319</th>\n",
       "      <td>3626540</td>\n",
       "      <td>2902</td>\n",
       "      <td>981231</td>\n",
       "      <td>PRIJEM</td>\n",
       "      <td>NaN</td>\n",
       "      <td>164.1</td>\n",
       "      <td>41642.9</td>\n",
       "      <td>UROK</td>\n",
       "      <td>NaN</td>\n",
       "      <td>NaN</td>\n",
       "    </tr>\n",
       "  </tbody>\n",
       "</table>\n",
       "<p>1056320 rows × 10 columns</p>\n",
       "</div>"
      ],
      "text/plain": [
       "         trans_id  account_id    date    type operation  amount  balance  \\\n",
       "0          695247        2378  930101  PRIJEM     VKLAD   700.0    700.0   \n",
       "1          171812         576  930101  PRIJEM     VKLAD   900.0    900.0   \n",
       "2          207264         704  930101  PRIJEM     VKLAD  1000.0   1000.0   \n",
       "3         1117247        3818  930101  PRIJEM     VKLAD   600.0    600.0   \n",
       "4          579373        1972  930102  PRIJEM     VKLAD   400.0    400.0   \n",
       "...           ...         ...     ...     ...       ...     ...      ...   \n",
       "1056315   3626622        2906  981231  PRIJEM       NaN    62.3  13729.4   \n",
       "1056316   3627616        2935  981231  PRIJEM       NaN    81.3  19544.9   \n",
       "1056317   3625403        2869  981231  PRIJEM       NaN    60.2  14638.2   \n",
       "1056318   3626683        2907  981231  PRIJEM       NaN   107.5  23453.0   \n",
       "1056319   3626540        2902  981231  PRIJEM       NaN   164.1  41642.9   \n",
       "\n",
       "        k_symbol bank  account  \n",
       "0            NaN  NaN      NaN  \n",
       "1            NaN  NaN      NaN  \n",
       "2            NaN  NaN      NaN  \n",
       "3            NaN  NaN      NaN  \n",
       "4            NaN  NaN      NaN  \n",
       "...          ...  ...      ...  \n",
       "1056315     UROK  NaN      NaN  \n",
       "1056316     UROK  NaN      NaN  \n",
       "1056317     UROK  NaN      NaN  \n",
       "1056318     UROK  NaN      NaN  \n",
       "1056319     UROK  NaN      NaN  \n",
       "\n",
       "[1056320 rows x 10 columns]"
      ]
     },
     "execution_count": 9,
     "metadata": {},
     "output_type": "execute_result"
    }
   ],
   "source": [
    "dftrans"
   ]
  },
  {
   "cell_type": "code",
   "execution_count": 10,
   "id": "02cce42a",
   "metadata": {
    "execution": {
     "iopub.execute_input": "2022-04-26T04:01:55.632393Z",
     "iopub.status.busy": "2022-04-26T04:01:55.631863Z",
     "iopub.status.idle": "2022-04-26T04:01:56.215009Z",
     "shell.execute_reply": "2022-04-26T04:01:56.213859Z"
    },
    "papermill": {
     "duration": 0.64344,
     "end_time": "2022-04-26T04:01:56.217767",
     "exception": false,
     "start_time": "2022-04-26T04:01:55.574327",
     "status": "completed"
    },
    "tags": []
   },
   "outputs": [],
   "source": [
    "df_trans_disp = dftrans.merge(dfdisp, left_on='account_id', right_on='account_id', how='left', suffixes=['_trans','_disp'])"
   ]
  },
  {
   "cell_type": "code",
   "execution_count": 11,
   "id": "3c6c16a1",
   "metadata": {
    "execution": {
     "iopub.execute_input": "2022-04-26T04:01:56.329363Z",
     "iopub.status.busy": "2022-04-26T04:01:56.329039Z",
     "iopub.status.idle": "2022-04-26T04:01:56.348035Z",
     "shell.execute_reply": "2022-04-26T04:01:56.346790Z"
    },
    "papermill": {
     "duration": 0.076494,
     "end_time": "2022-04-26T04:01:56.350367",
     "exception": false,
     "start_time": "2022-04-26T04:01:56.273873",
     "status": "completed"
    },
    "tags": []
   },
   "outputs": [
    {
     "data": {
      "text/html": [
       "<div>\n",
       "<style scoped>\n",
       "    .dataframe tbody tr th:only-of-type {\n",
       "        vertical-align: middle;\n",
       "    }\n",
       "\n",
       "    .dataframe tbody tr th {\n",
       "        vertical-align: top;\n",
       "    }\n",
       "\n",
       "    .dataframe thead th {\n",
       "        text-align: right;\n",
       "    }\n",
       "</style>\n",
       "<table border=\"1\" class=\"dataframe\">\n",
       "  <thead>\n",
       "    <tr style=\"text-align: right;\">\n",
       "      <th></th>\n",
       "      <th>trans_id</th>\n",
       "      <th>account_id</th>\n",
       "      <th>date</th>\n",
       "      <th>type_trans</th>\n",
       "      <th>operation</th>\n",
       "      <th>amount</th>\n",
       "      <th>balance</th>\n",
       "      <th>k_symbol</th>\n",
       "      <th>bank</th>\n",
       "      <th>account</th>\n",
       "      <th>disp_id</th>\n",
       "      <th>client_id</th>\n",
       "      <th>type_disp</th>\n",
       "    </tr>\n",
       "  </thead>\n",
       "  <tbody>\n",
       "    <tr>\n",
       "      <th>0</th>\n",
       "      <td>695247</td>\n",
       "      <td>2378</td>\n",
       "      <td>930101</td>\n",
       "      <td>PRIJEM</td>\n",
       "      <td>VKLAD</td>\n",
       "      <td>700.0</td>\n",
       "      <td>700.0</td>\n",
       "      <td>NaN</td>\n",
       "      <td>NaN</td>\n",
       "      <td>NaN</td>\n",
       "      <td>2873</td>\n",
       "      <td>2873</td>\n",
       "      <td>OWNER</td>\n",
       "    </tr>\n",
       "    <tr>\n",
       "      <th>1</th>\n",
       "      <td>171812</td>\n",
       "      <td>576</td>\n",
       "      <td>930101</td>\n",
       "      <td>PRIJEM</td>\n",
       "      <td>VKLAD</td>\n",
       "      <td>900.0</td>\n",
       "      <td>900.0</td>\n",
       "      <td>NaN</td>\n",
       "      <td>NaN</td>\n",
       "      <td>NaN</td>\n",
       "      <td>692</td>\n",
       "      <td>692</td>\n",
       "      <td>OWNER</td>\n",
       "    </tr>\n",
       "    <tr>\n",
       "      <th>2</th>\n",
       "      <td>171812</td>\n",
       "      <td>576</td>\n",
       "      <td>930101</td>\n",
       "      <td>PRIJEM</td>\n",
       "      <td>VKLAD</td>\n",
       "      <td>900.0</td>\n",
       "      <td>900.0</td>\n",
       "      <td>NaN</td>\n",
       "      <td>NaN</td>\n",
       "      <td>NaN</td>\n",
       "      <td>693</td>\n",
       "      <td>693</td>\n",
       "      <td>DISPONENT</td>\n",
       "    </tr>\n",
       "    <tr>\n",
       "      <th>3</th>\n",
       "      <td>207264</td>\n",
       "      <td>704</td>\n",
       "      <td>930101</td>\n",
       "      <td>PRIJEM</td>\n",
       "      <td>VKLAD</td>\n",
       "      <td>1000.0</td>\n",
       "      <td>1000.0</td>\n",
       "      <td>NaN</td>\n",
       "      <td>NaN</td>\n",
       "      <td>NaN</td>\n",
       "      <td>844</td>\n",
       "      <td>844</td>\n",
       "      <td>OWNER</td>\n",
       "    </tr>\n",
       "    <tr>\n",
       "      <th>4</th>\n",
       "      <td>207264</td>\n",
       "      <td>704</td>\n",
       "      <td>930101</td>\n",
       "      <td>PRIJEM</td>\n",
       "      <td>VKLAD</td>\n",
       "      <td>1000.0</td>\n",
       "      <td>1000.0</td>\n",
       "      <td>NaN</td>\n",
       "      <td>NaN</td>\n",
       "      <td>NaN</td>\n",
       "      <td>845</td>\n",
       "      <td>845</td>\n",
       "      <td>DISPONENT</td>\n",
       "    </tr>\n",
       "  </tbody>\n",
       "</table>\n",
       "</div>"
      ],
      "text/plain": [
       "   trans_id  account_id    date type_trans operation  amount  balance  \\\n",
       "0    695247        2378  930101     PRIJEM     VKLAD   700.0    700.0   \n",
       "1    171812         576  930101     PRIJEM     VKLAD   900.0    900.0   \n",
       "2    171812         576  930101     PRIJEM     VKLAD   900.0    900.0   \n",
       "3    207264         704  930101     PRIJEM     VKLAD  1000.0   1000.0   \n",
       "4    207264         704  930101     PRIJEM     VKLAD  1000.0   1000.0   \n",
       "\n",
       "  k_symbol bank  account  disp_id  client_id  type_disp  \n",
       "0      NaN  NaN      NaN     2873       2873      OWNER  \n",
       "1      NaN  NaN      NaN      692        692      OWNER  \n",
       "2      NaN  NaN      NaN      693        693  DISPONENT  \n",
       "3      NaN  NaN      NaN      844        844      OWNER  \n",
       "4      NaN  NaN      NaN      845        845  DISPONENT  "
      ]
     },
     "execution_count": 11,
     "metadata": {},
     "output_type": "execute_result"
    }
   ],
   "source": [
    "df_trans_disp.head()"
   ]
  },
  {
   "cell_type": "code",
   "execution_count": 12,
   "id": "5b84afb8",
   "metadata": {
    "execution": {
     "iopub.execute_input": "2022-04-26T04:01:56.462440Z",
     "iopub.status.busy": "2022-04-26T04:01:56.461382Z",
     "iopub.status.idle": "2022-04-26T04:01:56.468064Z",
     "shell.execute_reply": "2022-04-26T04:01:56.467082Z"
    },
    "papermill": {
     "duration": 0.065254,
     "end_time": "2022-04-26T04:01:56.470396",
     "exception": false,
     "start_time": "2022-04-26T04:01:56.405142",
     "status": "completed"
    },
    "tags": []
   },
   "outputs": [
    {
     "data": {
      "text/plain": [
       "1262625"
      ]
     },
     "execution_count": 12,
     "metadata": {},
     "output_type": "execute_result"
    }
   ],
   "source": [
    "len(df_trans_disp)"
   ]
  },
  {
   "cell_type": "code",
   "execution_count": 13,
   "id": "538bfa1f",
   "metadata": {
    "execution": {
     "iopub.execute_input": "2022-04-26T04:01:56.584000Z",
     "iopub.status.busy": "2022-04-26T04:01:56.583697Z",
     "iopub.status.idle": "2022-04-26T04:01:56.588990Z",
     "shell.execute_reply": "2022-04-26T04:01:56.587818Z"
    },
    "papermill": {
     "duration": 0.065343,
     "end_time": "2022-04-26T04:01:56.591298",
     "exception": false,
     "start_time": "2022-04-26T04:01:56.525955",
     "status": "completed"
    },
    "tags": []
   },
   "outputs": [],
   "source": [
    "def checkDuplicated(df, dfname):\n",
    "    print(dfname)\n",
    "    if df.duplicated().sum() > 0:\n",
    "        print(\"### Is duplicated {} ###\".format(dfname))\n",
    "        \n",
    "        "
   ]
  },
  {
   "cell_type": "code",
   "execution_count": 14,
   "id": "0fd39ad6",
   "metadata": {
    "execution": {
     "iopub.execute_input": "2022-04-26T04:01:56.703995Z",
     "iopub.status.busy": "2022-04-26T04:01:56.703684Z",
     "iopub.status.idle": "2022-04-26T04:01:59.117228Z",
     "shell.execute_reply": "2022-04-26T04:01:59.115941Z"
    },
    "papermill": {
     "duration": 2.473481,
     "end_time": "2022-04-26T04:01:59.120284",
     "exception": false,
     "start_time": "2022-04-26T04:01:56.646803",
     "status": "completed"
    },
    "tags": []
   },
   "outputs": [
    {
     "name": "stdout",
     "output_type": "stream",
     "text": [
      "dftrans\n",
      "dfaccount\n",
      "dfdisp\n",
      "dfclient\n",
      "df_trans_disp\n"
     ]
    }
   ],
   "source": [
    "for each, name in ((dftrans,'dftrans'),( dfaccount, 'dfaccount'), (dfdisp, 'dfdisp'),(dfclient, 'dfclient'), (df_trans_disp, 'df_trans_disp')):\n",
    "    checkDuplicated(each, name)"
   ]
  },
  {
   "cell_type": "code",
   "execution_count": 15,
   "id": "153d9b16",
   "metadata": {
    "execution": {
     "iopub.execute_input": "2022-04-26T04:01:59.235357Z",
     "iopub.status.busy": "2022-04-26T04:01:59.234519Z",
     "iopub.status.idle": "2022-04-26T04:01:59.606735Z",
     "shell.execute_reply": "2022-04-26T04:01:59.605748Z"
    },
    "papermill": {
     "duration": 0.431819,
     "end_time": "2022-04-26T04:01:59.609366",
     "exception": false,
     "start_time": "2022-04-26T04:01:59.177547",
     "status": "completed"
    },
    "tags": []
   },
   "outputs": [],
   "source": [
    "df_trans_account = dftrans.merge(dfaccount, left_on='account_id', right_on='account_id', how='left', suffixes=['_trans','_acc'])"
   ]
  },
  {
   "cell_type": "code",
   "execution_count": 16,
   "id": "4ed64fbc",
   "metadata": {
    "execution": {
     "iopub.execute_input": "2022-04-26T04:01:59.722566Z",
     "iopub.status.busy": "2022-04-26T04:01:59.721967Z",
     "iopub.status.idle": "2022-04-26T04:02:00.148611Z",
     "shell.execute_reply": "2022-04-26T04:02:00.147560Z"
    },
    "papermill": {
     "duration": 0.485825,
     "end_time": "2022-04-26T04:02:00.151116",
     "exception": false,
     "start_time": "2022-04-26T04:01:59.665291",
     "status": "completed"
    },
    "tags": []
   },
   "outputs": [],
   "source": [
    "df_trans_account_disp = df_trans_account.merge(dfdisp, left_on='account_id', right_on='account_id', how='left', suffixes=['_trans','_disp'])"
   ]
  },
  {
   "cell_type": "code",
   "execution_count": 17,
   "id": "4ef002ac",
   "metadata": {
    "execution": {
     "iopub.execute_input": "2022-04-26T04:02:00.265925Z",
     "iopub.status.busy": "2022-04-26T04:02:00.264997Z",
     "iopub.status.idle": "2022-04-26T04:02:00.270705Z",
     "shell.execute_reply": "2022-04-26T04:02:00.269814Z"
    },
    "papermill": {
     "duration": 0.064886,
     "end_time": "2022-04-26T04:02:00.272901",
     "exception": false,
     "start_time": "2022-04-26T04:02:00.208015",
     "status": "completed"
    },
    "tags": []
   },
   "outputs": [
    {
     "data": {
      "text/plain": [
       "1262625"
      ]
     },
     "execution_count": 17,
     "metadata": {},
     "output_type": "execute_result"
    }
   ],
   "source": [
    "len(df_trans_account_disp)"
   ]
  },
  {
   "cell_type": "code",
   "execution_count": 18,
   "id": "c07c9795",
   "metadata": {
    "execution": {
     "iopub.execute_input": "2022-04-26T04:02:00.388882Z",
     "iopub.status.busy": "2022-04-26T04:02:00.388299Z",
     "iopub.status.idle": "2022-04-26T04:02:00.743061Z",
     "shell.execute_reply": "2022-04-26T04:02:00.742343Z"
    },
    "papermill": {
     "duration": 0.416062,
     "end_time": "2022-04-26T04:02:00.745352",
     "exception": false,
     "start_time": "2022-04-26T04:02:00.329290",
     "status": "completed"
    },
    "tags": []
   },
   "outputs": [],
   "source": [
    "df_trans_account_disp_client = df_trans_account_disp.merge(dfclient, left_on='client_id', right_on='client_id', how='left', suffixes=['_trans','_client'])"
   ]
  },
  {
   "cell_type": "code",
   "execution_count": 19,
   "id": "b413ddc2",
   "metadata": {
    "execution": {
     "iopub.execute_input": "2022-04-26T04:02:00.860460Z",
     "iopub.status.busy": "2022-04-26T04:02:00.859783Z",
     "iopub.status.idle": "2022-04-26T04:02:00.865174Z",
     "shell.execute_reply": "2022-04-26T04:02:00.864184Z"
    },
    "papermill": {
     "duration": 0.065223,
     "end_time": "2022-04-26T04:02:00.867303",
     "exception": false,
     "start_time": "2022-04-26T04:02:00.802080",
     "status": "completed"
    },
    "tags": []
   },
   "outputs": [
    {
     "data": {
      "text/plain": [
       "1262625"
      ]
     },
     "execution_count": 19,
     "metadata": {},
     "output_type": "execute_result"
    }
   ],
   "source": [
    "len(df_trans_account_disp_client)"
   ]
  },
  {
   "cell_type": "code",
   "execution_count": 20,
   "id": "74000363",
   "metadata": {
    "execution": {
     "iopub.execute_input": "2022-04-26T04:02:00.985759Z",
     "iopub.status.busy": "2022-04-26T04:02:00.985169Z",
     "iopub.status.idle": "2022-04-26T04:02:00.989238Z",
     "shell.execute_reply": "2022-04-26T04:02:00.988388Z"
    },
    "papermill": {
     "duration": 0.065295,
     "end_time": "2022-04-26T04:02:00.991212",
     "exception": false,
     "start_time": "2022-04-26T04:02:00.925917",
     "status": "completed"
    },
    "tags": []
   },
   "outputs": [],
   "source": [
    "dfraw = df_trans_account_disp_client"
   ]
  },
  {
   "cell_type": "code",
   "execution_count": 21,
   "id": "d26f3ecf",
   "metadata": {
    "execution": {
     "iopub.execute_input": "2022-04-26T04:02:01.105271Z",
     "iopub.status.busy": "2022-04-26T04:02:01.104975Z",
     "iopub.status.idle": "2022-04-26T04:02:01.840083Z",
     "shell.execute_reply": "2022-04-26T04:02:01.838920Z"
    },
    "papermill": {
     "duration": 0.794789,
     "end_time": "2022-04-26T04:02:01.842443",
     "exception": false,
     "start_time": "2022-04-26T04:02:01.047654",
     "status": "completed"
    },
    "tags": []
   },
   "outputs": [
    {
     "data": {
      "text/plain": [
       "trans_id              0.000000\n",
       "account_id            0.000000\n",
       "date_trans            0.000000\n",
       "type_trans            0.000000\n",
       "operation             0.172902\n",
       "amount                0.000000\n",
       "balance               0.000000\n",
       "k_symbol              0.451296\n",
       "bank                  0.733849\n",
       "account               0.713619\n",
       "district_id_trans     0.000000\n",
       "frequency             0.000000\n",
       "date_acc              0.000000\n",
       "disp_id               0.000000\n",
       "client_id             0.000000\n",
       "type_disp             0.000000\n",
       "birth_number          0.000000\n",
       "district_id_client    0.000000\n",
       "dtype: float64"
      ]
     },
     "execution_count": 21,
     "metadata": {},
     "output_type": "execute_result"
    }
   ],
   "source": [
    "dfraw.isnull().sum()/len(dfraw)"
   ]
  },
  {
   "cell_type": "code",
   "execution_count": 22,
   "id": "d6da8679",
   "metadata": {
    "execution": {
     "iopub.execute_input": "2022-04-26T04:02:01.963308Z",
     "iopub.status.busy": "2022-04-26T04:02:01.962968Z",
     "iopub.status.idle": "2022-04-26T04:02:02.707147Z",
     "shell.execute_reply": "2022-04-26T04:02:02.706192Z"
    },
    "papermill": {
     "duration": 0.808032,
     "end_time": "2022-04-26T04:02:02.709639",
     "exception": false,
     "start_time": "2022-04-26T04:02:01.901607",
     "status": "completed"
    },
    "tags": []
   },
   "outputs": [
    {
     "name": "stdout",
     "output_type": "stream",
     "text": [
      "<class 'pandas.core.frame.DataFrame'>\n",
      "Int64Index: 1262625 entries, 0 to 1262624\n",
      "Data columns (total 18 columns):\n",
      " #   Column              Non-Null Count    Dtype  \n",
      "---  ------              --------------    -----  \n",
      " 0   trans_id            1262625 non-null  int64  \n",
      " 1   account_id          1262625 non-null  int64  \n",
      " 2   date_trans          1262625 non-null  int64  \n",
      " 3   type_trans          1262625 non-null  object \n",
      " 4   operation           1044314 non-null  object \n",
      " 5   amount              1262625 non-null  float64\n",
      " 6   balance             1262625 non-null  float64\n",
      " 7   k_symbol            692808 non-null   object \n",
      " 8   bank                336049 non-null   object \n",
      " 9   account             361592 non-null   float64\n",
      " 10  district_id_trans   1262625 non-null  int64  \n",
      " 11  frequency           1262625 non-null  object \n",
      " 12  date_acc            1262625 non-null  int64  \n",
      " 13  disp_id             1262625 non-null  int64  \n",
      " 14  client_id           1262625 non-null  int64  \n",
      " 15  type_disp           1262625 non-null  object \n",
      " 16  birth_number        1262625 non-null  int64  \n",
      " 17  district_id_client  1262625 non-null  int64  \n",
      "dtypes: float64(3), int64(9), object(6)\n",
      "memory usage: 183.0+ MB\n"
     ]
    }
   ],
   "source": [
    "dfraw.info()"
   ]
  },
  {
   "cell_type": "code",
   "execution_count": 23,
   "id": "a3fc8370",
   "metadata": {
    "execution": {
     "iopub.execute_input": "2022-04-26T04:02:02.828158Z",
     "iopub.status.busy": "2022-04-26T04:02:02.827369Z",
     "iopub.status.idle": "2022-04-26T04:02:02.924017Z",
     "shell.execute_reply": "2022-04-26T04:02:02.923192Z"
    },
    "papermill": {
     "duration": 0.158461,
     "end_time": "2022-04-26T04:02:02.926473",
     "exception": false,
     "start_time": "2022-04-26T04:02:02.768012",
     "status": "completed"
    },
    "tags": []
   },
   "outputs": [],
   "source": [
    "dfraw['bank'].fillna(value='Not_Available', inplace=True)"
   ]
  },
  {
   "cell_type": "code",
   "execution_count": 24,
   "id": "eae416d0",
   "metadata": {
    "execution": {
     "iopub.execute_input": "2022-04-26T04:02:03.046061Z",
     "iopub.status.busy": "2022-04-26T04:02:03.045570Z",
     "iopub.status.idle": "2022-04-26T04:02:03.052380Z",
     "shell.execute_reply": "2022-04-26T04:02:03.051737Z"
    },
    "papermill": {
     "duration": 0.070122,
     "end_time": "2022-04-26T04:02:03.054305",
     "exception": false,
     "start_time": "2022-04-26T04:02:02.984183",
     "status": "completed"
    },
    "tags": []
   },
   "outputs": [
    {
     "data": {
      "text/plain": [
       "True"
      ]
     },
     "execution_count": 24,
     "metadata": {},
     "output_type": "execute_result"
    }
   ],
   "source": [
    "dfraw['account'].isna().any()"
   ]
  },
  {
   "cell_type": "code",
   "execution_count": 25,
   "id": "af3b3e76",
   "metadata": {
    "execution": {
     "iopub.execute_input": "2022-04-26T04:02:03.171477Z",
     "iopub.status.busy": "2022-04-26T04:02:03.171146Z",
     "iopub.status.idle": "2022-04-26T04:02:03.313405Z",
     "shell.execute_reply": "2022-04-26T04:02:03.312811Z"
    },
    "papermill": {
     "duration": 0.203883,
     "end_time": "2022-04-26T04:02:03.315497",
     "exception": false,
     "start_time": "2022-04-26T04:02:03.111614",
     "status": "completed"
    },
    "tags": []
   },
   "outputs": [
    {
     "data": {
      "text/plain": [
       "False"
      ]
     },
     "execution_count": 25,
     "metadata": {},
     "output_type": "execute_result"
    }
   ],
   "source": [
    "dfraw['bank'].isna().any()"
   ]
  },
  {
   "cell_type": "code",
   "execution_count": 26,
   "id": "437fb947",
   "metadata": {
    "execution": {
     "iopub.execute_input": "2022-04-26T04:02:03.435939Z",
     "iopub.status.busy": "2022-04-26T04:02:03.435321Z",
     "iopub.status.idle": "2022-04-26T04:02:03.564471Z",
     "shell.execute_reply": "2022-04-26T04:02:03.563609Z"
    },
    "papermill": {
     "duration": 0.192711,
     "end_time": "2022-04-26T04:02:03.566724",
     "exception": false,
     "start_time": "2022-04-26T04:02:03.374013",
     "status": "completed"
    },
    "tags": []
   },
   "outputs": [],
   "source": [
    "dfraw['operation'].fillna(value='Not_Available', inplace=True)"
   ]
  },
  {
   "cell_type": "code",
   "execution_count": 27,
   "id": "93de687b",
   "metadata": {
    "execution": {
     "iopub.execute_input": "2022-04-26T04:02:03.684666Z",
     "iopub.status.busy": "2022-04-26T04:02:03.684343Z",
     "iopub.status.idle": "2022-04-26T04:02:03.826589Z",
     "shell.execute_reply": "2022-04-26T04:02:03.825549Z"
    },
    "papermill": {
     "duration": 0.204198,
     "end_time": "2022-04-26T04:02:03.829181",
     "exception": false,
     "start_time": "2022-04-26T04:02:03.624983",
     "status": "completed"
    },
    "tags": []
   },
   "outputs": [
    {
     "data": {
      "text/plain": [
       "False"
      ]
     },
     "execution_count": 27,
     "metadata": {},
     "output_type": "execute_result"
    }
   ],
   "source": [
    "dfraw['operation'].isna().any()"
   ]
  },
  {
   "cell_type": "markdown",
   "id": "679e9b23",
   "metadata": {
    "papermill": {
     "duration": 0.074354,
     "end_time": "2022-04-26T04:02:03.961841",
     "exception": false,
     "start_time": "2022-04-26T04:02:03.887487",
     "status": "completed"
    },
    "tags": []
   },
   "source": [
    "The following steps will help you complete this activity --- Steps 1-5 have been done for you in the starter file:\n",
    "\n",
    "Download and load the different tables from this dataset into Python.\n",
    "Analyze each table with the .shape and .head() methods.\n",
    "Find the common/similar column(s) between tables that will be used for merging based on the analysis from Step 2.\n",
    "There should be four common tables. Merge the four tables together using pd.merge().\n",
    "Rename the column names after merging with .rename().\n",
    "Check there is no duplication after merging with .duplicated() and .sum().\n",
    "Transform the data type for date columns using .to_datetime().\n",
    "Create two separate features from birth_number to get the date of birth and sex for each customer.    (NoteThis is the rule used for coding the data related to birthday and sex in this column: the number is in the YYMMDD format for men, the number is in the YYMM+50DD format for women, where YYMMDD is the date of birth. )\n",
    "Fix data quality issues with .isna().\n",
    "Create a new feature that will calculate customers' ages when they opened an account using date operations:\n",
    "Download the datasets:"
   ]
  },
  {
   "cell_type": "code",
   "execution_count": 28,
   "id": "0e3169df",
   "metadata": {
    "execution": {
     "iopub.execute_input": "2022-04-26T04:02:04.099751Z",
     "iopub.status.busy": "2022-04-26T04:02:04.099003Z",
     "iopub.status.idle": "2022-04-26T04:02:05.374697Z",
     "shell.execute_reply": "2022-04-26T04:02:05.373525Z"
    },
    "papermill": {
     "duration": 1.354679,
     "end_time": "2022-04-26T04:02:05.377605",
     "exception": false,
     "start_time": "2022-04-26T04:02:04.022926",
     "status": "completed"
    },
    "tags": []
   },
   "outputs": [],
   "source": [
    "import seaborn as sns\n",
    "import matplotlib.pyplot as plt"
   ]
  },
  {
   "cell_type": "code",
   "execution_count": 29,
   "id": "ed30b814",
   "metadata": {
    "execution": {
     "iopub.execute_input": "2022-04-26T04:02:05.518120Z",
     "iopub.status.busy": "2022-04-26T04:02:05.517228Z",
     "iopub.status.idle": "2022-04-26T04:02:06.912063Z",
     "shell.execute_reply": "2022-04-26T04:02:06.911075Z"
    },
    "papermill": {
     "duration": 1.466499,
     "end_time": "2022-04-26T04:02:06.914524",
     "exception": false,
     "start_time": "2022-04-26T04:02:05.448025",
     "status": "completed"
    },
    "tags": []
   },
   "outputs": [
    {
     "data": {
      "text/plain": [
       "<AxesSubplot:xlabel='account', ylabel='Count'>"
      ]
     },
     "execution_count": 29,
     "metadata": {},
     "output_type": "execute_result"
    },
    {
     "data": {
      "image/png": "[encoded data removed]",
      "text/plain": [
       "<Figure size 432x288 with 1 Axes>"
      ]
     },
     "metadata": {
      "needs_background": "light"
     },
     "output_type": "display_data"
    }
   ],
   "source": [
    "sns.histplot(dfraw['account'])"
   ]
  },
  {
   "cell_type": "code",
   "execution_count": 30,
   "id": "24ea33c1",
   "metadata": {
    "execution": {
     "iopub.execute_input": "2022-04-26T04:02:07.040178Z",
     "iopub.status.busy": "2022-04-26T04:02:07.039848Z",
     "iopub.status.idle": "2022-04-26T04:02:07.363994Z",
     "shell.execute_reply": "2022-04-26T04:02:07.363042Z"
    },
    "papermill": {
     "duration": 0.390804,
     "end_time": "2022-04-26T04:02:07.366094",
     "exception": false,
     "start_time": "2022-04-26T04:02:06.975290",
     "status": "completed"
    },
    "tags": []
   },
   "outputs": [
    {
     "data": {
      "text/plain": [
       "25543"
      ]
     },
     "execution_count": 30,
     "metadata": {},
     "output_type": "execute_result"
    }
   ],
   "source": [
    "len(dfraw[dfraw.account ==0])"
   ]
  },
  {
   "cell_type": "code",
   "execution_count": 31,
   "id": "fed0f0d0",
   "metadata": {
    "execution": {
     "iopub.execute_input": "2022-04-26T04:02:07.488863Z",
     "iopub.status.busy": "2022-04-26T04:02:07.488558Z",
     "iopub.status.idle": "2022-04-26T04:02:07.498851Z",
     "shell.execute_reply": "2022-04-26T04:02:07.497894Z"
    },
    "papermill": {
     "duration": 0.07432,
     "end_time": "2022-04-26T04:02:07.501721",
     "exception": false,
     "start_time": "2022-04-26T04:02:07.427401",
     "status": "completed"
    },
    "tags": []
   },
   "outputs": [],
   "source": [
    "dfraw['account'].fillna(value=0, inplace=True)"
   ]
  },
  {
   "cell_type": "code",
   "execution_count": 32,
   "id": "807b016d",
   "metadata": {
    "execution": {
     "iopub.execute_input": "2022-04-26T04:02:07.626410Z",
     "iopub.status.busy": "2022-04-26T04:02:07.626136Z",
     "iopub.status.idle": "2022-04-26T04:02:07.633921Z",
     "shell.execute_reply": "2022-04-26T04:02:07.632941Z"
    },
    "papermill": {
     "duration": 0.073645,
     "end_time": "2022-04-26T04:02:07.635880",
     "exception": false,
     "start_time": "2022-04-26T04:02:07.562235",
     "status": "completed"
    },
    "tags": []
   },
   "outputs": [
    {
     "data": {
      "text/plain": [
       "False"
      ]
     },
     "execution_count": 32,
     "metadata": {},
     "output_type": "execute_result"
    }
   ],
   "source": [
    "dfraw['account'].isna().any()"
   ]
  },
  {
   "cell_type": "code",
   "execution_count": 33,
   "id": "eb96020b",
   "metadata": {
    "execution": {
     "iopub.execute_input": "2022-04-26T04:02:07.764067Z",
     "iopub.status.busy": "2022-04-26T04:02:07.763751Z",
     "iopub.status.idle": "2022-04-26T04:02:08.576567Z",
     "shell.execute_reply": "2022-04-26T04:02:08.575590Z"
    },
    "papermill": {
     "duration": 0.87886,
     "end_time": "2022-04-26T04:02:08.578840",
     "exception": false,
     "start_time": "2022-04-26T04:02:07.699980",
     "status": "completed"
    },
    "tags": []
   },
   "outputs": [
    {
     "data": {
      "text/plain": [
       "trans_id              0.000000\n",
       "account_id            0.000000\n",
       "date_trans            0.000000\n",
       "type_trans            0.000000\n",
       "operation             0.000000\n",
       "amount                0.000000\n",
       "balance               0.000000\n",
       "k_symbol              0.451296\n",
       "bank                  0.000000\n",
       "account               0.000000\n",
       "district_id_trans     0.000000\n",
       "frequency             0.000000\n",
       "date_acc              0.000000\n",
       "disp_id               0.000000\n",
       "client_id             0.000000\n",
       "type_disp             0.000000\n",
       "birth_number          0.000000\n",
       "district_id_client    0.000000\n",
       "dtype: float64"
      ]
     },
     "execution_count": 33,
     "metadata": {},
     "output_type": "execute_result"
    }
   ],
   "source": [
    "dfraw.isnull().sum()/len(dfraw)"
   ]
  },
  {
   "cell_type": "code",
   "execution_count": 34,
   "id": "9219abd4",
   "metadata": {
    "execution": {
     "iopub.execute_input": "2022-04-26T04:02:08.708792Z",
     "iopub.status.busy": "2022-04-26T04:02:08.708395Z",
     "iopub.status.idle": "2022-04-26T04:02:11.063558Z",
     "shell.execute_reply": "2022-04-26T04:02:11.062524Z"
    },
    "papermill": {
     "duration": 2.421302,
     "end_time": "2022-04-26T04:02:11.065919",
     "exception": false,
     "start_time": "2022-04-26T04:02:08.644617",
     "status": "completed"
    },
    "tags": []
   },
   "outputs": [
    {
     "data": {
      "text/plain": [
       "<AxesSubplot:xlabel='k_symbol', ylabel='Count'>"
      ]
     },
     "execution_count": 34,
     "metadata": {},
     "output_type": "execute_result"
    },
    {
     "data": {
      "image/png": "[encoded data removed]",
      "text/plain": [
       "<Figure size 432x288 with 1 Axes>"
      ]
     },
     "metadata": {
      "needs_background": "light"
     },
     "output_type": "display_data"
    }
   ],
   "source": [
    "sns.histplot(dfraw['k_symbol'])"
   ]
  },
  {
   "cell_type": "code",
   "execution_count": 35,
   "id": "e251a67c",
   "metadata": {
    "execution": {
     "iopub.execute_input": "2022-04-26T04:02:11.201304Z",
     "iopub.status.busy": "2022-04-26T04:02:11.200470Z",
     "iopub.status.idle": "2022-04-26T04:02:11.329296Z",
     "shell.execute_reply": "2022-04-26T04:02:11.328256Z"
    },
    "papermill": {
     "duration": 0.196393,
     "end_time": "2022-04-26T04:02:11.331993",
     "exception": false,
     "start_time": "2022-04-26T04:02:11.135600",
     "status": "completed"
    },
    "tags": []
   },
   "outputs": [],
   "source": [
    "dfraw['k_symbol'].fillna(value='Not_Available', inplace=True)"
   ]
  },
  {
   "cell_type": "code",
   "execution_count": 36,
   "id": "4220c734",
   "metadata": {
    "execution": {
     "iopub.execute_input": "2022-04-26T04:02:11.465861Z",
     "iopub.status.busy": "2022-04-26T04:02:11.465519Z",
     "iopub.status.idle": "2022-04-26T04:02:12.341237Z",
     "shell.execute_reply": "2022-04-26T04:02:12.340296Z"
    },
    "papermill": {
     "duration": 0.948378,
     "end_time": "2022-04-26T04:02:12.344510",
     "exception": false,
     "start_time": "2022-04-26T04:02:11.396132",
     "status": "completed"
    },
    "tags": []
   },
   "outputs": [
    {
     "data": {
      "text/plain": [
       "trans_id              0.0\n",
       "account_id            0.0\n",
       "date_trans            0.0\n",
       "type_trans            0.0\n",
       "operation             0.0\n",
       "amount                0.0\n",
       "balance               0.0\n",
       "k_symbol              0.0\n",
       "bank                  0.0\n",
       "account               0.0\n",
       "district_id_trans     0.0\n",
       "frequency             0.0\n",
       "date_acc              0.0\n",
       "disp_id               0.0\n",
       "client_id             0.0\n",
       "type_disp             0.0\n",
       "birth_number          0.0\n",
       "district_id_client    0.0\n",
       "dtype: float64"
      ]
     },
     "execution_count": 36,
     "metadata": {},
     "output_type": "execute_result"
    }
   ],
   "source": [
    "dfraw.isnull().sum()/len(dfraw)"
   ]
  },
  {
   "cell_type": "code",
   "execution_count": 37,
   "id": "39a39407",
   "metadata": {
    "execution": {
     "iopub.execute_input": "2022-04-26T04:02:12.490540Z",
     "iopub.status.busy": "2022-04-26T04:02:12.489497Z",
     "iopub.status.idle": "2022-04-26T04:02:12.510980Z",
     "shell.execute_reply": "2022-04-26T04:02:12.509797Z"
    },
    "papermill": {
     "duration": 0.09472,
     "end_time": "2022-04-26T04:02:12.513462",
     "exception": false,
     "start_time": "2022-04-26T04:02:12.418742",
     "status": "completed"
    },
    "tags": []
   },
   "outputs": [
    {
     "data": {
      "text/html": [
       "<div>\n",
       "<style scoped>\n",
       "    .dataframe tbody tr th:only-of-type {\n",
       "        vertical-align: middle;\n",
       "    }\n",
       "\n",
       "    .dataframe tbody tr th {\n",
       "        vertical-align: top;\n",
       "    }\n",
       "\n",
       "    .dataframe thead th {\n",
       "        text-align: right;\n",
       "    }\n",
       "</style>\n",
       "<table border=\"1\" class=\"dataframe\">\n",
       "  <thead>\n",
       "    <tr style=\"text-align: right;\">\n",
       "      <th></th>\n",
       "      <th>trans_id</th>\n",
       "      <th>account_id</th>\n",
       "      <th>date_trans</th>\n",
       "      <th>type_trans</th>\n",
       "      <th>operation</th>\n",
       "      <th>amount</th>\n",
       "      <th>balance</th>\n",
       "      <th>k_symbol</th>\n",
       "      <th>bank</th>\n",
       "      <th>account</th>\n",
       "      <th>district_id_trans</th>\n",
       "      <th>frequency</th>\n",
       "      <th>date_acc</th>\n",
       "      <th>disp_id</th>\n",
       "      <th>client_id</th>\n",
       "      <th>type_disp</th>\n",
       "      <th>birth_number</th>\n",
       "      <th>district_id_client</th>\n",
       "    </tr>\n",
       "  </thead>\n",
       "  <tbody>\n",
       "    <tr>\n",
       "      <th>0</th>\n",
       "      <td>695247</td>\n",
       "      <td>2378</td>\n",
       "      <td>930101</td>\n",
       "      <td>PRIJEM</td>\n",
       "      <td>VKLAD</td>\n",
       "      <td>700.0</td>\n",
       "      <td>700.0</td>\n",
       "      <td>Not_Available</td>\n",
       "      <td>Not_Available</td>\n",
       "      <td>0.0</td>\n",
       "      <td>16</td>\n",
       "      <td>POPLATEK MESICNE</td>\n",
       "      <td>930101</td>\n",
       "      <td>2873</td>\n",
       "      <td>2873</td>\n",
       "      <td>OWNER</td>\n",
       "      <td>755324</td>\n",
       "      <td>16</td>\n",
       "    </tr>\n",
       "    <tr>\n",
       "      <th>1</th>\n",
       "      <td>171812</td>\n",
       "      <td>576</td>\n",
       "      <td>930101</td>\n",
       "      <td>PRIJEM</td>\n",
       "      <td>VKLAD</td>\n",
       "      <td>900.0</td>\n",
       "      <td>900.0</td>\n",
       "      <td>Not_Available</td>\n",
       "      <td>Not_Available</td>\n",
       "      <td>0.0</td>\n",
       "      <td>55</td>\n",
       "      <td>POPLATEK MESICNE</td>\n",
       "      <td>930101</td>\n",
       "      <td>692</td>\n",
       "      <td>692</td>\n",
       "      <td>OWNER</td>\n",
       "      <td>365111</td>\n",
       "      <td>74</td>\n",
       "    </tr>\n",
       "    <tr>\n",
       "      <th>2</th>\n",
       "      <td>171812</td>\n",
       "      <td>576</td>\n",
       "      <td>930101</td>\n",
       "      <td>PRIJEM</td>\n",
       "      <td>VKLAD</td>\n",
       "      <td>900.0</td>\n",
       "      <td>900.0</td>\n",
       "      <td>Not_Available</td>\n",
       "      <td>Not_Available</td>\n",
       "      <td>0.0</td>\n",
       "      <td>55</td>\n",
       "      <td>POPLATEK MESICNE</td>\n",
       "      <td>930101</td>\n",
       "      <td>693</td>\n",
       "      <td>693</td>\n",
       "      <td>DISPONENT</td>\n",
       "      <td>350317</td>\n",
       "      <td>74</td>\n",
       "    </tr>\n",
       "    <tr>\n",
       "      <th>3</th>\n",
       "      <td>207264</td>\n",
       "      <td>704</td>\n",
       "      <td>930101</td>\n",
       "      <td>PRIJEM</td>\n",
       "      <td>VKLAD</td>\n",
       "      <td>1000.0</td>\n",
       "      <td>1000.0</td>\n",
       "      <td>Not_Available</td>\n",
       "      <td>Not_Available</td>\n",
       "      <td>0.0</td>\n",
       "      <td>55</td>\n",
       "      <td>POPLATEK MESICNE</td>\n",
       "      <td>930101</td>\n",
       "      <td>844</td>\n",
       "      <td>844</td>\n",
       "      <td>OWNER</td>\n",
       "      <td>450114</td>\n",
       "      <td>22</td>\n",
       "    </tr>\n",
       "    <tr>\n",
       "      <th>4</th>\n",
       "      <td>207264</td>\n",
       "      <td>704</td>\n",
       "      <td>930101</td>\n",
       "      <td>PRIJEM</td>\n",
       "      <td>VKLAD</td>\n",
       "      <td>1000.0</td>\n",
       "      <td>1000.0</td>\n",
       "      <td>Not_Available</td>\n",
       "      <td>Not_Available</td>\n",
       "      <td>0.0</td>\n",
       "      <td>55</td>\n",
       "      <td>POPLATEK MESICNE</td>\n",
       "      <td>930101</td>\n",
       "      <td>845</td>\n",
       "      <td>845</td>\n",
       "      <td>DISPONENT</td>\n",
       "      <td>535130</td>\n",
       "      <td>22</td>\n",
       "    </tr>\n",
       "  </tbody>\n",
       "</table>\n",
       "</div>"
      ],
      "text/plain": [
       "   trans_id  account_id  date_trans type_trans operation  amount  balance  \\\n",
       "0    695247        2378      930101     PRIJEM     VKLAD   700.0    700.0   \n",
       "1    171812         576      930101     PRIJEM     VKLAD   900.0    900.0   \n",
       "2    171812         576      930101     PRIJEM     VKLAD   900.0    900.0   \n",
       "3    207264         704      930101     PRIJEM     VKLAD  1000.0   1000.0   \n",
       "4    207264         704      930101     PRIJEM     VKLAD  1000.0   1000.0   \n",
       "\n",
       "        k_symbol           bank  account  district_id_trans         frequency  \\\n",
       "0  Not_Available  Not_Available      0.0                 16  POPLATEK MESICNE   \n",
       "1  Not_Available  Not_Available      0.0                 55  POPLATEK MESICNE   \n",
       "2  Not_Available  Not_Available      0.0                 55  POPLATEK MESICNE   \n",
       "3  Not_Available  Not_Available      0.0                 55  POPLATEK MESICNE   \n",
       "4  Not_Available  Not_Available      0.0                 55  POPLATEK MESICNE   \n",
       "\n",
       "   date_acc  disp_id  client_id  type_disp  birth_number  district_id_client  \n",
       "0    930101     2873       2873      OWNER        755324                  16  \n",
       "1    930101      692        692      OWNER        365111                  74  \n",
       "2    930101      693        693  DISPONENT        350317                  74  \n",
       "3    930101      844        844      OWNER        450114                  22  \n",
       "4    930101      845        845  DISPONENT        535130                  22  "
      ]
     },
     "execution_count": 37,
     "metadata": {},
     "output_type": "execute_result"
    }
   ],
   "source": [
    "dfraw.head()"
   ]
  },
  {
   "cell_type": "code",
   "execution_count": 38,
   "id": "1992fffc",
   "metadata": {
    "execution": {
     "iopub.execute_input": "2022-04-26T04:02:12.645438Z",
     "iopub.status.busy": "2022-04-26T04:02:12.644948Z",
     "iopub.status.idle": "2022-04-26T04:02:16.819111Z",
     "shell.execute_reply": "2022-04-26T04:02:16.818114Z"
    },
    "papermill": {
     "duration": 4.243892,
     "end_time": "2022-04-26T04:02:16.821770",
     "exception": false,
     "start_time": "2022-04-26T04:02:12.577878",
     "status": "completed"
    },
    "tags": []
   },
   "outputs": [],
   "source": [
    "dfraw['byr'] = dfraw['birth_number'].apply(lambda x: int(str(x)[:2]))\n",
    "dfraw['bmon'] = dfraw['birth_number'].apply(lambda x: int(str(x)[2:4]))\n",
    "dfraw['byrTmp'] = dfraw['birth_number'].apply(lambda x: int(str(x)[4:]))"
   ]
  },
  {
   "cell_type": "code",
   "execution_count": 39,
   "id": "0cdfb834",
   "metadata": {
    "execution": {
     "iopub.execute_input": "2022-04-26T04:02:16.959263Z",
     "iopub.status.busy": "2022-04-26T04:02:16.958713Z",
     "iopub.status.idle": "2022-04-26T04:02:16.984365Z",
     "shell.execute_reply": "2022-04-26T04:02:16.983391Z"
    },
    "papermill": {
     "duration": 0.098057,
     "end_time": "2022-04-26T04:02:16.986802",
     "exception": false,
     "start_time": "2022-04-26T04:02:16.888745",
     "status": "completed"
    },
    "tags": []
   },
   "outputs": [
    {
     "data": {
      "text/html": [
       "<div>\n",
       "<style scoped>\n",
       "    .dataframe tbody tr th:only-of-type {\n",
       "        vertical-align: middle;\n",
       "    }\n",
       "\n",
       "    .dataframe tbody tr th {\n",
       "        vertical-align: top;\n",
       "    }\n",
       "\n",
       "    .dataframe thead th {\n",
       "        text-align: right;\n",
       "    }\n",
       "</style>\n",
       "<table border=\"1\" class=\"dataframe\">\n",
       "  <thead>\n",
       "    <tr style=\"text-align: right;\">\n",
       "      <th></th>\n",
       "      <th>trans_id</th>\n",
       "      <th>account_id</th>\n",
       "      <th>date_trans</th>\n",
       "      <th>type_trans</th>\n",
       "      <th>operation</th>\n",
       "      <th>amount</th>\n",
       "      <th>balance</th>\n",
       "      <th>k_symbol</th>\n",
       "      <th>bank</th>\n",
       "      <th>account</th>\n",
       "      <th>...</th>\n",
       "      <th>frequency</th>\n",
       "      <th>date_acc</th>\n",
       "      <th>disp_id</th>\n",
       "      <th>client_id</th>\n",
       "      <th>type_disp</th>\n",
       "      <th>birth_number</th>\n",
       "      <th>district_id_client</th>\n",
       "      <th>byr</th>\n",
       "      <th>bmon</th>\n",
       "      <th>byrTmp</th>\n",
       "    </tr>\n",
       "  </thead>\n",
       "  <tbody>\n",
       "    <tr>\n",
       "      <th>0</th>\n",
       "      <td>695247</td>\n",
       "      <td>2378</td>\n",
       "      <td>930101</td>\n",
       "      <td>PRIJEM</td>\n",
       "      <td>VKLAD</td>\n",
       "      <td>700.0</td>\n",
       "      <td>700.0</td>\n",
       "      <td>Not_Available</td>\n",
       "      <td>Not_Available</td>\n",
       "      <td>0.0</td>\n",
       "      <td>...</td>\n",
       "      <td>POPLATEK MESICNE</td>\n",
       "      <td>930101</td>\n",
       "      <td>2873</td>\n",
       "      <td>2873</td>\n",
       "      <td>OWNER</td>\n",
       "      <td>755324</td>\n",
       "      <td>16</td>\n",
       "      <td>75</td>\n",
       "      <td>53</td>\n",
       "      <td>24</td>\n",
       "    </tr>\n",
       "    <tr>\n",
       "      <th>1</th>\n",
       "      <td>171812</td>\n",
       "      <td>576</td>\n",
       "      <td>930101</td>\n",
       "      <td>PRIJEM</td>\n",
       "      <td>VKLAD</td>\n",
       "      <td>900.0</td>\n",
       "      <td>900.0</td>\n",
       "      <td>Not_Available</td>\n",
       "      <td>Not_Available</td>\n",
       "      <td>0.0</td>\n",
       "      <td>...</td>\n",
       "      <td>POPLATEK MESICNE</td>\n",
       "      <td>930101</td>\n",
       "      <td>692</td>\n",
       "      <td>692</td>\n",
       "      <td>OWNER</td>\n",
       "      <td>365111</td>\n",
       "      <td>74</td>\n",
       "      <td>36</td>\n",
       "      <td>51</td>\n",
       "      <td>11</td>\n",
       "    </tr>\n",
       "    <tr>\n",
       "      <th>2</th>\n",
       "      <td>171812</td>\n",
       "      <td>576</td>\n",
       "      <td>930101</td>\n",
       "      <td>PRIJEM</td>\n",
       "      <td>VKLAD</td>\n",
       "      <td>900.0</td>\n",
       "      <td>900.0</td>\n",
       "      <td>Not_Available</td>\n",
       "      <td>Not_Available</td>\n",
       "      <td>0.0</td>\n",
       "      <td>...</td>\n",
       "      <td>POPLATEK MESICNE</td>\n",
       "      <td>930101</td>\n",
       "      <td>693</td>\n",
       "      <td>693</td>\n",
       "      <td>DISPONENT</td>\n",
       "      <td>350317</td>\n",
       "      <td>74</td>\n",
       "      <td>35</td>\n",
       "      <td>3</td>\n",
       "      <td>17</td>\n",
       "    </tr>\n",
       "    <tr>\n",
       "      <th>3</th>\n",
       "      <td>207264</td>\n",
       "      <td>704</td>\n",
       "      <td>930101</td>\n",
       "      <td>PRIJEM</td>\n",
       "      <td>VKLAD</td>\n",
       "      <td>1000.0</td>\n",
       "      <td>1000.0</td>\n",
       "      <td>Not_Available</td>\n",
       "      <td>Not_Available</td>\n",
       "      <td>0.0</td>\n",
       "      <td>...</td>\n",
       "      <td>POPLATEK MESICNE</td>\n",
       "      <td>930101</td>\n",
       "      <td>844</td>\n",
       "      <td>844</td>\n",
       "      <td>OWNER</td>\n",
       "      <td>450114</td>\n",
       "      <td>22</td>\n",
       "      <td>45</td>\n",
       "      <td>1</td>\n",
       "      <td>14</td>\n",
       "    </tr>\n",
       "    <tr>\n",
       "      <th>4</th>\n",
       "      <td>207264</td>\n",
       "      <td>704</td>\n",
       "      <td>930101</td>\n",
       "      <td>PRIJEM</td>\n",
       "      <td>VKLAD</td>\n",
       "      <td>1000.0</td>\n",
       "      <td>1000.0</td>\n",
       "      <td>Not_Available</td>\n",
       "      <td>Not_Available</td>\n",
       "      <td>0.0</td>\n",
       "      <td>...</td>\n",
       "      <td>POPLATEK MESICNE</td>\n",
       "      <td>930101</td>\n",
       "      <td>845</td>\n",
       "      <td>845</td>\n",
       "      <td>DISPONENT</td>\n",
       "      <td>535130</td>\n",
       "      <td>22</td>\n",
       "      <td>53</td>\n",
       "      <td>51</td>\n",
       "      <td>30</td>\n",
       "    </tr>\n",
       "  </tbody>\n",
       "</table>\n",
       "<p>5 rows × 21 columns</p>\n",
       "</div>"
      ],
      "text/plain": [
       "   trans_id  account_id  date_trans type_trans operation  amount  balance  \\\n",
       "0    695247        2378      930101     PRIJEM     VKLAD   700.0    700.0   \n",
       "1    171812         576      930101     PRIJEM     VKLAD   900.0    900.0   \n",
       "2    171812         576      930101     PRIJEM     VKLAD   900.0    900.0   \n",
       "3    207264         704      930101     PRIJEM     VKLAD  1000.0   1000.0   \n",
       "4    207264         704      930101     PRIJEM     VKLAD  1000.0   1000.0   \n",
       "\n",
       "        k_symbol           bank  account  ...         frequency date_acc  \\\n",
       "0  Not_Available  Not_Available      0.0  ...  POPLATEK MESICNE   930101   \n",
       "1  Not_Available  Not_Available      0.0  ...  POPLATEK MESICNE   930101   \n",
       "2  Not_Available  Not_Available      0.0  ...  POPLATEK MESICNE   930101   \n",
       "3  Not_Available  Not_Available      0.0  ...  POPLATEK MESICNE   930101   \n",
       "4  Not_Available  Not_Available      0.0  ...  POPLATEK MESICNE   930101   \n",
       "\n",
       "   disp_id  client_id  type_disp birth_number  district_id_client  byr  bmon  \\\n",
       "0     2873       2873      OWNER       755324                  16   75    53   \n",
       "1      692        692      OWNER       365111                  74   36    51   \n",
       "2      693        693  DISPONENT       350317                  74   35     3   \n",
       "3      844        844      OWNER       450114                  22   45     1   \n",
       "4      845        845  DISPONENT       535130                  22   53    51   \n",
       "\n",
       "   byrTmp  \n",
       "0      24  \n",
       "1      11  \n",
       "2      17  \n",
       "3      14  \n",
       "4      30  \n",
       "\n",
       "[5 rows x 21 columns]"
      ]
     },
     "execution_count": 39,
     "metadata": {},
     "output_type": "execute_result"
    }
   ],
   "source": [
    "dfraw.head()"
   ]
  },
  {
   "cell_type": "code",
   "execution_count": 40,
   "id": "1a406b03",
   "metadata": {
    "execution": {
     "iopub.execute_input": "2022-04-26T04:02:17.122943Z",
     "iopub.status.busy": "2022-04-26T04:02:17.122188Z",
     "iopub.status.idle": "2022-04-26T04:02:18.614403Z",
     "shell.execute_reply": "2022-04-26T04:02:18.613291Z"
    },
    "papermill": {
     "duration": 1.561696,
     "end_time": "2022-04-26T04:02:18.616937",
     "exception": false,
     "start_time": "2022-04-26T04:02:17.055241",
     "status": "completed"
    },
    "tags": []
   },
   "outputs": [
    {
     "data": {
      "text/plain": [
       "<AxesSubplot:xlabel='byr', ylabel='Count'>"
      ]
     },
     "execution_count": 40,
     "metadata": {},
     "output_type": "execute_result"
    },
    {
     "data": {
      "image/png": "[encoded data removed]",
      "text/plain": [
       "<Figure size 432x288 with 1 Axes>"
      ]
     },
     "metadata": {
      "needs_background": "light"
     },
     "output_type": "display_data"
    }
   ],
   "source": [
    "sns.histplot(dfraw['byr'])"
   ]
  },
  {
   "cell_type": "code",
   "execution_count": 41,
   "id": "47c43b99",
   "metadata": {
    "execution": {
     "iopub.execute_input": "2022-04-26T04:02:18.753566Z",
     "iopub.status.busy": "2022-04-26T04:02:18.753149Z",
     "iopub.status.idle": "2022-04-26T04:02:20.062660Z",
     "shell.execute_reply": "2022-04-26T04:02:20.061760Z"
    },
    "papermill": {
     "duration": 1.378242,
     "end_time": "2022-04-26T04:02:20.065019",
     "exception": false,
     "start_time": "2022-04-26T04:02:18.686777",
     "status": "completed"
    },
    "tags": []
   },
   "outputs": [
    {
     "data": {
      "text/plain": [
       "<AxesSubplot:xlabel='bmon', ylabel='Count'>"
      ]
     },
     "execution_count": 41,
     "metadata": {},
     "output_type": "execute_result"
    },
    {
     "data": {
      "image/png": "[encoded data removed]",
      "text/plain": [
       "<Figure size 432x288 with 1 Axes>"
      ]
     },
     "metadata": {
      "needs_background": "light"
     },
     "output_type": "display_data"
    }
   ],
   "source": [
    "sns.histplot(dfraw['bmon'])"
   ]
  },
  {
   "cell_type": "code",
   "execution_count": 42,
   "id": "2e832c02",
   "metadata": {
    "execution": {
     "iopub.execute_input": "2022-04-26T04:02:20.199858Z",
     "iopub.status.busy": "2022-04-26T04:02:20.199396Z",
     "iopub.status.idle": "2022-04-26T04:02:20.987268Z",
     "shell.execute_reply": "2022-04-26T04:02:20.986499Z"
    },
    "papermill": {
     "duration": 0.858553,
     "end_time": "2022-04-26T04:02:20.989632",
     "exception": false,
     "start_time": "2022-04-26T04:02:20.131079",
     "status": "completed"
    },
    "tags": []
   },
   "outputs": [],
   "source": [
    "dfraw['gender'] = dfraw['bmon'].apply(lambda x: 1 if x < 50 else 0)"
   ]
  },
  {
   "cell_type": "code",
   "execution_count": 43,
   "id": "394cd9b9",
   "metadata": {
    "execution": {
     "iopub.execute_input": "2022-04-26T04:02:21.162654Z",
     "iopub.status.busy": "2022-04-26T04:02:21.162061Z",
     "iopub.status.idle": "2022-04-26T04:02:22.431852Z",
     "shell.execute_reply": "2022-04-26T04:02:22.431138Z"
    },
    "papermill": {
     "duration": 1.35222,
     "end_time": "2022-04-26T04:02:22.434171",
     "exception": false,
     "start_time": "2022-04-26T04:02:21.081951",
     "status": "completed"
    },
    "tags": []
   },
   "outputs": [
    {
     "data": {
      "text/plain": [
       "<AxesSubplot:xlabel='gender', ylabel='Count'>"
      ]
     },
     "execution_count": 43,
     "metadata": {},
     "output_type": "execute_result"
    },
    {
     "data": {
      "image/png": "[encoded data removed]",
      "text/plain": [
       "<Figure size 432x288 with 1 Axes>"
      ]
     },
     "metadata": {
      "needs_background": "light"
     },
     "output_type": "display_data"
    }
   ],
   "source": [
    "sns.histplot(dfraw['gender'])"
   ]
  },
  {
   "cell_type": "code",
   "execution_count": 44,
   "id": "c00523ff",
   "metadata": {
    "execution": {
     "iopub.execute_input": "2022-04-26T04:02:22.571565Z",
     "iopub.status.busy": "2022-04-26T04:02:22.570905Z",
     "iopub.status.idle": "2022-04-26T04:02:23.342095Z",
     "shell.execute_reply": "2022-04-26T04:02:23.341010Z"
    },
    "papermill": {
     "duration": 0.842413,
     "end_time": "2022-04-26T04:02:23.345102",
     "exception": false,
     "start_time": "2022-04-26T04:02:22.502689",
     "status": "completed"
    },
    "tags": []
   },
   "outputs": [],
   "source": [
    "dfraw['bmon'] = dfraw['bmon'].apply(lambda x: x if x < 50 else (x-50))"
   ]
  },
  {
   "cell_type": "code",
   "execution_count": 45,
   "id": "4bfd01cc",
   "metadata": {
    "execution": {
     "iopub.execute_input": "2022-04-26T04:02:23.481806Z",
     "iopub.status.busy": "2022-04-26T04:02:23.481322Z",
     "iopub.status.idle": "2022-04-26T04:02:24.975762Z",
     "shell.execute_reply": "2022-04-26T04:02:24.974977Z"
    },
    "papermill": {
     "duration": 1.56592,
     "end_time": "2022-04-26T04:02:24.978472",
     "exception": false,
     "start_time": "2022-04-26T04:02:23.412552",
     "status": "completed"
    },
    "tags": []
   },
   "outputs": [
    {
     "data": {
      "text/plain": [
       "<AxesSubplot:xlabel='bmon', ylabel='Count'>"
      ]
     },
     "execution_count": 45,
     "metadata": {},
     "output_type": "execute_result"
    },
    {
     "data": {
      "image/png": "[encoded data removed]",
      "text/plain": [
       "<Figure size 432x288 with 1 Axes>"
      ]
     },
     "metadata": {
      "needs_background": "light"
     },
     "output_type": "display_data"
    }
   ],
   "source": [
    "sns.histplot(dfraw['bmon'])"
   ]
  },
  {
   "cell_type": "code",
   "execution_count": 46,
   "id": "d62516f6",
   "metadata": {
    "execution": {
     "iopub.execute_input": "2022-04-26T04:02:25.122483Z",
     "iopub.status.busy": "2022-04-26T04:02:25.122118Z",
     "iopub.status.idle": "2022-04-26T04:02:25.127758Z",
     "shell.execute_reply": "2022-04-26T04:02:25.127137Z"
    },
    "papermill": {
     "duration": 0.079161,
     "end_time": "2022-04-26T04:02:25.130215",
     "exception": false,
     "start_time": "2022-04-26T04:02:25.051054",
     "status": "completed"
    },
    "tags": []
   },
   "outputs": [
    {
     "data": {
      "text/plain": [
       "\"\\ndf['age'] = (np.floor((pd.to_datetime(df['dte']) - \\n             pd.to_datetime(dob)).dt.days / 365.25)).astype(int)\\n\""
      ]
     },
     "execution_count": 46,
     "metadata": {},
     "output_type": "execute_result"
    }
   ],
   "source": [
    "\"\"\"\n",
    "df['age'] = (np.floor((pd.to_datetime(df['dte']) - \n",
    "             pd.to_datetime(dob)).dt.days / 365.25)).astype(int)\n",
    "\"\"\""
   ]
  },
  {
   "cell_type": "code",
   "execution_count": 47,
   "id": "bcf79042",
   "metadata": {
    "execution": {
     "iopub.execute_input": "2022-04-26T04:02:25.272303Z",
     "iopub.status.busy": "2022-04-26T04:02:25.271739Z",
     "iopub.status.idle": "2022-04-26T04:02:25.892392Z",
     "shell.execute_reply": "2022-04-26T04:02:25.891733Z"
    },
    "papermill": {
     "duration": 0.693597,
     "end_time": "2022-04-26T04:02:25.894783",
     "exception": false,
     "start_time": "2022-04-26T04:02:25.201186",
     "status": "completed"
    },
    "tags": []
   },
   "outputs": [],
   "source": [
    "dfraw['byr'] = dfraw['byr'].apply(lambda x : '19'+str(x))"
   ]
  },
  {
   "cell_type": "code",
   "execution_count": 48,
   "id": "0c9883f4",
   "metadata": {
    "execution": {
     "iopub.execute_input": "2022-04-26T04:02:26.038098Z",
     "iopub.status.busy": "2022-04-26T04:02:26.037290Z",
     "iopub.status.idle": "2022-04-26T04:02:26.062705Z",
     "shell.execute_reply": "2022-04-26T04:02:26.061983Z"
    },
    "papermill": {
     "duration": 0.098166,
     "end_time": "2022-04-26T04:02:26.064675",
     "exception": false,
     "start_time": "2022-04-26T04:02:25.966509",
     "status": "completed"
    },
    "tags": []
   },
   "outputs": [
    {
     "data": {
      "text/html": [
       "<div>\n",
       "<style scoped>\n",
       "    .dataframe tbody tr th:only-of-type {\n",
       "        vertical-align: middle;\n",
       "    }\n",
       "\n",
       "    .dataframe tbody tr th {\n",
       "        vertical-align: top;\n",
       "    }\n",
       "\n",
       "    .dataframe thead th {\n",
       "        text-align: right;\n",
       "    }\n",
       "</style>\n",
       "<table border=\"1\" class=\"dataframe\">\n",
       "  <thead>\n",
       "    <tr style=\"text-align: right;\">\n",
       "      <th></th>\n",
       "      <th>trans_id</th>\n",
       "      <th>account_id</th>\n",
       "      <th>date_trans</th>\n",
       "      <th>type_trans</th>\n",
       "      <th>operation</th>\n",
       "      <th>amount</th>\n",
       "      <th>balance</th>\n",
       "      <th>k_symbol</th>\n",
       "      <th>bank</th>\n",
       "      <th>account</th>\n",
       "      <th>...</th>\n",
       "      <th>date_acc</th>\n",
       "      <th>disp_id</th>\n",
       "      <th>client_id</th>\n",
       "      <th>type_disp</th>\n",
       "      <th>birth_number</th>\n",
       "      <th>district_id_client</th>\n",
       "      <th>byr</th>\n",
       "      <th>bmon</th>\n",
       "      <th>byrTmp</th>\n",
       "      <th>gender</th>\n",
       "    </tr>\n",
       "  </thead>\n",
       "  <tbody>\n",
       "    <tr>\n",
       "      <th>0</th>\n",
       "      <td>695247</td>\n",
       "      <td>2378</td>\n",
       "      <td>930101</td>\n",
       "      <td>PRIJEM</td>\n",
       "      <td>VKLAD</td>\n",
       "      <td>700.0</td>\n",
       "      <td>700.0</td>\n",
       "      <td>Not_Available</td>\n",
       "      <td>Not_Available</td>\n",
       "      <td>0.0</td>\n",
       "      <td>...</td>\n",
       "      <td>930101</td>\n",
       "      <td>2873</td>\n",
       "      <td>2873</td>\n",
       "      <td>OWNER</td>\n",
       "      <td>755324</td>\n",
       "      <td>16</td>\n",
       "      <td>1975</td>\n",
       "      <td>3</td>\n",
       "      <td>24</td>\n",
       "      <td>0</td>\n",
       "    </tr>\n",
       "    <tr>\n",
       "      <th>1</th>\n",
       "      <td>171812</td>\n",
       "      <td>576</td>\n",
       "      <td>930101</td>\n",
       "      <td>PRIJEM</td>\n",
       "      <td>VKLAD</td>\n",
       "      <td>900.0</td>\n",
       "      <td>900.0</td>\n",
       "      <td>Not_Available</td>\n",
       "      <td>Not_Available</td>\n",
       "      <td>0.0</td>\n",
       "      <td>...</td>\n",
       "      <td>930101</td>\n",
       "      <td>692</td>\n",
       "      <td>692</td>\n",
       "      <td>OWNER</td>\n",
       "      <td>365111</td>\n",
       "      <td>74</td>\n",
       "      <td>1936</td>\n",
       "      <td>1</td>\n",
       "      <td>11</td>\n",
       "      <td>0</td>\n",
       "    </tr>\n",
       "    <tr>\n",
       "      <th>2</th>\n",
       "      <td>171812</td>\n",
       "      <td>576</td>\n",
       "      <td>930101</td>\n",
       "      <td>PRIJEM</td>\n",
       "      <td>VKLAD</td>\n",
       "      <td>900.0</td>\n",
       "      <td>900.0</td>\n",
       "      <td>Not_Available</td>\n",
       "      <td>Not_Available</td>\n",
       "      <td>0.0</td>\n",
       "      <td>...</td>\n",
       "      <td>930101</td>\n",
       "      <td>693</td>\n",
       "      <td>693</td>\n",
       "      <td>DISPONENT</td>\n",
       "      <td>350317</td>\n",
       "      <td>74</td>\n",
       "      <td>1935</td>\n",
       "      <td>3</td>\n",
       "      <td>17</td>\n",
       "      <td>1</td>\n",
       "    </tr>\n",
       "    <tr>\n",
       "      <th>3</th>\n",
       "      <td>207264</td>\n",
       "      <td>704</td>\n",
       "      <td>930101</td>\n",
       "      <td>PRIJEM</td>\n",
       "      <td>VKLAD</td>\n",
       "      <td>1000.0</td>\n",
       "      <td>1000.0</td>\n",
       "      <td>Not_Available</td>\n",
       "      <td>Not_Available</td>\n",
       "      <td>0.0</td>\n",
       "      <td>...</td>\n",
       "      <td>930101</td>\n",
       "      <td>844</td>\n",
       "      <td>844</td>\n",
       "      <td>OWNER</td>\n",
       "      <td>450114</td>\n",
       "      <td>22</td>\n",
       "      <td>1945</td>\n",
       "      <td>1</td>\n",
       "      <td>14</td>\n",
       "      <td>1</td>\n",
       "    </tr>\n",
       "    <tr>\n",
       "      <th>4</th>\n",
       "      <td>207264</td>\n",
       "      <td>704</td>\n",
       "      <td>930101</td>\n",
       "      <td>PRIJEM</td>\n",
       "      <td>VKLAD</td>\n",
       "      <td>1000.0</td>\n",
       "      <td>1000.0</td>\n",
       "      <td>Not_Available</td>\n",
       "      <td>Not_Available</td>\n",
       "      <td>0.0</td>\n",
       "      <td>...</td>\n",
       "      <td>930101</td>\n",
       "      <td>845</td>\n",
       "      <td>845</td>\n",
       "      <td>DISPONENT</td>\n",
       "      <td>535130</td>\n",
       "      <td>22</td>\n",
       "      <td>1953</td>\n",
       "      <td>1</td>\n",
       "      <td>30</td>\n",
       "      <td>0</td>\n",
       "    </tr>\n",
       "  </tbody>\n",
       "</table>\n",
       "<p>5 rows × 22 columns</p>\n",
       "</div>"
      ],
      "text/plain": [
       "   trans_id  account_id  date_trans type_trans operation  amount  balance  \\\n",
       "0    695247        2378      930101     PRIJEM     VKLAD   700.0    700.0   \n",
       "1    171812         576      930101     PRIJEM     VKLAD   900.0    900.0   \n",
       "2    171812         576      930101     PRIJEM     VKLAD   900.0    900.0   \n",
       "3    207264         704      930101     PRIJEM     VKLAD  1000.0   1000.0   \n",
       "4    207264         704      930101     PRIJEM     VKLAD  1000.0   1000.0   \n",
       "\n",
       "        k_symbol           bank  account  ...  date_acc disp_id  client_id  \\\n",
       "0  Not_Available  Not_Available      0.0  ...    930101    2873       2873   \n",
       "1  Not_Available  Not_Available      0.0  ...    930101     692        692   \n",
       "2  Not_Available  Not_Available      0.0  ...    930101     693        693   \n",
       "3  Not_Available  Not_Available      0.0  ...    930101     844        844   \n",
       "4  Not_Available  Not_Available      0.0  ...    930101     845        845   \n",
       "\n",
       "   type_disp  birth_number district_id_client   byr  bmon byrTmp  gender  \n",
       "0      OWNER        755324                 16  1975     3     24       0  \n",
       "1      OWNER        365111                 74  1936     1     11       0  \n",
       "2  DISPONENT        350317                 74  1935     3     17       1  \n",
       "3      OWNER        450114                 22  1945     1     14       1  \n",
       "4  DISPONENT        535130                 22  1953     1     30       0  \n",
       "\n",
       "[5 rows x 22 columns]"
      ]
     },
     "execution_count": 48,
     "metadata": {},
     "output_type": "execute_result"
    }
   ],
   "source": [
    "dfraw.head()"
   ]
  },
  {
   "cell_type": "code",
   "execution_count": 49,
   "id": "6019a92e",
   "metadata": {
    "execution": {
     "iopub.execute_input": "2022-04-26T04:02:26.208649Z",
     "iopub.status.busy": "2022-04-26T04:02:26.208093Z",
     "iopub.status.idle": "2022-04-26T04:02:27.212241Z",
     "shell.execute_reply": "2022-04-26T04:02:27.211550Z"
    },
    "papermill": {
     "duration": 1.080387,
     "end_time": "2022-04-26T04:02:27.214610",
     "exception": false,
     "start_time": "2022-04-26T04:02:26.134223",
     "status": "completed"
    },
    "tags": []
   },
   "outputs": [],
   "source": [
    "dfraw['bmon'] = dfraw['bmon'].apply(lambda x : '0'+str(x) if len(str(x)) == 1 else str(x))"
   ]
  },
  {
   "cell_type": "code",
   "execution_count": 50,
   "id": "894befd6",
   "metadata": {
    "execution": {
     "iopub.execute_input": "2022-04-26T04:02:27.356191Z",
     "iopub.status.busy": "2022-04-26T04:02:27.355863Z",
     "iopub.status.idle": "2022-04-26T04:02:27.380623Z",
     "shell.execute_reply": "2022-04-26T04:02:27.379966Z"
    },
    "papermill": {
     "duration": 0.098019,
     "end_time": "2022-04-26T04:02:27.382580",
     "exception": false,
     "start_time": "2022-04-26T04:02:27.284561",
     "status": "completed"
    },
    "tags": []
   },
   "outputs": [
    {
     "data": {
      "text/html": [
       "<div>\n",
       "<style scoped>\n",
       "    .dataframe tbody tr th:only-of-type {\n",
       "        vertical-align: middle;\n",
       "    }\n",
       "\n",
       "    .dataframe tbody tr th {\n",
       "        vertical-align: top;\n",
       "    }\n",
       "\n",
       "    .dataframe thead th {\n",
       "        text-align: right;\n",
       "    }\n",
       "</style>\n",
       "<table border=\"1\" class=\"dataframe\">\n",
       "  <thead>\n",
       "    <tr style=\"text-align: right;\">\n",
       "      <th></th>\n",
       "      <th>trans_id</th>\n",
       "      <th>account_id</th>\n",
       "      <th>date_trans</th>\n",
       "      <th>type_trans</th>\n",
       "      <th>operation</th>\n",
       "      <th>amount</th>\n",
       "      <th>balance</th>\n",
       "      <th>k_symbol</th>\n",
       "      <th>bank</th>\n",
       "      <th>account</th>\n",
       "      <th>...</th>\n",
       "      <th>date_acc</th>\n",
       "      <th>disp_id</th>\n",
       "      <th>client_id</th>\n",
       "      <th>type_disp</th>\n",
       "      <th>birth_number</th>\n",
       "      <th>district_id_client</th>\n",
       "      <th>byr</th>\n",
       "      <th>bmon</th>\n",
       "      <th>byrTmp</th>\n",
       "      <th>gender</th>\n",
       "    </tr>\n",
       "  </thead>\n",
       "  <tbody>\n",
       "    <tr>\n",
       "      <th>0</th>\n",
       "      <td>695247</td>\n",
       "      <td>2378</td>\n",
       "      <td>930101</td>\n",
       "      <td>PRIJEM</td>\n",
       "      <td>VKLAD</td>\n",
       "      <td>700.0</td>\n",
       "      <td>700.0</td>\n",
       "      <td>Not_Available</td>\n",
       "      <td>Not_Available</td>\n",
       "      <td>0.0</td>\n",
       "      <td>...</td>\n",
       "      <td>930101</td>\n",
       "      <td>2873</td>\n",
       "      <td>2873</td>\n",
       "      <td>OWNER</td>\n",
       "      <td>755324</td>\n",
       "      <td>16</td>\n",
       "      <td>1975</td>\n",
       "      <td>03</td>\n",
       "      <td>24</td>\n",
       "      <td>0</td>\n",
       "    </tr>\n",
       "    <tr>\n",
       "      <th>1</th>\n",
       "      <td>171812</td>\n",
       "      <td>576</td>\n",
       "      <td>930101</td>\n",
       "      <td>PRIJEM</td>\n",
       "      <td>VKLAD</td>\n",
       "      <td>900.0</td>\n",
       "      <td>900.0</td>\n",
       "      <td>Not_Available</td>\n",
       "      <td>Not_Available</td>\n",
       "      <td>0.0</td>\n",
       "      <td>...</td>\n",
       "      <td>930101</td>\n",
       "      <td>692</td>\n",
       "      <td>692</td>\n",
       "      <td>OWNER</td>\n",
       "      <td>365111</td>\n",
       "      <td>74</td>\n",
       "      <td>1936</td>\n",
       "      <td>01</td>\n",
       "      <td>11</td>\n",
       "      <td>0</td>\n",
       "    </tr>\n",
       "    <tr>\n",
       "      <th>2</th>\n",
       "      <td>171812</td>\n",
       "      <td>576</td>\n",
       "      <td>930101</td>\n",
       "      <td>PRIJEM</td>\n",
       "      <td>VKLAD</td>\n",
       "      <td>900.0</td>\n",
       "      <td>900.0</td>\n",
       "      <td>Not_Available</td>\n",
       "      <td>Not_Available</td>\n",
       "      <td>0.0</td>\n",
       "      <td>...</td>\n",
       "      <td>930101</td>\n",
       "      <td>693</td>\n",
       "      <td>693</td>\n",
       "      <td>DISPONENT</td>\n",
       "      <td>350317</td>\n",
       "      <td>74</td>\n",
       "      <td>1935</td>\n",
       "      <td>03</td>\n",
       "      <td>17</td>\n",
       "      <td>1</td>\n",
       "    </tr>\n",
       "    <tr>\n",
       "      <th>3</th>\n",
       "      <td>207264</td>\n",
       "      <td>704</td>\n",
       "      <td>930101</td>\n",
       "      <td>PRIJEM</td>\n",
       "      <td>VKLAD</td>\n",
       "      <td>1000.0</td>\n",
       "      <td>1000.0</td>\n",
       "      <td>Not_Available</td>\n",
       "      <td>Not_Available</td>\n",
       "      <td>0.0</td>\n",
       "      <td>...</td>\n",
       "      <td>930101</td>\n",
       "      <td>844</td>\n",
       "      <td>844</td>\n",
       "      <td>OWNER</td>\n",
       "      <td>450114</td>\n",
       "      <td>22</td>\n",
       "      <td>1945</td>\n",
       "      <td>01</td>\n",
       "      <td>14</td>\n",
       "      <td>1</td>\n",
       "    </tr>\n",
       "    <tr>\n",
       "      <th>4</th>\n",
       "      <td>207264</td>\n",
       "      <td>704</td>\n",
       "      <td>930101</td>\n",
       "      <td>PRIJEM</td>\n",
       "      <td>VKLAD</td>\n",
       "      <td>1000.0</td>\n",
       "      <td>1000.0</td>\n",
       "      <td>Not_Available</td>\n",
       "      <td>Not_Available</td>\n",
       "      <td>0.0</td>\n",
       "      <td>...</td>\n",
       "      <td>930101</td>\n",
       "      <td>845</td>\n",
       "      <td>845</td>\n",
       "      <td>DISPONENT</td>\n",
       "      <td>535130</td>\n",
       "      <td>22</td>\n",
       "      <td>1953</td>\n",
       "      <td>01</td>\n",
       "      <td>30</td>\n",
       "      <td>0</td>\n",
       "    </tr>\n",
       "  </tbody>\n",
       "</table>\n",
       "<p>5 rows × 22 columns</p>\n",
       "</div>"
      ],
      "text/plain": [
       "   trans_id  account_id  date_trans type_trans operation  amount  balance  \\\n",
       "0    695247        2378      930101     PRIJEM     VKLAD   700.0    700.0   \n",
       "1    171812         576      930101     PRIJEM     VKLAD   900.0    900.0   \n",
       "2    171812         576      930101     PRIJEM     VKLAD   900.0    900.0   \n",
       "3    207264         704      930101     PRIJEM     VKLAD  1000.0   1000.0   \n",
       "4    207264         704      930101     PRIJEM     VKLAD  1000.0   1000.0   \n",
       "\n",
       "        k_symbol           bank  account  ...  date_acc disp_id  client_id  \\\n",
       "0  Not_Available  Not_Available      0.0  ...    930101    2873       2873   \n",
       "1  Not_Available  Not_Available      0.0  ...    930101     692        692   \n",
       "2  Not_Available  Not_Available      0.0  ...    930101     693        693   \n",
       "3  Not_Available  Not_Available      0.0  ...    930101     844        844   \n",
       "4  Not_Available  Not_Available      0.0  ...    930101     845        845   \n",
       "\n",
       "   type_disp  birth_number district_id_client   byr  bmon byrTmp gender  \n",
       "0      OWNER        755324                 16  1975    03     24      0  \n",
       "1      OWNER        365111                 74  1936    01     11      0  \n",
       "2  DISPONENT        350317                 74  1935    03     17      1  \n",
       "3      OWNER        450114                 22  1945    01     14      1  \n",
       "4  DISPONENT        535130                 22  1953    01     30      0  \n",
       "\n",
       "[5 rows x 22 columns]"
      ]
     },
     "execution_count": 50,
     "metadata": {},
     "output_type": "execute_result"
    }
   ],
   "source": [
    "dfraw.head()"
   ]
  },
  {
   "cell_type": "code",
   "execution_count": null,
   "id": "ae378d78",
   "metadata": {
    "papermill": {
     "duration": 0.073825,
     "end_time": "2022-04-26T04:02:27.527177",
     "exception": false,
     "start_time": "2022-04-26T04:02:27.453352",
     "status": "completed"
    },
    "tags": []
   },
   "outputs": [],
   "source": []
  }
 ],
 "metadata": {
  "kernelspec": {
   "display_name": "Python 3",
   "language": "python",
   "name": "python3"
  },
  "language_info": {
   "codemirror_mode": {
    "name": "ipython",
    "version": 3
   },
   "file_extension": ".py",
   "mimetype": "text/x-python",
   "name": "python",
   "nbconvert_exporter": "python",
   "pygments_lexer": "ipython3",
   "version": "3.7.12"
  },
  "papermill": {
   "default_parameters": {},
   "duration": 61.668945,
   "end_time": "2022-04-26T04:02:28.622987",
   "environment_variables": {},
   "exception": null,
   "input_path": "__notebook__.ipynb",
   "output_path": "__notebook__.ipynb",
   "parameters": {},
   "start_time": "2022-04-26T04:01:26.954042",
   "version": "2.3.4"
  }
 },
 "nbformat": 4,
 "nbformat_minor": 5
}
