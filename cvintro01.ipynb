{
 "cells": [
  {
   "cell_type": "code",
   "execution_count": 1,
   "id": "04b6b697",
   "metadata": {
    "_cell_guid": "b1076dfc-b9ad-4769-8c92-a6c4dae69d19",
    "_uuid": "8f2839f25d086af736a60e9eeb907d3b93b6e0e5",
    "execution": {
     "iopub.execute_input": "2022-05-17T05:22:35.526750Z",
     "iopub.status.busy": "2022-05-17T05:22:35.526402Z",
     "iopub.status.idle": "2022-05-17T05:22:36.914479Z",
     "shell.execute_reply": "2022-05-17T05:22:36.912684Z"
    },
    "papermill": {
     "duration": 1.399059,
     "end_time": "2022-05-17T05:22:36.917859",
     "exception": false,
     "start_time": "2022-05-17T05:22:35.518800",
     "status": "completed"
    },
    "tags": []
   },
   "outputs": [
    {
     "name": "stdout",
     "output_type": "stream",
     "text": [
      "data_input:  [0, 1, 2, 3, 4, 5, 6, 7, 8, 9, 10, 11, 12, 13, 14, 15, 16, 17, 18, 19, 20, 21, 22, 23, 24]\n",
      "Iteration                   Training set observations                   Testing set observations\n",
      "    1     [ 5  6  7  8  9 10 11 12 13 14 15 16 17 18 19 20 21 22 23 24]        [0 1 2 3 4]       \n",
      "    2     [ 0  1  2  3  4 10 11 12 13 14 15 16 17 18 19 20 21 22 23 24]        [5 6 7 8 9]       \n",
      "    3     [ 0  1  2  3  4  5  6  7  8  9 15 16 17 18 19 20 21 22 23 24]     [10 11 12 13 14]     \n",
      "    4     [ 0  1  2  3  4  5  6  7  8  9 10 11 12 13 14 20 21 22 23 24]     [15 16 17 18 19]     \n",
      "    5     [ 0  1  2  3  4  5  6  7  8  9 10 11 12 13 14 15 16 17 18 19]     [20 21 22 23 24]     \n"
     ]
    }
   ],
   "source": [
    "# simulate splitting a dataset of 25 observations into 5 folds\n",
    "from sklearn.model_selection import KFold\n",
    "\n",
    "data_input  = range(25)\n",
    "print ('data_input: ', list(data_input))\n",
    "kf = KFold(n_splits=5, shuffle=False).split(data_input)\n",
    "\n",
    "# print the contents of each training and testing set\n",
    "print('{} {:^61} {}'.format('Iteration', 'Training set observations', 'Testing set observations'))\n",
    "for iteration, data in enumerate(kf, start=1):\n",
    "    print('{:^9} {} {:^25}'.format(iteration, data[0], str(data[1])))"
   ]
  },
  {
   "cell_type": "code",
   "execution_count": 2,
   "id": "6fb74a51",
   "metadata": {
    "execution": {
     "iopub.execute_input": "2022-05-17T05:22:36.931800Z",
     "iopub.status.busy": "2022-05-17T05:22:36.930517Z",
     "iopub.status.idle": "2022-05-17T05:22:36.941761Z",
     "shell.execute_reply": "2022-05-17T05:22:36.941064Z"
    },
    "papermill": {
     "duration": 0.021579,
     "end_time": "2022-05-17T05:22:36.945461",
     "exception": false,
     "start_time": "2022-05-17T05:22:36.923882",
     "status": "completed"
    },
    "tags": []
   },
   "outputs": [
    {
     "name": "stdout",
     "output_type": "stream",
     "text": [
      "data_input:  [0, 1, 2, 3, 4, 5, 6, 7, 8, 9, 10, 11, 12, 13, 14, 15, 16, 17, 18, 19, 20, 21, 22, 23, 24]\n",
      "Iteration                   Training set observations                   Testing set observations\n",
      "    1     [ 0  1  2  3  4  5  7 10 11 12 13 14 15 16 17 18 20 22 23 24]     [ 6  8  9 19 21]     \n",
      "    2     [ 0  1  2  3  4  5  6  8  9 11 13 14 15 16 17 18 19 20 21 23]     [ 7 10 12 22 24]     \n",
      "    3     [ 0  1  2  4  5  6  7  8  9 10 12 13 14 16 18 19 21 22 23 24]     [ 3 11 15 17 20]     \n",
      "    4     [ 3  4  5  6  7  8  9 10 11 12 14 15 16 17 19 20 21 22 23 24]     [ 0  1  2 13 18]     \n",
      "    5     [ 0  1  2  3  6  7  8  9 10 11 12 13 15 17 18 19 20 21 22 24]     [ 4  5 14 16 23]     \n"
     ]
    }
   ],
   "source": [
    "# simulate splitting a dataset of 25 observations into 5 folds\n",
    "from sklearn.model_selection import KFold\n",
    "\n",
    "data_input  = range(25)\n",
    "print ('data_input: ', list(data_input))\n",
    "kf = KFold(n_splits=5, shuffle=True).split(data_input)\n",
    "\n",
    "# print the contents of each training and testing set\n",
    "print('{} {:^61} {}'.format('Iteration', 'Training set observations', 'Testing set observations'))\n",
    "for iteration, data in enumerate(kf, start=1):\n",
    "    print('{:^9} {} {:^25}'.format(iteration, data[0], str(data[1])))"
   ]
  },
  {
   "cell_type": "code",
   "execution_count": null,
   "id": "d7657f39",
   "metadata": {
    "papermill": {
     "duration": 0.00607,
     "end_time": "2022-05-17T05:22:36.958565",
     "exception": false,
     "start_time": "2022-05-17T05:22:36.952495",
     "status": "completed"
    },
    "tags": []
   },
   "outputs": [],
   "source": []
  }
 ],
 "metadata": {
  "kernelspec": {
   "display_name": "Python 3",
   "language": "python",
   "name": "python3"
  },
  "language_info": {
   "codemirror_mode": {
    "name": "ipython",
    "version": 3
   },
   "file_extension": ".py",
   "mimetype": "text/x-python",
   "name": "python",
   "nbconvert_exporter": "python",
   "pygments_lexer": "ipython3",
   "version": "3.7.12"
  },
  "papermill": {
   "default_parameters": {},
   "duration": 13.361117,
   "end_time": "2022-05-17T05:22:37.785853",
   "environment_variables": {},
   "exception": null,
   "input_path": "__notebook__.ipynb",
   "output_path": "__notebook__.ipynb",
   "parameters": {},
   "start_time": "2022-05-17T05:22:24.424736",
   "version": "2.3.4"
  }
 },
 "nbformat": 4,
 "nbformat_minor": 5
}
