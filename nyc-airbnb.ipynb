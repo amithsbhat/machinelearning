{
 "cells": [
  {
   "cell_type": "code",
   "execution_count": 1,
   "id": "4c204375",
   "metadata": {
    "_cell_guid": "b1076dfc-b9ad-4769-8c92-a6c4dae69d19",
    "_uuid": "8f2839f25d086af736a60e9eeb907d3b93b6e0e5",
    "execution": {
     "iopub.execute_input": "2022-04-30T16:18:38.735144Z",
     "iopub.status.busy": "2022-04-30T16:18:38.734554Z",
     "iopub.status.idle": "2022-04-30T16:18:40.186485Z",
     "shell.execute_reply": "2022-04-30T16:18:40.185437Z"
    },
    "papermill": {
     "duration": 1.470927,
     "end_time": "2022-04-30T16:18:40.189600",
     "exception": false,
     "start_time": "2022-04-30T16:18:38.718673",
     "status": "completed"
    },
    "tags": []
   },
   "outputs": [],
   "source": [
    "# This Python 3 environment comes with many helpful analytics libraries installed\n",
    "# It is defined by the kaggle/python Docker image: https://github.com/kaggle/docker-python\n",
    "# For example, here's several helpful packages to load\n",
    "\n",
    "import numpy as np # linear algebra\n",
    "import pandas as pd # data processing, CSV file I/O (e.g. pd.read_csv)\n",
    "\n",
    "df = pd.read_csv('https://raw.githubusercontent.com/fenago/MLEssentials/main/datasets/AB_NYC_2019.csv')"
   ]
  },
  {
   "cell_type": "code",
   "execution_count": 2,
   "id": "424f8f4b",
   "metadata": {
    "execution": {
     "iopub.execute_input": "2022-04-30T16:18:40.215093Z",
     "iopub.status.busy": "2022-04-30T16:18:40.214784Z",
     "iopub.status.idle": "2022-04-30T16:18:40.244510Z",
     "shell.execute_reply": "2022-04-30T16:18:40.243464Z"
    },
    "papermill": {
     "duration": 0.045998,
     "end_time": "2022-04-30T16:18:40.247497",
     "exception": false,
     "start_time": "2022-04-30T16:18:40.201499",
     "status": "completed"
    },
    "tags": []
   },
   "outputs": [
    {
     "data": {
      "text/html": [
       "<div>\n",
       "<style scoped>\n",
       "    .dataframe tbody tr th:only-of-type {\n",
       "        vertical-align: middle;\n",
       "    }\n",
       "\n",
       "    .dataframe tbody tr th {\n",
       "        vertical-align: top;\n",
       "    }\n",
       "\n",
       "    .dataframe thead th {\n",
       "        text-align: right;\n",
       "    }\n",
       "</style>\n",
       "<table border=\"1\" class=\"dataframe\">\n",
       "  <thead>\n",
       "    <tr style=\"text-align: right;\">\n",
       "      <th></th>\n",
       "      <th>id</th>\n",
       "      <th>name</th>\n",
       "      <th>host_id</th>\n",
       "      <th>host_name</th>\n",
       "      <th>neighbourhood_group</th>\n",
       "      <th>neighbourhood</th>\n",
       "      <th>latitude</th>\n",
       "      <th>longitude</th>\n",
       "      <th>room_type</th>\n",
       "      <th>price</th>\n",
       "      <th>minimum_nights</th>\n",
       "      <th>number_of_reviews</th>\n",
       "      <th>last_review</th>\n",
       "      <th>reviews_per_month</th>\n",
       "      <th>calculated_host_listings_count</th>\n",
       "      <th>availability_365</th>\n",
       "    </tr>\n",
       "  </thead>\n",
       "  <tbody>\n",
       "    <tr>\n",
       "      <th>0</th>\n",
       "      <td>2539</td>\n",
       "      <td>Clean &amp; quiet apt home by the park</td>\n",
       "      <td>2787</td>\n",
       "      <td>John</td>\n",
       "      <td>Brooklyn</td>\n",
       "      <td>Kensington</td>\n",
       "      <td>40.64749</td>\n",
       "      <td>-73.97237</td>\n",
       "      <td>Private room</td>\n",
       "      <td>149</td>\n",
       "      <td>1</td>\n",
       "      <td>9</td>\n",
       "      <td>2018-10-19</td>\n",
       "      <td>0.21</td>\n",
       "      <td>6</td>\n",
       "      <td>365</td>\n",
       "    </tr>\n",
       "    <tr>\n",
       "      <th>1</th>\n",
       "      <td>2595</td>\n",
       "      <td>Skylit Midtown Castle</td>\n",
       "      <td>2845</td>\n",
       "      <td>Jennifer</td>\n",
       "      <td>Manhattan</td>\n",
       "      <td>Midtown</td>\n",
       "      <td>40.75362</td>\n",
       "      <td>-73.98377</td>\n",
       "      <td>Entire home/apt</td>\n",
       "      <td>225</td>\n",
       "      <td>1</td>\n",
       "      <td>45</td>\n",
       "      <td>2019-05-21</td>\n",
       "      <td>0.38</td>\n",
       "      <td>2</td>\n",
       "      <td>355</td>\n",
       "    </tr>\n",
       "    <tr>\n",
       "      <th>2</th>\n",
       "      <td>3647</td>\n",
       "      <td>THE VILLAGE OF HARLEM....NEW YORK !</td>\n",
       "      <td>4632</td>\n",
       "      <td>Elisabeth</td>\n",
       "      <td>Manhattan</td>\n",
       "      <td>Harlem</td>\n",
       "      <td>40.80902</td>\n",
       "      <td>-73.94190</td>\n",
       "      <td>Private room</td>\n",
       "      <td>150</td>\n",
       "      <td>3</td>\n",
       "      <td>0</td>\n",
       "      <td>NaN</td>\n",
       "      <td>NaN</td>\n",
       "      <td>1</td>\n",
       "      <td>365</td>\n",
       "    </tr>\n",
       "    <tr>\n",
       "      <th>3</th>\n",
       "      <td>3831</td>\n",
       "      <td>Cozy Entire Floor of Brownstone</td>\n",
       "      <td>4869</td>\n",
       "      <td>LisaRoxanne</td>\n",
       "      <td>Brooklyn</td>\n",
       "      <td>Clinton Hill</td>\n",
       "      <td>40.68514</td>\n",
       "      <td>-73.95976</td>\n",
       "      <td>Entire home/apt</td>\n",
       "      <td>89</td>\n",
       "      <td>1</td>\n",
       "      <td>270</td>\n",
       "      <td>2019-07-05</td>\n",
       "      <td>4.64</td>\n",
       "      <td>1</td>\n",
       "      <td>194</td>\n",
       "    </tr>\n",
       "    <tr>\n",
       "      <th>4</th>\n",
       "      <td>5022</td>\n",
       "      <td>Entire Apt: Spacious Studio/Loft by central park</td>\n",
       "      <td>7192</td>\n",
       "      <td>Laura</td>\n",
       "      <td>Manhattan</td>\n",
       "      <td>East Harlem</td>\n",
       "      <td>40.79851</td>\n",
       "      <td>-73.94399</td>\n",
       "      <td>Entire home/apt</td>\n",
       "      <td>80</td>\n",
       "      <td>10</td>\n",
       "      <td>9</td>\n",
       "      <td>2018-11-19</td>\n",
       "      <td>0.10</td>\n",
       "      <td>1</td>\n",
       "      <td>0</td>\n",
       "    </tr>\n",
       "  </tbody>\n",
       "</table>\n",
       "</div>"
      ],
      "text/plain": [
       "     id                                              name  host_id  \\\n",
       "0  2539                Clean & quiet apt home by the park     2787   \n",
       "1  2595                             Skylit Midtown Castle     2845   \n",
       "2  3647               THE VILLAGE OF HARLEM....NEW YORK !     4632   \n",
       "3  3831                   Cozy Entire Floor of Brownstone     4869   \n",
       "4  5022  Entire Apt: Spacious Studio/Loft by central park     7192   \n",
       "\n",
       "     host_name neighbourhood_group neighbourhood  latitude  longitude  \\\n",
       "0         John            Brooklyn    Kensington  40.64749  -73.97237   \n",
       "1     Jennifer           Manhattan       Midtown  40.75362  -73.98377   \n",
       "2    Elisabeth           Manhattan        Harlem  40.80902  -73.94190   \n",
       "3  LisaRoxanne            Brooklyn  Clinton Hill  40.68514  -73.95976   \n",
       "4        Laura           Manhattan   East Harlem  40.79851  -73.94399   \n",
       "\n",
       "         room_type  price  minimum_nights  number_of_reviews last_review  \\\n",
       "0     Private room    149               1                  9  2018-10-19   \n",
       "1  Entire home/apt    225               1                 45  2019-05-21   \n",
       "2     Private room    150               3                  0         NaN   \n",
       "3  Entire home/apt     89               1                270  2019-07-05   \n",
       "4  Entire home/apt     80              10                  9  2018-11-19   \n",
       "\n",
       "   reviews_per_month  calculated_host_listings_count  availability_365  \n",
       "0               0.21                               6               365  \n",
       "1               0.38                               2               355  \n",
       "2                NaN                               1               365  \n",
       "3               4.64                               1               194  \n",
       "4               0.10                               1                 0  "
      ]
     },
     "execution_count": 2,
     "metadata": {},
     "output_type": "execute_result"
    }
   ],
   "source": [
    "df.head()"
   ]
  },
  {
   "cell_type": "markdown",
   "id": "6d27bc22",
   "metadata": {
    "papermill": {
     "duration": 0.012199,
     "end_time": "2022-04-30T16:18:40.272214",
     "exception": false,
     "start_time": "2022-04-30T16:18:40.260015",
     "status": "completed"
    },
    "tags": []
   },
   "source": [
    "\n",
    "### Question 1\n",
    "\n",
    "What is the most frequent observation (mode) for the column `'neighbourhood_group'`?\n",
    "\n",
    "\n",
    "### Question 2\n",
    "\n",
    "* Create the correlation matrix for the numerical features of your train dataset.\n",
    "  * In a correlation matrix, you compute the correlation coefficient between every pair of features in the dataset.\n",
    "* What are the two features that have the biggest correlation in this dataset?\n",
    "\n",
    "### Question 3\n",
    "\n",
    "\n",
    "\n",
    "* What are the insights that you uncovered in the:\n",
    "\n",
    "Univariate Analysis?\n",
    "\n",
    "Bivariate Analysis?\n",
    "\n",
    "Correlations?\n",
    "\n",
    "The dataset for this exercise can be found here:\n",
    "\n",
    "\n",
    "\n",
    "https"
   ]
  },
  {
   "cell_type": "markdown",
   "id": "1f64d9b7",
   "metadata": {
    "papermill": {
     "duration": 0.012038,
     "end_time": "2022-04-30T16:18:40.296548",
     "exception": false,
     "start_time": "2022-04-30T16:18:40.284510",
     "status": "completed"
    },
    "tags": []
   },
   "source": []
  },
  {
   "cell_type": "code",
   "execution_count": 3,
   "id": "7d343a8d",
   "metadata": {
    "execution": {
     "iopub.execute_input": "2022-04-30T16:18:40.323906Z",
     "iopub.status.busy": "2022-04-30T16:18:40.323057Z",
     "iopub.status.idle": "2022-04-30T16:18:40.364659Z",
     "shell.execute_reply": "2022-04-30T16:18:40.363991Z"
    },
    "papermill": {
     "duration": 0.057768,
     "end_time": "2022-04-30T16:18:40.366808",
     "exception": false,
     "start_time": "2022-04-30T16:18:40.309040",
     "status": "completed"
    },
    "tags": []
   },
   "outputs": [
    {
     "data": {
      "text/plain": [
       "id                                False\n",
       "name                               True\n",
       "host_id                           False\n",
       "host_name                          True\n",
       "neighbourhood_group               False\n",
       "neighbourhood                     False\n",
       "latitude                          False\n",
       "longitude                         False\n",
       "room_type                         False\n",
       "price                             False\n",
       "minimum_nights                    False\n",
       "number_of_reviews                 False\n",
       "last_review                        True\n",
       "reviews_per_month                  True\n",
       "calculated_host_listings_count    False\n",
       "availability_365                  False\n",
       "dtype: bool"
      ]
     },
     "execution_count": 3,
     "metadata": {},
     "output_type": "execute_result"
    }
   ],
   "source": [
    "df.isna().any()"
   ]
  },
  {
   "cell_type": "code",
   "execution_count": 4,
   "id": "58e7627d",
   "metadata": {
    "execution": {
     "iopub.execute_input": "2022-04-30T16:18:40.394830Z",
     "iopub.status.busy": "2022-04-30T16:18:40.394077Z",
     "iopub.status.idle": "2022-04-30T16:18:40.453103Z",
     "shell.execute_reply": "2022-04-30T16:18:40.452225Z"
    },
    "papermill": {
     "duration": 0.077019,
     "end_time": "2022-04-30T16:18:40.456485",
     "exception": false,
     "start_time": "2022-04-30T16:18:40.379466",
     "status": "completed"
    },
    "tags": []
   },
   "outputs": [
    {
     "name": "stdout",
     "output_type": "stream",
     "text": [
      "<class 'pandas.core.frame.DataFrame'>\n",
      "RangeIndex: 48895 entries, 0 to 48894\n",
      "Data columns (total 16 columns):\n",
      " #   Column                          Non-Null Count  Dtype  \n",
      "---  ------                          --------------  -----  \n",
      " 0   id                              48895 non-null  int64  \n",
      " 1   name                            48879 non-null  object \n",
      " 2   host_id                         48895 non-null  int64  \n",
      " 3   host_name                       48874 non-null  object \n",
      " 4   neighbourhood_group             48895 non-null  object \n",
      " 5   neighbourhood                   48895 non-null  object \n",
      " 6   latitude                        48895 non-null  float64\n",
      " 7   longitude                       48895 non-null  float64\n",
      " 8   room_type                       48895 non-null  object \n",
      " 9   price                           48895 non-null  int64  \n",
      " 10  minimum_nights                  48895 non-null  int64  \n",
      " 11  number_of_reviews               48895 non-null  int64  \n",
      " 12  last_review                     38843 non-null  object \n",
      " 13  reviews_per_month               38843 non-null  float64\n",
      " 14  calculated_host_listings_count  48895 non-null  int64  \n",
      " 15  availability_365                48895 non-null  int64  \n",
      "dtypes: float64(3), int64(7), object(6)\n",
      "memory usage: 6.0+ MB\n"
     ]
    }
   ],
   "source": [
    "df.info()"
   ]
  },
  {
   "cell_type": "code",
   "execution_count": 5,
   "id": "25ccaf73",
   "metadata": {
    "execution": {
     "iopub.execute_input": "2022-04-30T16:18:40.484645Z",
     "iopub.status.busy": "2022-04-30T16:18:40.483900Z",
     "iopub.status.idle": "2022-04-30T16:18:40.524928Z",
     "shell.execute_reply": "2022-04-30T16:18:40.524112Z"
    },
    "papermill": {
     "duration": 0.05706,
     "end_time": "2022-04-30T16:18:40.527062",
     "exception": false,
     "start_time": "2022-04-30T16:18:40.470002",
     "status": "completed"
    },
    "tags": []
   },
   "outputs": [
    {
     "data": {
      "text/plain": [
       "id                                0.000000\n",
       "name                              0.000327\n",
       "host_id                           0.000000\n",
       "host_name                         0.000429\n",
       "neighbourhood_group               0.000000\n",
       "neighbourhood                     0.000000\n",
       "latitude                          0.000000\n",
       "longitude                         0.000000\n",
       "room_type                         0.000000\n",
       "price                             0.000000\n",
       "minimum_nights                    0.000000\n",
       "number_of_reviews                 0.000000\n",
       "last_review                       0.205583\n",
       "reviews_per_month                 0.205583\n",
       "calculated_host_listings_count    0.000000\n",
       "availability_365                  0.000000\n",
       "dtype: float64"
      ]
     },
     "execution_count": 5,
     "metadata": {},
     "output_type": "execute_result"
    }
   ],
   "source": [
    "df.isnull().sum()/len(df)"
   ]
  },
  {
   "cell_type": "code",
   "execution_count": 6,
   "id": "cc7930ce",
   "metadata": {
    "execution": {
     "iopub.execute_input": "2022-04-30T16:18:40.556780Z",
     "iopub.status.busy": "2022-04-30T16:18:40.556485Z",
     "iopub.status.idle": "2022-04-30T16:18:40.578472Z",
     "shell.execute_reply": "2022-04-30T16:18:40.577637Z"
    },
    "papermill": {
     "duration": 0.038981,
     "end_time": "2022-04-30T16:18:40.580656",
     "exception": false,
     "start_time": "2022-04-30T16:18:40.541675",
     "status": "completed"
    },
    "tags": []
   },
   "outputs": [],
   "source": [
    "df_dr_name = df[ df['name'].notna() & df['host_name'].notna() ] "
   ]
  },
  {
   "cell_type": "code",
   "execution_count": 7,
   "id": "7c8845a3",
   "metadata": {
    "execution": {
     "iopub.execute_input": "2022-04-30T16:18:40.610294Z",
     "iopub.status.busy": "2022-04-30T16:18:40.609594Z",
     "iopub.status.idle": "2022-04-30T16:18:40.650256Z",
     "shell.execute_reply": "2022-04-30T16:18:40.649441Z"
    },
    "papermill": {
     "duration": 0.05871,
     "end_time": "2022-04-30T16:18:40.652661",
     "exception": false,
     "start_time": "2022-04-30T16:18:40.593951",
     "status": "completed"
    },
    "tags": []
   },
   "outputs": [
    {
     "data": {
      "text/plain": [
       "id                                0.000000\n",
       "name                              0.000000\n",
       "host_id                           0.000000\n",
       "host_name                         0.000000\n",
       "neighbourhood_group               0.000000\n",
       "neighbourhood                     0.000000\n",
       "latitude                          0.000000\n",
       "longitude                         0.000000\n",
       "room_type                         0.000000\n",
       "price                             0.000000\n",
       "minimum_nights                    0.000000\n",
       "number_of_reviews                 0.000000\n",
       "last_review                       0.205432\n",
       "reviews_per_month                 0.205432\n",
       "calculated_host_listings_count    0.000000\n",
       "availability_365                  0.000000\n",
       "dtype: float64"
      ]
     },
     "execution_count": 7,
     "metadata": {},
     "output_type": "execute_result"
    }
   ],
   "source": [
    "df_dr_name.isnull().sum()/len(df_dr_name)"
   ]
  },
  {
   "cell_type": "code",
   "execution_count": 8,
   "id": "4d80abb4",
   "metadata": {
    "execution": {
     "iopub.execute_input": "2022-04-30T16:18:40.682721Z",
     "iopub.status.busy": "2022-04-30T16:18:40.682186Z",
     "iopub.status.idle": "2022-04-30T16:18:40.777990Z",
     "shell.execute_reply": "2022-04-30T16:18:40.777066Z"
    },
    "papermill": {
     "duration": 0.113724,
     "end_time": "2022-04-30T16:18:40.780351",
     "exception": false,
     "start_time": "2022-04-30T16:18:40.666627",
     "status": "completed"
    },
    "tags": []
   },
   "outputs": [
    {
     "name": "stdout",
     "output_type": "stream",
     "text": [
      " -->  id <-- \n",
      " ------------------\n",
      " -->  name <-- \n",
      " ------------------\n",
      " -->  host_id <-- \n",
      " ------------------\n",
      " -->  host_name <-- \n",
      " ------------------\n",
      " -->  neighbourhood_group <-- \n",
      " ------------------\n",
      " -->  neighbourhood <-- \n",
      " ------------------\n",
      " -->  latitude <-- \n",
      " ------------------\n",
      " -->  longitude <-- \n",
      " ------------------\n",
      " -->  room_type <-- \n",
      " ------------------\n",
      " -->  price <-- \n",
      " ------------------\n",
      " -->  minimum_nights <-- \n",
      " ------------------\n",
      " -->  number_of_reviews <-- \n",
      " ------------------\n",
      " -->  last_review <-- \n",
      " ------------------\n",
      " -->  reviews_per_month <-- \n",
      " ------------------\n",
      " -->  calculated_host_listings_count <-- \n",
      " ------------------\n",
      " -->  availability_365 <-- \n",
      " ------------------\n"
     ]
    }
   ],
   "source": [
    "for col in df_dr_name.columns:\n",
    "    print(\" -->  \"+ col + \" <-- \")\n",
    "    df_dr_name[col].mode()\n",
    "    print(\" ------------------\")"
   ]
  },
  {
   "cell_type": "code",
   "execution_count": null,
   "id": "dfae2708",
   "metadata": {
    "papermill": {
     "duration": 0.014017,
     "end_time": "2022-04-30T16:18:40.809050",
     "exception": false,
     "start_time": "2022-04-30T16:18:40.795033",
     "status": "completed"
    },
    "tags": []
   },
   "outputs": [],
   "source": []
  }
 ],
 "metadata": {
  "kernelspec": {
   "display_name": "Python 3",
   "language": "python",
   "name": "python3"
  },
  "language_info": {
   "codemirror_mode": {
    "name": "ipython",
    "version": 3
   },
   "file_extension": ".py",
   "mimetype": "text/x-python",
   "name": "python",
   "nbconvert_exporter": "python",
   "pygments_lexer": "ipython3",
   "version": "3.7.12"
  },
  "papermill": {
   "default_parameters": {},
   "duration": 12.751364,
   "end_time": "2022-04-30T16:18:41.443575",
   "environment_variables": {},
   "exception": null,
   "input_path": "__notebook__.ipynb",
   "output_path": "__notebook__.ipynb",
   "parameters": {},
   "start_time": "2022-04-30T16:18:28.692211",
   "version": "2.3.4"
  }
 },
 "nbformat": 4,
 "nbformat_minor": 5
}
